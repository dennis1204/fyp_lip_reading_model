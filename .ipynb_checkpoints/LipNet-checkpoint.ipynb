{
 "cells": [
  {
   "attachments": {},
   "cell_type": "markdown",
   "id": "a3573a47-3689-4668-b62f-5c8451b2b4e9",
   "metadata": {
    "tags": []
   },
   "source": [
    "# 0. Install and Import Dependencies"
   ]
  },
  {
   "cell_type": "code",
   "execution_count": 31,
   "id": "ddfbccbe-41ae-4c23-98b1-a13868e2b499",
   "metadata": {
    "scrolled": true,
    "tags": []
   },
   "outputs": [],
   "source": [
    "# !pip list"
   ]
  },
  {
   "cell_type": "code",
   "execution_count": 32,
   "id": "02f907ea-f669-46c7-adcf-7f257e663448",
   "metadata": {
    "tags": []
   },
   "outputs": [],
   "source": [
    "# !pip install opencv-python matplotlib imageio gdown tensorflow"
   ]
  },
  {
   "cell_type": "code",
   "execution_count": 33,
   "id": "b24af50c-20b8-409d-ad78-30a933fdd669",
   "metadata": {
    "tags": []
   },
   "outputs": [],
   "source": [
    "import os\n",
    "import cv2\n",
    "import tensorflow as tf\n",
    "import numpy as np\n",
    "from typing import List\n",
    "from matplotlib import pyplot as plt\n",
    "import imageio"
   ]
  },
  {
   "cell_type": "code",
   "execution_count": 34,
   "id": "1e3db0b0-e559-4ad6-91fd-e7414b7d75e6",
   "metadata": {},
   "outputs": [
    {
     "data": {
      "text/plain": [
       "[]"
      ]
     },
     "execution_count": 34,
     "metadata": {},
     "output_type": "execute_result"
    }
   ],
   "source": [
    "tf.config.list_physical_devices('GPU')"
   ]
  },
  {
   "cell_type": "code",
   "execution_count": 35,
   "id": "378d045a-3003-4f93-b7d2-a25a97774a68",
   "metadata": {
    "tags": []
   },
   "outputs": [],
   "source": [
    "physical_devices = tf.config.list_physical_devices('GPU')\n",
    "try:\n",
    "    tf.config.experimental.set_memory_growth(physical_devices[0], True)\n",
    "except:\n",
    "    pass"
   ]
  },
  {
   "attachments": {},
   "cell_type": "markdown",
   "id": "7a19e88e-c7b9-45c1-ae1e-f2109329c71b",
   "metadata": {
    "tags": []
   },
   "source": [
    "# 1. Build Data Loading Functions"
   ]
  },
  {
   "cell_type": "code",
   "execution_count": 36,
   "id": "8fb99c90-e05a-437f-839d-6e772f8c1dd5",
   "metadata": {
    "tags": []
   },
   "outputs": [],
   "source": [
    "import gdown"
   ]
  },
  {
   "cell_type": "code",
   "execution_count": 37,
   "id": "c019e4c6-2af3-4160-99ea-5c8cb009f1a7",
   "metadata": {
    "tags": []
   },
   "outputs": [],
   "source": [
    "# url = 'https://drive.google.com/uc?id=1YlvpDLix3S-U8fd-gqRwPcWXAXm8JwjL'\n",
    "# output = 'data.zip'\n",
    "# gdown.download(url, output, quiet=False)\n",
    "# gdown.extractall('data.zip')"
   ]
  },
  {
   "cell_type": "code",
   "execution_count": 38,
   "id": "8548cc59-6dfc-4acc-abc3-3e65212db02e",
   "metadata": {
    "tags": []
   },
   "outputs": [],
   "source": [
    "def load_video(path:str) -> List[float]: \n",
    "\n",
    "    cap = cv2.VideoCapture(path)\n",
    "    frames = []\n",
    "    for _ in range(int(cap.get(cv2.CAP_PROP_FRAME_COUNT))): \n",
    "        ret, frame = cap.read()\n",
    "        frame = tf.image.rgb_to_grayscale(frame)\n",
    "        frames.append(frame[190:236,80:220,:])\n",
    "    cap.release()\n",
    "    \n",
    "    mean = tf.math.reduce_mean(frames)\n",
    "    std = tf.math.reduce_std(tf.cast(frames, tf.float32))\n",
    "    return tf.cast((frames - mean), tf.float32) / std"
   ]
  },
  {
   "cell_type": "code",
   "execution_count": 39,
   "id": "ec735e0b-ec98-4eb0-8f49-c35527d6670a",
   "metadata": {
    "tags": []
   },
   "outputs": [],
   "source": [
    "vocab = [x for x in \"abcdefghijklmnopqrstuvwxyz'?!123456789 \"]"
   ]
  },
  {
   "cell_type": "code",
   "execution_count": 40,
   "id": "be04e972-d7a5-4a72-82d8-a6bdde1f3ce6",
   "metadata": {
    "tags": []
   },
   "outputs": [
    {
     "name": "stdout",
     "output_type": "stream",
     "text": [
      "The vocabulary is: ['', 'a', 'b', 'c', 'd', 'e', 'f', 'g', 'h', 'i', 'j', 'k', 'l', 'm', 'n', 'o', 'p', 'q', 'r', 's', 't', 'u', 'v', 'w', 'x', 'y', 'z', \"'\", '?', '!', '1', '2', '3', '4', '5', '6', '7', '8', '9', ' '] (size =40)\n"
     ]
    }
   ],
   "source": [
    "char_to_num = tf.keras.layers.StringLookup(vocabulary=vocab, oov_token=\"\")\n",
    "num_to_char = tf.keras.layers.StringLookup(\n",
    "    vocabulary=char_to_num.get_vocabulary(), oov_token=\"\", invert=True\n",
    ")\n",
    "\n",
    "print(\n",
    "    f\"The vocabulary is: {char_to_num.get_vocabulary()} \"\n",
    "    f\"(size ={char_to_num.vocabulary_size()})\"\n",
    ")"
   ]
  },
  {
   "cell_type": "code",
   "execution_count": 41,
   "id": "559f7420-6802-45fa-9ca0-b1ff209b461c",
   "metadata": {
    "tags": []
   },
   "outputs": [
    {
     "data": {
      "text/plain": [
       "['',\n",
       " 'a',\n",
       " 'b',\n",
       " 'c',\n",
       " 'd',\n",
       " 'e',\n",
       " 'f',\n",
       " 'g',\n",
       " 'h',\n",
       " 'i',\n",
       " 'j',\n",
       " 'k',\n",
       " 'l',\n",
       " 'm',\n",
       " 'n',\n",
       " 'o',\n",
       " 'p',\n",
       " 'q',\n",
       " 'r',\n",
       " 's',\n",
       " 't',\n",
       " 'u',\n",
       " 'v',\n",
       " 'w',\n",
       " 'x',\n",
       " 'y',\n",
       " 'z',\n",
       " \"'\",\n",
       " '?',\n",
       " '!',\n",
       " '1',\n",
       " '2',\n",
       " '3',\n",
       " '4',\n",
       " '5',\n",
       " '6',\n",
       " '7',\n",
       " '8',\n",
       " '9',\n",
       " ' ']"
      ]
     },
     "execution_count": 41,
     "metadata": {},
     "output_type": "execute_result"
    }
   ],
   "source": [
    "char_to_num.get_vocabulary()"
   ]
  },
  {
   "cell_type": "code",
   "execution_count": 42,
   "id": "797ff78b-b48f-4e14-bb62-8cd0ebf9501a",
   "metadata": {
    "tags": []
   },
   "outputs": [
    {
     "data": {
      "text/plain": [
       "<tf.Tensor: shape=(4,), dtype=int64, numpy=array([14,  9,  3, 11])>"
      ]
     },
     "execution_count": 42,
     "metadata": {},
     "output_type": "execute_result"
    }
   ],
   "source": [
    "char_to_num(['n','i','c','k'])"
   ]
  },
  {
   "cell_type": "code",
   "execution_count": 43,
   "id": "8cd7f4f4-ae77-4509-a4f4-c723787ebad1",
   "metadata": {},
   "outputs": [
    {
     "data": {
      "text/plain": [
       "<tf.Tensor: shape=(4,), dtype=string, numpy=array([b'n', b'i', b'c', b'k'], dtype=object)>"
      ]
     },
     "execution_count": 43,
     "metadata": {},
     "output_type": "execute_result"
    }
   ],
   "source": [
    "num_to_char([14,  9,  3, 11])"
   ]
  },
  {
   "cell_type": "code",
   "execution_count": 44,
   "id": "9491bab5-6a3c-4f79-879a-8f9fbe73ae2e",
   "metadata": {
    "tags": []
   },
   "outputs": [],
   "source": [
    "def load_alignments(path:str) -> List[str]: \n",
    "    with open(path, 'r') as f: \n",
    "        lines = f.readlines() \n",
    "    tokens = []\n",
    "    for line in lines:\n",
    "        line = line.split()\n",
    "        if line[2] != 'sil': \n",
    "            tokens = [*tokens,' ',line[2]]\n",
    "    return char_to_num(tf.reshape(tf.strings.unicode_split(tokens, input_encoding='UTF-8'), (-1)))[1:]"
   ]
  },
  {
   "cell_type": "code",
   "execution_count": 106,
   "id": "dd01ca9f-77fb-4643-a2aa-47dd82c5d66b",
   "metadata": {
    "tags": []
   },
   "outputs": [],
   "source": [
    "def load_data(path: str): \n",
    "    path = bytes.decode(path.numpy())\n",
    "    file_name = path.split('/')[-1].split('.')[0]\n",
    "    # File name splitting for windows\n",
    "    # file_name = path.split('\\\\')[-1].split('.')[0]\n",
    "    video_path = os.path.join('data_cantonese','s1',f'{file_name}.mp4')\n",
    "    alignment_path = os.path.join('data_cantonese','alignment','s1',f'{file_name}.align')\n",
    "    frames = load_video(video_path) \n",
    "    alignments = load_alignments(alignment_path)\n",
    "    \n",
    "    return frames, alignments"
   ]
  },
  {
   "cell_type": "code",
   "execution_count": 46,
   "id": "8cb7cc58-31ae-4904-a805-1177a82717d2",
   "metadata": {
    "tags": []
   },
   "outputs": [],
   "source": [
    "test_path = './data/s1/bbal6n.mpg'"
   ]
  },
  {
   "cell_type": "code",
   "execution_count": 47,
   "id": "76aa964f-0c84-490d-897a-d00e3966e2c9",
   "metadata": {},
   "outputs": [
    {
     "data": {
      "text/plain": [
       "'bbal6n'"
      ]
     },
     "execution_count": 47,
     "metadata": {},
     "output_type": "execute_result"
    }
   ],
   "source": [
    "tf.convert_to_tensor(test_path).numpy().decode('utf-8').split('/')[-1].split('.')[0]"
   ]
  },
  {
   "cell_type": "code",
   "execution_count": 48,
   "id": "eb602c71-8560-4f9e-b26b-08202febb937",
   "metadata": {
    "scrolled": true,
    "tags": []
   },
   "outputs": [],
   "source": [
    "frames, alignments = load_data(tf.convert_to_tensor(test_path))"
   ]
  },
  {
   "cell_type": "code",
   "execution_count": 49,
   "id": "0e3184a1-6b02-4b4f-84a8-a0a65f951ea2",
   "metadata": {},
   "outputs": [
    {
     "data": {
      "text/plain": [
       "<matplotlib.image.AxesImage at 0x294404e80>"
      ]
     },
     "execution_count": 49,
     "metadata": {},
     "output_type": "execute_result"
    },
    {
     "data": {
      "image/png": "[encoded data removed]",
      "text/plain": [
       "<Figure size 640x480 with 1 Axes>"
      ]
     },
     "metadata": {},
     "output_type": "display_data"
    }
   ],
   "source": [
    "plt.imshow(frames[40])"
   ]
  },
  {
   "cell_type": "code",
   "execution_count": 50,
   "id": "d7ec0833-d54b-4073-84cf-92d011c60ec1",
   "metadata": {},
   "outputs": [
    {
     "data": {
      "text/plain": [
       "<tf.Tensor: shape=(21,), dtype=int64, numpy=\n",
       "array([ 2,  9, 14, 39,  2, 12, 21,  5, 39,  1, 20, 39, 12, 39, 19,  9, 24,\n",
       "       39, 14, 15, 23])>"
      ]
     },
     "execution_count": 50,
     "metadata": {},
     "output_type": "execute_result"
    }
   ],
   "source": [
    "alignments"
   ]
  },
  {
   "cell_type": "code",
   "execution_count": 51,
   "id": "fe1ad370-b287-4b46-85a2-7c45b0bd9b10",
   "metadata": {},
   "outputs": [
    {
     "data": {
      "text/plain": [
       "<tf.Tensor: shape=(), dtype=string, numpy=b'bin blue at l six now'>"
      ]
     },
     "execution_count": 51,
     "metadata": {},
     "output_type": "execute_result"
    }
   ],
   "source": [
    "tf.strings.reduce_join([bytes.decode(x) for x in num_to_char(alignments.numpy()).numpy()])"
   ]
  },
  {
   "cell_type": "code",
   "execution_count": 52,
   "id": "6871031a-b0ba-4c76-a852-f6329b0f2606",
   "metadata": {
    "tags": []
   },
   "outputs": [],
   "source": [
    "def mappable_function(path:str) ->List[str]:\n",
    "    result = tf.py_function(load_data, [path], (tf.float32, tf.int64))\n",
    "    return result"
   ]
  },
  {
   "attachments": {},
   "cell_type": "markdown",
   "id": "c40a7eb4-0c3e-4eab-9291-5611cb68ce08",
   "metadata": {
    "tags": []
   },
   "source": [
    "# 2. Create Data Pipeline"
   ]
  },
  {
   "cell_type": "code",
   "execution_count": 53,
   "id": "7686355d-45aa-4c85-ad9c-053e6a9b4d81",
   "metadata": {
    "tags": []
   },
   "outputs": [],
   "source": [
    "from matplotlib import pyplot as plt"
   ]
  },
  {
   "cell_type": "code",
   "execution_count": 54,
   "id": "f066fea2-91b1-42ed-a67d-00566a1a53ff",
   "metadata": {
    "tags": []
   },
   "outputs": [],
   "source": [
    "data = tf.data.Dataset.list_files('./data/s1/*.mpg')\n",
    "data = data.shuffle(500, reshuffle_each_iteration=False)\n",
    "data = data.map(mappable_function)\n",
    "data = data.padded_batch(2, padded_shapes=([75,None,None,None],[40]))\n",
    "data = data.prefetch(tf.data.AUTOTUNE)\n",
    "# Added for split \n",
    "# train = data.take(450)\n",
    "# test = data.skip(450)\n",
    "total_samples = 10\n",
    "train_size = int(0.8 * total_samples)\n",
    "\n",
    "# Split the data\n",
    "train = data.take(train_size)\n",
    "test = data.skip(train_size)"
   ]
  },
  {
   "cell_type": "code",
   "execution_count": 55,
   "id": "457e9371-dc94-4be8-8ba3-bf3a1769de56",
   "metadata": {},
   "outputs": [],
   "source": [
    "# for frames, target_sequence in data:\n",
    "#     print(\"Target Sequence Length:\", tf.shape(target_sequence)[1])"
   ]
  },
  {
   "cell_type": "code",
   "execution_count": 56,
   "id": "6b1365bd-7742-41d1-95d4-247021751c3a",
   "metadata": {},
   "outputs": [
    {
     "data": {
      "text/plain": [
       "492"
      ]
     },
     "execution_count": 56,
     "metadata": {},
     "output_type": "execute_result"
    }
   ],
   "source": [
    "len(test)\n",
    "# len(data)"
   ]
  },
  {
   "cell_type": "code",
   "execution_count": 57,
   "id": "3b61b39c-a232-4c39-9276-56500e177b5c",
   "metadata": {},
   "outputs": [
    {
     "name": "stdout",
     "output_type": "stream",
     "text": [
      "The file './data/alignments/s1/bras7s.align' exists.\n"
     ]
    }
   ],
   "source": [
    "file_path = \"./data/alignments/s1/bras7s.align\"  # Replace with the file path you want to check\n",
    "\n",
    "if os.path.exists(file_path):\n",
    "    print(f\"The file '{file_path}' exists.\")\n",
    "else:\n",
    "    print(f\"The file '{file_path}' does not exist.\")\n"
   ]
  },
  {
   "cell_type": "code",
   "execution_count": 58,
   "id": "5281bde8-fdc8-4da1-bd55-5a7929a9e80c",
   "metadata": {},
   "outputs": [],
   "source": [
    "frames, alignments = data.as_numpy_iterator().next()"
   ]
  },
  {
   "cell_type": "code",
   "execution_count": 59,
   "id": "cbebe683-6afd-47fd-bba4-c83b4b13bb32",
   "metadata": {},
   "outputs": [
    {
     "data": {
      "text/plain": [
       "2"
      ]
     },
     "execution_count": 59,
     "metadata": {},
     "output_type": "execute_result"
    }
   ],
   "source": [
    "len(frames)"
   ]
  },
  {
   "cell_type": "code",
   "execution_count": 60,
   "id": "5cf2d676-93a9-434c-b3c7-bdcc2577b2e7",
   "metadata": {
    "tags": []
   },
   "outputs": [],
   "source": [
    "sample = data.as_numpy_iterator()"
   ]
  },
  {
   "cell_type": "code",
   "execution_count": 61,
   "id": "efa6cd46-7079-46c0-b45b-832f339f6cb0",
   "metadata": {
    "scrolled": true,
    "tags": []
   },
   "outputs": [
    {
     "data": {
      "text/plain": [
       "array([[[[[1.5873265 ],\n",
       "          [1.5520526 ],\n",
       "          [1.5167787 ],\n",
       "          ...,\n",
       "          [0.49383494],\n",
       "          [0.5291088 ],\n",
       "          [0.5291088 ]],\n",
       "\n",
       "         [[1.5873265 ],\n",
       "          [1.5520526 ],\n",
       "          [1.4462309 ],\n",
       "          ...,\n",
       "          [0.49383494],\n",
       "          [0.5291088 ],\n",
       "          [0.5291088 ]],\n",
       "\n",
       "         [[1.4815048 ],\n",
       "          [1.4815048 ],\n",
       "          [1.4815048 ],\n",
       "          ...,\n",
       "          [0.49383494],\n",
       "          [0.5291088 ],\n",
       "          [0.5291088 ]],\n",
       "\n",
       "         ...,\n",
       "\n",
       "         [[1.0934917 ],\n",
       "          [1.0934917 ],\n",
       "          [1.0934917 ],\n",
       "          ...,\n",
       "          [0.21164355],\n",
       "          [0.21164355],\n",
       "          [0.21164355]],\n",
       "\n",
       "         [[1.0934917 ],\n",
       "          [1.0934917 ],\n",
       "          [1.0934917 ],\n",
       "          ...,\n",
       "          [0.17636962],\n",
       "          [0.17636962],\n",
       "          [0.17636962]],\n",
       "\n",
       "         [[1.0934917 ],\n",
       "          [1.0934917 ],\n",
       "          [1.0934917 ],\n",
       "          ...,\n",
       "          [0.17636962],\n",
       "          [0.17636962],\n",
       "          [0.17636962]]],\n",
       "\n",
       "\n",
       "        [[[1.5873265 ],\n",
       "          [1.5873265 ],\n",
       "          [1.5520526 ],\n",
       "          ...,\n",
       "          [0.38801315],\n",
       "          [0.458561  ],\n",
       "          [0.458561  ]],\n",
       "\n",
       "         [[1.4815048 ],\n",
       "          [1.5873265 ],\n",
       "          [1.5520526 ],\n",
       "          ...,\n",
       "          [0.38801315],\n",
       "          [0.458561  ],\n",
       "          [0.458561  ]],\n",
       "\n",
       "         [[1.4815048 ],\n",
       "          [1.4815048 ],\n",
       "          [1.5167787 ],\n",
       "          ...,\n",
       "          [0.458561  ],\n",
       "          [0.458561  ],\n",
       "          [0.458561  ]],\n",
       "\n",
       "         ...,\n",
       "\n",
       "         [[1.1287656 ],\n",
       "          [1.1287656 ],\n",
       "          [1.1287656 ],\n",
       "          ...,\n",
       "          [0.21164355],\n",
       "          [0.21164355],\n",
       "          [0.21164355]],\n",
       "\n",
       "         [[1.0934917 ],\n",
       "          [1.0934917 ],\n",
       "          [1.0934917 ],\n",
       "          ...,\n",
       "          [0.17636962],\n",
       "          [0.17636962],\n",
       "          [0.17636962]],\n",
       "\n",
       "         [[1.0934917 ],\n",
       "          [1.0582176 ],\n",
       "          [1.0582176 ],\n",
       "          ...,\n",
       "          [0.17636962],\n",
       "          [0.17636962],\n",
       "          [0.17636962]]],\n",
       "\n",
       "\n",
       "        [[[1.5520526 ],\n",
       "          [1.5520526 ],\n",
       "          [1.5520526 ],\n",
       "          ...,\n",
       "          [0.4232871 ],\n",
       "          [0.458561  ],\n",
       "          [0.458561  ]],\n",
       "\n",
       "         [[1.4815048 ],\n",
       "          [1.5520526 ],\n",
       "          [1.5520526 ],\n",
       "          ...,\n",
       "          [0.4232871 ],\n",
       "          [0.458561  ],\n",
       "          [0.458561  ]],\n",
       "\n",
       "         [[1.5167787 ],\n",
       "          [1.5167787 ],\n",
       "          [1.5167787 ],\n",
       "          ...,\n",
       "          [0.458561  ],\n",
       "          [0.458561  ],\n",
       "          [0.458561  ]],\n",
       "\n",
       "         ...,\n",
       "\n",
       "         [[1.1993134 ],\n",
       "          [1.1993134 ],\n",
       "          [1.1993134 ],\n",
       "          ...,\n",
       "          [0.17636962],\n",
       "          [0.17636962],\n",
       "          [0.1410957 ]],\n",
       "\n",
       "         [[1.1287656 ],\n",
       "          [1.1287656 ],\n",
       "          [1.1287656 ],\n",
       "          ...,\n",
       "          [0.17636962],\n",
       "          [0.1410957 ],\n",
       "          [0.1410957 ]],\n",
       "\n",
       "         [[1.1287656 ],\n",
       "          [1.0934917 ],\n",
       "          [1.0934917 ],\n",
       "          ...,\n",
       "          [0.1410957 ],\n",
       "          [0.1410957 ],\n",
       "          [0.10582177]]],\n",
       "\n",
       "\n",
       "        ...,\n",
       "\n",
       "\n",
       "        [[[1.5873265 ],\n",
       "          [1.5520526 ],\n",
       "          [1.5520526 ],\n",
       "          ...,\n",
       "          [0.458561  ],\n",
       "          [0.458561  ],\n",
       "          [0.458561  ]],\n",
       "\n",
       "         [[1.5520526 ],\n",
       "          [1.5520526 ],\n",
       "          [1.5520526 ],\n",
       "          ...,\n",
       "          [0.458561  ],\n",
       "          [0.458561  ],\n",
       "          [0.458561  ]],\n",
       "\n",
       "         [[1.5873265 ],\n",
       "          [1.5873265 ],\n",
       "          [1.5520526 ],\n",
       "          ...,\n",
       "          [0.458561  ],\n",
       "          [0.458561  ],\n",
       "          [0.458561  ]],\n",
       "\n",
       "         ...,\n",
       "\n",
       "         [[1.0934917 ],\n",
       "          [1.0934917 ],\n",
       "          [1.0934917 ],\n",
       "          ...,\n",
       "          [0.17636962],\n",
       "          [0.17636962],\n",
       "          [0.17636962]],\n",
       "\n",
       "         [[1.0934917 ],\n",
       "          [1.0934917 ],\n",
       "          [1.0934917 ],\n",
       "          ...,\n",
       "          [0.17636962],\n",
       "          [0.17636962],\n",
       "          [0.1410957 ]],\n",
       "\n",
       "         [[1.0934917 ],\n",
       "          [1.0934917 ],\n",
       "          [1.0934917 ],\n",
       "          ...,\n",
       "          [0.17636962],\n",
       "          [0.1410957 ],\n",
       "          [0.1410957 ]]],\n",
       "\n",
       "\n",
       "        [[[1.5520526 ],\n",
       "          [1.5167787 ],\n",
       "          [1.5520526 ],\n",
       "          ...,\n",
       "          [0.4232871 ],\n",
       "          [0.458561  ],\n",
       "          [0.458561  ]],\n",
       "\n",
       "         [[1.5520526 ],\n",
       "          [1.4815048 ],\n",
       "          [1.4815048 ],\n",
       "          ...,\n",
       "          [0.4232871 ],\n",
       "          [0.458561  ],\n",
       "          [0.458561  ]],\n",
       "\n",
       "         [[1.5873265 ],\n",
       "          [1.5873265 ],\n",
       "          [1.5520526 ],\n",
       "          ...,\n",
       "          [0.4232871 ],\n",
       "          [0.4232871 ],\n",
       "          [0.4232871 ]],\n",
       "\n",
       "         ...,\n",
       "\n",
       "         [[1.0934917 ],\n",
       "          [1.0934917 ],\n",
       "          [1.0934917 ],\n",
       "          ...,\n",
       "          [0.17636962],\n",
       "          [0.17636962],\n",
       "          [0.17636962]],\n",
       "\n",
       "         [[1.0934917 ],\n",
       "          [1.0934917 ],\n",
       "          [1.0934917 ],\n",
       "          ...,\n",
       "          [0.17636962],\n",
       "          [0.17636962],\n",
       "          [0.17636962]],\n",
       "\n",
       "         [[1.0934917 ],\n",
       "          [1.0934917 ],\n",
       "          [1.0934917 ],\n",
       "          ...,\n",
       "          [0.17636962],\n",
       "          [0.17636962],\n",
       "          [0.1410957 ]]],\n",
       "\n",
       "\n",
       "        [[[1.5873265 ],\n",
       "          [1.5167787 ],\n",
       "          [1.5167787 ],\n",
       "          ...,\n",
       "          [0.35273924],\n",
       "          [0.4232871 ],\n",
       "          [0.4232871 ]],\n",
       "\n",
       "         [[1.5873265 ],\n",
       "          [1.4462309 ],\n",
       "          [1.4462309 ],\n",
       "          ...,\n",
       "          [0.35273924],\n",
       "          [0.4232871 ],\n",
       "          [0.4232871 ]],\n",
       "\n",
       "         [[1.5520526 ],\n",
       "          [1.5520526 ],\n",
       "          [1.5520526 ],\n",
       "          ...,\n",
       "          [0.458561  ],\n",
       "          [0.4232871 ],\n",
       "          [0.4232871 ]],\n",
       "\n",
       "         ...,\n",
       "\n",
       "         [[1.0934917 ],\n",
       "          [1.0934917 ],\n",
       "          [1.1640395 ],\n",
       "          ...,\n",
       "          [0.17636962],\n",
       "          [0.17636962],\n",
       "          [0.17636962]],\n",
       "\n",
       "         [[1.0934917 ],\n",
       "          [1.0934917 ],\n",
       "          [1.0934917 ],\n",
       "          ...,\n",
       "          [0.17636962],\n",
       "          [0.17636962],\n",
       "          [0.17636962]],\n",
       "\n",
       "         [[1.0934917 ],\n",
       "          [1.0934917 ],\n",
       "          [1.0934917 ],\n",
       "          ...,\n",
       "          [0.17636962],\n",
       "          [0.17636962],\n",
       "          [0.1410957 ]]]],\n",
       "\n",
       "\n",
       "\n",
       "       [[[[1.3886626 ],\n",
       "          [1.4252063 ],\n",
       "          [1.4982938 ],\n",
       "          ...,\n",
       "          [0.3654375 ],\n",
       "          [0.40198126],\n",
       "          [0.40198126]],\n",
       "\n",
       "         [[1.4982938 ],\n",
       "          [1.4982938 ],\n",
       "          [1.4982938 ],\n",
       "          ...,\n",
       "          [0.3654375 ],\n",
       "          [0.40198126],\n",
       "          [0.40198126]],\n",
       "\n",
       "         [[1.5713813 ],\n",
       "          [1.5713813 ],\n",
       "          [1.4982938 ],\n",
       "          ...,\n",
       "          [0.40198126],\n",
       "          [0.3654375 ],\n",
       "          [0.3654375 ]],\n",
       "\n",
       "         ...,\n",
       "\n",
       "         [[1.0963125 ],\n",
       "          [1.0963125 ],\n",
       "          [1.0963125 ],\n",
       "          ...,\n",
       "          [0.0730875 ],\n",
       "          [0.0730875 ],\n",
       "          [0.0730875 ]],\n",
       "\n",
       "         [[1.0232251 ],\n",
       "          [1.0232251 ],\n",
       "          [1.0232251 ],\n",
       "          ...,\n",
       "          [0.03654375],\n",
       "          [0.03654375],\n",
       "          [0.03654375]],\n",
       "\n",
       "         [[1.0232251 ],\n",
       "          [1.0232251 ],\n",
       "          [1.0232251 ],\n",
       "          ...,\n",
       "          [0.03654375],\n",
       "          [0.03654375],\n",
       "          [0.03654375]]],\n",
       "\n",
       "\n",
       "        [[[1.46175   ],\n",
       "          [1.46175   ],\n",
       "          [1.5348375 ],\n",
       "          ...,\n",
       "          [0.40198126],\n",
       "          [0.40198126],\n",
       "          [0.40198126]],\n",
       "\n",
       "         [[1.607925  ],\n",
       "          [1.46175   ],\n",
       "          [1.4982938 ],\n",
       "          ...,\n",
       "          [0.40198126],\n",
       "          [0.40198126],\n",
       "          [0.40198126]],\n",
       "\n",
       "         [[1.607925  ],\n",
       "          [1.607925  ],\n",
       "          [1.4982938 ],\n",
       "          ...,\n",
       "          [0.40198126],\n",
       "          [0.40198126],\n",
       "          [0.40198126]],\n",
       "\n",
       "         ...,\n",
       "\n",
       "         [[1.0963125 ],\n",
       "          [1.0963125 ],\n",
       "          [1.0963125 ],\n",
       "          ...,\n",
       "          [0.03654375],\n",
       "          [0.0730875 ],\n",
       "          [0.0730875 ]],\n",
       "\n",
       "         [[0.9866813 ],\n",
       "          [0.9866813 ],\n",
       "          [0.9866813 ],\n",
       "          ...,\n",
       "          [0.        ],\n",
       "          [0.03654375],\n",
       "          [0.03654375]],\n",
       "\n",
       "         [[0.9866813 ],\n",
       "          [0.9866813 ],\n",
       "          [0.9866813 ],\n",
       "          ...,\n",
       "          [0.        ],\n",
       "          [0.03654375],\n",
       "          [0.03654375]]],\n",
       "\n",
       "\n",
       "        [[[1.46175   ],\n",
       "          [1.5348375 ],\n",
       "          [1.4982938 ],\n",
       "          ...,\n",
       "          [0.40198126],\n",
       "          [0.40198126],\n",
       "          [0.40198126]],\n",
       "\n",
       "         [[1.4252063 ],\n",
       "          [1.46175   ],\n",
       "          [1.4252063 ],\n",
       "          ...,\n",
       "          [0.40198126],\n",
       "          [0.40198126],\n",
       "          [0.40198126]],\n",
       "\n",
       "         [[1.5713813 ],\n",
       "          [1.5713813 ],\n",
       "          [1.4982938 ],\n",
       "          ...,\n",
       "          [0.40198126],\n",
       "          [0.40198126],\n",
       "          [0.40198126]],\n",
       "\n",
       "         ...,\n",
       "\n",
       "         [[1.0963125 ],\n",
       "          [1.0963125 ],\n",
       "          [1.0963125 ],\n",
       "          ...,\n",
       "          [0.03654375],\n",
       "          [0.03654375],\n",
       "          [0.03654375]],\n",
       "\n",
       "         [[0.9866813 ],\n",
       "          [0.9866813 ],\n",
       "          [0.9866813 ],\n",
       "          ...,\n",
       "          [9.318656  ],\n",
       "          [0.        ],\n",
       "          [0.        ]],\n",
       "\n",
       "         [[0.9866813 ],\n",
       "          [0.9866813 ],\n",
       "          [0.9866813 ],\n",
       "          ...,\n",
       "          [9.318656  ],\n",
       "          [0.        ],\n",
       "          [0.        ]]],\n",
       "\n",
       "\n",
       "        ...,\n",
       "\n",
       "\n",
       "        [[[1.5713813 ],\n",
       "          [1.4982938 ],\n",
       "          [1.4252063 ],\n",
       "          ...,\n",
       "          [0.40198126],\n",
       "          [0.40198126],\n",
       "          [0.40198126]],\n",
       "\n",
       "         [[1.5348375 ],\n",
       "          [1.607925  ],\n",
       "          [1.5713813 ],\n",
       "          ...,\n",
       "          [0.40198126],\n",
       "          [0.40198126],\n",
       "          [0.40198126]],\n",
       "\n",
       "         [[1.5348375 ],\n",
       "          [1.5348375 ],\n",
       "          [1.4982938 ],\n",
       "          ...,\n",
       "          [0.40198126],\n",
       "          [0.40198126],\n",
       "          [0.40198126]],\n",
       "\n",
       "         ...,\n",
       "\n",
       "         [[1.0963125 ],\n",
       "          [1.0963125 ],\n",
       "          [1.0963125 ],\n",
       "          ...,\n",
       "          [0.10963126],\n",
       "          [0.10963126],\n",
       "          [0.10963126]],\n",
       "\n",
       "         [[1.0963125 ],\n",
       "          [1.0963125 ],\n",
       "          [1.0963125 ],\n",
       "          ...,\n",
       "          [0.10963126],\n",
       "          [0.10963126],\n",
       "          [0.10963126]],\n",
       "\n",
       "         [[1.0963125 ],\n",
       "          [1.0963125 ],\n",
       "          [1.0232251 ],\n",
       "          ...,\n",
       "          [0.10963126],\n",
       "          [0.10963126],\n",
       "          [0.0730875 ]]],\n",
       "\n",
       "\n",
       "        [[[1.5348375 ],\n",
       "          [1.46175   ],\n",
       "          [1.4252063 ],\n",
       "          ...,\n",
       "          [0.3654375 ],\n",
       "          [0.3654375 ],\n",
       "          [0.3654375 ]],\n",
       "\n",
       "         [[1.46175   ],\n",
       "          [1.5348375 ],\n",
       "          [1.4982938 ],\n",
       "          ...,\n",
       "          [0.3654375 ],\n",
       "          [0.3654375 ],\n",
       "          [0.3654375 ]],\n",
       "\n",
       "         [[1.5713813 ],\n",
       "          [1.5713813 ],\n",
       "          [1.5713813 ],\n",
       "          ...,\n",
       "          [0.40198126],\n",
       "          [0.3654375 ],\n",
       "          [0.3654375 ]],\n",
       "\n",
       "         ...,\n",
       "\n",
       "         [[1.0963125 ],\n",
       "          [1.0963125 ],\n",
       "          [1.0963125 ],\n",
       "          ...,\n",
       "          [0.03654375],\n",
       "          [0.03654375],\n",
       "          [0.03654375]],\n",
       "\n",
       "         [[1.0963125 ],\n",
       "          [1.0963125 ],\n",
       "          [1.0597688 ],\n",
       "          ...,\n",
       "          [0.03654375],\n",
       "          [0.03654375],\n",
       "          [0.03654375]],\n",
       "\n",
       "         [[1.0597688 ],\n",
       "          [1.0597688 ],\n",
       "          [1.0597688 ],\n",
       "          ...,\n",
       "          [0.03654375],\n",
       "          [0.03654375],\n",
       "          [0.        ]]],\n",
       "\n",
       "\n",
       "        [[[1.5348375 ],\n",
       "          [1.5348375 ],\n",
       "          [1.46175   ],\n",
       "          ...,\n",
       "          [0.40198126],\n",
       "          [0.40198126],\n",
       "          [0.40198126]],\n",
       "\n",
       "         [[1.5713813 ],\n",
       "          [1.5713813 ],\n",
       "          [1.5348375 ],\n",
       "          ...,\n",
       "          [0.40198126],\n",
       "          [0.40198126],\n",
       "          [0.40198126]],\n",
       "\n",
       "         [[1.5713813 ],\n",
       "          [1.4982938 ],\n",
       "          [1.4982938 ],\n",
       "          ...,\n",
       "          [0.3654375 ],\n",
       "          [0.3654375 ],\n",
       "          [0.3654375 ]],\n",
       "\n",
       "         ...,\n",
       "\n",
       "         [[1.1328562 ],\n",
       "          [1.1328562 ],\n",
       "          [1.0963125 ],\n",
       "          ...,\n",
       "          [0.0730875 ],\n",
       "          [0.03654375],\n",
       "          [0.03654375]],\n",
       "\n",
       "         [[1.1328562 ],\n",
       "          [1.1328562 ],\n",
       "          [1.0963125 ],\n",
       "          ...,\n",
       "          [0.03654375],\n",
       "          [0.03654375],\n",
       "          [0.03654375]],\n",
       "\n",
       "         [[1.1328562 ],\n",
       "          [1.1328562 ],\n",
       "          [1.0963125 ],\n",
       "          ...,\n",
       "          [0.03654375],\n",
       "          [0.03654375],\n",
       "          [0.03654375]]]]], dtype=float32)"
      ]
     },
     "execution_count": 61,
     "metadata": {},
     "output_type": "execute_result"
    }
   ],
   "source": [
    "val = sample.next(); val[0]"
   ]
  },
  {
   "cell_type": "code",
   "execution_count": 62,
   "id": "acf5eb4f-a0da-4a9a-bf24-af13e9cc2fbe",
   "metadata": {
    "tags": []
   },
   "outputs": [
    {
     "name": "stderr",
     "output_type": "stream",
     "text": [
      "Lossy conversion from float32 to uint8. Range [0.0, 8.994850158691406]. Convert image to uint8 prior to saving to suppress this warning.\n",
      "Lossy conversion from float32 to uint8. Range [0.0, 8.994850158691406]. Convert image to uint8 prior to saving to suppress this warning.\n",
      "Lossy conversion from float32 to uint8. Range [0.0, 8.994850158691406]. Convert image to uint8 prior to saving to suppress this warning.\n",
      "Lossy conversion from float32 to uint8. Range [0.0, 8.994850158691406]. Convert image to uint8 prior to saving to suppress this warning.\n",
      "Lossy conversion from float32 to uint8. Range [0.0, 8.994850158691406]. Convert image to uint8 prior to saving to suppress this warning.\n",
      "Lossy conversion from float32 to uint8. Range [0.0, 8.994850158691406]. Convert image to uint8 prior to saving to suppress this warning.\n",
      "Lossy conversion from float32 to uint8. Range [0.0, 8.994850158691406]. Convert image to uint8 prior to saving to suppress this warning.\n",
      "Lossy conversion from float32 to uint8. Range [0.0, 8.994850158691406]. Convert image to uint8 prior to saving to suppress this warning.\n",
      "Lossy conversion from float32 to uint8. Range [0.0, 8.994850158691406]. Convert image to uint8 prior to saving to suppress this warning.\n",
      "Lossy conversion from float32 to uint8. Range [0.0, 8.994850158691406]. Convert image to uint8 prior to saving to suppress this warning.\n",
      "Lossy conversion from float32 to uint8. Range [0.0, 8.994850158691406]. Convert image to uint8 prior to saving to suppress this warning.\n",
      "Lossy conversion from float32 to uint8. Range [0.0, 8.994850158691406]. Convert image to uint8 prior to saving to suppress this warning.\n",
      "Lossy conversion from float32 to uint8. Range [0.0, 8.994850158691406]. Convert image to uint8 prior to saving to suppress this warning.\n",
      "Lossy conversion from float32 to uint8. Range [0.0, 8.994850158691406]. Convert image to uint8 prior to saving to suppress this warning.\n",
      "Lossy conversion from float32 to uint8. Range [0.0, 8.994850158691406]. Convert image to uint8 prior to saving to suppress this warning.\n",
      "Lossy conversion from float32 to uint8. Range [0.0, 8.994850158691406]. Convert image to uint8 prior to saving to suppress this warning.\n",
      "Lossy conversion from float32 to uint8. Range [0.0, 8.994850158691406]. Convert image to uint8 prior to saving to suppress this warning.\n",
      "Lossy conversion from float32 to uint8. Range [0.0, 8.994850158691406]. Convert image to uint8 prior to saving to suppress this warning.\n",
      "Lossy conversion from float32 to uint8. Range [0.0, 8.994850158691406]. Convert image to uint8 prior to saving to suppress this warning.\n",
      "Lossy conversion from float32 to uint8. Range [0.0, 8.994850158691406]. Convert image to uint8 prior to saving to suppress this warning.\n",
      "Lossy conversion from float32 to uint8. Range [0.0, 8.994850158691406]. Convert image to uint8 prior to saving to suppress this warning.\n",
      "Lossy conversion from float32 to uint8. Range [0.0, 8.994850158691406]. Convert image to uint8 prior to saving to suppress this warning.\n",
      "Lossy conversion from float32 to uint8. Range [0.0, 8.994850158691406]. Convert image to uint8 prior to saving to suppress this warning.\n",
      "Lossy conversion from float32 to uint8. Range [0.0, 8.994850158691406]. Convert image to uint8 prior to saving to suppress this warning.\n",
      "Lossy conversion from float32 to uint8. Range [0.0, 8.994850158691406]. Convert image to uint8 prior to saving to suppress this warning.\n",
      "Lossy conversion from float32 to uint8. Range [0.0, 8.994850158691406]. Convert image to uint8 prior to saving to suppress this warning.\n",
      "Lossy conversion from float32 to uint8. Range [0.0, 8.994850158691406]. Convert image to uint8 prior to saving to suppress this warning.\n",
      "Lossy conversion from float32 to uint8. Range [0.0, 8.994850158691406]. Convert image to uint8 prior to saving to suppress this warning.\n",
      "Lossy conversion from float32 to uint8. Range [0.0, 8.994850158691406]. Convert image to uint8 prior to saving to suppress this warning.\n",
      "Lossy conversion from float32 to uint8. Range [0.0, 8.994850158691406]. Convert image to uint8 prior to saving to suppress this warning.\n",
      "Lossy conversion from float32 to uint8. Range [0.0, 8.994850158691406]. Convert image to uint8 prior to saving to suppress this warning.\n",
      "Lossy conversion from float32 to uint8. Range [0.0, 8.994850158691406]. Convert image to uint8 prior to saving to suppress this warning.\n",
      "Lossy conversion from float32 to uint8. Range [0.0, 8.994850158691406]. Convert image to uint8 prior to saving to suppress this warning.\n",
      "Lossy conversion from float32 to uint8. Range [0.0, 8.994850158691406]. Convert image to uint8 prior to saving to suppress this warning.\n",
      "Lossy conversion from float32 to uint8. Range [0.0, 8.994850158691406]. Convert image to uint8 prior to saving to suppress this warning.\n",
      "Lossy conversion from float32 to uint8. Range [0.0, 8.994850158691406]. Convert image to uint8 prior to saving to suppress this warning.\n",
      "Lossy conversion from float32 to uint8. Range [0.0, 8.994850158691406]. Convert image to uint8 prior to saving to suppress this warning.\n",
      "Lossy conversion from float32 to uint8. Range [0.0, 8.994850158691406]. Convert image to uint8 prior to saving to suppress this warning.\n",
      "Lossy conversion from float32 to uint8. Range [0.0, 8.994850158691406]. Convert image to uint8 prior to saving to suppress this warning.\n",
      "Lossy conversion from float32 to uint8. Range [0.0, 8.994850158691406]. Convert image to uint8 prior to saving to suppress this warning.\n",
      "Lossy conversion from float32 to uint8. Range [0.0, 8.994850158691406]. Convert image to uint8 prior to saving to suppress this warning.\n",
      "Lossy conversion from float32 to uint8. Range [0.0, 8.994850158691406]. Convert image to uint8 prior to saving to suppress this warning.\n",
      "Lossy conversion from float32 to uint8. Range [0.0, 8.994850158691406]. Convert image to uint8 prior to saving to suppress this warning.\n",
      "Lossy conversion from float32 to uint8. Range [0.0, 8.994850158691406]. Convert image to uint8 prior to saving to suppress this warning.\n",
      "Lossy conversion from float32 to uint8. Range [0.0, 8.994850158691406]. Convert image to uint8 prior to saving to suppress this warning.\n",
      "Lossy conversion from float32 to uint8. Range [0.0, 8.994850158691406]. Convert image to uint8 prior to saving to suppress this warning.\n",
      "Lossy conversion from float32 to uint8. Range [0.0, 8.994850158691406]. Convert image to uint8 prior to saving to suppress this warning.\n",
      "Lossy conversion from float32 to uint8. Range [0.0, 8.994850158691406]. Convert image to uint8 prior to saving to suppress this warning.\n",
      "Lossy conversion from float32 to uint8. Range [0.0, 8.994850158691406]. Convert image to uint8 prior to saving to suppress this warning.\n",
      "Lossy conversion from float32 to uint8. Range [0.0, 8.994850158691406]. Convert image to uint8 prior to saving to suppress this warning.\n",
      "Lossy conversion from float32 to uint8. Range [0.0, 8.994850158691406]. Convert image to uint8 prior to saving to suppress this warning.\n",
      "Lossy conversion from float32 to uint8. Range [0.0, 8.994850158691406]. Convert image to uint8 prior to saving to suppress this warning.\n",
      "Lossy conversion from float32 to uint8. Range [0.0, 8.994850158691406]. Convert image to uint8 prior to saving to suppress this warning.\n",
      "Lossy conversion from float32 to uint8. Range [0.0, 8.994850158691406]. Convert image to uint8 prior to saving to suppress this warning.\n",
      "Lossy conversion from float32 to uint8. Range [0.0, 8.994850158691406]. Convert image to uint8 prior to saving to suppress this warning.\n",
      "Lossy conversion from float32 to uint8. Range [0.0, 8.994850158691406]. Convert image to uint8 prior to saving to suppress this warning.\n",
      "Lossy conversion from float32 to uint8. Range [0.0, 8.994850158691406]. Convert image to uint8 prior to saving to suppress this warning.\n",
      "Lossy conversion from float32 to uint8. Range [0.0, 8.994850158691406]. Convert image to uint8 prior to saving to suppress this warning.\n",
      "Lossy conversion from float32 to uint8. Range [0.0, 8.994850158691406]. Convert image to uint8 prior to saving to suppress this warning.\n",
      "Lossy conversion from float32 to uint8. Range [0.0, 8.994850158691406]. Convert image to uint8 prior to saving to suppress this warning.\n",
      "Lossy conversion from float32 to uint8. Range [0.0, 8.994850158691406]. Convert image to uint8 prior to saving to suppress this warning.\n",
      "Lossy conversion from float32 to uint8. Range [0.0, 8.994850158691406]. Convert image to uint8 prior to saving to suppress this warning.\n",
      "Lossy conversion from float32 to uint8. Range [0.0, 8.994850158691406]. Convert image to uint8 prior to saving to suppress this warning.\n",
      "Lossy conversion from float32 to uint8. Range [0.0, 8.994850158691406]. Convert image to uint8 prior to saving to suppress this warning.\n",
      "Lossy conversion from float32 to uint8. Range [0.0, 8.994850158691406]. Convert image to uint8 prior to saving to suppress this warning.\n",
      "Lossy conversion from float32 to uint8. Range [0.0, 8.994850158691406]. Convert image to uint8 prior to saving to suppress this warning.\n",
      "Lossy conversion from float32 to uint8. Range [0.0, 8.994850158691406]. Convert image to uint8 prior to saving to suppress this warning.\n",
      "Lossy conversion from float32 to uint8. Range [0.0, 8.994850158691406]. Convert image to uint8 prior to saving to suppress this warning.\n",
      "Lossy conversion from float32 to uint8. Range [0.0, 8.994850158691406]. Convert image to uint8 prior to saving to suppress this warning.\n",
      "Lossy conversion from float32 to uint8. Range [0.0, 8.994850158691406]. Convert image to uint8 prior to saving to suppress this warning.\n",
      "Lossy conversion from float32 to uint8. Range [0.0, 8.994850158691406]. Convert image to uint8 prior to saving to suppress this warning.\n",
      "Lossy conversion from float32 to uint8. Range [0.0, 8.994850158691406]. Convert image to uint8 prior to saving to suppress this warning.\n",
      "Lossy conversion from float32 to uint8. Range [0.0, 8.994850158691406]. Convert image to uint8 prior to saving to suppress this warning.\n",
      "Lossy conversion from float32 to uint8. Range [0.0, 8.994850158691406]. Convert image to uint8 prior to saving to suppress this warning.\n",
      "Lossy conversion from float32 to uint8. Range [0.0, 8.994850158691406]. Convert image to uint8 prior to saving to suppress this warning.\n"
     ]
    }
   ],
   "source": [
    "imageio.mimsave('./animation.gif', val[0][0], fps=10)"
   ]
  },
  {
   "cell_type": "code",
   "execution_count": 63,
   "id": "c33a87a2-d5e0-4ec9-b174-73ebf41bf03a",
   "metadata": {
    "tags": []
   },
   "outputs": [
    {
     "data": {
      "text/plain": [
       "<matplotlib.image.AxesImage at 0x290a54100>"
      ]
     },
     "execution_count": 63,
     "metadata": {},
     "output_type": "execute_result"
    },
    {
     "data": {
      "image/png": "[encoded data removed]",
      "text/plain": [
       "<Figure size 640x480 with 1 Axes>"
      ]
     },
     "metadata": {},
     "output_type": "display_data"
    }
   ],
   "source": [
    "# 0:videos, 0: 1st video out of the batch,  0: return the first frame in the video \n",
    "plt.imshow(val[0][0][35])"
   ]
  },
  {
   "cell_type": "code",
   "execution_count": 64,
   "id": "84593332-133c-4205-b7a6-8e235d5e2b3b",
   "metadata": {
    "tags": []
   },
   "outputs": [
    {
     "data": {
      "text/plain": [
       "<tf.Tensor: shape=(), dtype=string, numpy=b'lay white by z six please'>"
      ]
     },
     "execution_count": 64,
     "metadata": {},
     "output_type": "execute_result"
    }
   ],
   "source": [
    "tf.strings.reduce_join([num_to_char(word) for word in val[1][0]])"
   ]
  },
  {
   "cell_type": "code",
   "execution_count": 65,
   "id": "246c53df-9113-401e-9038-3b89d6fde6c5",
   "metadata": {},
   "outputs": [
    {
     "data": {
      "text/plain": [
       "numpy.ndarray"
      ]
     },
     "execution_count": 65,
     "metadata": {},
     "output_type": "execute_result"
    }
   ],
   "source": [
    "type(val[1][0])"
   ]
  },
  {
   "cell_type": "code",
   "execution_count": 66,
   "id": "cdb8af00-064f-430d-9d9a-67adadf9f096",
   "metadata": {},
   "outputs": [],
   "source": [
    "# for word in val[1][0]:\n",
    "#     print(type(word))"
   ]
  },
  {
   "attachments": {},
   "cell_type": "markdown",
   "id": "0f47733c-83bc-465c-b118-b198b492ad37",
   "metadata": {
    "tags": []
   },
   "source": [
    "# 3. Design the Deep Neural Network"
   ]
  },
  {
   "cell_type": "code",
   "execution_count": 67,
   "id": "d8e9a497-191b-4842-afbd-26f5e13c43ba",
   "metadata": {
    "tags": []
   },
   "outputs": [],
   "source": [
    "from tensorflow.keras.models import Sequential \n",
    "from tensorflow.keras.layers import Conv3D, LSTM, Dense, Dropout, Bidirectional, MaxPool3D, Activation, Reshape, SpatialDropout3D, BatchNormalization, TimeDistributed, Flatten\n",
    "from tensorflow.keras.optimizers import Adam\n",
    "from tensorflow.keras.optimizers import legacy\n",
    "from tensorflow.keras.callbacks import ModelCheckpoint, LearningRateScheduler"
   ]
  },
  {
   "cell_type": "code",
   "execution_count": 68,
   "id": "3f753ed2-70b9-4236-8c1c-08ca065dc8bf",
   "metadata": {},
   "outputs": [
    {
     "data": {
      "text/plain": [
       "(75, 46, 140, 1)"
      ]
     },
     "execution_count": 68,
     "metadata": {},
     "output_type": "execute_result"
    }
   ],
   "source": [
    "data.as_numpy_iterator().next()[0][0].shape"
   ]
  },
  {
   "cell_type": "code",
   "execution_count": 69,
   "id": "3051e59c-345c-4c8c-80d3-e65460cdd42a",
   "metadata": {},
   "outputs": [],
   "source": [
    "# def create_lip_reading_model(input_shape, num_classes):\n",
    "#     model = Sequential()\n",
    "\n",
    "#     model.add(Conv3D(128, 3, input_shape=input_shape, padding='same'))\n",
    "#     model.add(Activation('relu'))\n",
    "#     model.add(MaxPool3D((1, 2, 2)))\n",
    "\n",
    "#     model.add(Conv3D(256, 3, padding='same'))\n",
    "#     model.add(Activation('relu'))\n",
    "#     model.add(MaxPool3D((1, 2, 2)))\n",
    "\n",
    "#     model.add(Conv3D(75, 3, padding='same'))\n",
    "#     model.add(Activation('relu'))\n",
    "#     model.add(MaxPool3D((1, 2, 2)))\n",
    "\n",
    "#     model.add(TimeDistributed(Flatten()))\n",
    "\n",
    "#     model.add(Bidirectional(LSTM(128, kernel_initializer='Orthogonal', return_sequences=True)))\n",
    "#     model.add(Dropout(0.5))\n",
    "\n",
    "#     model.add(Bidirectional(LSTM(128, kernel_initializer='Orthogonal', return_sequences=True)))\n",
    "#     model.add(Dropout(0.5))\n",
    "\n",
    "#     model.add(Dense(num_classes, kernel_initializer='he_normal', activation='softmax'))\n",
    "\n",
    "#     return model\n"
   ]
  },
  {
   "cell_type": "code",
   "execution_count": 70,
   "id": "80f7134c-3079-46d2-9a29-e6de19535d47",
   "metadata": {},
   "outputs": [],
   "source": [
    "# input_shape = (75,46,140,1)  # Modify based on your actual input shape\n",
    "# num_classes =  char_to_num.vocabulary_size()+1 # Replace with the actual number of classes"
   ]
  },
  {
   "cell_type": "code",
   "execution_count": 71,
   "id": "f9171056-a352-491a-9ed9-92b28ced268e",
   "metadata": {
    "tags": []
   },
   "outputs": [],
   "source": [
    "model = Sequential()\n",
    "model.add(Conv3D(128, 3, input_shape=(75,46,140,1), padding='same'))\n",
    "model.add(Activation('relu'))\n",
    "model.add(MaxPool3D((1,2,2)))\n",
    "\n",
    "model.add(Conv3D(256, 3, padding='same'))\n",
    "model.add(Activation('relu'))\n",
    "model.add(MaxPool3D((1,2,2)))\n",
    "\n",
    "model.add(Conv3D(75, 3, padding='same'))\n",
    "model.add(Activation('relu'))\n",
    "model.add(MaxPool3D((1,2,2)))\n",
    "\n",
    "model.add(TimeDistributed(Flatten()))\n",
    "\n",
    "model.add(Bidirectional(LSTM(128, kernel_initializer='Orthogonal', return_sequences=True)))\n",
    "model.add(Dropout(.5))\n",
    "\n",
    "model.add(Bidirectional(LSTM(128, kernel_initializer='Orthogonal', return_sequences=True)))\n",
    "model.add(Dropout(.5))\n",
    "\n",
    "model.add(Dense(char_to_num.vocabulary_size()+1, kernel_initializer='he_normal', activation='softmax'))"
   ]
  },
  {
   "cell_type": "code",
   "execution_count": 72,
   "id": "78851825-2bcd-42a9-b7f2-28bb5a6bf43a",
   "metadata": {
    "tags": []
   },
   "outputs": [
    {
     "name": "stdout",
     "output_type": "stream",
     "text": [
      "Model: \"sequential\"\n",
      "_________________________________________________________________\n",
      " Layer (type)                Output Shape              Param #   \n",
      "=================================================================\n",
      " conv3d (Conv3D)             (None, 75, 46, 140, 128   3584      \n",
      "                             )                                   \n",
      "                                                                 \n",
      " activation (Activation)     (None, 75, 46, 140, 128   0         \n",
      "                             )                                   \n",
      "                                                                 \n",
      " max_pooling3d (MaxPooling3  (None, 75, 23, 70, 128)   0         \n",
      " D)                                                              \n",
      "                                                                 \n",
      " conv3d_1 (Conv3D)           (None, 75, 23, 70, 256)   884992    \n",
      "                                                                 \n",
      " activation_1 (Activation)   (None, 75, 23, 70, 256)   0         \n",
      "                                                                 \n",
      " max_pooling3d_1 (MaxPoolin  (None, 75, 11, 35, 256)   0         \n",
      " g3D)                                                            \n",
      "                                                                 \n",
      " conv3d_2 (Conv3D)           (None, 75, 11, 35, 75)    518475    \n",
      "                                                                 \n",
      " activation_2 (Activation)   (None, 75, 11, 35, 75)    0         \n",
      "                                                                 \n",
      " max_pooling3d_2 (MaxPoolin  (None, 75, 5, 17, 75)     0         \n",
      " g3D)                                                            \n",
      "                                                                 \n",
      " time_distributed (TimeDist  (None, 75, 6375)          0         \n",
      " ributed)                                                        \n",
      "                                                                 \n",
      " bidirectional (Bidirection  (None, 75, 256)           6660096   \n",
      " al)                                                             \n",
      "                                                                 \n",
      " dropout (Dropout)           (None, 75, 256)           0         \n",
      "                                                                 \n",
      " bidirectional_1 (Bidirecti  (None, 75, 256)           394240    \n",
      " onal)                                                           \n",
      "                                                                 \n",
      " dropout_1 (Dropout)         (None, 75, 256)           0         \n",
      "                                                                 \n",
      " dense (Dense)               (None, 75, 41)            10537     \n",
      "                                                                 \n",
      "=================================================================\n",
      "Total params: 8471924 (32.32 MB)\n",
      "Trainable params: 8471924 (32.32 MB)\n",
      "Non-trainable params: 0 (0.00 Byte)\n",
      "_________________________________________________________________\n"
     ]
    }
   ],
   "source": [
    "model.summary()"
   ]
  },
  {
   "cell_type": "code",
   "execution_count": 73,
   "id": "f4b4798c-a65a-4c47-9e2a-3b09dc98d320",
   "metadata": {},
   "outputs": [
    {
     "data": {
      "text/plain": [
       "6375"
      ]
     },
     "execution_count": 73,
     "metadata": {},
     "output_type": "execute_result"
    }
   ],
   "source": [
    "5*17*75"
   ]
  },
  {
   "cell_type": "code",
   "execution_count": 74,
   "id": "e5c2eae0-c359-41a4-97a0-75c44dccb7d1",
   "metadata": {
    "tags": []
   },
   "outputs": [
    {
     "name": "stdout",
     "output_type": "stream",
     "text": [
      "1/1 [==============================] - 6s 6s/step\n"
     ]
    }
   ],
   "source": [
    "yhat = model.predict(val[0])"
   ]
  },
  {
   "cell_type": "code",
   "execution_count": 75,
   "id": "ffdc7319-0d69-4f7e-a6d4-ce72deb81c0b",
   "metadata": {},
   "outputs": [
    {
     "data": {
      "text/plain": [
       "<tf.Tensor: shape=(), dtype=string, numpy=b\"neee'''''''''ffffffffffffffffffffffffffffffffffffffffffffffffff'''''''''fff\">"
      ]
     },
     "execution_count": 75,
     "metadata": {},
     "output_type": "execute_result"
    }
   ],
   "source": [
    "tf.strings.reduce_join([num_to_char(x) for x in tf.argmax(yhat[0],axis=1)])"
   ]
  },
  {
   "cell_type": "code",
   "execution_count": 76,
   "id": "6ed47531-8317-4255-9a12-b757642258e6",
   "metadata": {
    "tags": []
   },
   "outputs": [
    {
     "data": {
      "text/plain": [
       "<tf.Tensor: shape=(), dtype=string, numpy=b\"neee'''''''''ffffffffffffffffffffffffffffffffffffffffffffffffff'''''''''fff\">"
      ]
     },
     "execution_count": 76,
     "metadata": {},
     "output_type": "execute_result"
    }
   ],
   "source": [
    "tf.strings.reduce_join([num_to_char(tf.argmax(x)) for x in yhat[0]])"
   ]
  },
  {
   "cell_type": "code",
   "execution_count": 77,
   "id": "7c37b9b9-5298-4038-9c33-5031d1b457f0",
   "metadata": {
    "tags": []
   },
   "outputs": [
    {
     "data": {
      "text/plain": [
       "(None, 75, 46, 140, 1)"
      ]
     },
     "execution_count": 77,
     "metadata": {},
     "output_type": "execute_result"
    }
   ],
   "source": [
    "model.input_shape"
   ]
  },
  {
   "cell_type": "code",
   "execution_count": 78,
   "id": "98b316a4-5322-4782-8e36-4b3c1a696d85",
   "metadata": {
    "tags": []
   },
   "outputs": [
    {
     "data": {
      "text/plain": [
       "(None, 75, 41)"
      ]
     },
     "execution_count": 78,
     "metadata": {},
     "output_type": "execute_result"
    }
   ],
   "source": [
    "model.output_shape"
   ]
  },
  {
   "attachments": {},
   "cell_type": "markdown",
   "id": "2ec02176-5c26-46c3-aff7-8352e6563c7d",
   "metadata": {
    "tags": []
   },
   "source": [
    "# 4. Setup Training Options and Train"
   ]
  },
  {
   "cell_type": "code",
   "execution_count": 79,
   "id": "ab015fd0-7fb4-4d5d-9fa2-30a05dbd515a",
   "metadata": {
    "tags": []
   },
   "outputs": [],
   "source": [
    "def scheduler(epoch, lr):\n",
    "    if epoch < 30:\n",
    "        return lr\n",
    "    else:\n",
    "        return lr * tf.math.exp(-0.1)"
   ]
  },
  {
   "cell_type": "code",
   "execution_count": 80,
   "id": "c564d5c9-db54-4e88-b311-9aeab7fb3e69",
   "metadata": {
    "tags": []
   },
   "outputs": [],
   "source": [
    "def CTCLoss(y_true, y_pred):\n",
    "    batch_len = tf.cast(tf.shape(y_true)[0], dtype=\"int64\")\n",
    "    input_length = tf.cast(tf.shape(y_pred)[1], dtype=\"int64\")\n",
    "    label_length = tf.cast(tf.shape(y_true)[1], dtype=\"int64\")\n",
    "    input_length = input_length * tf.ones(shape=(batch_len, 1), dtype=\"int64\")\n",
    "    label_length = label_length * tf.ones(shape=(batch_len, 1), dtype=\"int64\")\n",
    "\n",
    "    loss = tf.keras.backend.ctc_batch_cost(y_true, y_pred, input_length, label_length)\n",
    "    return loss"
   ]
  },
  {
   "cell_type": "code",
   "execution_count": 81,
   "id": "a26dc3fc-a19c-4378-bd8c-e2b597a1d15c",
   "metadata": {
    "tags": []
   },
   "outputs": [],
   "source": [
    "class ProduceExample(tf.keras.callbacks.Callback): \n",
    "    def __init__(self, dataset) -> None: \n",
    "        self.dataset = dataset.as_numpy_iterator()\n",
    "    \n",
    "    def on_epoch_end(self, epoch, logs=None) -> None:\n",
    "        data = self.dataset.next()\n",
    "        yhat = self.model.predict(data[0])\n",
    "        decoded = tf.keras.backend.ctc_decode(yhat, [75,75], greedy=False)[0][0].numpy()\n",
    "        for x in range(len(yhat)):           \n",
    "            print('Original:', tf.strings.reduce_join(num_to_char(data[1][x])).numpy().decode('utf-8'))\n",
    "            print('Prediction:', tf.strings.reduce_join(num_to_char(decoded[x])).numpy().decode('utf-8'))\n",
    "            print('~'*100)"
   ]
  },
  {
   "cell_type": "code",
   "execution_count": 82,
   "id": "04be90d8-2482-46f9-b513-d5f4f8001c7e",
   "metadata": {
    "tags": []
   },
   "outputs": [],
   "source": [
    "model.compile(optimizer = tf.keras.optimizers.legacy.Adam(learning_rate=0.0001)\n",
    ", loss=CTCLoss)"
   ]
  },
  {
   "cell_type": "code",
   "execution_count": 83,
   "id": "eab49367-3f1e-4464-ae76-dbd07549d97e",
   "metadata": {
    "tags": []
   },
   "outputs": [],
   "source": [
    "checkpoint_callback = ModelCheckpoint(os.path.join('models','checkpoint'), monitor='loss', save_weights_only=True) "
   ]
  },
  {
   "cell_type": "code",
   "execution_count": 84,
   "id": "e085a632-d464-46ef-8777-959cad4adb2c",
   "metadata": {
    "tags": []
   },
   "outputs": [],
   "source": [
    "schedule_callback = LearningRateScheduler(scheduler)"
   ]
  },
  {
   "cell_type": "code",
   "execution_count": 85,
   "id": "48eca991-90ab-4592-8a79-b50e9ca015b6",
   "metadata": {
    "tags": []
   },
   "outputs": [],
   "source": [
    "example_callback = ProduceExample(test)"
   ]
  },
  {
   "cell_type": "code",
   "execution_count": 86,
   "id": "8ffba483-aa61-4bbe-a15f-a73e1ddf097c",
   "metadata": {
    "tags": []
   },
   "outputs": [],
   "source": [
    "# model.fit(train, validation_data=test, epochs=100, callbacks=[checkpoint_callback, schedule_callback, example_callback])"
   ]
  },
  {
   "attachments": {},
   "cell_type": "markdown",
   "id": "fa8ee94b-89f7-4733-8a0c-a86f86ff590a",
   "metadata": {
    "tags": []
   },
   "source": [
    "# 5. Make a Prediction "
   ]
  },
  {
   "cell_type": "code",
   "execution_count": 132,
   "id": "01fa7204-ce0e-49a8-8dbd-14fe5dfead40",
   "metadata": {
    "tags": []
   },
   "outputs": [
    {
     "name": "stderr",
     "output_type": "stream",
     "text": [
      "Downloading...\n",
      "From (uriginal): https://drive.google.com/uc?id=1vWscXs4Vt0a_1IH1-ct2TCgXAZT-N3_Y\n",
      "From (redirected): https://drive.google.com/uc?id=1vWscXs4Vt0a_1IH1-ct2TCgXAZT-N3_Y&confirm=t&uuid=3adf67b6-63d8-4b0f-85e7-69fbb6d496a8\n",
      "To: /Users/dennislaw/Downloads/lip_reading_model/checkpoints.zip\n",
      "100%|██████████████████████████████████████| 94.5M/94.5M [00:07<00:00, 12.2MB/s]\n"
     ]
    },
    {
     "data": {
      "text/plain": [
       "['models/checkpoint.index',\n",
       " 'models/__MACOSX/._checkpoint.index',\n",
       " 'models/checkpoint.data-00000-of-00001',\n",
       " 'models/__MACOSX/._checkpoint.data-00000-of-00001',\n",
       " 'models/checkpoint',\n",
       " 'models/__MACOSX/._checkpoint']"
      ]
     },
     "execution_count": 132,
     "metadata": {},
     "output_type": "execute_result"
    }
   ],
   "source": [
    "url = 'https://drive.google.com/uc?id=1vWscXs4Vt0a_1IH1-ct2TCgXAZT-N3_Y'\n",
    "output = 'checkpoints.zip'\n",
    "gdown.download(url, output, quiet=False)\n",
    "gdown.extractall('checkpoints.zip', 'models')"
   ]
  },
  {
   "cell_type": "code",
   "execution_count": 133,
   "id": "247f664d-3c87-4e96-946e-930dad0e1c2c",
   "metadata": {
    "tags": []
   },
   "outputs": [
    {
     "data": {
      "text/plain": [
       "<tensorflow.python.checkpoint.checkpoint.CheckpointLoadStatus at 0x2991d7fa0>"
      ]
     },
     "execution_count": 133,
     "metadata": {},
     "output_type": "execute_result"
    }
   ],
   "source": [
    "model.load_weights('models/checkpoint')"
   ]
  },
  {
   "cell_type": "code",
   "execution_count": 134,
   "id": "7f8d689f-b7bb-443c-9b88-e40c1d800828",
   "metadata": {
    "tags": []
   },
   "outputs": [],
   "source": [
    "test_data = test.as_numpy_iterator()"
   ]
  },
  {
   "cell_type": "code",
   "execution_count": 135,
   "id": "38546dc2-bee9-4837-864b-8a884df40ad7",
   "metadata": {
    "tags": []
   },
   "outputs": [],
   "source": [
    "sample = test_data.next()"
   ]
  },
  {
   "cell_type": "code",
   "execution_count": 136,
   "id": "a43621f0-229d-4c0d-9554-9c3a3da9c61a",
   "metadata": {
    "tags": []
   },
   "outputs": [
    {
     "name": "stdout",
     "output_type": "stream",
     "text": [
      "1/1 [==============================] - 3s 3s/step\n"
     ]
    }
   ],
   "source": [
    "yhat = model.predict(sample[0])"
   ]
  },
  {
   "cell_type": "code",
   "execution_count": 137,
   "id": "ea462999-f87e-4a7e-a057-5be7b6d8f7d5",
   "metadata": {
    "tags": []
   },
   "outputs": [
    {
     "name": "stdout",
     "output_type": "stream",
     "text": [
      "~~~~~~~~~~~~~~~~~~~~~~~~~~~~~~~~~~~~~~~~~~~~~~~~~~~~~~~~~~~~~~~~~~~~~~~~~~~~~~~~~~~~~~~~~~~~~~~~~~~~ REAL TEXT\n"
     ]
    },
    {
     "data": {
      "text/plain": [
       "[<tf.Tensor: shape=(), dtype=string, numpy=b'bin red with t six please'>,\n",
       " <tf.Tensor: shape=(), dtype=string, numpy=b'bin blue at l six now'>]"
      ]
     },
     "execution_count": 137,
     "metadata": {},
     "output_type": "execute_result"
    }
   ],
   "source": [
    "print('~'*100, 'REAL TEXT')\n",
    "[tf.strings.reduce_join([num_to_char(word) for word in sentence]) for sentence in sample[1]]"
   ]
  },
  {
   "cell_type": "code",
   "execution_count": 138,
   "id": "82bd4c10-dd6e-411e-834b-2a3b43fd12c5",
   "metadata": {
    "tags": []
   },
   "outputs": [],
   "source": [
    "decoded = tf.keras.backend.ctc_decode(yhat, input_length=[75,75], greedy=True)[0][0].numpy()"
   ]
  },
  {
   "cell_type": "code",
   "execution_count": 139,
   "id": "5d68ac46-c90b-4eab-a709-f19aee569ff5",
   "metadata": {
    "tags": []
   },
   "outputs": [
    {
     "name": "stdout",
     "output_type": "stream",
     "text": [
      "~~~~~~~~~~~~~~~~~~~~~~~~~~~~~~~~~~~~~~~~~~~~~~~~~~~~~~~~~~~~~~~~~~~~~~~~~~~~~~~~~~~~~~~~~~~~~~~~~~~~ PREDICTIONS\n"
     ]
    },
    {
     "data": {
      "text/plain": [
       "[<tf.Tensor: shape=(), dtype=string, numpy=b'bin red with t six please'>,\n",
       " <tf.Tensor: shape=(), dtype=string, numpy=b'bin blue at l six now'>]"
      ]
     },
     "execution_count": 139,
     "metadata": {},
     "output_type": "execute_result"
    }
   ],
   "source": [
    "print('~'*100, 'PREDICTIONS')\n",
    "[tf.strings.reduce_join([num_to_char(word) for word in sentence]) for sentence in decoded]"
   ]
  },
  {
   "attachments": {},
   "cell_type": "markdown",
   "id": "64622f98-e99b-4fed-a2cc-f0da82eb5431",
   "metadata": {},
   "source": [
    "# Test on a Video"
   ]
  },
  {
   "cell_type": "code",
   "execution_count": 192,
   "id": "a8b0c4d0-2031-4331-b91d-d87b1ae6f6e2",
   "metadata": {},
   "outputs": [],
   "source": [
    "sample = load_data(tf.convert_to_tensor('./data_cantonese/s1/IMG_2833.mp4'))"
   ]
  },
  {
   "cell_type": "code",
   "execution_count": 193,
   "id": "0cca60e4-47a9-4683-8a75-48f4684f723d",
   "metadata": {},
   "outputs": [
    {
     "name": "stdout",
     "output_type": "stream",
     "text": [
      "~~~~~~~~~~~~~~~~~~~~~~~~~~~~~~~~~~~~~~~~~~~~~~~~~~~~~~~~~~~~~~~~~~~~~~~~~~~~~~~~~~~~~~~~~~~~~~~~~~~~ REAL TEXT\n"
     ]
    },
    {
     "data": {
      "text/plain": [
       "[<tf.Tensor: shape=(), dtype=string, numpy=b'nei5 hou2 maa3'>]"
      ]
     },
     "execution_count": 193,
     "metadata": {},
     "output_type": "execute_result"
    }
   ],
   "source": [
    "print('~'*100, 'REAL TEXT')\n",
    "[tf.strings.reduce_join([num_to_char(word) for word in sentence]) for sentence in [sample[1]]]"
   ]
  },
  {
   "cell_type": "code",
   "execution_count": 194,
   "id": "8cc5037c-1e32-435c-b0cc-01e1fb3b863c",
   "metadata": {},
   "outputs": [
    {
     "name": "stdout",
     "output_type": "stream",
     "text": [
      "1/1 [==============================] - 1s 897ms/step\n"
     ]
    }
   ],
   "source": [
    "yhat = model.predict(tf.expand_dims(sample[0], axis=0))"
   ]
  },
  {
   "cell_type": "code",
   "execution_count": 195,
   "id": "22c4f77d-715d-409f-bc5e-3ebe48704e8f",
   "metadata": {},
   "outputs": [],
   "source": [
    "decoded = tf.keras.backend.ctc_decode(yhat, input_length=[70], greedy=False)[0][0].numpy()"
   ]
  },
  {
   "cell_type": "code",
   "execution_count": 196,
   "id": "e4d12ecc-b634-499e-a4bc-db9f010835fb",
   "metadata": {},
   "outputs": [
    {
     "name": "stdout",
     "output_type": "stream",
     "text": [
      "~~~~~~~~~~~~~~~~~~~~~~~~~~~~~~~~~~~~~~~~~~~~~~~~~~~~~~~~~~~~~~~~~~~~~~~~~~~~~~~~~~~~~~~~~~~~~~~~~~~~ PREDICTIONS\n"
     ]
    },
    {
     "data": {
      "text/plain": [
       "[<tf.Tensor: shape=(), dtype=string, numpy=b'sen re it o wo now'>]"
      ]
     },
     "execution_count": 196,
     "metadata": {},
     "output_type": "execute_result"
    }
   ],
   "source": [
    "print('~'*100, 'PREDICTIONS')\n",
    "[tf.strings.reduce_join([num_to_char(word) for word in sentence]) for sentence in decoded]"
   ]
  },
  {
   "cell_type": "code",
   "execution_count": null,
   "id": "551dfea2-de6b-4400-b71a-a17631529e3f",
   "metadata": {},
   "outputs": [],
   "source": [
    "# # Define Cantonese Initials\n",
    "# cantonese_initials = [\n",
    "#     'b', 'p', 'm', 'f', 'd', 't', 'n', 'l', 'g', 'k', 'ng', 'h', 'gw', 'kw', 'w', 'z', 'c', 's', 'j'\n",
    "# ]\n",
    "\n",
    "# # Define Cantonese Finals\n",
    "# cantonese_finals = [\n",
    "#     'a', 'aa', 'i', 'u', 'e', 'o', 'ai', 'au', 'ei', 'ou', 'iu', 'ui', 'eon', 'oeng', 'aai', 'aau', 'eoi', 'm',\n",
    "#     'ng', 'si', 'yi'\n",
    "# ]\n",
    "\n",
    "# # Define Cantonese Tones\n",
    "# cantonese_tones = [\n",
    "#     '1', '2', '3', '4', '5', '6', '7', '8', '9'\n",
    "# ]\n",
    "\n",
    "# # Create Cantonese Phonemes\n",
    "# cantonese_phonemes = []\n",
    "# for initial in cantonese_initials:\n",
    "#     for final in cantonese_finals:\n",
    "#         for tone in cantonese_tones:\n",
    "#             cantonese_phonemes.append(f\"{initial}{final}{tone}\")\n",
    "\n",
    "# # Display the Cantonese Phoneme Set\n",
    "# print(\"Cantonese Phoneme Set:\")\n",
    "# for phoneme in cantonese_phonemes:\n",
    "#     print(phoneme)\n"
   ]
  },
  {
   "cell_type": "code",
   "execution_count": null,
   "id": "c393beae-452c-4396-9101-00d570ee0d1c",
   "metadata": {},
   "outputs": [],
   "source": [
    "# len(cantonese_finals)"
   ]
  },
  {
   "cell_type": "code",
   "execution_count": null,
   "id": "fa95863d-3832-47bf-8a77-ebaa38054ace",
   "metadata": {},
   "outputs": [],
   "source": [
    "# Define your set of Cantonese phonemes using patterns for initials, finals, and tones\n",
    "cantonese_phonemes = {}\n",
    "\n",
    "# Generalize initial patterns (e.g., 'b' for labial, 'd' for dental, etc.)\n",
    "initials = ['b', 'p', 'm', 'f', 'd', 't', 'n', 'l', 'g', 'k', 'ng', 'h', 'gw', 'kw', 'w', 'z', 'c', 's', 'j']\n",
    "finals = ['aa', 'aai', 'aau', 'aam', 'aan', 'aang', 'aap', 'aat', 'aak', 'ai', 'au', 'am', 'an', 'ang', 'ap', 'at', 'ak', 'e', 'ei', 'eu', 'em', 'eng', 'ep', 'ek', 'i', 'iu', 'im', 'in', 'ing', 'ip', 'it', 'ik', 'o', 'oi', 'ou', 'on', 'ong', 'ot', 'ok', 'u', 'ui', 'un', 'ung', 'ut', 'uk', 'oe', 'oey', 'oen', 'oeng', 'oet', 'oek', 'y', 'yn', 'yn', 'm', 'ng']\n",
    "tones = ['1', '2', '3', '4', '5', '6', '7', '8', '9']\n",
    "\n",
    "# Generate the Cantonese phonemes using combinations of initials, finals, and tones\n",
    "for initial in initials:\n",
    "    for final in finals:\n",
    "        for tone in tones:\n",
    "            # Create the key as a combination of initial, final, and tone\n",
    "            key = initial + final + tone\n",
    "            # Assign a unique integer representation for the key\n",
    "            value = len(cantonese_phonemes)\n",
    "            cantonese_phonemes[key] = value\n",
    "\n",
    "# Test the mapping\n",
    "sample_initial = 'b'\n",
    "sample_final = 'aa'\n",
    "sample_tone = '1'\n",
    "\n",
    "# Use -1 as the separator\n",
    "separator = -1\n",
    "\n",
    "# Add separators\n",
    "integer_representation = []\n",
    "\n",
    "integer_representation.append(cantonese_phonemes.get(sample_initial + sample_final + sample_tone, -1))\n",
    "\n",
    "# Add the separator\n",
    "integer_representation.append(separator)\n",
    "\n",
    "decoded_initial = sample_initial\n",
    "decoded_final = sample_final\n",
    "decoded_tone = sample_tone\n",
    "\n",
    "print(f\"Initial '{sample_initial}' + Final '{sample_final}' is represented as integer sequence: {integer_representation}\")\n"
   ]
  },
  {
   "cell_type": "code",
   "execution_count": null,
   "id": "b9bc4fbd-fced-4e66-ae43-cd15e71305f6",
   "metadata": {},
   "outputs": [],
   "source": [
    "cantonese_phonemes.get(sample_initial + sample_final + sample_tone, -1)"
   ]
  },
  {
   "cell_type": "code",
   "execution_count": null,
   "id": "458ae00b-b4ad-4d8d-b97b-23f218ed8c28",
   "metadata": {},
   "outputs": [],
   "source": [
    "# # Define your set of Cantonese phonemes\n",
    "# cantonese_phonemes = {\n",
    "#     'b': {\n",
    "#         'aa1': 0, 'aa2': 1, 'aa3': 2, 'aa4': 3, 'aa5': 4, 'aa6': 5,\n",
    "#         'aai1': 6, 'aai2': 7, 'aai3': 8, 'aai4': 9, 'aai5': 10, 'aai6': 11,\n",
    "#         # Add more finals and tones as needed\n",
    "#     },\n",
    "#     'p': {\n",
    "#         'aa1': 12, 'aa2': 13, 'aa3': 14, 'aa4': 15, 'aa5': 16, 'aa6': 17,\n",
    "#         # Add more finals and tones as needed\n",
    "#     },\n",
    "#     # Add more initials and their corresponding finals and tones\n",
    "# }\n",
    "\n",
    "# # Test the mapping\n",
    "# sample_initial = 'b'\n",
    "# sample_final = 'aa3'\n",
    "# sample_tone = 2  # Convert the tone to a string if it's not already\n",
    "\n",
    "# # Corrected code to access the integer representation\n",
    "# integer_representation = cantonese_phonemes.get(sample_initial, {}).get(sample_final, -1)\n",
    "\n",
    "# decoded_initial = sample_initial\n",
    "# decoded_final = sample_final\n",
    "# decoded_tone = sample_tone\n",
    "\n",
    "# print(f\"Initial '{sample_initial}' + Final '{sample_final}' + Tone '{sample_tone}' is represented as integer: {integer_representation}\")\n"
   ]
  },
  {
   "cell_type": "code",
   "execution_count": null,
   "id": "b120d542-98a9-482a-ab43-857e66b24341",
   "metadata": {},
   "outputs": [],
   "source": [
    "# print(type(sample_initial))"
   ]
  },
  {
   "cell_type": "code",
   "execution_count": null,
   "id": "c12d8e5e-3452-46c1-b446-76f064358eb2",
   "metadata": {},
   "outputs": [],
   "source": [
    "# cantonese_phonemes.get(sample_initial, {}).get(sample_final, {})"
   ]
  },
  {
   "cell_type": "code",
   "execution_count": null,
   "id": "992c1fc2-ca6f-4eb1-be12-18582df30166",
   "metadata": {},
   "outputs": [],
   "source": [
    "pip install pydub"
   ]
  },
  {
   "cell_type": "code",
   "execution_count": null,
   "id": "5ffad8f5-6a30-4684-af49-2d47f2905443",
   "metadata": {},
   "outputs": [],
   "source": [
    "import cv2\n",
    "from pydub import AudioSegment\n",
    "\n",
    "# Set the video capture source (typically, 0 is the default webcam)\n",
    "video_source = 0\n",
    "\n",
    "# Create a VideoCapture object\n",
    "cap = cv2.VideoCapture(video_source)\n",
    "\n",
    "# Check if the camera opened successfully\n",
    "if not cap.isOpened():\n",
    "    print(\"Error: Could not open video source.\")\n",
    "    exit()\n",
    "\n",
    "# Define the codec and create a VideoWriter object to save the video\n",
    "fourcc = cv2.VideoWriter_fourcc(*'XVID')  # You can change the codec as needed\n",
    "output_video = cv2.VideoWriter('output_video.avi', fourcc, 20.0, (640, 480))  # Adjust the output file name and parameters\n",
    "\n",
    "# Define the audio file name\n",
    "audio_filename = 'output_audio.wav'\n",
    "\n",
    "# Record video until a key is pressed\n",
    "while True:\n",
    "    ret, frame = cap.read()\n",
    "    \n",
    "    if not ret:\n",
    "        break\n",
    "    \n",
    "    # Display the frame\n",
    "    cv2.imshow('Recording...', frame)\n",
    "    \n",
    "    # Write the frame to the output video\n",
    "    output_video.write(frame)\n",
    "    \n",
    "    # Break the loop if 'q' key is pressed\n",
    "    if cv2.waitKey(1) & 0xFF == ord('q'):\n",
    "        break\n",
    "\n",
    "# Release the video capture and writer objects\n",
    "cap.release()\n",
    "output_video.release()\n",
    "\n",
    "# Close all OpenCV windows\n",
    "cv2.destroyAllWindows()\n",
    "\n",
    "# Use pydub to extract audio from the video and save it as a .wav file\n",
    "video_audio = AudioSegment.from_file('output_video.avi', 'avi')\n",
    "video_audio.export('documents/data/' + audio_filename, format='wav')\n"
   ]
  },
  {
   "cell_type": "code",
   "execution_count": null,
   "id": "3f8b43b1-2b3b-48bf-9864-5c440866c762",
   "metadata": {},
   "outputs": [],
   "source": []
  }
 ],
 "metadata": {
  "kernelspec": {
   "display_name": "Python 3 (ipykernel)",
   "language": "python",
   "name": "python3"
  },
  "language_info": {
   "codemirror_mode": {
    "name": "ipython",
    "version": 3
   },
   "file_extension": ".py",
   "mimetype": "text/x-python",
   "name": "python",
   "nbconvert_exporter": "python",
   "pygments_lexer": "ipython3",
   "version": "3.9.6"
  }
 },
 "nbformat": 4,
 "nbformat_minor": 5
}
