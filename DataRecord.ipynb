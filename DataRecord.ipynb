{
 "cells": [
  {
   "cell_type": "code",
   "execution_count": 1,
   "id": "acbb7ae1-f15f-41f8-9a1f-782ce7b954de",
   "metadata": {},
   "outputs": [
    {
     "name": "stdout",
     "output_type": "stream",
     "text": [
      "Requirement already satisfied: praatio in /Users/dennislaw/lip_readingenv/lib/python3.9/site-packages (4.4.0)\n",
      "\u001b[33mWARNING: There was an error checking the latest version of pip.\u001b[0m\u001b[33m\n",
      "\u001b[0mNote: you may need to restart the kernel to use updated packages.\n"
     ]
    }
   ],
   "source": [
    "pip install praatio\n"
   ]
  },
  {
   "cell_type": "code",
   "execution_count": 12,
   "id": "c3dcb0d7-140b-4856-8689-7378d8352381",
   "metadata": {},
   "outputs": [],
   "source": [
    "from praatio import tgio\n",
    "import os"
   ]
  },
  {
   "cell_type": "code",
   "execution_count": 17,
   "id": "9f2b00fa-7007-43c1-953a-8535c0f49e37",
   "metadata": {},
   "outputs": [
    {
     "name": "stdout",
     "output_type": "stream",
     "text": [
      "Available tier names: ['words', 'phones']\n"
     ]
    }
   ],
   "source": [
    "def print_tier_names(textgrid_path):\n",
    "    tg = tgio.openTextgrid(textgrid_path)\n",
    "    print(\"Available tier names:\", tg.tierNameList)\n",
    "\n",
    "# Usage\n",
    "print_tier_names('/Users/dennislaw/downloads/outputAlign_new/IMG_2931.TextGrid')"
   ]
  },
  {
   "cell_type": "code",
   "execution_count": 18,
   "id": "564e1b79-002b-4ddc-a090-5fbc040d5ec6",
   "metadata": {},
   "outputs": [],
   "source": [
    "def convert_textgrid_to_align(textgrid_path, align_output_path):\n",
    "    # Load TextGrid file\n",
    "    tg = tgio.openTextgrid(textgrid_path)\n",
    "\n",
    "    # Extract intervals and phonemes\n",
    "    intervals_tier = tg.tierDict['words']\n",
    "    intervals = intervals_tier.entryList\n",
    "\n",
    "    # Convert to HTK align format\n",
    "    align_lines = []\n",
    "    for interval in intervals:\n",
    "        start_time = int(interval[0] * 10000)  # Convert to 100 ns units\n",
    "        end_time = int(interval[1] * 10000)\n",
    "        words = interval[2]\n",
    "        align_lines.append(f\"{start_time} {end_time} {words}\\n\")\n",
    "\n",
    "    # Write to HTK align file\n",
    "    with open(align_output_path, 'w') as align_file:\n",
    "        align_file.writelines(align_lines)"
   ]
  },
  {
   "cell_type": "code",
   "execution_count": 19,
   "id": "36271ca6-8e0e-4893-a016-c170b1dd385a",
   "metadata": {},
   "outputs": [],
   "source": [
    "input_directory = '/Users/dennislaw/downloads/outputAlign_new'\n",
    "output_directory = '/Users/dennislaw/downloads/lip_reading_model/data_cantonese/alignment/s1'\n",
    "\n",
    "for filename in os.listdir(input_directory):\n",
    "    if filename.endswith('.TextGrid'):\n",
    "        textgrid_path = os.path.join(input_directory, filename)\n",
    "        align_output_path = os.path.join(output_directory, f\"{os.path.splitext(filename)[0]}.align\")\n",
    "        convert_textgrid_to_align(textgrid_path, align_output_path)\n"
   ]
  },
  {
   "cell_type": "code",
   "execution_count": 6,
   "id": "1fbda9fe-588f-48b2-8a8d-de893daa3543",
   "metadata": {},
   "outputs": [
    {
     "name": "stdout",
     "output_type": "stream",
     "text": [
      "The directory '/Users/dennislaw/downloads/outputAlign' exists.\n"
     ]
    }
   ],
   "source": [
    "import os\n",
    "\n",
    "directory_path = '/Users/dennislaw/downloads/outputAlign'\n",
    "\n",
    "if os.path.exists(directory_path):\n",
    "    print(f\"The directory '{directory_path}' exists.\")\n",
    "else:\n",
    "    print(f\"The directory '{directory_path}' does not exist.\")\n"
   ]
  },
  {
   "cell_type": "code",
   "execution_count": 8,
   "id": "7d9d1c11-47db-43c8-a7e6-a509c2c6fa9a",
   "metadata": {},
   "outputs": [
    {
     "name": "stdout",
     "output_type": "stream",
     "text": [
      "The duration of the WAV file is 4.0388 seconds.\n"
     ]
    }
   ],
   "source": [
    "import wave\n",
    "\n",
    "def get_wav_duration(wav_path):\n",
    "    with wave.open(wav_path, 'rb') as wav_file:\n",
    "        # Get the number of frames and the frame rate\n",
    "        num_frames = wav_file.getnframes()\n",
    "        frame_rate = wav_file.getframerate()\n",
    "\n",
    "        # Calculate the duration in seconds\n",
    "        duration = num_frames / float(frame_rate)\n",
    "\n",
    "    return duration\n",
    "\n",
    "# Usage\n",
    "wav_path = '/Users/dennislaw/downloads/wavFile/IMG_8765.wav'\n",
    "duration = get_wav_duration(wav_path)\n",
    "print(f\"The duration of the WAV file is {duration:.4f} seconds.\")\n"
   ]
  },
  {
   "cell_type": "code",
   "execution_count": 11,
   "id": "83385c69-579d-464d-88ec-5836efd97da2",
   "metadata": {},
   "outputs": [
    {
     "name": "stdout",
     "output_type": "stream",
     "text": [
      "Frame rate: 24.38997684184017\n"
     ]
    }
   ],
   "source": [
    "import cv2\n",
    "\n",
    "video_path = \"/Users/dennislaw/downloads/IMG_8765.mp4\"\n",
    "cap = cv2.VideoCapture(video_path)\n",
    "\n",
    "# Get the frames per second (fps) of the video\n",
    "fps = cap.get(cv2.CAP_PROP_FPS)\n",
    "print(\"Frame rate:\", fps)\n",
    "\n",
    "# Release the video capture object\n",
    "cap.release()"
   ]
  },
  {
   "cell_type": "code",
   "execution_count": 7,
   "id": "c5f0e80b-f6e9-4ed1-8daf-7eb3d32abe9d",
   "metadata": {},
   "outputs": [
    {
     "name": "stdout",
     "output_type": "stream",
     "text": [
      "Frame rate: 25.0\n"
     ]
    }
   ],
   "source": [
    "import cv2\n",
    "\n",
    "video_path = \"/Users/dennislaw/downloads/test_video.mp4\"\n",
    "cap = cv2.VideoCapture(video_path)\n",
    "\n",
    "# Get the frames per second (fps) of the video\n",
    "fps = cap.get(cv2.CAP_PROP_FPS)\n",
    "print(\"Frame rate:\", fps)\n",
    "\n",
    "# Release the video capture object\n",
    "cap.release()"
   ]
  },
  {
   "cell_type": "code",
   "execution_count": null,
   "id": "175eb5a9-2abb-4668-ab9a-8190c2511025",
   "metadata": {},
   "outputs": [],
   "source": []
  }
 ],
 "metadata": {
  "kernelspec": {
   "display_name": "Python 3 (ipykernel)",
   "language": "python",
   "name": "python3"
  },
  "language_info": {
   "codemirror_mode": {
    "name": "ipython",
    "version": 3
   },
   "file_extension": ".py",
   "mimetype": "text/x-python",
   "name": "python",
   "nbconvert_exporter": "python",
   "pygments_lexer": "ipython3",
   "version": "3.9.6"
  }
 },
 "nbformat": 4,
 "nbformat_minor": 5
}
