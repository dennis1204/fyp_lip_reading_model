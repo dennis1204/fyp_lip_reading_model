{
 "cells": [
  {
   "cell_type": "markdown",
   "id": "57a1169a-17d5-4420-af66-8ff57f6ed2a9",
   "metadata": {},
   "source": [
    "0. Install and Import Dependencies"
   ]
  },
  {
   "cell_type": "code",
   "execution_count": 215,
   "id": "89ee03b8-5655-4e45-b854-65417c5597e0",
   "metadata": {},
   "outputs": [],
   "source": [
    "import os\n",
    "import cv2\n",
    "import tensorflow as tf\n",
    "import numpy as np\n",
    "from typing import List\n",
    "from matplotlib import pyplot as plt\n",
    "import imageio\n"
   ]
  },
  {
   "cell_type": "code",
   "execution_count": 216,
   "id": "5f892784-967e-4935-b146-6b0a9346870e",
   "metadata": {},
   "outputs": [
    {
     "data": {
      "text/plain": [
       "[]"
      ]
     },
     "execution_count": 216,
     "metadata": {},
     "output_type": "execute_result"
    }
   ],
   "source": [
    "tf.config.list_physical_devices('GPU')"
   ]
  },
  {
   "cell_type": "code",
   "execution_count": 217,
   "id": "30a454b7-69ec-44a8-b80c-f7d248d106a7",
   "metadata": {},
   "outputs": [],
   "source": [
    "physical_devices = tf.config.list_physical_devices('GPU')\n",
    "try:\n",
    "    tf.config.experimental.set_memory_growth(physical_devices[0], True)\n",
    "except:\n",
    "    pass"
   ]
  },
  {
   "cell_type": "markdown",
   "id": "f38b57db-c984-4998-a366-ab2adcddc39a",
   "metadata": {},
   "source": [
    "1. Build Data Loading Functions"
   ]
  },
  {
   "cell_type": "code",
   "execution_count": 218,
   "id": "cbb55c3b-4860-435b-853e-db590b3e6ff9",
   "metadata": {},
   "outputs": [],
   "source": [
    "def load_video(path:str) -> List[float]: \n",
    "\n",
    "    cap = cv2.VideoCapture(path)\n",
    "    frames = []\n",
    "    for _ in range(int(cap.get(cv2.CAP_PROP_FRAME_COUNT))): \n",
    "        ret, frame = cap.read()\n",
    "        frame = tf.image.rgb_to_grayscale(frame)\n",
    "        frames.append(frame[ 320:370,300:435,:])\n",
    "    cap.release()\n",
    "    \n",
    "    mean = tf.math.reduce_mean(frames)\n",
    "    std = tf.math.reduce_std(tf.cast(frames, tf.float32))\n",
    "    return tf.cast((frames - mean), tf.float32) / std"
   ]
  },
  {
   "cell_type": "code",
   "execution_count": 219,
   "id": "be196ef0-0a35-4161-a22c-33a0df4f63fd",
   "metadata": {},
   "outputs": [],
   "source": [
    "vocab = [x for x in \"abcdefghijklmnopqrstuvwxyz'?!123456789 \"]"
   ]
  },
  {
   "cell_type": "code",
   "execution_count": 220,
   "id": "bf9c0ab7-338c-433c-8a68-66f7ce3150e5",
   "metadata": {},
   "outputs": [
    {
     "name": "stdout",
     "output_type": "stream",
     "text": [
      "The vocabulary is: ['', 'a', 'b', 'c', 'd', 'e', 'f', 'g', 'h', 'i', 'j', 'k', 'l', 'm', 'n', 'o', 'p', 'q', 'r', 's', 't', 'u', 'v', 'w', 'x', 'y', 'z', \"'\", '?', '!', '1', '2', '3', '4', '5', '6', '7', '8', '9', ' '] (size =40)\n"
     ]
    }
   ],
   "source": [
    "char_to_num = tf.keras.layers.StringLookup(vocabulary=vocab, oov_token=\"\")\n",
    "num_to_char = tf.keras.layers.StringLookup(\n",
    "    vocabulary=char_to_num.get_vocabulary(), oov_token=\"\", invert=True\n",
    ")\n",
    "\n",
    "print(\n",
    "    f\"The vocabulary is: {char_to_num.get_vocabulary()} \"\n",
    "    f\"(size ={char_to_num.vocabulary_size()})\"\n",
    ")"
   ]
  },
  {
   "cell_type": "code",
   "execution_count": 221,
   "id": "7767f084-2a9b-45ab-a28c-567ede937359",
   "metadata": {},
   "outputs": [
    {
     "data": {
      "text/plain": [
       "['',\n",
       " 'a',\n",
       " 'b',\n",
       " 'c',\n",
       " 'd',\n",
       " 'e',\n",
       " 'f',\n",
       " 'g',\n",
       " 'h',\n",
       " 'i',\n",
       " 'j',\n",
       " 'k',\n",
       " 'l',\n",
       " 'm',\n",
       " 'n',\n",
       " 'o',\n",
       " 'p',\n",
       " 'q',\n",
       " 'r',\n",
       " 's',\n",
       " 't',\n",
       " 'u',\n",
       " 'v',\n",
       " 'w',\n",
       " 'x',\n",
       " 'y',\n",
       " 'z',\n",
       " \"'\",\n",
       " '?',\n",
       " '!',\n",
       " '1',\n",
       " '2',\n",
       " '3',\n",
       " '4',\n",
       " '5',\n",
       " '6',\n",
       " '7',\n",
       " '8',\n",
       " '9',\n",
       " ' ']"
      ]
     },
     "execution_count": 221,
     "metadata": {},
     "output_type": "execute_result"
    }
   ],
   "source": [
    "char_to_num.get_vocabulary()"
   ]
  },
  {
   "cell_type": "code",
   "execution_count": 222,
   "id": "6bd1e88c-4c03-454f-a1af-975ea6885378",
   "metadata": {},
   "outputs": [
    {
     "data": {
      "text/plain": [
       "<tf.Tensor: shape=(4,), dtype=int64, numpy=array([14,  5,  9, 30])>"
      ]
     },
     "execution_count": 222,
     "metadata": {},
     "output_type": "execute_result"
    }
   ],
   "source": [
    "char_to_num(['n','e','i','1'])"
   ]
  },
  {
   "cell_type": "code",
   "execution_count": 223,
   "id": "5a08675a-db96-4790-9c02-4ec1a84869ec",
   "metadata": {},
   "outputs": [
    {
     "data": {
      "text/plain": [
       "<tf.Tensor: shape=(4,), dtype=string, numpy=array([b'n', b'e', b'i', b'1'], dtype=object)>"
      ]
     },
     "execution_count": 223,
     "metadata": {},
     "output_type": "execute_result"
    }
   ],
   "source": [
    "num_to_char([14,  5,  9, 30])"
   ]
  },
  {
   "cell_type": "code",
   "execution_count": 224,
   "id": "29cc46e8-5826-4e9c-bce8-ebb80272bc3e",
   "metadata": {},
   "outputs": [],
   "source": [
    "# from zipfile import ZipFile\n",
    "# file_name = \"./data_cantonese.zip\"\n",
    "\n",
    "# with ZipFile(file_name, 'r') as zip:\n",
    "#   zip.extractall()\n",
    "#   print('Done')"
   ]
  },
  {
   "cell_type": "code",
   "execution_count": 225,
   "id": "719de193-3912-4e16-9820-7537bb8cbee9",
   "metadata": {},
   "outputs": [],
   "source": [
    "def load_alignments(path:str) -> List[str]: \n",
    "    with open(path, 'r') as f: \n",
    "        lines = f.readlines() \n",
    "    tokens = []\n",
    "    for line in lines:\n",
    "        line = line.split()\n",
    "        if line[2] != 'sil': \n",
    "            tokens = [*tokens,' ',line[2]]\n",
    "    return char_to_num(tf.reshape(tf.strings.unicode_split(tokens, input_encoding='UTF-8'), (-1)))[1:]"
   ]
  },
  {
   "cell_type": "code",
   "execution_count": 226,
   "id": "cab01f63-12ba-4ef2-9261-2c62f6960856",
   "metadata": {},
   "outputs": [],
   "source": [
    "def load_data(path: str): \n",
    "    path = bytes.decode(path.numpy())\n",
    "    file_name = path.split('/')[-1].split('.')[0]\n",
    "    # File name splitting for windows\n",
    "    # file_name = path.split('\\\\')[-1].split('.')[0]\n",
    "    video_path = os.path.join('data_cantonese','s1',f'{file_name}.mp4')\n",
    "    alignment_path = os.path.join('data_cantonese','alignment','s1',f'{file_name}.align')\n",
    "    frames = load_video(video_path) \n",
    "    alignments = load_alignments(alignment_path)\n",
    "    \n",
    "    return frames, alignments"
   ]
  },
  {
   "cell_type": "code",
   "execution_count": 227,
   "id": "edea7068-3483-4feb-b525-33e20849f3ca",
   "metadata": {},
   "outputs": [],
   "source": [
    "test_path = './data_cantonese/s1/IMG_8806.mp4'"
   ]
  },
  {
   "cell_type": "code",
   "execution_count": 228,
   "id": "45bf1295-84ac-4ec3-a6bf-ce4d486f4206",
   "metadata": {},
   "outputs": [
    {
     "data": {
      "text/plain": [
       "'IMG_8806'"
      ]
     },
     "execution_count": 228,
     "metadata": {},
     "output_type": "execute_result"
    }
   ],
   "source": [
    "tf.convert_to_tensor(test_path).numpy().decode('utf-8').split('/')[-1].split('.')[0]"
   ]
  },
  {
   "cell_type": "code",
   "execution_count": 229,
   "id": "d87e8753-df1d-458f-bd16-bf5cc4fdf11d",
   "metadata": {},
   "outputs": [
    {
     "data": {
      "text/plain": [
       "<tf.Tensor: shape=(), dtype=string, numpy=b'./data_cantonese/s1/IMG_8806.mp4'>"
      ]
     },
     "execution_count": 229,
     "metadata": {},
     "output_type": "execute_result"
    }
   ],
   "source": [
    "tf.convert_to_tensor(test_path)"
   ]
  },
  {
   "cell_type": "code",
   "execution_count": 230,
   "id": "d3a70f07-9b6d-4d63-9413-08f187c5e8f9",
   "metadata": {},
   "outputs": [],
   "source": [
    "frames, alignments = load_data(tf.convert_to_tensor(test_path))"
   ]
  },
  {
   "cell_type": "code",
   "execution_count": 231,
   "id": "571e2a42-f6b8-4666-9a19-29311a924721",
   "metadata": {},
   "outputs": [
    {
     "data": {
      "text/plain": [
       "(<tf.Tensor: shape=(75, 50, 135, 1), dtype=float32, numpy=\n",
       " array([[[[0.87817967],\n",
       "          [0.80499804],\n",
       "          [0.69522554],\n",
       "          ...,\n",
       "          [1.0977246 ],\n",
       "          [1.0977246 ],\n",
       "          [1.1343154 ]],\n",
       " \n",
       "         [[0.9147705 ],\n",
       "          [0.87817967],\n",
       "          [0.84158885],\n",
       "          ...,\n",
       "          [1.0977246 ],\n",
       "          [1.0977246 ],\n",
       "          [1.1709062 ]],\n",
       " \n",
       "         [[1.0611337 ],\n",
       "          [0.9513613 ],\n",
       "          [1.0611337 ],\n",
       "          ...,\n",
       "          [1.0977246 ],\n",
       "          [1.0977246 ],\n",
       "          [1.1709062 ]],\n",
       " \n",
       "         ...,\n",
       " \n",
       "         [[0.6586347 ],\n",
       "          [0.69522554],\n",
       "          [0.73181635],\n",
       "          ...,\n",
       "          [0.9147705 ],\n",
       "          [0.87817967],\n",
       "          [0.9147705 ]],\n",
       " \n",
       "         [[0.73181635],\n",
       "          [0.73181635],\n",
       "          [0.73181635],\n",
       "          ...,\n",
       "          [0.9513613 ],\n",
       "          [0.9513613 ],\n",
       "          [1.0611337 ]],\n",
       " \n",
       "         [[0.87817967],\n",
       "          [0.87817967],\n",
       "          [0.87817967],\n",
       "          ...,\n",
       "          [1.0245429 ],\n",
       "          [1.0245429 ],\n",
       "          [1.0611337 ]]],\n",
       " \n",
       " \n",
       "        [[[0.87817967],\n",
       "          [0.80499804],\n",
       "          [0.69522554],\n",
       "          ...,\n",
       "          [1.0611337 ],\n",
       "          [1.0977246 ],\n",
       "          [1.1343154 ]],\n",
       " \n",
       "         [[0.9147705 ],\n",
       "          [0.87817967],\n",
       "          [0.84158885],\n",
       "          ...,\n",
       "          [1.0977246 ],\n",
       "          [1.0977246 ],\n",
       "          [1.1709062 ]],\n",
       " \n",
       "         [[1.0245429 ],\n",
       "          [0.9513613 ],\n",
       "          [1.0611337 ],\n",
       "          ...,\n",
       "          [1.0977246 ],\n",
       "          [1.0977246 ],\n",
       "          [1.1709062 ]],\n",
       " \n",
       "         ...,\n",
       " \n",
       "         [[0.69522554],\n",
       "          [0.73181635],\n",
       "          [0.80499804],\n",
       "          ...,\n",
       "          [0.9147705 ],\n",
       "          [0.9147705 ],\n",
       "          [0.9147705 ]],\n",
       " \n",
       "         [[0.80499804],\n",
       "          [0.80499804],\n",
       "          [0.80499804],\n",
       "          ...,\n",
       "          [0.9513613 ],\n",
       "          [0.9513613 ],\n",
       "          [1.0245429 ]],\n",
       " \n",
       "         [[0.87817967],\n",
       "          [0.9147705 ],\n",
       "          [0.9147705 ],\n",
       "          ...,\n",
       "          [1.0245429 ],\n",
       "          [1.0245429 ],\n",
       "          [1.0245429 ]]],\n",
       " \n",
       " \n",
       "        [[[0.87817967],\n",
       "          [0.80499804],\n",
       "          [0.69522554],\n",
       "          ...,\n",
       "          [1.0977246 ],\n",
       "          [1.0977246 ],\n",
       "          [1.1343154 ]],\n",
       " \n",
       "         [[0.87817967],\n",
       "          [0.87817967],\n",
       "          [0.84158885],\n",
       "          ...,\n",
       "          [1.0977246 ],\n",
       "          [1.0977246 ],\n",
       "          [1.1709062 ]],\n",
       " \n",
       "         [[0.9513613 ],\n",
       "          [0.9513613 ],\n",
       "          [0.9879521 ],\n",
       "          ...,\n",
       "          [1.0977246 ],\n",
       "          [1.0977246 ],\n",
       "          [1.1709062 ]],\n",
       " \n",
       "         ...,\n",
       " \n",
       "         [[0.69522554],\n",
       "          [0.73181635],\n",
       "          [0.80499804],\n",
       "          ...,\n",
       "          [0.9513613 ],\n",
       "          [0.9513613 ],\n",
       "          [0.9513613 ]],\n",
       " \n",
       "         [[0.80499804],\n",
       "          [0.80499804],\n",
       "          [0.84158885],\n",
       "          ...,\n",
       "          [0.9513613 ],\n",
       "          [0.9513613 ],\n",
       "          [0.9513613 ]],\n",
       " \n",
       "         [[0.87817967],\n",
       "          [0.9147705 ],\n",
       "          [0.9147705 ],\n",
       "          ...,\n",
       "          [1.0245429 ],\n",
       "          [0.9513613 ],\n",
       "          [0.9513613 ]]],\n",
       " \n",
       " \n",
       "        ...,\n",
       " \n",
       " \n",
       "        [[[0.9513613 ],\n",
       "          [0.9147705 ],\n",
       "          [0.87817967],\n",
       "          ...,\n",
       "          [0.6586347 ],\n",
       "          [0.7684072 ],\n",
       "          [0.87817967]],\n",
       " \n",
       "         [[0.9147705 ],\n",
       "          [0.9147705 ],\n",
       "          [0.9147705 ],\n",
       "          ...,\n",
       "          [0.6586347 ],\n",
       "          [0.73181635],\n",
       "          [0.84158885]],\n",
       " \n",
       "         [[0.87817967],\n",
       "          [0.9147705 ],\n",
       "          [0.9147705 ],\n",
       "          ...,\n",
       "          [0.80499804],\n",
       "          [0.7684072 ],\n",
       "          [0.7684072 ]],\n",
       " \n",
       "         ...,\n",
       " \n",
       "         [[0.6586347 ],\n",
       "          [0.6220439 ],\n",
       "          [0.6220439 ],\n",
       "          ...,\n",
       "          [0.9147705 ],\n",
       "          [0.9513613 ],\n",
       "          [1.0245429 ]],\n",
       " \n",
       "         [[0.6586347 ],\n",
       "          [0.6220439 ],\n",
       "          [0.6220439 ],\n",
       "          ...,\n",
       "          [0.9513613 ],\n",
       "          [0.9513613 ],\n",
       "          [1.0245429 ]],\n",
       " \n",
       "         [[0.69522554],\n",
       "          [0.6586347 ],\n",
       "          [0.6586347 ],\n",
       "          ...,\n",
       "          [0.9513613 ],\n",
       "          [0.9513613 ],\n",
       "          [1.0245429 ]]],\n",
       " \n",
       " \n",
       "        [[[1.0245429 ],\n",
       "          [0.9513613 ],\n",
       "          [0.9147705 ],\n",
       "          ...,\n",
       "          [0.6586347 ],\n",
       "          [0.73181635],\n",
       "          [0.87817967]],\n",
       " \n",
       "         [[0.9513613 ],\n",
       "          [0.9513613 ],\n",
       "          [0.9147705 ],\n",
       "          ...,\n",
       "          [0.73181635],\n",
       "          [0.73181635],\n",
       "          [0.80499804]],\n",
       " \n",
       "         [[0.9147705 ],\n",
       "          [0.9513613 ],\n",
       "          [0.9147705 ],\n",
       "          ...,\n",
       "          [0.84158885],\n",
       "          [0.80499804],\n",
       "          [0.7684072 ]],\n",
       " \n",
       "         ...,\n",
       " \n",
       "         [[0.6586347 ],\n",
       "          [0.6586347 ],\n",
       "          [0.6220439 ],\n",
       "          ...,\n",
       "          [0.9513613 ],\n",
       "          [1.0245429 ],\n",
       "          [1.0245429 ]],\n",
       " \n",
       "         [[0.69522554],\n",
       "          [0.6586347 ],\n",
       "          [0.6586347 ],\n",
       "          ...,\n",
       "          [1.0245429 ],\n",
       "          [0.9513613 ],\n",
       "          [1.0245429 ]],\n",
       " \n",
       "         [[0.73181635],\n",
       "          [0.69522554],\n",
       "          [0.69522554],\n",
       "          ...,\n",
       "          [1.0245429 ],\n",
       "          [1.0245429 ],\n",
       "          [1.0245429 ]]],\n",
       " \n",
       " \n",
       "        [[[1.0611337 ],\n",
       "          [0.9513613 ],\n",
       "          [0.9147705 ],\n",
       "          ...,\n",
       "          [0.6586347 ],\n",
       "          [0.6586347 ],\n",
       "          [0.73181635]],\n",
       " \n",
       "         [[1.0245429 ],\n",
       "          [0.9513613 ],\n",
       "          [0.9147705 ],\n",
       "          ...,\n",
       "          [0.73181635],\n",
       "          [0.7684072 ],\n",
       "          [0.73181635]],\n",
       " \n",
       "         [[0.9513613 ],\n",
       "          [0.9513613 ],\n",
       "          [0.9147705 ],\n",
       "          ...,\n",
       "          [0.84158885],\n",
       "          [0.84158885],\n",
       "          [0.80499804]],\n",
       " \n",
       "         ...,\n",
       " \n",
       "         [[0.6586347 ],\n",
       "          [0.6586347 ],\n",
       "          [0.6220439 ],\n",
       "          ...,\n",
       "          [1.0245429 ],\n",
       "          [1.0245429 ],\n",
       "          [1.0245429 ]],\n",
       " \n",
       "         [[0.69522554],\n",
       "          [0.69522554],\n",
       "          [0.69522554],\n",
       "          ...,\n",
       "          [1.0245429 ],\n",
       "          [0.9513613 ],\n",
       "          [1.0245429 ]],\n",
       " \n",
       "         [[0.73181635],\n",
       "          [0.73181635],\n",
       "          [0.73181635],\n",
       "          ...,\n",
       "          [1.0611337 ],\n",
       "          [1.0245429 ],\n",
       "          [1.0245429 ]]]], dtype=float32)>,\n",
       " <tf.Tensor: shape=(14,), dtype=int64, numpy=array([26,  1,  1, 14, 35, 39,  8, 15, 21, 31, 39,  4, 15, 30])>)"
      ]
     },
     "execution_count": 231,
     "metadata": {},
     "output_type": "execute_result"
    }
   ],
   "source": [
    "load_data(tf.convert_to_tensor(test_path))"
   ]
  },
  {
   "cell_type": "code",
   "execution_count": 232,
   "id": "151fcf47-06e1-4adf-ad07-66efca1599e1",
   "metadata": {},
   "outputs": [
    {
     "data": {
      "text/plain": [
       "<matplotlib.image.AxesImage at 0x7fabb6248c40>"
      ]
     },
     "execution_count": 232,
     "metadata": {},
     "output_type": "execute_result"
    },
    {
     "data": {
      "image/png": "[encoded data removed]",
      "text/plain": [
       "<Figure size 640x480 with 1 Axes>"
      ]
     },
     "metadata": {},
     "output_type": "display_data"
    }
   ],
   "source": [
    "plt.imshow(frames[70])"
   ]
  },
  {
   "cell_type": "code",
   "execution_count": 233,
   "id": "d16edc31-a47a-443d-9062-cc3b0d92214a",
   "metadata": {},
   "outputs": [
    {
     "data": {
      "text/plain": [
       "<tf.Tensor: shape=(14,), dtype=int64, numpy=array([26,  1,  1, 14, 35, 39,  8, 15, 21, 31, 39,  4, 15, 30])>"
      ]
     },
     "execution_count": 233,
     "metadata": {},
     "output_type": "execute_result"
    }
   ],
   "source": [
    "alignments"
   ]
  },
  {
   "cell_type": "code",
   "execution_count": 234,
   "id": "e47bcab4-a3eb-46e4-9860-9953c2a53d99",
   "metadata": {},
   "outputs": [
    {
     "data": {
      "text/plain": [
       "<tf.Tensor: shape=(), dtype=string, numpy=b'zaan6 hou2 do1'>"
      ]
     },
     "execution_count": 234,
     "metadata": {},
     "output_type": "execute_result"
    }
   ],
   "source": [
    "tf.strings.reduce_join([bytes.decode(x) for x in num_to_char(alignments.numpy()).numpy()])"
   ]
  },
  {
   "cell_type": "code",
   "execution_count": 235,
   "id": "0670b796-d051-472a-985a-950bdc2a08ce",
   "metadata": {},
   "outputs": [],
   "source": [
    "def mappable_function(path:str) ->List[str]:\n",
    "    result = tf.py_function(load_data, [path], (tf.float32, tf.int64))\n",
    "    return result"
   ]
  },
  {
   "cell_type": "markdown",
   "id": "17398567-6f43-4b34-8dd2-65cce965a531",
   "metadata": {},
   "source": [
    "2. Create Data Pipeline"
   ]
  },
  {
   "cell_type": "code",
   "execution_count": 236,
   "id": "4e5985e2-bb88-4061-a2bc-d275ec87a38f",
   "metadata": {},
   "outputs": [],
   "source": [
    "from matplotlib import pyplot as plt"
   ]
  },
  {
   "cell_type": "code",
   "execution_count": 237,
   "id": "22a8219e-094d-4bf1-8b76-c3ccb869c2aa",
   "metadata": {},
   "outputs": [],
   "source": [
    "data = tf.data.Dataset.list_files('./data_cantonese/s1/*.mp4')\n",
    "data = data.shuffle(160, reshuffle_each_iteration=False)\n",
    "data = data.map(mappable_function)\n",
    "data = data.padded_batch(2, padded_shapes=([75,None,None,None],[20]))\n",
    "data = data.prefetch(tf.data.AUTOTUNE)\n",
    "# Added for split \n",
    "# Determine the sizes for training and testing sets\n",
    "total_samples = 80\n",
    "train_size = int(0.8 * total_samples)\n",
    "\n",
    "# Split the data\n",
    "train_data = data.take(train_size)\n",
    "test_data = data.skip(train_size)"
   ]
  },
  {
   "cell_type": "code",
   "execution_count": 238,
   "id": "f4e12ba2-b43b-472f-90e2-738aef6dffbe",
   "metadata": {},
   "outputs": [],
   "source": [
    "# for frames, target_sequence in data:\n",
    "#     print(\"Target Sequence Length:\", tf.shape(target_sequence)[1])\n"
   ]
  },
  {
   "cell_type": "code",
   "execution_count": 239,
   "id": "5edd3800-4497-4318-a4bf-8dae748f1ebc",
   "metadata": {},
   "outputs": [],
   "source": [
    "for sample in data:  # Adjust the number of samples to print\n",
    "    video_frames, label = sample\n",
    "    # print(video_frames.shape)\n",
    "    if(video_frames.shape[1] > 75):\n",
    "        # print(\"No. of frames:\", video_frames.shape[1])\n",
    "        print(\"Video Frames Shape:\", video_frames.shape)\n",
    "        print(\"Label:\", label.numpy())\n",
    "        print(\"~\" * 50)"
   ]
  },
  {
   "cell_type": "code",
   "execution_count": 240,
   "id": "7d7666b4-129d-4e6e-82e8-c526269f1f6b",
   "metadata": {},
   "outputs": [
    {
     "name": "stdout",
     "output_type": "stream",
     "text": [
      "Element Spec:\n",
      "(TensorSpec(shape=(None, 75, None, None, None), dtype=tf.float32, name=None), TensorSpec(shape=(None, 20), dtype=tf.int64, name=None))\n"
     ]
    }
   ],
   "source": [
    "# Assuming `data` is your dataset\n",
    "print(\"Element Spec:\")\n",
    "print(data.element_spec)\n",
    "\n",
    "# Access the padded_shapes attribute for each element\n",
    "for element_spec in data.element_spec:\n",
    "    if isinstance(element_spec, tuple) and len(element_spec) == 2:\n",
    "        print(\"Padded Shape:\", element_spec[1])\n"
   ]
  },
  {
   "cell_type": "code",
   "execution_count": 241,
   "id": "1ef5438d-e9f8-4dce-af48-54dfc8b72a72",
   "metadata": {},
   "outputs": [],
   "source": [
    "frames, alignments = data.as_numpy_iterator().next()"
   ]
  },
  {
   "cell_type": "code",
   "execution_count": 242,
   "id": "f16e4d5c-3dbd-46b1-8944-51ffe4e6f9c8",
   "metadata": {},
   "outputs": [
    {
     "data": {
      "text/plain": [
       "(array([[[[[0.90545714],\n",
       "           [0.90545714],\n",
       "           [0.90545714],\n",
       "           ...,\n",
       "           [0.90545714],\n",
       "           [0.9557603 ],\n",
       "           [0.9557603 ]],\n",
       " \n",
       "          [[0.90545714],\n",
       "           [0.90545714],\n",
       "           [0.90545714],\n",
       "           ...,\n",
       "           [0.9557603 ],\n",
       "           [0.9557603 ],\n",
       "           [0.9557603 ]],\n",
       " \n",
       "          [[0.90545714],\n",
       "           [0.90545714],\n",
       "           [0.90545714],\n",
       "           ...,\n",
       "           [0.90545714],\n",
       "           [0.9557603 ],\n",
       "           [0.9557603 ]],\n",
       " \n",
       "          ...,\n",
       " \n",
       "          [[0.80485076],\n",
       "           [0.7545476 ],\n",
       "           [0.70424443],\n",
       "           ...,\n",
       "           [0.10060634],\n",
       "           [0.10060634],\n",
       "           [0.10060634]],\n",
       " \n",
       "          [[0.90545714],\n",
       "           [0.855154  ],\n",
       "           [0.80485076],\n",
       "           ...,\n",
       "           [0.25151587],\n",
       "           [0.25151587],\n",
       "           [0.25151587]],\n",
       " \n",
       "          [[0.9557603 ],\n",
       "           [0.855154  ],\n",
       "           [0.80485076],\n",
       "           ...,\n",
       "           [0.40242538],\n",
       "           [0.40242538],\n",
       "           [0.40242538]]],\n",
       " \n",
       " \n",
       "         [[[0.90545714],\n",
       "           [0.90545714],\n",
       "           [0.9557603 ],\n",
       "           ...,\n",
       "           [0.9557603 ],\n",
       "           [0.9557603 ],\n",
       "           [0.9557603 ]],\n",
       " \n",
       "          [[0.90545714],\n",
       "           [0.90545714],\n",
       "           [0.9557603 ],\n",
       "           ...,\n",
       "           [0.9557603 ],\n",
       "           [0.9557603 ],\n",
       "           [0.9557603 ]],\n",
       " \n",
       "          [[0.90545714],\n",
       "           [0.90545714],\n",
       "           [0.9557603 ],\n",
       "           ...,\n",
       "           [0.9557603 ],\n",
       "           [0.9557603 ],\n",
       "           [1.0563667 ]],\n",
       " \n",
       "          ...,\n",
       " \n",
       "          [[0.90545714],\n",
       "           [0.855154  ],\n",
       "           [0.80485076],\n",
       "           ...,\n",
       "           [0.15090953],\n",
       "           [0.15090953],\n",
       "           [0.15090953]],\n",
       " \n",
       "          [[0.90545714],\n",
       "           [0.855154  ],\n",
       "           [0.80485076],\n",
       "           ...,\n",
       "           [0.30181906],\n",
       "           [0.30181906],\n",
       "           [0.30181906]],\n",
       " \n",
       "          [[1.0563667 ],\n",
       "           [0.90545714],\n",
       "           [0.855154  ],\n",
       "           ...,\n",
       "           [0.40242538],\n",
       "           [0.40242538],\n",
       "           [0.40242538]]],\n",
       " \n",
       " \n",
       "         [[[0.90545714],\n",
       "           [0.90545714],\n",
       "           [0.9557603 ],\n",
       "           ...,\n",
       "           [0.9557603 ],\n",
       "           [0.9557603 ],\n",
       "           [0.9557603 ]],\n",
       " \n",
       "          [[0.90545714],\n",
       "           [0.90545714],\n",
       "           [0.9557603 ],\n",
       "           ...,\n",
       "           [0.9557603 ],\n",
       "           [0.9557603 ],\n",
       "           [0.9557603 ]],\n",
       " \n",
       "          [[0.90545714],\n",
       "           [0.90545714],\n",
       "           [0.9557603 ],\n",
       "           ...,\n",
       "           [0.9557603 ],\n",
       "           [0.9557603 ],\n",
       "           [1.0563667 ]],\n",
       " \n",
       "          ...,\n",
       " \n",
       "          [[0.90545714],\n",
       "           [0.855154  ],\n",
       "           [0.80485076],\n",
       "           ...,\n",
       "           [0.15090953],\n",
       "           [0.15090953],\n",
       "           [0.15090953]],\n",
       " \n",
       "          [[0.90545714],\n",
       "           [0.855154  ],\n",
       "           [0.80485076],\n",
       "           ...,\n",
       "           [0.30181906],\n",
       "           [0.30181906],\n",
       "           [0.30181906]],\n",
       " \n",
       "          [[1.0563667 ],\n",
       "           [0.90545714],\n",
       "           [0.855154  ],\n",
       "           ...,\n",
       "           [0.40242538],\n",
       "           [0.40242538],\n",
       "           [0.40242538]]],\n",
       " \n",
       " \n",
       "         ...,\n",
       " \n",
       " \n",
       "         [[[1.1066698 ],\n",
       "           [1.1066698 ],\n",
       "           [1.0563667 ],\n",
       "           ...,\n",
       "           [0.80485076],\n",
       "           [0.855154  ],\n",
       "           [0.90545714]],\n",
       " \n",
       "          [[1.2072762 ],\n",
       "           [1.156973  ],\n",
       "           [1.156973  ],\n",
       "           ...,\n",
       "           [0.7545476 ],\n",
       "           [0.80485076],\n",
       "           [0.90545714]],\n",
       " \n",
       "          [[1.2575793 ],\n",
       "           [1.2072762 ],\n",
       "           [1.2072762 ],\n",
       "           ...,\n",
       "           [0.70424443],\n",
       "           [0.7545476 ],\n",
       "           [0.855154  ]],\n",
       " \n",
       "          ...,\n",
       " \n",
       "          [[1.0563667 ],\n",
       "           [1.1066698 ],\n",
       "           [1.1066698 ],\n",
       "           ...,\n",
       "           [0.35212222],\n",
       "           [0.35212222],\n",
       "           [0.25151587]],\n",
       " \n",
       "          [[1.0060635 ],\n",
       "           [1.0060635 ],\n",
       "           [0.9557603 ],\n",
       "           ...,\n",
       "           [0.45272857],\n",
       "           [0.40242538],\n",
       "           [0.40242538]],\n",
       " \n",
       "          [[1.0563667 ],\n",
       "           [0.90545714],\n",
       "           [0.855154  ],\n",
       "           ...,\n",
       "           [0.50303173],\n",
       "           [0.45272857],\n",
       "           [0.50303173]]],\n",
       " \n",
       " \n",
       "         [[[0.        ],\n",
       "           [0.        ],\n",
       "           [0.        ],\n",
       "           ...,\n",
       "           [0.        ],\n",
       "           [0.        ],\n",
       "           [0.        ]],\n",
       " \n",
       "          [[0.        ],\n",
       "           [0.        ],\n",
       "           [0.        ],\n",
       "           ...,\n",
       "           [0.        ],\n",
       "           [0.        ],\n",
       "           [0.        ]],\n",
       " \n",
       "          [[0.        ],\n",
       "           [0.        ],\n",
       "           [0.        ],\n",
       "           ...,\n",
       "           [0.        ],\n",
       "           [0.        ],\n",
       "           [0.        ]],\n",
       " \n",
       "          ...,\n",
       " \n",
       "          [[0.        ],\n",
       "           [0.        ],\n",
       "           [0.        ],\n",
       "           ...,\n",
       "           [0.        ],\n",
       "           [0.        ],\n",
       "           [0.        ]],\n",
       " \n",
       "          [[0.        ],\n",
       "           [0.        ],\n",
       "           [0.        ],\n",
       "           ...,\n",
       "           [0.        ],\n",
       "           [0.        ],\n",
       "           [0.        ]],\n",
       " \n",
       "          [[0.        ],\n",
       "           [0.        ],\n",
       "           [0.        ],\n",
       "           ...,\n",
       "           [0.        ],\n",
       "           [0.        ],\n",
       "           [0.        ]]],\n",
       " \n",
       " \n",
       "         [[[0.        ],\n",
       "           [0.        ],\n",
       "           [0.        ],\n",
       "           ...,\n",
       "           [0.        ],\n",
       "           [0.        ],\n",
       "           [0.        ]],\n",
       " \n",
       "          [[0.        ],\n",
       "           [0.        ],\n",
       "           [0.        ],\n",
       "           ...,\n",
       "           [0.        ],\n",
       "           [0.        ],\n",
       "           [0.        ]],\n",
       " \n",
       "          [[0.        ],\n",
       "           [0.        ],\n",
       "           [0.        ],\n",
       "           ...,\n",
       "           [0.        ],\n",
       "           [0.        ],\n",
       "           [0.        ]],\n",
       " \n",
       "          ...,\n",
       " \n",
       "          [[0.        ],\n",
       "           [0.        ],\n",
       "           [0.        ],\n",
       "           ...,\n",
       "           [0.        ],\n",
       "           [0.        ],\n",
       "           [0.        ]],\n",
       " \n",
       "          [[0.        ],\n",
       "           [0.        ],\n",
       "           [0.        ],\n",
       "           ...,\n",
       "           [0.        ],\n",
       "           [0.        ],\n",
       "           [0.        ]],\n",
       " \n",
       "          [[0.        ],\n",
       "           [0.        ],\n",
       "           [0.        ],\n",
       "           ...,\n",
       "           [0.        ],\n",
       "           [0.        ],\n",
       "           [0.        ]]]],\n",
       " \n",
       " \n",
       " \n",
       "        [[[[0.5808325 ],\n",
       "           [0.5808325 ],\n",
       "           [0.5808325 ],\n",
       "           ...,\n",
       "           [0.4021148 ],\n",
       "           [0.4467942 ],\n",
       "           [0.5361531 ]],\n",
       " \n",
       "          [[0.5808325 ],\n",
       "           [0.5808325 ],\n",
       "           [0.5808325 ],\n",
       "           ...,\n",
       "           [0.4467942 ],\n",
       "           [0.4467942 ],\n",
       "           [0.5361531 ]],\n",
       " \n",
       "          [[0.71487075],\n",
       "           [0.6255119 ],\n",
       "           [0.6255119 ],\n",
       "           ...,\n",
       "           [0.4021148 ],\n",
       "           [0.4467942 ],\n",
       "           [0.5361531 ]],\n",
       " \n",
       "          ...,\n",
       " \n",
       "          [[0.5808325 ],\n",
       "           [0.5808325 ],\n",
       "           [0.5808325 ],\n",
       "           ...,\n",
       "           [0.13403827],\n",
       "           [0.13403827],\n",
       "           [0.13403827]],\n",
       " \n",
       "          [[0.5808325 ],\n",
       "           [0.5808325 ],\n",
       "           [0.5808325 ],\n",
       "           ...,\n",
       "           [0.13403827],\n",
       "           [0.2233971 ],\n",
       "           [0.13403827]],\n",
       " \n",
       "          [[0.5808325 ],\n",
       "           [0.5808325 ],\n",
       "           [0.5808325 ],\n",
       "           ...,\n",
       "           [0.13403827],\n",
       "           [0.08935884],\n",
       "           [0.13403827]]],\n",
       " \n",
       " \n",
       "         [[[0.5808325 ],\n",
       "           [0.5808325 ],\n",
       "           [0.5808325 ],\n",
       "           ...,\n",
       "           [0.4467942 ],\n",
       "           [0.4467942 ],\n",
       "           [0.5361531 ]],\n",
       " \n",
       "          [[0.5808325 ],\n",
       "           [0.5808325 ],\n",
       "           [0.5808325 ],\n",
       "           ...,\n",
       "           [0.4467942 ],\n",
       "           [0.4467942 ],\n",
       "           [0.5361531 ]],\n",
       " \n",
       "          [[0.71487075],\n",
       "           [0.71487075],\n",
       "           [0.6255119 ],\n",
       "           ...,\n",
       "           [0.4021148 ],\n",
       "           [0.4467942 ],\n",
       "           [0.5361531 ]],\n",
       " \n",
       "          ...,\n",
       " \n",
       "          [[0.5808325 ],\n",
       "           [0.5808325 ],\n",
       "           [0.5808325 ],\n",
       "           ...,\n",
       "           [0.13403827],\n",
       "           [0.13403827],\n",
       "           [0.13403827]],\n",
       " \n",
       "          [[0.5808325 ],\n",
       "           [0.5808325 ],\n",
       "           [0.5808325 ],\n",
       "           ...,\n",
       "           [0.13403827],\n",
       "           [0.2233971 ],\n",
       "           [0.13403827]],\n",
       " \n",
       "          [[0.5808325 ],\n",
       "           [0.5808325 ],\n",
       "           [0.5808325 ],\n",
       "           ...,\n",
       "           [0.13403827],\n",
       "           [0.08935884],\n",
       "           [0.13403827]]],\n",
       " \n",
       " \n",
       "         [[[0.5808325 ],\n",
       "           [0.5808325 ],\n",
       "           [0.5808325 ],\n",
       "           ...,\n",
       "           [0.4467942 ],\n",
       "           [0.4467942 ],\n",
       "           [0.5361531 ]],\n",
       " \n",
       "          [[0.5808325 ],\n",
       "           [0.5808325 ],\n",
       "           [0.5808325 ],\n",
       "           ...,\n",
       "           [0.4021148 ],\n",
       "           [0.4467942 ],\n",
       "           [0.5361531 ]],\n",
       " \n",
       "          [[0.6255119 ],\n",
       "           [0.71487075],\n",
       "           [0.6255119 ],\n",
       "           ...,\n",
       "           [0.4021148 ],\n",
       "           [0.4467942 ],\n",
       "           [0.5361531 ]],\n",
       " \n",
       "          ...,\n",
       " \n",
       "          [[0.5808325 ],\n",
       "           [0.5808325 ],\n",
       "           [0.5808325 ],\n",
       "           ...,\n",
       "           [0.13403827],\n",
       "           [0.13403827],\n",
       "           [0.13403827]],\n",
       " \n",
       "          [[0.5808325 ],\n",
       "           [0.5808325 ],\n",
       "           [0.5808325 ],\n",
       "           ...,\n",
       "           [0.13403827],\n",
       "           [0.17871769],\n",
       "           [0.13403827]],\n",
       " \n",
       "          [[0.5808325 ],\n",
       "           [0.5808325 ],\n",
       "           [0.5808325 ],\n",
       "           ...,\n",
       "           [0.13403827],\n",
       "           [0.08935884],\n",
       "           [0.08935884]]],\n",
       " \n",
       " \n",
       "         ...,\n",
       " \n",
       " \n",
       "         [[[0.6255119 ],\n",
       "           [0.5808325 ],\n",
       "           [0.5808325 ],\n",
       "           ...,\n",
       "           [0.26807654],\n",
       "           [0.31275594],\n",
       "           [0.4021148 ]],\n",
       " \n",
       "          [[0.71487075],\n",
       "           [0.6255119 ],\n",
       "           [0.6255119 ],\n",
       "           ...,\n",
       "           [0.26807654],\n",
       "           [0.31275594],\n",
       "           [0.4467942 ]],\n",
       " \n",
       "          [[0.8042296 ],\n",
       "           [0.75955015],\n",
       "           [0.71487075],\n",
       "           ...,\n",
       "           [0.2233971 ],\n",
       "           [0.31275594],\n",
       "           [0.49147364]],\n",
       " \n",
       "          ...,\n",
       " \n",
       "          [[0.5808325 ],\n",
       "           [0.5361531 ],\n",
       "           [0.5808325 ],\n",
       "           ...,\n",
       "           [0.2233971 ],\n",
       "           [0.2233971 ],\n",
       "           [0.2233971 ]],\n",
       " \n",
       "          [[0.6255119 ],\n",
       "           [0.5808325 ],\n",
       "           [0.5808325 ],\n",
       "           ...,\n",
       "           [0.17871769],\n",
       "           [0.13403827],\n",
       "           [0.13403827]],\n",
       " \n",
       "          [[0.6255119 ],\n",
       "           [0.6255119 ],\n",
       "           [0.5808325 ],\n",
       "           ...,\n",
       "           [0.17871769],\n",
       "           [0.13403827],\n",
       "           [0.13403827]]],\n",
       " \n",
       " \n",
       "         [[[0.6255119 ],\n",
       "           [0.5808325 ],\n",
       "           [0.5808325 ],\n",
       "           ...,\n",
       "           [0.26807654],\n",
       "           [0.31275594],\n",
       "           [0.4021148 ]],\n",
       " \n",
       "          [[0.71487075],\n",
       "           [0.6255119 ],\n",
       "           [0.6255119 ],\n",
       "           ...,\n",
       "           [0.26807654],\n",
       "           [0.31275594],\n",
       "           [0.4467942 ]],\n",
       " \n",
       "          [[0.8042296 ],\n",
       "           [0.75955015],\n",
       "           [0.71487075],\n",
       "           ...,\n",
       "           [0.2233971 ],\n",
       "           [0.31275594],\n",
       "           [0.49147364]],\n",
       " \n",
       "          ...,\n",
       " \n",
       "          [[0.5808325 ],\n",
       "           [0.5361531 ],\n",
       "           [0.5808325 ],\n",
       "           ...,\n",
       "           [0.2233971 ],\n",
       "           [0.2233971 ],\n",
       "           [0.2233971 ]],\n",
       " \n",
       "          [[0.6255119 ],\n",
       "           [0.5808325 ],\n",
       "           [0.5808325 ],\n",
       "           ...,\n",
       "           [0.17871769],\n",
       "           [0.13403827],\n",
       "           [0.13403827]],\n",
       " \n",
       "          [[0.6255119 ],\n",
       "           [0.6255119 ],\n",
       "           [0.5808325 ],\n",
       "           ...,\n",
       "           [0.17871769],\n",
       "           [0.13403827],\n",
       "           [0.13403827]]],\n",
       " \n",
       " \n",
       "         [[[0.        ],\n",
       "           [0.        ],\n",
       "           [0.        ],\n",
       "           ...,\n",
       "           [0.        ],\n",
       "           [0.        ],\n",
       "           [0.        ]],\n",
       " \n",
       "          [[0.        ],\n",
       "           [0.        ],\n",
       "           [0.        ],\n",
       "           ...,\n",
       "           [0.        ],\n",
       "           [0.        ],\n",
       "           [0.        ]],\n",
       " \n",
       "          [[0.        ],\n",
       "           [0.        ],\n",
       "           [0.        ],\n",
       "           ...,\n",
       "           [0.        ],\n",
       "           [0.        ],\n",
       "           [0.        ]],\n",
       " \n",
       "          ...,\n",
       " \n",
       "          [[0.        ],\n",
       "           [0.        ],\n",
       "           [0.        ],\n",
       "           ...,\n",
       "           [0.        ],\n",
       "           [0.        ],\n",
       "           [0.        ]],\n",
       " \n",
       "          [[0.        ],\n",
       "           [0.        ],\n",
       "           [0.        ],\n",
       "           ...,\n",
       "           [0.        ],\n",
       "           [0.        ],\n",
       "           [0.        ]],\n",
       " \n",
       "          [[0.        ],\n",
       "           [0.        ],\n",
       "           [0.        ],\n",
       "           ...,\n",
       "           [0.        ],\n",
       "           [0.        ],\n",
       "           [0.        ]]]]], dtype=float32),\n",
       " array([[10,  1, 21, 34, 39, 13,  1, 14, 35, 39, 20,  1,  9, 33,  0,  0,\n",
       "          0,  0,  0,  0],\n",
       "        [ 2, 15, 14,  7, 30, 39,  8, 15, 21, 31, 39, 10,  1, 14, 33,  0,\n",
       "          0,  0,  0,  0]]))"
      ]
     },
     "execution_count": 242,
     "metadata": {},
     "output_type": "execute_result"
    }
   ],
   "source": [
    "data.as_numpy_iterator().next()"
   ]
  },
  {
   "cell_type": "code",
   "execution_count": 243,
   "id": "8012575e-a54b-4bf4-a697-c93a9c874a51",
   "metadata": {},
   "outputs": [
    {
     "data": {
      "text/plain": [
       "2"
      ]
     },
     "execution_count": 243,
     "metadata": {},
     "output_type": "execute_result"
    }
   ],
   "source": [
    "len(frames)"
   ]
  },
  {
   "cell_type": "code",
   "execution_count": 244,
   "id": "c6e43ce9-2f06-45ed-9db8-97f392ea9ea8",
   "metadata": {},
   "outputs": [],
   "source": [
    "sample = data.as_numpy_iterator()"
   ]
  },
  {
   "cell_type": "code",
   "execution_count": 245,
   "id": "2e42892e-9c9d-41b9-ab97-73188d263b25",
   "metadata": {},
   "outputs": [
    {
     "data": {
      "text/plain": [
       "array([[[[[ 0.6393495 ],\n",
       "          [ 0.6393495 ],\n",
       "          [ 0.6393495 ],\n",
       "          ...,\n",
       "          [ 0.4110104 ],\n",
       "          [ 0.4110104 ],\n",
       "          [ 0.5023461 ]],\n",
       "\n",
       "         [[ 0.8220208 ],\n",
       "          [ 0.8220208 ],\n",
       "          [ 0.8220208 ],\n",
       "          ...,\n",
       "          [ 0.4110104 ],\n",
       "          [ 0.4110104 ],\n",
       "          [ 0.5023461 ]],\n",
       "\n",
       "         [[ 1.05036   ],\n",
       "          [ 1.0046922 ],\n",
       "          [ 0.9590243 ],\n",
       "          ...,\n",
       "          [ 0.4110104 ],\n",
       "          [ 0.5023461 ],\n",
       "          [ 0.5480139 ]],\n",
       "\n",
       "         ...,\n",
       "\n",
       "         [[ 0.5936817 ],\n",
       "          [ 0.5480139 ],\n",
       "          [ 0.5480139 ],\n",
       "          ...,\n",
       "          [ 0.13700348],\n",
       "          [ 0.13700348],\n",
       "          [ 0.13700348]],\n",
       "\n",
       "         [[ 0.5936817 ],\n",
       "          [ 0.5480139 ],\n",
       "          [ 0.5480139 ],\n",
       "          ...,\n",
       "          [ 0.13700348],\n",
       "          [ 0.13700348],\n",
       "          [ 0.1826713 ]],\n",
       "\n",
       "         [[ 0.5936817 ],\n",
       "          [ 0.5480139 ],\n",
       "          [ 0.5480139 ],\n",
       "          ...,\n",
       "          [ 0.1826713 ],\n",
       "          [ 0.1826713 ],\n",
       "          [ 0.1826713 ]]],\n",
       "\n",
       "\n",
       "        [[[ 0.68501735],\n",
       "          [ 0.68501735],\n",
       "          [ 0.68501735],\n",
       "          ...,\n",
       "          [ 0.4110104 ],\n",
       "          [ 0.4110104 ],\n",
       "          [ 0.5023461 ]],\n",
       "\n",
       "         [[ 0.86768866],\n",
       "          [ 0.86768866],\n",
       "          [ 0.86768866],\n",
       "          ...,\n",
       "          [ 0.4110104 ],\n",
       "          [ 0.4110104 ],\n",
       "          [ 0.5023461 ]],\n",
       "\n",
       "         [[ 1.05036   ],\n",
       "          [ 1.05036   ],\n",
       "          [ 1.0046922 ],\n",
       "          ...,\n",
       "          [ 0.4110104 ],\n",
       "          [ 0.5023461 ],\n",
       "          [ 0.5480139 ]],\n",
       "\n",
       "         ...,\n",
       "\n",
       "         [[ 0.5936817 ],\n",
       "          [ 0.5480139 ],\n",
       "          [ 0.5480139 ],\n",
       "          ...,\n",
       "          [ 0.13700348],\n",
       "          [ 0.13700348],\n",
       "          [ 0.13700348]],\n",
       "\n",
       "         [[ 0.6393495 ],\n",
       "          [ 0.5936817 ],\n",
       "          [ 0.5936817 ],\n",
       "          ...,\n",
       "          [ 0.13700348],\n",
       "          [ 0.13700348],\n",
       "          [ 0.13700348]],\n",
       "\n",
       "         [[ 0.6393495 ],\n",
       "          [ 0.5936817 ],\n",
       "          [ 0.5936817 ],\n",
       "          ...,\n",
       "          [ 0.1826713 ],\n",
       "          [ 0.1826713 ],\n",
       "          [ 0.1826713 ]]],\n",
       "\n",
       "\n",
       "        [[[ 0.68501735],\n",
       "          [ 0.7306852 ],\n",
       "          [ 0.7306852 ],\n",
       "          ...,\n",
       "          [ 0.5023461 ],\n",
       "          [ 0.5480139 ],\n",
       "          [ 0.5936817 ]],\n",
       "\n",
       "         [[ 0.86768866],\n",
       "          [ 0.9133565 ],\n",
       "          [ 0.9133565 ],\n",
       "          ...,\n",
       "          [ 0.4110104 ],\n",
       "          [ 0.5480139 ],\n",
       "          [ 0.5936817 ]],\n",
       "\n",
       "         [[ 1.0046922 ],\n",
       "          [ 1.05036   ],\n",
       "          [ 1.05036   ],\n",
       "          ...,\n",
       "          [ 0.5023461 ],\n",
       "          [ 0.5936817 ],\n",
       "          [ 0.5936817 ]],\n",
       "\n",
       "         ...,\n",
       "\n",
       "         [[ 0.5936817 ],\n",
       "          [ 0.5480139 ],\n",
       "          [ 0.5480139 ],\n",
       "          ...,\n",
       "          [ 0.13700348],\n",
       "          [ 0.13700348],\n",
       "          [ 0.13700348]],\n",
       "\n",
       "         [[ 0.6393495 ],\n",
       "          [ 0.5936817 ],\n",
       "          [ 0.5936817 ],\n",
       "          ...,\n",
       "          [ 0.13700348],\n",
       "          [ 0.13700348],\n",
       "          [ 0.13700348]],\n",
       "\n",
       "         [[ 0.6393495 ],\n",
       "          [ 0.5936817 ],\n",
       "          [ 0.5936817 ],\n",
       "          ...,\n",
       "          [ 0.1826713 ],\n",
       "          [ 0.1826713 ],\n",
       "          [ 0.1826713 ]]],\n",
       "\n",
       "\n",
       "        ...,\n",
       "\n",
       "\n",
       "        [[[ 0.9590243 ],\n",
       "          [ 0.9133565 ],\n",
       "          [ 0.86768866],\n",
       "          ...,\n",
       "          [11.645295  ],\n",
       "          [ 0.        ],\n",
       "          [ 0.04566782]],\n",
       "\n",
       "         [[ 0.9590243 ],\n",
       "          [ 0.86768866],\n",
       "          [ 0.86768866],\n",
       "          ...,\n",
       "          [ 0.04566782],\n",
       "          [ 0.04566782],\n",
       "          [ 0.09133565]],\n",
       "\n",
       "         [[ 0.9590243 ],\n",
       "          [ 0.86768866],\n",
       "          [ 0.86768866],\n",
       "          ...,\n",
       "          [ 0.22833912],\n",
       "          [ 0.22833912],\n",
       "          [ 0.1826713 ]],\n",
       "\n",
       "         ...,\n",
       "\n",
       "         [[ 0.8220208 ],\n",
       "          [ 0.8220208 ],\n",
       "          [ 0.7306852 ],\n",
       "          ...,\n",
       "          [ 0.31967476],\n",
       "          [ 0.31967476],\n",
       "          [ 0.27400696]],\n",
       "\n",
       "         [[ 0.86768866],\n",
       "          [ 0.8220208 ],\n",
       "          [ 0.7306852 ],\n",
       "          ...,\n",
       "          [ 0.27400696],\n",
       "          [ 0.27400696],\n",
       "          [ 0.27400696]],\n",
       "\n",
       "         [[ 0.9590243 ],\n",
       "          [ 0.9133565 ],\n",
       "          [ 0.86768866],\n",
       "          ...,\n",
       "          [ 0.27400696],\n",
       "          [ 0.27400696],\n",
       "          [ 0.27400696]]],\n",
       "\n",
       "\n",
       "        [[[ 0.9590243 ],\n",
       "          [ 0.9133565 ],\n",
       "          [ 0.86768866],\n",
       "          ...,\n",
       "          [11.645295  ],\n",
       "          [ 0.        ],\n",
       "          [ 0.04566782]],\n",
       "\n",
       "         [[ 0.9590243 ],\n",
       "          [ 0.86768866],\n",
       "          [ 0.86768866],\n",
       "          ...,\n",
       "          [ 0.04566782],\n",
       "          [ 0.04566782],\n",
       "          [ 0.09133565]],\n",
       "\n",
       "         [[ 0.9590243 ],\n",
       "          [ 0.86768866],\n",
       "          [ 0.86768866],\n",
       "          ...,\n",
       "          [ 0.22833912],\n",
       "          [ 0.22833912],\n",
       "          [ 0.1826713 ]],\n",
       "\n",
       "         ...,\n",
       "\n",
       "         [[ 0.8220208 ],\n",
       "          [ 0.8220208 ],\n",
       "          [ 0.7306852 ],\n",
       "          ...,\n",
       "          [ 0.27400696],\n",
       "          [ 0.27400696],\n",
       "          [ 0.27400696]],\n",
       "\n",
       "         [[ 0.86768866],\n",
       "          [ 0.8220208 ],\n",
       "          [ 0.7306852 ],\n",
       "          ...,\n",
       "          [ 0.27400696],\n",
       "          [ 0.27400696],\n",
       "          [ 0.27400696]],\n",
       "\n",
       "         [[ 0.9590243 ],\n",
       "          [ 0.9133565 ],\n",
       "          [ 0.86768866],\n",
       "          ...,\n",
       "          [ 0.27400696],\n",
       "          [ 0.27400696],\n",
       "          [ 0.27400696]]],\n",
       "\n",
       "\n",
       "        [[[ 0.        ],\n",
       "          [ 0.        ],\n",
       "          [ 0.        ],\n",
       "          ...,\n",
       "          [ 0.        ],\n",
       "          [ 0.        ],\n",
       "          [ 0.        ]],\n",
       "\n",
       "         [[ 0.        ],\n",
       "          [ 0.        ],\n",
       "          [ 0.        ],\n",
       "          ...,\n",
       "          [ 0.        ],\n",
       "          [ 0.        ],\n",
       "          [ 0.        ]],\n",
       "\n",
       "         [[ 0.        ],\n",
       "          [ 0.        ],\n",
       "          [ 0.        ],\n",
       "          ...,\n",
       "          [ 0.        ],\n",
       "          [ 0.        ],\n",
       "          [ 0.        ]],\n",
       "\n",
       "         ...,\n",
       "\n",
       "         [[ 0.        ],\n",
       "          [ 0.        ],\n",
       "          [ 0.        ],\n",
       "          ...,\n",
       "          [ 0.        ],\n",
       "          [ 0.        ],\n",
       "          [ 0.        ]],\n",
       "\n",
       "         [[ 0.        ],\n",
       "          [ 0.        ],\n",
       "          [ 0.        ],\n",
       "          ...,\n",
       "          [ 0.        ],\n",
       "          [ 0.        ],\n",
       "          [ 0.        ]],\n",
       "\n",
       "         [[ 0.        ],\n",
       "          [ 0.        ],\n",
       "          [ 0.        ],\n",
       "          ...,\n",
       "          [ 0.        ],\n",
       "          [ 0.        ],\n",
       "          [ 0.        ]]]],\n",
       "\n",
       "\n",
       "\n",
       "       [[[[ 0.9761036 ],\n",
       "          [ 0.90101874],\n",
       "          [ 0.8259338 ],\n",
       "          ...,\n",
       "          [ 1.0511885 ],\n",
       "          [ 1.0887309 ],\n",
       "          [ 1.1262734 ]],\n",
       "\n",
       "         [[ 0.9761036 ],\n",
       "          [ 0.90101874],\n",
       "          [ 0.8259338 ],\n",
       "          ...,\n",
       "          [ 1.0887309 ],\n",
       "          [ 1.0887309 ],\n",
       "          [ 1.1262734 ]],\n",
       "\n",
       "         [[ 0.90101874],\n",
       "          [ 0.8634763 ],\n",
       "          [ 0.8259338 ],\n",
       "          ...,\n",
       "          [ 1.0511885 ],\n",
       "          [ 1.0511885 ],\n",
       "          [ 1.0511885 ]],\n",
       "\n",
       "         ...,\n",
       "\n",
       "         [[ 0.8259338 ],\n",
       "          [ 0.78839135],\n",
       "          [ 0.675764  ],\n",
       "          ...,\n",
       "          [ 0.8634763 ],\n",
       "          [ 0.8634763 ],\n",
       "          [ 0.90101874]],\n",
       "\n",
       "         [[ 0.8259338 ],\n",
       "          [ 0.8259338 ],\n",
       "          [ 0.78839135],\n",
       "          ...,\n",
       "          [ 0.90101874],\n",
       "          [ 0.90101874],\n",
       "          [ 0.90101874]],\n",
       "\n",
       "         [[ 0.8259338 ],\n",
       "          [ 0.8259338 ],\n",
       "          [ 0.8259338 ],\n",
       "          ...,\n",
       "          [ 0.93856114],\n",
       "          [ 0.93856114],\n",
       "          [ 0.93856114]]],\n",
       "\n",
       "\n",
       "        [[[ 0.9761036 ],\n",
       "          [ 0.9761036 ],\n",
       "          [ 0.8259338 ],\n",
       "          ...,\n",
       "          [ 1.0887309 ],\n",
       "          [ 1.1262734 ],\n",
       "          [ 1.1638159 ]],\n",
       "\n",
       "         [[ 0.9761036 ],\n",
       "          [ 0.90101874],\n",
       "          [ 0.8259338 ],\n",
       "          ...,\n",
       "          [ 1.0887309 ],\n",
       "          [ 1.0887309 ],\n",
       "          [ 1.1262734 ]],\n",
       "\n",
       "         [[ 0.90101874],\n",
       "          [ 0.8634763 ],\n",
       "          [ 0.8259338 ],\n",
       "          ...,\n",
       "          [ 1.0511885 ],\n",
       "          [ 1.0511885 ],\n",
       "          [ 1.0511885 ]],\n",
       "\n",
       "         ...,\n",
       "\n",
       "         [[ 0.8259338 ],\n",
       "          [ 0.78839135],\n",
       "          [ 0.75084895],\n",
       "          ...,\n",
       "          [ 0.90101874],\n",
       "          [ 0.90101874],\n",
       "          [ 0.93856114]],\n",
       "\n",
       "         [[ 0.8259338 ],\n",
       "          [ 0.8259338 ],\n",
       "          [ 0.75084895],\n",
       "          ...,\n",
       "          [ 0.93856114],\n",
       "          [ 0.93856114],\n",
       "          [ 0.93856114]],\n",
       "\n",
       "         [[ 0.8634763 ],\n",
       "          [ 0.8634763 ],\n",
       "          [ 0.8259338 ],\n",
       "          ...,\n",
       "          [ 0.93856114],\n",
       "          [ 0.93856114],\n",
       "          [ 0.93856114]]],\n",
       "\n",
       "\n",
       "        [[[ 0.9761036 ],\n",
       "          [ 0.9761036 ],\n",
       "          [ 0.8259338 ],\n",
       "          ...,\n",
       "          [ 1.0887309 ],\n",
       "          [ 1.1262734 ],\n",
       "          [ 1.1638159 ]],\n",
       "\n",
       "         [[ 0.9761036 ],\n",
       "          [ 0.90101874],\n",
       "          [ 0.8259338 ],\n",
       "          ...,\n",
       "          [ 1.0887309 ],\n",
       "          [ 1.0887309 ],\n",
       "          [ 1.0887309 ]],\n",
       "\n",
       "         [[ 0.90101874],\n",
       "          [ 0.8634763 ],\n",
       "          [ 0.8259338 ],\n",
       "          ...,\n",
       "          [ 1.0511885 ],\n",
       "          [ 1.0511885 ],\n",
       "          [ 1.0511885 ]],\n",
       "\n",
       "         ...,\n",
       "\n",
       "         [[ 0.8259338 ],\n",
       "          [ 0.78839135],\n",
       "          [ 0.75084895],\n",
       "          ...,\n",
       "          [ 0.8634763 ],\n",
       "          [ 0.90101874],\n",
       "          [ 0.93856114]],\n",
       "\n",
       "         [[ 0.8259338 ],\n",
       "          [ 0.8259338 ],\n",
       "          [ 0.75084895],\n",
       "          ...,\n",
       "          [ 0.93856114],\n",
       "          [ 0.93856114],\n",
       "          [ 0.93856114]],\n",
       "\n",
       "         [[ 0.8634763 ],\n",
       "          [ 0.8634763 ],\n",
       "          [ 0.8259338 ],\n",
       "          ...,\n",
       "          [ 0.93856114],\n",
       "          [ 0.90101874],\n",
       "          [ 0.93856114]]],\n",
       "\n",
       "\n",
       "        ...,\n",
       "\n",
       "\n",
       "        [[[ 0.78839135],\n",
       "          [ 0.75084895],\n",
       "          [ 0.7133065 ],\n",
       "          ...,\n",
       "          [ 0.8634763 ],\n",
       "          [ 0.90101874],\n",
       "          [ 1.0887309 ]],\n",
       "\n",
       "         [[ 0.8259338 ],\n",
       "          [ 0.78839135],\n",
       "          [ 0.75084895],\n",
       "          ...,\n",
       "          [ 0.9761036 ],\n",
       "          [ 0.9761036 ],\n",
       "          [ 1.013646  ]],\n",
       "\n",
       "         [[ 0.8634763 ],\n",
       "          [ 0.8259338 ],\n",
       "          [ 0.78839135],\n",
       "          ...,\n",
       "          [ 0.9761036 ],\n",
       "          [ 0.9761036 ],\n",
       "          [ 0.9761036 ]],\n",
       "\n",
       "         ...,\n",
       "\n",
       "         [[ 0.5631367 ],\n",
       "          [ 0.5631367 ],\n",
       "          [ 0.60067916],\n",
       "          ...,\n",
       "          [ 0.8634763 ],\n",
       "          [ 0.8634763 ],\n",
       "          [ 0.8259338 ]],\n",
       "\n",
       "         [[ 0.5631367 ],\n",
       "          [ 0.5631367 ],\n",
       "          [ 0.52559423],\n",
       "          ...,\n",
       "          [ 0.8634763 ],\n",
       "          [ 0.8634763 ],\n",
       "          [ 0.8634763 ]],\n",
       "\n",
       "         [[ 0.63822156],\n",
       "          [ 0.60067916],\n",
       "          [ 0.63822156],\n",
       "          ...,\n",
       "          [ 0.90101874],\n",
       "          [ 0.8634763 ],\n",
       "          [ 0.8634763 ]]],\n",
       "\n",
       "\n",
       "        [[[ 0.8634763 ],\n",
       "          [ 0.8259338 ],\n",
       "          [ 0.75084895],\n",
       "          ...,\n",
       "          [ 0.8634763 ],\n",
       "          [ 0.90101874],\n",
       "          [ 1.0887309 ]],\n",
       "\n",
       "         [[ 0.90101874],\n",
       "          [ 0.8259338 ],\n",
       "          [ 0.78839135],\n",
       "          ...,\n",
       "          [ 0.9761036 ],\n",
       "          [ 0.9761036 ],\n",
       "          [ 1.013646  ]],\n",
       "\n",
       "         [[ 0.8634763 ],\n",
       "          [ 0.8259338 ],\n",
       "          [ 0.8634763 ],\n",
       "          ...,\n",
       "          [ 0.9761036 ],\n",
       "          [ 0.9761036 ],\n",
       "          [ 0.9761036 ]],\n",
       "\n",
       "         ...,\n",
       "\n",
       "         [[ 0.60067916],\n",
       "          [ 0.5631367 ],\n",
       "          [ 0.60067916],\n",
       "          ...,\n",
       "          [ 0.8634763 ],\n",
       "          [ 0.8634763 ],\n",
       "          [ 0.8259338 ]],\n",
       "\n",
       "         [[ 0.63822156],\n",
       "          [ 0.675764  ],\n",
       "          [ 0.60067916],\n",
       "          ...,\n",
       "          [ 0.8634763 ],\n",
       "          [ 0.8634763 ],\n",
       "          [ 0.8634763 ]],\n",
       "\n",
       "         [[ 0.75084895],\n",
       "          [ 0.78839135],\n",
       "          [ 0.675764  ],\n",
       "          ...,\n",
       "          [ 0.90101874],\n",
       "          [ 0.8634763 ],\n",
       "          [ 0.8634763 ]]],\n",
       "\n",
       "\n",
       "        [[[ 0.        ],\n",
       "          [ 0.        ],\n",
       "          [ 0.        ],\n",
       "          ...,\n",
       "          [ 0.        ],\n",
       "          [ 0.        ],\n",
       "          [ 0.        ]],\n",
       "\n",
       "         [[ 0.        ],\n",
       "          [ 0.        ],\n",
       "          [ 0.        ],\n",
       "          ...,\n",
       "          [ 0.        ],\n",
       "          [ 0.        ],\n",
       "          [ 0.        ]],\n",
       "\n",
       "         [[ 0.        ],\n",
       "          [ 0.        ],\n",
       "          [ 0.        ],\n",
       "          ...,\n",
       "          [ 0.        ],\n",
       "          [ 0.        ],\n",
       "          [ 0.        ]],\n",
       "\n",
       "         ...,\n",
       "\n",
       "         [[ 0.        ],\n",
       "          [ 0.        ],\n",
       "          [ 0.        ],\n",
       "          ...,\n",
       "          [ 0.        ],\n",
       "          [ 0.        ],\n",
       "          [ 0.        ]],\n",
       "\n",
       "         [[ 0.        ],\n",
       "          [ 0.        ],\n",
       "          [ 0.        ],\n",
       "          ...,\n",
       "          [ 0.        ],\n",
       "          [ 0.        ],\n",
       "          [ 0.        ]],\n",
       "\n",
       "         [[ 0.        ],\n",
       "          [ 0.        ],\n",
       "          [ 0.        ],\n",
       "          ...,\n",
       "          [ 0.        ],\n",
       "          [ 0.        ],\n",
       "          [ 0.        ]]]]], dtype=float32)"
      ]
     },
     "execution_count": 245,
     "metadata": {},
     "output_type": "execute_result"
    }
   ],
   "source": [
    "val = sample.next(); val[0]"
   ]
  },
  {
   "cell_type": "code",
   "execution_count": 246,
   "id": "0c68cf96-34f4-4410-8cef-0818712a6148",
   "metadata": {},
   "outputs": [
    {
     "data": {
      "text/plain": [
       "2"
      ]
     },
     "execution_count": 246,
     "metadata": {},
     "output_type": "execute_result"
    }
   ],
   "source": [
    "len(val[0])"
   ]
  },
  {
   "cell_type": "code",
   "execution_count": 247,
   "id": "0ad2e6c8-fbcc-4cbe-b032-e7adf8ec4290",
   "metadata": {},
   "outputs": [
    {
     "data": {
      "text/plain": [
       "<matplotlib.image.AxesImage at 0x7fabb4c06c50>"
      ]
     },
     "execution_count": 247,
     "metadata": {},
     "output_type": "execute_result"
    },
    {
     "data": {
      "image/png": "[encoded data removed]",
      "text/plain": [
       "<Figure size 640x480 with 1 Axes>"
      ]
     },
     "metadata": {},
     "output_type": "display_data"
    }
   ],
   "source": [
    "# 0:videos, 0: 1st video out of the batch,  0: return the first frame in the video \n",
    "plt.imshow(val[0][0][20])"
   ]
  },
  {
   "cell_type": "code",
   "execution_count": 248,
   "id": "5e6fb343-63bb-48ef-ab4c-067c95cf6993",
   "metadata": {},
   "outputs": [
    {
     "data": {
      "text/plain": [
       "<tf.Tensor: shape=(), dtype=string, numpy=b'zan1 waa6 laa1'>"
      ]
     },
     "execution_count": 248,
     "metadata": {},
     "output_type": "execute_result"
    }
   ],
   "source": [
    "tf.strings.reduce_join([num_to_char(word) for word in val[1][0]])"
   ]
  },
  {
   "cell_type": "markdown",
   "id": "f11daede-91ea-41f5-8f92-ec6ad644ec61",
   "metadata": {},
   "source": [
    "3.Design the Deep Neural Network"
   ]
  },
  {
   "cell_type": "code",
   "execution_count": 249,
   "id": "5c028deb-05f7-414c-9d90-c7c8afcfc7fb",
   "metadata": {},
   "outputs": [],
   "source": [
    "from tensorflow.keras.models import Sequential \n",
    "from tensorflow.keras.layers import Conv3D, LSTM, Dense, Dropout, Bidirectional, MaxPool3D, Activation, Reshape, SpatialDropout3D, BatchNormalization, TimeDistributed, Flatten, Masking\n",
    "from tensorflow.keras.optimizers import Adam\n",
    "from tensorflow.keras.optimizers import legacy\n",
    "from tensorflow.keras.callbacks import ModelCheckpoint, LearningRateScheduler"
   ]
  },
  {
   "cell_type": "code",
   "execution_count": 250,
   "id": "78ada281-69e9-4547-8c97-b88d1d174b6c",
   "metadata": {},
   "outputs": [
    {
     "data": {
      "text/plain": [
       "(75, 50, 135, 1)"
      ]
     },
     "execution_count": 250,
     "metadata": {},
     "output_type": "execute_result"
    }
   ],
   "source": [
    "data.as_numpy_iterator().next()[0][0].shape"
   ]
  },
  {
   "cell_type": "code",
   "execution_count": 251,
   "id": "bb007c79-7c0e-45f7-b309-293cb8f15f71",
   "metadata": {},
   "outputs": [],
   "source": [
    "def create_lip_reading_model(input_shape, num_classes):\n",
    "    model = Sequential()\n",
    "    \n",
    "    # model.add(Masking(mask_value=0.0, input_shape=input_shape))\n",
    "    model.add(Conv3D(128, 3, input_shape=input_shape, padding='same'))\n",
    "    model.add(Activation('relu'))\n",
    "    model.add(MaxPool3D((1, 2, 2)))\n",
    "\n",
    "    model.add(Conv3D(256, 3, padding='same'))\n",
    "    model.add(Activation('relu'))\n",
    "    model.add(MaxPool3D((1, 2, 2)))\n",
    "\n",
    "    model.add(Conv3D(75, 3, padding='same'))\n",
    "    model.add(Activation('relu'))\n",
    "    model.add(MaxPool3D((1, 2, 2)))\n",
    "\n",
    "    model.add(TimeDistributed(Flatten()))\n",
    "\n",
    "    model.add(Bidirectional(LSTM(128, kernel_initializer='Orthogonal', return_sequences=True)))\n",
    "    model.add(Dropout(0.5))\n",
    "\n",
    "    model.add(Bidirectional(LSTM(128, kernel_initializer='Orthogonal', return_sequences=True)))\n",
    "    model.add(Dropout(0.5))\n",
    "\n",
    "    model.add(Dense(num_classes, kernel_initializer='he_normal', activation='softmax'))\n",
    "\n",
    "    return model\n"
   ]
  },
  {
   "cell_type": "code",
   "execution_count": 252,
   "id": "20cb1bcd-0942-483b-867a-bfb9f24ccdb3",
   "metadata": {},
   "outputs": [],
   "source": [
    "input_shape = (75,50,135,1)  # Modify based on actual input shape\n",
    "num_classes =  char_to_num.vocabulary_size()+1 # Replace with the actual number of classes"
   ]
  },
  {
   "cell_type": "code",
   "execution_count": 253,
   "id": "70aa2e96-2fc9-420d-9863-f3c15c7eeb75",
   "metadata": {},
   "outputs": [],
   "source": [
    "def scheduler(epoch, lr):\n",
    "    if epoch < 30:\n",
    "        return lr\n",
    "    else:\n",
    "        return lr * tf.math.exp(-0.1)"
   ]
  },
  {
   "cell_type": "code",
   "execution_count": 254,
   "id": "98a3955e-8f4e-4a88-a527-5f538e087da1",
   "metadata": {},
   "outputs": [],
   "source": [
    "def CTCLoss(y_true, y_pred):\n",
    "    batch_len = tf.cast(tf.shape(y_true)[0], dtype=\"int64\")\n",
    "    input_length = tf.cast(tf.shape(y_pred)[1], dtype=\"int64\")\n",
    "    label_length = tf.cast(tf.shape(y_true)[1], dtype=\"int64\")\n",
    "    input_length = input_length * tf.ones(shape=(batch_len, 1), dtype=\"int64\")\n",
    "    label_length = label_length * tf.ones(shape=(batch_len, 1), dtype=\"int64\")\n",
    "\n",
    "    loss = tf.keras.backend.ctc_batch_cost(y_true, y_pred, input_length, label_length)\n",
    "    return loss"
   ]
  },
  {
   "cell_type": "code",
   "execution_count": 255,
   "id": "9fdccf3b-9646-4f41-b82c-79b4e6fc8b48",
   "metadata": {},
   "outputs": [],
   "source": [
    "class ProduceExample(tf.keras.callbacks.Callback):\n",
    "    def __init__(self, dataset) -> None:\n",
    "        self.dataset = dataset\n",
    "        self.dataset_iterator = None\n",
    "    \n",
    "    def on_epoch_begin(self, epoch, logs=None) -> None:\n",
    "        # Create a new iterator at the beginning of each epoch\n",
    "        self.dataset_iterator = self.dataset.as_numpy_iterator()\n",
    "    \n",
    "    def on_epoch_end(self, epoch, logs=None) -> None:\n",
    "        # Get the next batch of data from the iterator\n",
    "        data = self.dataset_iterator.next()\n",
    "\n",
    "        # Make predictions using the trained model\n",
    "        yhat = self.model.predict(data[0])\n",
    "\n",
    "        # Decode the predicted sequences using CTC decoding\n",
    "        decoded = tf.keras.backend.ctc_decode(yhat, [75, 75], greedy=False)[0][0].numpy()\n",
    "\n",
    "        for x in range(len(yhat)):\n",
    "            print('Original:', tf.strings.reduce_join(num_to_char(data[1][x])).numpy().decode('utf-8'))\n",
    "            print('Prediction:', tf.strings.reduce_join(num_to_char(decoded[x])).numpy().decode('utf-8'))\n",
    "            print('~' * 100)"
   ]
  },
  {
   "cell_type": "code",
   "execution_count": 256,
   "id": "0346b10e-6990-45ef-af5a-068a3f1bed64",
   "metadata": {},
   "outputs": [
    {
     "name": "stdout",
     "output_type": "stream",
     "text": [
      "No checkpoint found. Creating a new model.\n"
     ]
    }
   ],
   "source": [
    "from tensorflow.keras.models import load_model\n",
    "custom_objects = {'CTCLoss': CTCLoss}\n",
    "checkpoint_directory = './saved_models'\n",
    "# Ensure the checkpoint directory exists; if not, create it\n",
    "os.makedirs(checkpoint_directory, exist_ok=True)\n",
    "# Specify the checkpoint file path\n",
    "checkpoint_path = os.path.join(checkpoint_directory, 'checkpoint')\n",
    "# Check if there is a checkpoint file\n",
    "if os.path.exists(checkpoint_path):\n",
    "    print(\"Checkpoint exists in models.\")\n",
    "    # model = create_lip_reading_model(input_shape, num_classes)\n",
    "    model = load_model(checkpoint_path,  custom_objects=custom_objects)\n",
    "     # Retrieve the last epoch from the training history\n",
    "    last_epoch = max(model.history.epoch) + 1 if hasattr(model.history, 'epoch') else 1\n",
    "    # model.load_weights(checkpoint_path)\n",
    "    model.compile(optimizer=tf.keras.optimizers.Adam(learning_rate=0.0001),\n",
    "                    loss=CTCLoss)\n",
    "    checkpoint_callback = ModelCheckpoint(\n",
    "    os.path.join('saved_models','checkpoint'),\n",
    "    monitor='loss', \n",
    "    save_weights_only=False, \n",
    "    save_freq='epoch', \n",
    "    save_format='h5') \n",
    "    print(f\"Model loaded from checkpoint. Continue training from epoch {last_epoch}.\")\n",
    "    schedule_callback = LearningRateScheduler(scheduler)\n",
    "    example_callback = ProduceExample(test_data)\n",
    "    model.fit(train_data, validation_data=test_data, epochs=80, \n",
    "              callbacks=[checkpoint_callback, schedule_callback, example_callback],\n",
    "              initial_epoch=last_epoch)\n",
    "else:\n",
    "    # If there is no checkpoint, create a new model\n",
    "    # input_shape = (100, 100, 720, 1)  # Modify based on your actual input shape\n",
    "    # num_classes =  char_to_num.vocabulary_size()+1 # Replace with the actual number of classes\n",
    "    model = create_lip_reading_model(input_shape, num_classes)\n",
    "    print(\"No checkpoint found. Creating a new model.\")\n"
   ]
  },
  {
   "cell_type": "code",
   "execution_count": 257,
   "id": "dbf7a7bd-193f-4520-90d8-fea06f7f702b",
   "metadata": {},
   "outputs": [
    {
     "name": "stdout",
     "output_type": "stream",
     "text": [
      "Model: \"sequential_1\"\n",
      "_________________________________________________________________\n",
      " Layer (type)                Output Shape              Param #   \n",
      "=================================================================\n",
      " conv3d_3 (Conv3D)           (None, 75, 50, 135, 128   3584      \n",
      "                             )                                   \n",
      "                                                                 \n",
      " activation_3 (Activation)   (None, 75, 50, 135, 128   0         \n",
      "                             )                                   \n",
      "                                                                 \n",
      " max_pooling3d_3 (MaxPoolin  (None, 75, 25, 67, 128)   0         \n",
      " g3D)                                                            \n",
      "                                                                 \n",
      " conv3d_4 (Conv3D)           (None, 75, 25, 67, 256)   884992    \n",
      "                                                                 \n",
      " activation_4 (Activation)   (None, 75, 25, 67, 256)   0         \n",
      "                                                                 \n",
      " max_pooling3d_4 (MaxPoolin  (None, 75, 12, 33, 256)   0         \n",
      " g3D)                                                            \n",
      "                                                                 \n",
      " conv3d_5 (Conv3D)           (None, 75, 12, 33, 75)    518475    \n",
      "                                                                 \n",
      " activation_5 (Activation)   (None, 75, 12, 33, 75)    0         \n",
      "                                                                 \n",
      " max_pooling3d_5 (MaxPoolin  (None, 75, 6, 16, 75)     0         \n",
      " g3D)                                                            \n",
      "                                                                 \n",
      " time_distributed_1 (TimeDi  (None, 75, 7200)          0         \n",
      " stributed)                                                      \n",
      "                                                                 \n",
      " bidirectional_2 (Bidirecti  (None, 75, 256)           7504896   \n",
      " onal)                                                           \n",
      "                                                                 \n",
      " dropout_2 (Dropout)         (None, 75, 256)           0         \n",
      "                                                                 \n",
      " bidirectional_3 (Bidirecti  (None, 75, 256)           394240    \n",
      " onal)                                                           \n",
      "                                                                 \n",
      " dropout_3 (Dropout)         (None, 75, 256)           0         \n",
      "                                                                 \n",
      " dense_1 (Dense)             (None, 75, 41)            10537     \n",
      "                                                                 \n",
      "=================================================================\n",
      "Total params: 9316724 (35.54 MB)\n",
      "Trainable params: 9316724 (35.54 MB)\n",
      "Non-trainable params: 0 (0.00 Byte)\n",
      "_________________________________________________________________\n"
     ]
    }
   ],
   "source": [
    "model.summary()"
   ]
  },
  {
   "cell_type": "code",
   "execution_count": 258,
   "id": "6b4938fe-484b-4d90-b113-b83c505ed64b",
   "metadata": {},
   "outputs": [
    {
     "name": "stdout",
     "output_type": "stream",
     "text": [
      "1/1 [==============================] - 2s 2s/step\n"
     ]
    }
   ],
   "source": [
    "yhat = model.predict(val[0])"
   ]
  },
  {
   "cell_type": "code",
   "execution_count": 259,
   "id": "5c253c4b-49e8-4dff-918c-f48215413bed",
   "metadata": {},
   "outputs": [
    {
     "data": {
      "text/plain": [
       "<tf.Tensor: shape=(), dtype=string, numpy=b'bbbbbbbbbbbbbbbbbbbbbbbbbbbbbbbbbbbbbbbbbbbbbbbbbbbbbbbbbbbbbbbbbbbbb999999'>"
      ]
     },
     "execution_count": 259,
     "metadata": {},
     "output_type": "execute_result"
    }
   ],
   "source": [
    "tf.strings.reduce_join([num_to_char(x) for x in tf.argmax(yhat[0],axis=1)])"
   ]
  },
  {
   "cell_type": "code",
   "execution_count": 260,
   "id": "caae3f40-2841-4ac8-9be4-8cca5db0abef",
   "metadata": {},
   "outputs": [
    {
     "data": {
      "text/plain": [
       "<tf.Tensor: shape=(), dtype=string, numpy=b'bbbbbbbbbbbbbbbbbbbbbbbbbbbbbbbbbbbbbbbbbbbbbbbbbbbbbbbbbbbbbbbbbbbbb999999'>"
      ]
     },
     "execution_count": 260,
     "metadata": {},
     "output_type": "execute_result"
    }
   ],
   "source": [
    "tf.strings.reduce_join([num_to_char(tf.argmax(x)) for x in yhat[0]])"
   ]
  },
  {
   "cell_type": "code",
   "execution_count": 261,
   "id": "ead14265-6a80-4fff-a66d-8f44e966a215",
   "metadata": {},
   "outputs": [
    {
     "data": {
      "text/plain": [
       "(None, 75, 50, 135, 1)"
      ]
     },
     "execution_count": 261,
     "metadata": {},
     "output_type": "execute_result"
    }
   ],
   "source": [
    "model.input_shape"
   ]
  },
  {
   "cell_type": "code",
   "execution_count": 262,
   "id": "7bd828c6-3c7a-4885-8755-9198fd735dd9",
   "metadata": {},
   "outputs": [
    {
     "data": {
      "text/plain": [
       "(None, 75, 41)"
      ]
     },
     "execution_count": 262,
     "metadata": {},
     "output_type": "execute_result"
    }
   ],
   "source": [
    "model.output_shape"
   ]
  },
  {
   "cell_type": "code",
   "execution_count": 263,
   "id": "62c365b8-fac4-4e6e-a364-ee681e65da04",
   "metadata": {},
   "outputs": [],
   "source": [
    "# from tensorflow.keras.utils import plot_model\n",
    "\n",
    "# # Assuming 'model' is your neural network\n",
    "# plot_model(model, to_file='model_network.png', show_shapes=True, show_layer_names=True)\n"
   ]
  },
  {
   "cell_type": "markdown",
   "id": "42a586a0-3433-4c5c-8825-63328360cef8",
   "metadata": {},
   "source": [
    "4. Setup Training Options and Train"
   ]
  },
  {
   "cell_type": "code",
   "execution_count": 264,
   "id": "ee6bfd61-b69a-4b78-9e01-b5a02be7cb26",
   "metadata": {},
   "outputs": [],
   "source": [
    "model.compile(optimizer = tf.keras.optimizers.Adam(learning_rate=0.0001)\n",
    ", loss=CTCLoss)"
   ]
  },
  {
   "cell_type": "code",
   "execution_count": 265,
   "id": "9b812ee5-b040-4270-a021-18399888d2af",
   "metadata": {},
   "outputs": [],
   "source": [
    "# print(\"Number of sequences in the batch:\", batch_len.numpy())"
   ]
  },
  {
   "cell_type": "code",
   "execution_count": 266,
   "id": "751c249e-bb00-4e24-8b35-d1f5084c21ed",
   "metadata": {},
   "outputs": [],
   "source": [
    "checkpoint_callback = ModelCheckpoint(\n",
    "    os.path.join('saved_models','checkpoint'),\n",
    "    monitor='loss', \n",
    "    save_weights_only=False, \n",
    "    save_freq='epoch', \n",
    "    save_format='h5') "
   ]
  },
  {
   "cell_type": "code",
   "execution_count": 267,
   "id": "259ec1a9-023f-496d-a064-6cf3b12e4d6b",
   "metadata": {},
   "outputs": [],
   "source": [
    "schedule_callback = LearningRateScheduler(scheduler)"
   ]
  },
  {
   "cell_type": "code",
   "execution_count": 268,
   "id": "2d2cdca8-1938-4899-a98c-d9b254c21d9c",
   "metadata": {},
   "outputs": [],
   "source": [
    "example_callback = ProduceExample(test_data)"
   ]
  },
  {
   "cell_type": "code",
   "execution_count": 269,
   "id": "6cd5644b-b4cc-4674-b59e-0cf13a57f56e",
   "metadata": {},
   "outputs": [
    {
     "name": "stdout",
     "output_type": "stream",
     "text": [
      "Epoch 1/80\n",
      "64/64 [==============================] - ETA: 0s - loss: 68.3885INFO:tensorflow:Assets written to: saved_models/checkpoint/assets\n"
     ]
    },
    {
     "name": "stderr",
     "output_type": "stream",
     "text": [
      "INFO:tensorflow:Assets written to: saved_models/checkpoint/assets\n"
     ]
    },
    {
     "name": "stdout",
     "output_type": "stream",
     "text": [
      "1/1 [==============================] - 2s 2s/step\n",
      "Original: waan4 dak1 hoi1\n",
      "Prediction: \n",
      "~~~~~~~~~~~~~~~~~~~~~~~~~~~~~~~~~~~~~~~~~~~~~~~~~~~~~~~~~~~~~~~~~~~~~~~~~~~~~~~~~~~~~~~~~~~~~~~~~~~~\n",
      "Original: hou2 zing3 soeng4\n",
      "Prediction: \n",
      "~~~~~~~~~~~~~~~~~~~~~~~~~~~~~~~~~~~~~~~~~~~~~~~~~~~~~~~~~~~~~~~~~~~~~~~~~~~~~~~~~~~~~~~~~~~~~~~~~~~~\n",
      "64/64 [==============================] - 384s 6s/step - loss: 68.3885 - val_loss: 59.4758 - lr: 1.0000e-04\n",
      "Epoch 2/80\n",
      "64/64 [==============================] - ETA: 0s - loss: 56.6851INFO:tensorflow:Assets written to: saved_models/checkpoint/assets\n"
     ]
    },
    {
     "name": "stderr",
     "output_type": "stream",
     "text": [
      "INFO:tensorflow:Assets written to: saved_models/checkpoint/assets\n"
     ]
    },
    {
     "name": "stdout",
     "output_type": "stream",
     "text": [
      "1/1 [==============================] - 1s 1000ms/step\n",
      "Original: hou2 gam2 ze6\n",
      "Prediction: \n",
      "~~~~~~~~~~~~~~~~~~~~~~~~~~~~~~~~~~~~~~~~~~~~~~~~~~~~~~~~~~~~~~~~~~~~~~~~~~~~~~~~~~~~~~~~~~~~~~~~~~~~\n",
      "Original: zoi3 gin3 laa1\n",
      "Prediction: \n",
      "~~~~~~~~~~~~~~~~~~~~~~~~~~~~~~~~~~~~~~~~~~~~~~~~~~~~~~~~~~~~~~~~~~~~~~~~~~~~~~~~~~~~~~~~~~~~~~~~~~~~\n",
      "64/64 [==============================] - 349s 5s/step - loss: 56.6851 - val_loss: 58.0353 - lr: 1.0000e-04\n",
      "Epoch 3/80\n",
      "64/64 [==============================] - ETA: 0s - loss: 52.0447INFO:tensorflow:Assets written to: saved_models/checkpoint/assets\n"
     ]
    },
    {
     "name": "stderr",
     "output_type": "stream",
     "text": [
      "INFO:tensorflow:Assets written to: saved_models/checkpoint/assets\n"
     ]
    },
    {
     "name": "stdout",
     "output_type": "stream",
     "text": [
      "1/1 [==============================] - 1s 1s/step\n",
      "Original: zoek3 faai3 lok6\n",
      "Prediction:  \n",
      "~~~~~~~~~~~~~~~~~~~~~~~~~~~~~~~~~~~~~~~~~~~~~~~~~~~~~~~~~~~~~~~~~~~~~~~~~~~~~~~~~~~~~~~~~~~~~~~~~~~~\n",
      "Original: gong2 dak1 hou2\n",
      "Prediction:  \n",
      "~~~~~~~~~~~~~~~~~~~~~~~~~~~~~~~~~~~~~~~~~~~~~~~~~~~~~~~~~~~~~~~~~~~~~~~~~~~~~~~~~~~~~~~~~~~~~~~~~~~~\n",
      "64/64 [==============================] - 341s 5s/step - loss: 52.0447 - val_loss: 51.6758 - lr: 1.0000e-04\n",
      "Epoch 4/80\n",
      "64/64 [==============================] - ETA: 0s - loss: 48.5463INFO:tensorflow:Assets written to: saved_models/checkpoint/assets\n"
     ]
    },
    {
     "name": "stderr",
     "output_type": "stream",
     "text": [
      "INFO:tensorflow:Assets written to: saved_models/checkpoint/assets\n"
     ]
    },
    {
     "name": "stdout",
     "output_type": "stream",
     "text": [
      "1/1 [==============================] - 1s 1s/step\n",
      "Original: zan1 hai6 hou2\n",
      "Prediction:  \n",
      "~~~~~~~~~~~~~~~~~~~~~~~~~~~~~~~~~~~~~~~~~~~~~~~~~~~~~~~~~~~~~~~~~~~~~~~~~~~~~~~~~~~~~~~~~~~~~~~~~~~~\n",
      "Original: hou2 dak1 ji3\n",
      "Prediction: a \n",
      "~~~~~~~~~~~~~~~~~~~~~~~~~~~~~~~~~~~~~~~~~~~~~~~~~~~~~~~~~~~~~~~~~~~~~~~~~~~~~~~~~~~~~~~~~~~~~~~~~~~~\n",
      "64/64 [==============================] - 345s 5s/step - loss: 48.5463 - val_loss: 46.1656 - lr: 1.0000e-04\n",
      "Epoch 5/80\n",
      "64/64 [==============================] - ETA: 0s - loss: 46.6796INFO:tensorflow:Assets written to: saved_models/checkpoint/assets\n"
     ]
    },
    {
     "name": "stderr",
     "output_type": "stream",
     "text": [
      "INFO:tensorflow:Assets written to: saved_models/checkpoint/assets\n"
     ]
    },
    {
     "name": "stdout",
     "output_type": "stream",
     "text": [
      "1/1 [==============================] - 1s 1s/step\n",
      "Original: jau5 mou5 man6\n",
      "Prediction:  \n",
      "~~~~~~~~~~~~~~~~~~~~~~~~~~~~~~~~~~~~~~~~~~~~~~~~~~~~~~~~~~~~~~~~~~~~~~~~~~~~~~~~~~~~~~~~~~~~~~~~~~~~\n",
      "Original: m4 goi1 bong1 sau2\n",
      "Prediction:  \n",
      "~~~~~~~~~~~~~~~~~~~~~~~~~~~~~~~~~~~~~~~~~~~~~~~~~~~~~~~~~~~~~~~~~~~~~~~~~~~~~~~~~~~~~~~~~~~~~~~~~~~~\n",
      "64/64 [==============================] - 337s 5s/step - loss: 46.6796 - val_loss: 48.4742 - lr: 1.0000e-04\n",
      "Epoch 6/80\n",
      "64/64 [==============================] - ETA: 0s - loss: 46.3885INFO:tensorflow:Assets written to: saved_models/checkpoint/assets\n"
     ]
    },
    {
     "name": "stderr",
     "output_type": "stream",
     "text": [
      "INFO:tensorflow:Assets written to: saved_models/checkpoint/assets\n"
     ]
    },
    {
     "name": "stdout",
     "output_type": "stream",
     "text": [
      "1/1 [==============================] - 1s 988ms/step\n",
      "Original: zou2 san4 aa3\n",
      "Prediction: a \n",
      "~~~~~~~~~~~~~~~~~~~~~~~~~~~~~~~~~~~~~~~~~~~~~~~~~~~~~~~~~~~~~~~~~~~~~~~~~~~~~~~~~~~~~~~~~~~~~~~~~~~~\n",
      "Original: mou5 co3 laa1\n",
      "Prediction: a \n",
      "~~~~~~~~~~~~~~~~~~~~~~~~~~~~~~~~~~~~~~~~~~~~~~~~~~~~~~~~~~~~~~~~~~~~~~~~~~~~~~~~~~~~~~~~~~~~~~~~~~~~\n",
      "64/64 [==============================] - 335s 5s/step - loss: 46.3885 - val_loss: 49.5051 - lr: 1.0000e-04\n",
      "Epoch 7/80\n",
      "64/64 [==============================] - ETA: 0s - loss: 45.2340INFO:tensorflow:Assets written to: saved_models/checkpoint/assets\n"
     ]
    },
    {
     "name": "stderr",
     "output_type": "stream",
     "text": [
      "INFO:tensorflow:Assets written to: saved_models/checkpoint/assets\n"
     ]
    },
    {
     "name": "stdout",
     "output_type": "stream",
     "text": [
      "1/1 [==============================] - 1s 991ms/step\n",
      "Original: hou2 hok6 zaap6\n",
      "Prediction: o \n",
      "~~~~~~~~~~~~~~~~~~~~~~~~~~~~~~~~~~~~~~~~~~~~~~~~~~~~~~~~~~~~~~~~~~~~~~~~~~~~~~~~~~~~~~~~~~~~~~~~~~~~\n",
      "Original: zoek3 hou2 wan6\n",
      "Prediction:  \n",
      "~~~~~~~~~~~~~~~~~~~~~~~~~~~~~~~~~~~~~~~~~~~~~~~~~~~~~~~~~~~~~~~~~~~~~~~~~~~~~~~~~~~~~~~~~~~~~~~~~~~~\n",
      "64/64 [==============================] - 342s 5s/step - loss: 45.2340 - val_loss: 45.1201 - lr: 1.0000e-04\n",
      "Epoch 8/80\n",
      "64/64 [==============================] - ETA: 0s - loss: 45.1392INFO:tensorflow:Assets written to: saved_models/checkpoint/assets\n"
     ]
    },
    {
     "name": "stderr",
     "output_type": "stream",
     "text": [
      "INFO:tensorflow:Assets written to: saved_models/checkpoint/assets\n"
     ]
    },
    {
     "name": "stdout",
     "output_type": "stream",
     "text": [
      "1/1 [==============================] - 1s 984ms/step\n",
      "Original: gong2 je5 laa1\n",
      "Prediction: a \n",
      "~~~~~~~~~~~~~~~~~~~~~~~~~~~~~~~~~~~~~~~~~~~~~~~~~~~~~~~~~~~~~~~~~~~~~~~~~~~~~~~~~~~~~~~~~~~~~~~~~~~~\n",
      "Original: oi3 do1 di1\n",
      "Prediction: a \n",
      "~~~~~~~~~~~~~~~~~~~~~~~~~~~~~~~~~~~~~~~~~~~~~~~~~~~~~~~~~~~~~~~~~~~~~~~~~~~~~~~~~~~~~~~~~~~~~~~~~~~~\n",
      "64/64 [==============================] - 336s 5s/step - loss: 45.1392 - val_loss: 43.0175 - lr: 1.0000e-04\n",
      "Epoch 9/80\n",
      "64/64 [==============================] - ETA: 0s - loss: 44.9196INFO:tensorflow:Assets written to: saved_models/checkpoint/assets\n"
     ]
    },
    {
     "name": "stderr",
     "output_type": "stream",
     "text": [
      "INFO:tensorflow:Assets written to: saved_models/checkpoint/assets\n"
     ]
    },
    {
     "name": "stdout",
     "output_type": "stream",
     "text": [
      "1/1 [==============================] - 1s 988ms/step\n",
      "Original: m4 ji3 si1\n",
      "Prediction: a \n",
      "~~~~~~~~~~~~~~~~~~~~~~~~~~~~~~~~~~~~~~~~~~~~~~~~~~~~~~~~~~~~~~~~~~~~~~~~~~~~~~~~~~~~~~~~~~~~~~~~~~~~\n",
      "Original: zaan6 hou2 do1\n",
      "Prediction: a \n",
      "~~~~~~~~~~~~~~~~~~~~~~~~~~~~~~~~~~~~~~~~~~~~~~~~~~~~~~~~~~~~~~~~~~~~~~~~~~~~~~~~~~~~~~~~~~~~~~~~~~~~\n",
      "64/64 [==============================] - 337s 5s/step - loss: 44.9196 - val_loss: 45.0666 - lr: 1.0000e-04\n",
      "Epoch 10/80\n",
      "64/64 [==============================] - ETA: 0s - loss: 44.3878INFO:tensorflow:Assets written to: saved_models/checkpoint/assets\n"
     ]
    },
    {
     "name": "stderr",
     "output_type": "stream",
     "text": [
      "INFO:tensorflow:Assets written to: saved_models/checkpoint/assets\n"
     ]
    },
    {
     "name": "stdout",
     "output_type": "stream",
     "text": [
      "1/1 [==============================] - 1s 998ms/step\n",
      "Original: zan1 waa6 laa1\n",
      "Prediction: o \n",
      "~~~~~~~~~~~~~~~~~~~~~~~~~~~~~~~~~~~~~~~~~~~~~~~~~~~~~~~~~~~~~~~~~~~~~~~~~~~~~~~~~~~~~~~~~~~~~~~~~~~~\n",
      "Original: dak1 ji3 aa3\n",
      "Prediction: o \n",
      "~~~~~~~~~~~~~~~~~~~~~~~~~~~~~~~~~~~~~~~~~~~~~~~~~~~~~~~~~~~~~~~~~~~~~~~~~~~~~~~~~~~~~~~~~~~~~~~~~~~~\n",
      "64/64 [==============================] - 337s 5s/step - loss: 44.3878 - val_loss: 42.2577 - lr: 1.0000e-04\n",
      "Epoch 11/80\n",
      "64/64 [==============================] - ETA: 0s - loss: 44.6147INFO:tensorflow:Assets written to: saved_models/checkpoint/assets\n"
     ]
    },
    {
     "name": "stderr",
     "output_type": "stream",
     "text": [
      "INFO:tensorflow:Assets written to: saved_models/checkpoint/assets\n"
     ]
    },
    {
     "name": "stdout",
     "output_type": "stream",
     "text": [
      "1/1 [==============================] - 1s 997ms/step\n",
      "Original: zoi3 gin3 laa1\n",
      "Prediction: o \n",
      "~~~~~~~~~~~~~~~~~~~~~~~~~~~~~~~~~~~~~~~~~~~~~~~~~~~~~~~~~~~~~~~~~~~~~~~~~~~~~~~~~~~~~~~~~~~~~~~~~~~~\n",
      "Original: gong2 dak1 hou2\n",
      "Prediction: o \n",
      "~~~~~~~~~~~~~~~~~~~~~~~~~~~~~~~~~~~~~~~~~~~~~~~~~~~~~~~~~~~~~~~~~~~~~~~~~~~~~~~~~~~~~~~~~~~~~~~~~~~~\n",
      "64/64 [==============================] - 339s 5s/step - loss: 44.6147 - val_loss: 42.3914 - lr: 1.0000e-04\n",
      "Epoch 12/80\n",
      "64/64 [==============================] - ETA: 0s - loss: 44.1862INFO:tensorflow:Assets written to: saved_models/checkpoint/assets\n"
     ]
    },
    {
     "name": "stderr",
     "output_type": "stream",
     "text": [
      "INFO:tensorflow:Assets written to: saved_models/checkpoint/assets\n"
     ]
    },
    {
     "name": "stdout",
     "output_type": "stream",
     "text": [
      "1/1 [==============================] - 1s 1s/step\n",
      "Original: nei5 hou2 maa3\n",
      "Prediction: o \n",
      "~~~~~~~~~~~~~~~~~~~~~~~~~~~~~~~~~~~~~~~~~~~~~~~~~~~~~~~~~~~~~~~~~~~~~~~~~~~~~~~~~~~~~~~~~~~~~~~~~~~~\n",
      "Original: jat1 cai4 hang4\n",
      "Prediction: o \n",
      "~~~~~~~~~~~~~~~~~~~~~~~~~~~~~~~~~~~~~~~~~~~~~~~~~~~~~~~~~~~~~~~~~~~~~~~~~~~~~~~~~~~~~~~~~~~~~~~~~~~~\n",
      "64/64 [==============================] - 338s 5s/step - loss: 44.1862 - val_loss: 43.4313 - lr: 1.0000e-04\n",
      "Epoch 13/80\n",
      "64/64 [==============================] - ETA: 0s - loss: 43.4245INFO:tensorflow:Assets written to: saved_models/checkpoint/assets\n"
     ]
    },
    {
     "name": "stderr",
     "output_type": "stream",
     "text": [
      "INFO:tensorflow:Assets written to: saved_models/checkpoint/assets\n"
     ]
    },
    {
     "name": "stdout",
     "output_type": "stream",
     "text": [
      "1/1 [==============================] - 1s 1s/step\n",
      "Original: do1 ze6 nei5\n",
      "Prediction: o \n",
      "~~~~~~~~~~~~~~~~~~~~~~~~~~~~~~~~~~~~~~~~~~~~~~~~~~~~~~~~~~~~~~~~~~~~~~~~~~~~~~~~~~~~~~~~~~~~~~~~~~~~\n",
      "Original: ze6 bong1 mong6\n",
      "Prediction: ho \n",
      "~~~~~~~~~~~~~~~~~~~~~~~~~~~~~~~~~~~~~~~~~~~~~~~~~~~~~~~~~~~~~~~~~~~~~~~~~~~~~~~~~~~~~~~~~~~~~~~~~~~~\n",
      "64/64 [==============================] - 343s 5s/step - loss: 43.4245 - val_loss: 43.1410 - lr: 1.0000e-04\n",
      "Epoch 14/80\n",
      "64/64 [==============================] - ETA: 0s - loss: 43.6750INFO:tensorflow:Assets written to: saved_models/checkpoint/assets\n"
     ]
    },
    {
     "name": "stderr",
     "output_type": "stream",
     "text": [
      "INFO:tensorflow:Assets written to: saved_models/checkpoint/assets\n"
     ]
    },
    {
     "name": "stdout",
     "output_type": "stream",
     "text": [
      "1/1 [==============================] - 1s 1s/step\n",
      "Original: ze6 bong1 mong6\n",
      "Prediction: o \n",
      "~~~~~~~~~~~~~~~~~~~~~~~~~~~~~~~~~~~~~~~~~~~~~~~~~~~~~~~~~~~~~~~~~~~~~~~~~~~~~~~~~~~~~~~~~~~~~~~~~~~~\n",
      "Original: ni1 dou6 hai6\n",
      "Prediction: a a\n",
      "~~~~~~~~~~~~~~~~~~~~~~~~~~~~~~~~~~~~~~~~~~~~~~~~~~~~~~~~~~~~~~~~~~~~~~~~~~~~~~~~~~~~~~~~~~~~~~~~~~~~\n",
      "64/64 [==============================] - 340s 5s/step - loss: 43.6750 - val_loss: 41.8875 - lr: 1.0000e-04\n",
      "Epoch 15/80\n",
      "64/64 [==============================] - ETA: 0s - loss: 42.9808INFO:tensorflow:Assets written to: saved_models/checkpoint/assets\n"
     ]
    },
    {
     "name": "stderr",
     "output_type": "stream",
     "text": [
      "INFO:tensorflow:Assets written to: saved_models/checkpoint/assets\n"
     ]
    },
    {
     "name": "stdout",
     "output_type": "stream",
     "text": [
      "1/1 [==============================] - 1s 1s/step\n",
      "Original: ting1 ming4 baak3\n",
      "Prediction: o a\n",
      "~~~~~~~~~~~~~~~~~~~~~~~~~~~~~~~~~~~~~~~~~~~~~~~~~~~~~~~~~~~~~~~~~~~~~~~~~~~~~~~~~~~~~~~~~~~~~~~~~~~~\n",
      "Original: hing1 fan5 aa3\n",
      "Prediction: o \n",
      "~~~~~~~~~~~~~~~~~~~~~~~~~~~~~~~~~~~~~~~~~~~~~~~~~~~~~~~~~~~~~~~~~~~~~~~~~~~~~~~~~~~~~~~~~~~~~~~~~~~~\n",
      "64/64 [==============================] - 341s 5s/step - loss: 42.9808 - val_loss: 43.2261 - lr: 1.0000e-04\n",
      "Epoch 16/80\n",
      "64/64 [==============================] - ETA: 0s - loss: 43.2363INFO:tensorflow:Assets written to: saved_models/checkpoint/assets\n"
     ]
    },
    {
     "name": "stderr",
     "output_type": "stream",
     "text": [
      "INFO:tensorflow:Assets written to: saved_models/checkpoint/assets\n"
     ]
    },
    {
     "name": "stdout",
     "output_type": "stream",
     "text": [
      "1/1 [==============================] - 1s 1s/step\n",
      "Original: oi3 nei5 dei6\n",
      "Prediction: o \n",
      "~~~~~~~~~~~~~~~~~~~~~~~~~~~~~~~~~~~~~~~~~~~~~~~~~~~~~~~~~~~~~~~~~~~~~~~~~~~~~~~~~~~~~~~~~~~~~~~~~~~~\n",
      "Original: hou2 hok6 zaap6\n",
      "Prediction: o \n",
      "~~~~~~~~~~~~~~~~~~~~~~~~~~~~~~~~~~~~~~~~~~~~~~~~~~~~~~~~~~~~~~~~~~~~~~~~~~~~~~~~~~~~~~~~~~~~~~~~~~~~\n",
      "64/64 [==============================] - 338s 5s/step - loss: 43.2363 - val_loss: 43.3094 - lr: 1.0000e-04\n",
      "Epoch 17/80\n",
      "64/64 [==============================] - ETA: 0s - loss: 42.6152INFO:tensorflow:Assets written to: saved_models/checkpoint/assets\n"
     ]
    },
    {
     "name": "stderr",
     "output_type": "stream",
     "text": [
      "INFO:tensorflow:Assets written to: saved_models/checkpoint/assets\n"
     ]
    },
    {
     "name": "stdout",
     "output_type": "stream",
     "text": [
      "1/1 [==============================] - 1s 1s/step\n",
      "Original: ping4 faai3 lok6\n",
      "Prediction: o \n",
      "~~~~~~~~~~~~~~~~~~~~~~~~~~~~~~~~~~~~~~~~~~~~~~~~~~~~~~~~~~~~~~~~~~~~~~~~~~~~~~~~~~~~~~~~~~~~~~~~~~~~\n",
      "Original: jau5 sik6 gwo3\n",
      "Prediction: o \n",
      "~~~~~~~~~~~~~~~~~~~~~~~~~~~~~~~~~~~~~~~~~~~~~~~~~~~~~~~~~~~~~~~~~~~~~~~~~~~~~~~~~~~~~~~~~~~~~~~~~~~~\n",
      "64/64 [==============================] - 340s 5s/step - loss: 42.6152 - val_loss: 43.4568 - lr: 1.0000e-04\n",
      "Epoch 18/80\n",
      "64/64 [==============================] - ETA: 0s - loss: 42.3892INFO:tensorflow:Assets written to: saved_models/checkpoint/assets\n"
     ]
    },
    {
     "name": "stderr",
     "output_type": "stream",
     "text": [
      "INFO:tensorflow:Assets written to: saved_models/checkpoint/assets\n"
     ]
    },
    {
     "name": "stdout",
     "output_type": "stream",
     "text": [
      "1/1 [==============================] - 1s 1s/step\n",
      "Original: hai6 ni1 dou6\n",
      "Prediction: o \n",
      "~~~~~~~~~~~~~~~~~~~~~~~~~~~~~~~~~~~~~~~~~~~~~~~~~~~~~~~~~~~~~~~~~~~~~~~~~~~~~~~~~~~~~~~~~~~~~~~~~~~~\n",
      "Original: oi3 nei5 dei6\n",
      "Prediction: ho \n",
      "~~~~~~~~~~~~~~~~~~~~~~~~~~~~~~~~~~~~~~~~~~~~~~~~~~~~~~~~~~~~~~~~~~~~~~~~~~~~~~~~~~~~~~~~~~~~~~~~~~~~\n",
      "64/64 [==============================] - 341s 5s/step - loss: 42.3892 - val_loss: 41.0188 - lr: 1.0000e-04\n",
      "Epoch 19/80\n",
      "64/64 [==============================] - ETA: 0s - loss: 41.9923INFO:tensorflow:Assets written to: saved_models/checkpoint/assets\n"
     ]
    },
    {
     "name": "stderr",
     "output_type": "stream",
     "text": [
      "INFO:tensorflow:Assets written to: saved_models/checkpoint/assets\n"
     ]
    },
    {
     "name": "stdout",
     "output_type": "stream",
     "text": [
      "1/1 [==============================] - 1s 1s/step\n",
      "Original: hou2 waan4 ge3\n",
      "Prediction: ho \n",
      "~~~~~~~~~~~~~~~~~~~~~~~~~~~~~~~~~~~~~~~~~~~~~~~~~~~~~~~~~~~~~~~~~~~~~~~~~~~~~~~~~~~~~~~~~~~~~~~~~~~~\n",
      "Original: bong1 hou2 jan4\n",
      "Prediction: ho a\n",
      "~~~~~~~~~~~~~~~~~~~~~~~~~~~~~~~~~~~~~~~~~~~~~~~~~~~~~~~~~~~~~~~~~~~~~~~~~~~~~~~~~~~~~~~~~~~~~~~~~~~~\n",
      "64/64 [==============================] - 340s 5s/step - loss: 41.9923 - val_loss: 41.5650 - lr: 1.0000e-04\n",
      "Epoch 20/80\n",
      "64/64 [==============================] - ETA: 0s - loss: 41.9062INFO:tensorflow:Assets written to: saved_models/checkpoint/assets\n"
     ]
    },
    {
     "name": "stderr",
     "output_type": "stream",
     "text": [
      "INFO:tensorflow:Assets written to: saved_models/checkpoint/assets\n"
     ]
    },
    {
     "name": "stdout",
     "output_type": "stream",
     "text": [
      "1/1 [==============================] - 1s 1s/step\n",
      "Original: m4 goi1 man6\n",
      "Prediction: ho \n",
      "~~~~~~~~~~~~~~~~~~~~~~~~~~~~~~~~~~~~~~~~~~~~~~~~~~~~~~~~~~~~~~~~~~~~~~~~~~~~~~~~~~~~~~~~~~~~~~~~~~~~\n",
      "Original: hou2 jau1 sik1\n",
      "Prediction: ho \n",
      "~~~~~~~~~~~~~~~~~~~~~~~~~~~~~~~~~~~~~~~~~~~~~~~~~~~~~~~~~~~~~~~~~~~~~~~~~~~~~~~~~~~~~~~~~~~~~~~~~~~~\n",
      "64/64 [==============================] - 339s 5s/step - loss: 41.9062 - val_loss: 40.4041 - lr: 1.0000e-04\n",
      "Epoch 21/80\n",
      "64/64 [==============================] - ETA: 0s - loss: 41.4941INFO:tensorflow:Assets written to: saved_models/checkpoint/assets\n"
     ]
    },
    {
     "name": "stderr",
     "output_type": "stream",
     "text": [
      "INFO:tensorflow:Assets written to: saved_models/checkpoint/assets\n"
     ]
    },
    {
     "name": "stdout",
     "output_type": "stream",
     "text": [
      "1/1 [==============================] - 1s 1s/step\n",
      "Original: waan2 dak1 hoi1\n",
      "Prediction: o a\n",
      "~~~~~~~~~~~~~~~~~~~~~~~~~~~~~~~~~~~~~~~~~~~~~~~~~~~~~~~~~~~~~~~~~~~~~~~~~~~~~~~~~~~~~~~~~~~~~~~~~~~~\n",
      "Original: sing4 jat6 gam2\n",
      "Prediction: ha a\n",
      "~~~~~~~~~~~~~~~~~~~~~~~~~~~~~~~~~~~~~~~~~~~~~~~~~~~~~~~~~~~~~~~~~~~~~~~~~~~~~~~~~~~~~~~~~~~~~~~~~~~~\n",
      "64/64 [==============================] - 341s 5s/step - loss: 41.4941 - val_loss: 40.4107 - lr: 1.0000e-04\n",
      "Epoch 22/80\n",
      "64/64 [==============================] - ETA: 0s - loss: 40.9006INFO:tensorflow:Assets written to: saved_models/checkpoint/assets\n"
     ]
    },
    {
     "name": "stderr",
     "output_type": "stream",
     "text": [
      "INFO:tensorflow:Assets written to: saved_models/checkpoint/assets\n"
     ]
    },
    {
     "name": "stdout",
     "output_type": "stream",
     "text": [
      "1/1 [==============================] - 1s 1s/step\n",
      "Original: hou2 gam2 ze6\n",
      "Prediction: ho \n",
      "~~~~~~~~~~~~~~~~~~~~~~~~~~~~~~~~~~~~~~~~~~~~~~~~~~~~~~~~~~~~~~~~~~~~~~~~~~~~~~~~~~~~~~~~~~~~~~~~~~~~\n",
      "Original: m4 dou3 sau2\n",
      "Prediction: ho \n",
      "~~~~~~~~~~~~~~~~~~~~~~~~~~~~~~~~~~~~~~~~~~~~~~~~~~~~~~~~~~~~~~~~~~~~~~~~~~~~~~~~~~~~~~~~~~~~~~~~~~~~\n",
      "64/64 [==============================] - 340s 5s/step - loss: 40.9006 - val_loss: 39.5047 - lr: 1.0000e-04\n",
      "Epoch 23/80\n",
      "64/64 [==============================] - ETA: 0s - loss: 40.4706INFO:tensorflow:Assets written to: saved_models/checkpoint/assets\n"
     ]
    },
    {
     "name": "stderr",
     "output_type": "stream",
     "text": [
      "INFO:tensorflow:Assets written to: saved_models/checkpoint/assets\n"
     ]
    },
    {
     "name": "stdout",
     "output_type": "stream",
     "text": [
      "1/1 [==============================] - 1s 990ms/step\n",
      "Original: jat1 cai4 hang4\n",
      "Prediction: ha a\n",
      "~~~~~~~~~~~~~~~~~~~~~~~~~~~~~~~~~~~~~~~~~~~~~~~~~~~~~~~~~~~~~~~~~~~~~~~~~~~~~~~~~~~~~~~~~~~~~~~~~~~~\n",
      "Original: hoi1 sam1 siu3\n",
      "Prediction: ho \n",
      "~~~~~~~~~~~~~~~~~~~~~~~~~~~~~~~~~~~~~~~~~~~~~~~~~~~~~~~~~~~~~~~~~~~~~~~~~~~~~~~~~~~~~~~~~~~~~~~~~~~~\n",
      "64/64 [==============================] - 340s 5s/step - loss: 40.4706 - val_loss: 40.8787 - lr: 1.0000e-04\n",
      "Epoch 24/80\n",
      "64/64 [==============================] - ETA: 0s - loss: 40.1349INFO:tensorflow:Assets written to: saved_models/checkpoint/assets\n"
     ]
    },
    {
     "name": "stderr",
     "output_type": "stream",
     "text": [
      "INFO:tensorflow:Assets written to: saved_models/checkpoint/assets\n"
     ]
    },
    {
     "name": "stdout",
     "output_type": "stream",
     "text": [
      "1/1 [==============================] - 1s 1s/step\n",
      "Original: zan1 hai6 hou2\n",
      "Prediction: ho \n",
      "~~~~~~~~~~~~~~~~~~~~~~~~~~~~~~~~~~~~~~~~~~~~~~~~~~~~~~~~~~~~~~~~~~~~~~~~~~~~~~~~~~~~~~~~~~~~~~~~~~~~\n",
      "Original: m4 goi1 man6\n",
      "Prediction: ho \n",
      "~~~~~~~~~~~~~~~~~~~~~~~~~~~~~~~~~~~~~~~~~~~~~~~~~~~~~~~~~~~~~~~~~~~~~~~~~~~~~~~~~~~~~~~~~~~~~~~~~~~~\n",
      "64/64 [==============================] - 342s 5s/step - loss: 40.1349 - val_loss: 38.9553 - lr: 1.0000e-04\n",
      "Epoch 25/80\n",
      "64/64 [==============================] - ETA: 0s - loss: 39.6423INFO:tensorflow:Assets written to: saved_models/checkpoint/assets\n"
     ]
    },
    {
     "name": "stderr",
     "output_type": "stream",
     "text": [
      "INFO:tensorflow:Assets written to: saved_models/checkpoint/assets\n"
     ]
    },
    {
     "name": "stdout",
     "output_type": "stream",
     "text": [
      "1/1 [==============================] - 1s 1s/step\n",
      "Original: m4 haak3 hei3\n",
      "Prediction: ha \n",
      "~~~~~~~~~~~~~~~~~~~~~~~~~~~~~~~~~~~~~~~~~~~~~~~~~~~~~~~~~~~~~~~~~~~~~~~~~~~~~~~~~~~~~~~~~~~~~~~~~~~~\n",
      "Original: sing4 jat6 gam2\n",
      "Prediction: ha \n",
      "~~~~~~~~~~~~~~~~~~~~~~~~~~~~~~~~~~~~~~~~~~~~~~~~~~~~~~~~~~~~~~~~~~~~~~~~~~~~~~~~~~~~~~~~~~~~~~~~~~~~\n",
      "64/64 [==============================] - 340s 5s/step - loss: 39.6423 - val_loss: 38.2779 - lr: 1.0000e-04\n",
      "Epoch 26/80\n",
      "64/64 [==============================] - ETA: 0s - loss: 38.8388INFO:tensorflow:Assets written to: saved_models/checkpoint/assets\n"
     ]
    },
    {
     "name": "stderr",
     "output_type": "stream",
     "text": [
      "INFO:tensorflow:Assets written to: saved_models/checkpoint/assets\n"
     ]
    },
    {
     "name": "stdout",
     "output_type": "stream",
     "text": [
      "1/1 [==============================] - 1s 1s/step\n",
      "Original: hou2 hou2 teng1\n",
      "Prediction: ho \n",
      "~~~~~~~~~~~~~~~~~~~~~~~~~~~~~~~~~~~~~~~~~~~~~~~~~~~~~~~~~~~~~~~~~~~~~~~~~~~~~~~~~~~~~~~~~~~~~~~~~~~~\n",
      "Original: cing2 man6 laa1\n",
      "Prediction: ha a\n",
      "~~~~~~~~~~~~~~~~~~~~~~~~~~~~~~~~~~~~~~~~~~~~~~~~~~~~~~~~~~~~~~~~~~~~~~~~~~~~~~~~~~~~~~~~~~~~~~~~~~~~\n",
      "64/64 [==============================] - 339s 5s/step - loss: 38.8388 - val_loss: 40.0612 - lr: 1.0000e-04\n",
      "Epoch 27/80\n",
      "64/64 [==============================] - ETA: 0s - loss: 38.8159INFO:tensorflow:Assets written to: saved_models/checkpoint/assets\n"
     ]
    },
    {
     "name": "stderr",
     "output_type": "stream",
     "text": [
      "INFO:tensorflow:Assets written to: saved_models/checkpoint/assets\n"
     ]
    },
    {
     "name": "stdout",
     "output_type": "stream",
     "text": [
      "1/1 [==============================] - 1s 1s/step\n",
      "Original: zan1 waa6 laa1\n",
      "Prediction: ha a\n",
      "~~~~~~~~~~~~~~~~~~~~~~~~~~~~~~~~~~~~~~~~~~~~~~~~~~~~~~~~~~~~~~~~~~~~~~~~~~~~~~~~~~~~~~~~~~~~~~~~~~~~\n",
      "Original: jau5 mou5 man6 tai4\n",
      "Prediction: ho \n",
      "~~~~~~~~~~~~~~~~~~~~~~~~~~~~~~~~~~~~~~~~~~~~~~~~~~~~~~~~~~~~~~~~~~~~~~~~~~~~~~~~~~~~~~~~~~~~~~~~~~~~\n",
      "64/64 [==============================] - 341s 5s/step - loss: 38.8159 - val_loss: 38.1841 - lr: 1.0000e-04\n",
      "Epoch 28/80\n",
      "64/64 [==============================] - ETA: 0s - loss: 38.1522INFO:tensorflow:Assets written to: saved_models/checkpoint/assets\n"
     ]
    },
    {
     "name": "stderr",
     "output_type": "stream",
     "text": [
      "INFO:tensorflow:Assets written to: saved_models/checkpoint/assets\n"
     ]
    },
    {
     "name": "stdout",
     "output_type": "stream",
     "text": [
      "1/1 [==============================] - 1s 992ms/step\n",
      "Original: gong2 zan1 waa6\n",
      "Prediction: ho a\n",
      "~~~~~~~~~~~~~~~~~~~~~~~~~~~~~~~~~~~~~~~~~~~~~~~~~~~~~~~~~~~~~~~~~~~~~~~~~~~~~~~~~~~~~~~~~~~~~~~~~~~~\n",
      "Original: mou5 man6 tai4\n",
      "Prediction: ho a\n",
      "~~~~~~~~~~~~~~~~~~~~~~~~~~~~~~~~~~~~~~~~~~~~~~~~~~~~~~~~~~~~~~~~~~~~~~~~~~~~~~~~~~~~~~~~~~~~~~~~~~~~\n",
      "64/64 [==============================] - 337s 5s/step - loss: 38.1522 - val_loss: 36.7898 - lr: 1.0000e-04\n",
      "Epoch 29/80\n",
      "64/64 [==============================] - ETA: 0s - loss: 38.0940INFO:tensorflow:Assets written to: saved_models/checkpoint/assets\n"
     ]
    },
    {
     "name": "stderr",
     "output_type": "stream",
     "text": [
      "INFO:tensorflow:Assets written to: saved_models/checkpoint/assets\n"
     ]
    },
    {
     "name": "stdout",
     "output_type": "stream",
     "text": [
      "1/1 [==============================] - 1s 1s/step\n",
      "Original: m4 goi1 man6\n",
      "Prediction: ho \n",
      "~~~~~~~~~~~~~~~~~~~~~~~~~~~~~~~~~~~~~~~~~~~~~~~~~~~~~~~~~~~~~~~~~~~~~~~~~~~~~~~~~~~~~~~~~~~~~~~~~~~~\n",
      "Original: hoi1 sam1 aa3\n",
      "Prediction: ho \n",
      "~~~~~~~~~~~~~~~~~~~~~~~~~~~~~~~~~~~~~~~~~~~~~~~~~~~~~~~~~~~~~~~~~~~~~~~~~~~~~~~~~~~~~~~~~~~~~~~~~~~~\n",
      "64/64 [==============================] - 340s 5s/step - loss: 38.0940 - val_loss: 36.7345 - lr: 1.0000e-04\n",
      "Epoch 30/80\n",
      "64/64 [==============================] - ETA: 0s - loss: 37.7935INFO:tensorflow:Assets written to: saved_models/checkpoint/assets\n"
     ]
    },
    {
     "name": "stderr",
     "output_type": "stream",
     "text": [
      "INFO:tensorflow:Assets written to: saved_models/checkpoint/assets\n"
     ]
    },
    {
     "name": "stdout",
     "output_type": "stream",
     "text": [
      "1/1 [==============================] - 1s 1s/step\n",
      "Original: zou2 san4 aa3\n",
      "Prediction: ho a\n",
      "~~~~~~~~~~~~~~~~~~~~~~~~~~~~~~~~~~~~~~~~~~~~~~~~~~~~~~~~~~~~~~~~~~~~~~~~~~~~~~~~~~~~~~~~~~~~~~~~~~~~\n",
      "Original: jat1 cai4 gaa1\n",
      "Prediction: a a\n",
      "~~~~~~~~~~~~~~~~~~~~~~~~~~~~~~~~~~~~~~~~~~~~~~~~~~~~~~~~~~~~~~~~~~~~~~~~~~~~~~~~~~~~~~~~~~~~~~~~~~~~\n",
      "64/64 [==============================] - 339s 5s/step - loss: 37.7935 - val_loss: 36.1939 - lr: 1.0000e-04\n",
      "Epoch 31/80\n",
      "64/64 [==============================] - ETA: 0s - loss: 36.6496INFO:tensorflow:Assets written to: saved_models/checkpoint/assets\n"
     ]
    },
    {
     "name": "stderr",
     "output_type": "stream",
     "text": [
      "INFO:tensorflow:Assets written to: saved_models/checkpoint/assets\n"
     ]
    },
    {
     "name": "stdout",
     "output_type": "stream",
     "text": [
      "1/1 [==============================] - 1s 1000ms/step\n",
      "Original: mou5 gam2 ji6\n",
      "Prediction: ho \n",
      "~~~~~~~~~~~~~~~~~~~~~~~~~~~~~~~~~~~~~~~~~~~~~~~~~~~~~~~~~~~~~~~~~~~~~~~~~~~~~~~~~~~~~~~~~~~~~~~~~~~~\n",
      "Original: maan6 maan6 zau2\n",
      "Prediction: ma\n",
      "~~~~~~~~~~~~~~~~~~~~~~~~~~~~~~~~~~~~~~~~~~~~~~~~~~~~~~~~~~~~~~~~~~~~~~~~~~~~~~~~~~~~~~~~~~~~~~~~~~~~\n",
      "64/64 [==============================] - 341s 5s/step - loss: 36.6496 - val_loss: 34.4644 - lr: 9.0484e-05\n",
      "Epoch 32/80\n",
      "64/64 [==============================] - ETA: 0s - loss: 35.9404INFO:tensorflow:Assets written to: saved_models/checkpoint/assets\n"
     ]
    },
    {
     "name": "stderr",
     "output_type": "stream",
     "text": [
      "INFO:tensorflow:Assets written to: saved_models/checkpoint/assets\n"
     ]
    },
    {
     "name": "stdout",
     "output_type": "stream",
     "text": [
      "1/1 [==============================] - 1s 1s/step\n",
      "Original: bong1 ngo5 gong2\n",
      "Prediction: hong\n",
      "~~~~~~~~~~~~~~~~~~~~~~~~~~~~~~~~~~~~~~~~~~~~~~~~~~~~~~~~~~~~~~~~~~~~~~~~~~~~~~~~~~~~~~~~~~~~~~~~~~~~\n",
      "Original: jau5 mou5 man6\n",
      "Prediction: ho \n",
      "~~~~~~~~~~~~~~~~~~~~~~~~~~~~~~~~~~~~~~~~~~~~~~~~~~~~~~~~~~~~~~~~~~~~~~~~~~~~~~~~~~~~~~~~~~~~~~~~~~~~\n",
      "64/64 [==============================] - 338s 5s/step - loss: 35.9404 - val_loss: 34.3304 - lr: 8.1873e-05\n",
      "Epoch 33/80\n",
      "64/64 [==============================] - ETA: 0s - loss: 34.6189INFO:tensorflow:Assets written to: saved_models/checkpoint/assets\n"
     ]
    },
    {
     "name": "stderr",
     "output_type": "stream",
     "text": [
      "INFO:tensorflow:Assets written to: saved_models/checkpoint/assets\n"
     ]
    },
    {
     "name": "stdout",
     "output_type": "stream",
     "text": [
      "1/1 [==============================] - 1s 989ms/step\n",
      "Original: hing1 fan5 aa3\n",
      "Prediction: ha a\n",
      "~~~~~~~~~~~~~~~~~~~~~~~~~~~~~~~~~~~~~~~~~~~~~~~~~~~~~~~~~~~~~~~~~~~~~~~~~~~~~~~~~~~~~~~~~~~~~~~~~~~~\n",
      "Original: zoi3 gin3 laa1\n",
      "Prediction: ho a\n",
      "~~~~~~~~~~~~~~~~~~~~~~~~~~~~~~~~~~~~~~~~~~~~~~~~~~~~~~~~~~~~~~~~~~~~~~~~~~~~~~~~~~~~~~~~~~~~~~~~~~~~\n",
      "64/64 [==============================] - 339s 5s/step - loss: 34.6189 - val_loss: 33.9498 - lr: 7.4082e-05\n",
      "Epoch 34/80\n",
      "64/64 [==============================] - ETA: 0s - loss: 34.5196INFO:tensorflow:Assets written to: saved_models/checkpoint/assets\n"
     ]
    },
    {
     "name": "stderr",
     "output_type": "stream",
     "text": [
      "INFO:tensorflow:Assets written to: saved_models/checkpoint/assets\n"
     ]
    },
    {
     "name": "stdout",
     "output_type": "stream",
     "text": [
      "1/1 [==============================] - 1s 1s/step\n",
      "Original: ceoi4 bin1 laa1\n",
      "Prediction: ho a\n",
      "~~~~~~~~~~~~~~~~~~~~~~~~~~~~~~~~~~~~~~~~~~~~~~~~~~~~~~~~~~~~~~~~~~~~~~~~~~~~~~~~~~~~~~~~~~~~~~~~~~~~\n",
      "Original: hou2 dak1 ji3\n",
      "Prediction: hou2 \n",
      "~~~~~~~~~~~~~~~~~~~~~~~~~~~~~~~~~~~~~~~~~~~~~~~~~~~~~~~~~~~~~~~~~~~~~~~~~~~~~~~~~~~~~~~~~~~~~~~~~~~~\n",
      "64/64 [==============================] - 341s 5s/step - loss: 34.5196 - val_loss: 32.1701 - lr: 6.7032e-05\n",
      "Epoch 35/80\n",
      "64/64 [==============================] - ETA: 0s - loss: 33.8741INFO:tensorflow:Assets written to: saved_models/checkpoint/assets\n"
     ]
    },
    {
     "name": "stderr",
     "output_type": "stream",
     "text": [
      "INFO:tensorflow:Assets written to: saved_models/checkpoint/assets\n"
     ]
    },
    {
     "name": "stdout",
     "output_type": "stream",
     "text": [
      "1/1 [==============================] - 1s 1s/step\n",
      "Original: mou5 gam2 ji6\n",
      "Prediction: hou m\n",
      "~~~~~~~~~~~~~~~~~~~~~~~~~~~~~~~~~~~~~~~~~~~~~~~~~~~~~~~~~~~~~~~~~~~~~~~~~~~~~~~~~~~~~~~~~~~~~~~~~~~~\n",
      "Original: hoi1 sam1 aa3\n",
      "Prediction: ho a\n",
      "~~~~~~~~~~~~~~~~~~~~~~~~~~~~~~~~~~~~~~~~~~~~~~~~~~~~~~~~~~~~~~~~~~~~~~~~~~~~~~~~~~~~~~~~~~~~~~~~~~~~\n",
      "64/64 [==============================] - 343s 5s/step - loss: 33.8741 - val_loss: 31.8814 - lr: 6.0653e-05\n",
      "Epoch 36/80\n",
      "64/64 [==============================] - ETA: 0s - loss: 33.0290INFO:tensorflow:Assets written to: saved_models/checkpoint/assets\n"
     ]
    },
    {
     "name": "stderr",
     "output_type": "stream",
     "text": [
      "INFO:tensorflow:Assets written to: saved_models/checkpoint/assets\n"
     ]
    },
    {
     "name": "stdout",
     "output_type": "stream",
     "text": [
      "1/1 [==============================] - 1s 1s/step\n",
      "Original: hou2 hok6 zaap6\n",
      "Prediction: hou a\n",
      "~~~~~~~~~~~~~~~~~~~~~~~~~~~~~~~~~~~~~~~~~~~~~~~~~~~~~~~~~~~~~~~~~~~~~~~~~~~~~~~~~~~~~~~~~~~~~~~~~~~~\n",
      "Original: hou2 waan4 ge3\n",
      "Prediction: hou a\n",
      "~~~~~~~~~~~~~~~~~~~~~~~~~~~~~~~~~~~~~~~~~~~~~~~~~~~~~~~~~~~~~~~~~~~~~~~~~~~~~~~~~~~~~~~~~~~~~~~~~~~~\n",
      "64/64 [==============================] - 342s 5s/step - loss: 33.0290 - val_loss: 30.2596 - lr: 5.4881e-05\n",
      "Epoch 37/80\n",
      "64/64 [==============================] - ETA: 0s - loss: 32.4452INFO:tensorflow:Assets written to: saved_models/checkpoint/assets\n"
     ]
    },
    {
     "name": "stderr",
     "output_type": "stream",
     "text": [
      "INFO:tensorflow:Assets written to: saved_models/checkpoint/assets\n"
     ]
    },
    {
     "name": "stdout",
     "output_type": "stream",
     "text": [
      "1/1 [==============================] - 1s 1s/step\n",
      "Original: bong1 m4 dou3\n",
      "Prediction: mo o\n",
      "~~~~~~~~~~~~~~~~~~~~~~~~~~~~~~~~~~~~~~~~~~~~~~~~~~~~~~~~~~~~~~~~~~~~~~~~~~~~~~~~~~~~~~~~~~~~~~~~~~~~\n",
      "Original: hou2 dak1 ji3\n",
      "Prediction: hou2 a\n",
      "~~~~~~~~~~~~~~~~~~~~~~~~~~~~~~~~~~~~~~~~~~~~~~~~~~~~~~~~~~~~~~~~~~~~~~~~~~~~~~~~~~~~~~~~~~~~~~~~~~~~\n",
      "64/64 [==============================] - 340s 5s/step - loss: 32.4452 - val_loss: 30.5601 - lr: 4.9659e-05\n",
      "Epoch 38/80\n",
      "64/64 [==============================] - ETA: 0s - loss: 31.5261INFO:tensorflow:Assets written to: saved_models/checkpoint/assets\n"
     ]
    },
    {
     "name": "stderr",
     "output_type": "stream",
     "text": [
      "INFO:tensorflow:Assets written to: saved_models/checkpoint/assets\n"
     ]
    },
    {
     "name": "stdout",
     "output_type": "stream",
     "text": [
      "1/1 [==============================] - 1s 1s/step\n",
      "Original: hoi1 sam1 o1\n",
      "Prediction: ho \n",
      "~~~~~~~~~~~~~~~~~~~~~~~~~~~~~~~~~~~~~~~~~~~~~~~~~~~~~~~~~~~~~~~~~~~~~~~~~~~~~~~~~~~~~~~~~~~~~~~~~~~~\n",
      "Original: zoek3 faai3 lok6\n",
      "Prediction: ho a o\n",
      "~~~~~~~~~~~~~~~~~~~~~~~~~~~~~~~~~~~~~~~~~~~~~~~~~~~~~~~~~~~~~~~~~~~~~~~~~~~~~~~~~~~~~~~~~~~~~~~~~~~~\n",
      "64/64 [==============================] - 339s 5s/step - loss: 31.5261 - val_loss: 29.9842 - lr: 4.4933e-05\n",
      "Epoch 39/80\n",
      "64/64 [==============================] - ETA: 0s - loss: 31.0449INFO:tensorflow:Assets written to: saved_models/checkpoint/assets\n"
     ]
    },
    {
     "name": "stderr",
     "output_type": "stream",
     "text": [
      "INFO:tensorflow:Assets written to: saved_models/checkpoint/assets\n"
     ]
    },
    {
     "name": "stdout",
     "output_type": "stream",
     "text": [
      "1/1 [==============================] - 1s 1s/step\n",
      "Original: soeng4 gam2 ze6\n",
      "Prediction: hong g \n",
      "~~~~~~~~~~~~~~~~~~~~~~~~~~~~~~~~~~~~~~~~~~~~~~~~~~~~~~~~~~~~~~~~~~~~~~~~~~~~~~~~~~~~~~~~~~~~~~~~~~~~\n",
      "Original: hoi1 sam1 aa3\n",
      "Prediction: ho1 a\n",
      "~~~~~~~~~~~~~~~~~~~~~~~~~~~~~~~~~~~~~~~~~~~~~~~~~~~~~~~~~~~~~~~~~~~~~~~~~~~~~~~~~~~~~~~~~~~~~~~~~~~~\n",
      "64/64 [==============================] - 339s 5s/step - loss: 31.0449 - val_loss: 28.5088 - lr: 4.0657e-05\n",
      "Epoch 40/80\n",
      "64/64 [==============================] - ETA: 0s - loss: 30.5550INFO:tensorflow:Assets written to: saved_models/checkpoint/assets\n"
     ]
    },
    {
     "name": "stderr",
     "output_type": "stream",
     "text": [
      "INFO:tensorflow:Assets written to: saved_models/checkpoint/assets\n"
     ]
    },
    {
     "name": "stdout",
     "output_type": "stream",
     "text": [
      "1/1 [==============================] - 1s 1s/step\n",
      "Original: mou5 man6 tai4\n",
      "Prediction: mouma\n",
      "~~~~~~~~~~~~~~~~~~~~~~~~~~~~~~~~~~~~~~~~~~~~~~~~~~~~~~~~~~~~~~~~~~~~~~~~~~~~~~~~~~~~~~~~~~~~~~~~~~~~\n",
      "Original: mou5 gam2 ji6\n",
      "Prediction: hou m \n",
      "~~~~~~~~~~~~~~~~~~~~~~~~~~~~~~~~~~~~~~~~~~~~~~~~~~~~~~~~~~~~~~~~~~~~~~~~~~~~~~~~~~~~~~~~~~~~~~~~~~~~\n",
      "64/64 [==============================] - 339s 5s/step - loss: 30.5550 - val_loss: 27.9359 - lr: 3.6788e-05\n",
      "Epoch 41/80\n",
      "64/64 [==============================] - ETA: 0s - loss: 29.8549INFO:tensorflow:Assets written to: saved_models/checkpoint/assets\n"
     ]
    },
    {
     "name": "stderr",
     "output_type": "stream",
     "text": [
      "INFO:tensorflow:Assets written to: saved_models/checkpoint/assets\n"
     ]
    },
    {
     "name": "stdout",
     "output_type": "stream",
     "text": [
      "1/1 [==============================] - 1s 1s/step\n",
      "Original: gong2 zan1 waa6\n",
      "Prediction: hon a\n",
      "~~~~~~~~~~~~~~~~~~~~~~~~~~~~~~~~~~~~~~~~~~~~~~~~~~~~~~~~~~~~~~~~~~~~~~~~~~~~~~~~~~~~~~~~~~~~~~~~~~~~\n",
      "Original: bong1 ngo5 gong2\n",
      "Prediction: hong og\n",
      "~~~~~~~~~~~~~~~~~~~~~~~~~~~~~~~~~~~~~~~~~~~~~~~~~~~~~~~~~~~~~~~~~~~~~~~~~~~~~~~~~~~~~~~~~~~~~~~~~~~~\n",
      "64/64 [==============================] - 341s 5s/step - loss: 29.8549 - val_loss: 27.7401 - lr: 3.3287e-05\n",
      "Epoch 42/80\n",
      "64/64 [==============================] - ETA: 0s - loss: 29.4745INFO:tensorflow:Assets written to: saved_models/checkpoint/assets\n"
     ]
    },
    {
     "name": "stderr",
     "output_type": "stream",
     "text": [
      "INFO:tensorflow:Assets written to: saved_models/checkpoint/assets\n"
     ]
    },
    {
     "name": "stdout",
     "output_type": "stream",
     "text": [
      "1/1 [==============================] - 1s 990ms/step\n",
      "Original: hou2 dak1 ji3\n",
      "Prediction: hou2 a \n",
      "~~~~~~~~~~~~~~~~~~~~~~~~~~~~~~~~~~~~~~~~~~~~~~~~~~~~~~~~~~~~~~~~~~~~~~~~~~~~~~~~~~~~~~~~~~~~~~~~~~~~\n",
      "Original: gong2 je5 laa1\n",
      "Prediction: on2 a\n",
      "~~~~~~~~~~~~~~~~~~~~~~~~~~~~~~~~~~~~~~~~~~~~~~~~~~~~~~~~~~~~~~~~~~~~~~~~~~~~~~~~~~~~~~~~~~~~~~~~~~~~\n",
      "64/64 [==============================] - 339s 5s/step - loss: 29.4745 - val_loss: 27.2223 - lr: 3.0119e-05\n",
      "Epoch 43/80\n",
      "64/64 [==============================] - ETA: 0s - loss: 29.0492INFO:tensorflow:Assets written to: saved_models/checkpoint/assets\n"
     ]
    },
    {
     "name": "stderr",
     "output_type": "stream",
     "text": [
      "INFO:tensorflow:Assets written to: saved_models/checkpoint/assets\n"
     ]
    },
    {
     "name": "stdout",
     "output_type": "stream",
     "text": [
      "1/1 [==============================] - 1s 995ms/step\n",
      "Original: san1 fu5 nei5\n",
      "Prediction: a \n",
      "~~~~~~~~~~~~~~~~~~~~~~~~~~~~~~~~~~~~~~~~~~~~~~~~~~~~~~~~~~~~~~~~~~~~~~~~~~~~~~~~~~~~~~~~~~~~~~~~~~~~\n",
      "Original: gong2 je5 laa1\n",
      "Prediction: gon2 a\n",
      "~~~~~~~~~~~~~~~~~~~~~~~~~~~~~~~~~~~~~~~~~~~~~~~~~~~~~~~~~~~~~~~~~~~~~~~~~~~~~~~~~~~~~~~~~~~~~~~~~~~~\n",
      "64/64 [==============================] - 336s 5s/step - loss: 29.0492 - val_loss: 26.2040 - lr: 2.7253e-05\n",
      "Epoch 44/80\n",
      "64/64 [==============================] - ETA: 0s - loss: 28.8069INFO:tensorflow:Assets written to: saved_models/checkpoint/assets\n"
     ]
    },
    {
     "name": "stderr",
     "output_type": "stream",
     "text": [
      "INFO:tensorflow:Assets written to: saved_models/checkpoint/assets\n"
     ]
    },
    {
     "name": "stdout",
     "output_type": "stream",
     "text": [
      "1/1 [==============================] - 1s 1s/step\n",
      "Original: gong2 je5 laa1\n",
      "Prediction: gog a\n",
      "~~~~~~~~~~~~~~~~~~~~~~~~~~~~~~~~~~~~~~~~~~~~~~~~~~~~~~~~~~~~~~~~~~~~~~~~~~~~~~~~~~~~~~~~~~~~~~~~~~~~\n",
      "Original: gong2 dak1 hou2\n",
      "Prediction: hog \n",
      "~~~~~~~~~~~~~~~~~~~~~~~~~~~~~~~~~~~~~~~~~~~~~~~~~~~~~~~~~~~~~~~~~~~~~~~~~~~~~~~~~~~~~~~~~~~~~~~~~~~~\n",
      "64/64 [==============================] - 338s 5s/step - loss: 28.8069 - val_loss: 26.5193 - lr: 2.4660e-05\n",
      "Epoch 45/80\n",
      "64/64 [==============================] - ETA: 0s - loss: 28.1243INFO:tensorflow:Assets written to: saved_models/checkpoint/assets\n"
     ]
    },
    {
     "name": "stderr",
     "output_type": "stream",
     "text": [
      "INFO:tensorflow:Assets written to: saved_models/checkpoint/assets\n"
     ]
    },
    {
     "name": "stdout",
     "output_type": "stream",
     "text": [
      "1/1 [==============================] - 1s 1s/step\n",
      "Original: soeng4 gam2 ze6\n",
      "Prediction: hong g \n",
      "~~~~~~~~~~~~~~~~~~~~~~~~~~~~~~~~~~~~~~~~~~~~~~~~~~~~~~~~~~~~~~~~~~~~~~~~~~~~~~~~~~~~~~~~~~~~~~~~~~~~\n",
      "Original: hou2 hoi1 sam1\n",
      "Prediction: hou2 ho a\n",
      "~~~~~~~~~~~~~~~~~~~~~~~~~~~~~~~~~~~~~~~~~~~~~~~~~~~~~~~~~~~~~~~~~~~~~~~~~~~~~~~~~~~~~~~~~~~~~~~~~~~~\n",
      "64/64 [==============================] - 339s 5s/step - loss: 28.1243 - val_loss: 25.9971 - lr: 2.2313e-05\n",
      "Epoch 46/80\n",
      "64/64 [==============================] - ETA: 0s - loss: 27.5780INFO:tensorflow:Assets written to: saved_models/checkpoint/assets\n"
     ]
    },
    {
     "name": "stderr",
     "output_type": "stream",
     "text": [
      "INFO:tensorflow:Assets written to: saved_models/checkpoint/assets\n"
     ]
    },
    {
     "name": "stdout",
     "output_type": "stream",
     "text": [
      "1/1 [==============================] - 1s 1s/step\n",
      "Original: waan2 dak1 hoi1\n",
      "Prediction: a h\n",
      "~~~~~~~~~~~~~~~~~~~~~~~~~~~~~~~~~~~~~~~~~~~~~~~~~~~~~~~~~~~~~~~~~~~~~~~~~~~~~~~~~~~~~~~~~~~~~~~~~~~~\n",
      "Original: dak1 ji3 ge3\n",
      "Prediction: a \n",
      "~~~~~~~~~~~~~~~~~~~~~~~~~~~~~~~~~~~~~~~~~~~~~~~~~~~~~~~~~~~~~~~~~~~~~~~~~~~~~~~~~~~~~~~~~~~~~~~~~~~~\n",
      "64/64 [==============================] - 341s 5s/step - loss: 27.5780 - val_loss: 26.4032 - lr: 2.0190e-05\n",
      "Epoch 47/80\n",
      "64/64 [==============================] - ETA: 0s - loss: 27.8260INFO:tensorflow:Assets written to: saved_models/checkpoint/assets\n"
     ]
    },
    {
     "name": "stderr",
     "output_type": "stream",
     "text": [
      "INFO:tensorflow:Assets written to: saved_models/checkpoint/assets\n"
     ]
    },
    {
     "name": "stdout",
     "output_type": "stream",
     "text": [
      "1/1 [==============================] - 1s 1s/step\n",
      "Original: hou2 zing3 soeng4\n",
      "Prediction: hou2 g\n",
      "~~~~~~~~~~~~~~~~~~~~~~~~~~~~~~~~~~~~~~~~~~~~~~~~~~~~~~~~~~~~~~~~~~~~~~~~~~~~~~~~~~~~~~~~~~~~~~~~~~~~\n",
      "Original: jat1 nou5 lik6\n",
      "Prediction: ja \n",
      "~~~~~~~~~~~~~~~~~~~~~~~~~~~~~~~~~~~~~~~~~~~~~~~~~~~~~~~~~~~~~~~~~~~~~~~~~~~~~~~~~~~~~~~~~~~~~~~~~~~~\n",
      "64/64 [==============================] - 342s 5s/step - loss: 27.8260 - val_loss: 25.9065 - lr: 1.8268e-05\n",
      "Epoch 48/80\n",
      "64/64 [==============================] - ETA: 0s - loss: 27.4476INFO:tensorflow:Assets written to: saved_models/checkpoint/assets\n"
     ]
    },
    {
     "name": "stderr",
     "output_type": "stream",
     "text": [
      "INFO:tensorflow:Assets written to: saved_models/checkpoint/assets\n"
     ]
    },
    {
     "name": "stdout",
     "output_type": "stream",
     "text": [
      "1/1 [==============================] - 1s 1s/step\n",
      "Original: jat1 cai4 lei4\n",
      "Prediction: a a e\n",
      "~~~~~~~~~~~~~~~~~~~~~~~~~~~~~~~~~~~~~~~~~~~~~~~~~~~~~~~~~~~~~~~~~~~~~~~~~~~~~~~~~~~~~~~~~~~~~~~~~~~~\n",
      "Original: zoek3 faai3 lok6\n",
      "Prediction: ho a o\n",
      "~~~~~~~~~~~~~~~~~~~~~~~~~~~~~~~~~~~~~~~~~~~~~~~~~~~~~~~~~~~~~~~~~~~~~~~~~~~~~~~~~~~~~~~~~~~~~~~~~~~~\n",
      "64/64 [==============================] - 336s 5s/step - loss: 27.4476 - val_loss: 25.8746 - lr: 1.6530e-05\n",
      "Epoch 49/80\n",
      "64/64 [==============================] - ETA: 0s - loss: 27.0571INFO:tensorflow:Assets written to: saved_models/checkpoint/assets\n"
     ]
    },
    {
     "name": "stderr",
     "output_type": "stream",
     "text": [
      "INFO:tensorflow:Assets written to: saved_models/checkpoint/assets\n"
     ]
    },
    {
     "name": "stdout",
     "output_type": "stream",
     "text": [
      "1/1 [==============================] - 1s 1s/step\n",
      "Original: m4 haak3 hei3\n",
      "Prediction: ma\n",
      "~~~~~~~~~~~~~~~~~~~~~~~~~~~~~~~~~~~~~~~~~~~~~~~~~~~~~~~~~~~~~~~~~~~~~~~~~~~~~~~~~~~~~~~~~~~~~~~~~~~~\n",
      "Original: zou2 san4 aa3\n",
      "Prediction: hou2 a\n",
      "~~~~~~~~~~~~~~~~~~~~~~~~~~~~~~~~~~~~~~~~~~~~~~~~~~~~~~~~~~~~~~~~~~~~~~~~~~~~~~~~~~~~~~~~~~~~~~~~~~~~\n",
      "64/64 [==============================] - 337s 5s/step - loss: 27.0571 - val_loss: 25.6901 - lr: 1.4957e-05\n",
      "Epoch 50/80\n",
      "64/64 [==============================] - ETA: 0s - loss: 26.8748INFO:tensorflow:Assets written to: saved_models/checkpoint/assets\n"
     ]
    },
    {
     "name": "stderr",
     "output_type": "stream",
     "text": [
      "INFO:tensorflow:Assets written to: saved_models/checkpoint/assets\n"
     ]
    },
    {
     "name": "stdout",
     "output_type": "stream",
     "text": [
      "1/1 [==============================] - 1s 1s/step\n",
      "Original: m4 haak3 hei3\n",
      "Prediction: ma a \n",
      "~~~~~~~~~~~~~~~~~~~~~~~~~~~~~~~~~~~~~~~~~~~~~~~~~~~~~~~~~~~~~~~~~~~~~~~~~~~~~~~~~~~~~~~~~~~~~~~~~~~~\n",
      "Original: m4 hai6 aa3\n",
      "Prediction: ma a\n",
      "~~~~~~~~~~~~~~~~~~~~~~~~~~~~~~~~~~~~~~~~~~~~~~~~~~~~~~~~~~~~~~~~~~~~~~~~~~~~~~~~~~~~~~~~~~~~~~~~~~~~\n",
      "64/64 [==============================] - 340s 5s/step - loss: 26.8748 - val_loss: 24.4649 - lr: 1.3534e-05\n",
      "Epoch 51/80\n",
      "64/64 [==============================] - ETA: 0s - loss: 26.7783INFO:tensorflow:Assets written to: saved_models/checkpoint/assets\n"
     ]
    },
    {
     "name": "stderr",
     "output_type": "stream",
     "text": [
      "INFO:tensorflow:Assets written to: saved_models/checkpoint/assets\n"
     ]
    },
    {
     "name": "stdout",
     "output_type": "stream",
     "text": [
      "1/1 [==============================] - 1s 1s/step\n",
      "Original: mou5 man6 tai4\n",
      "Prediction: mou ma\n",
      "~~~~~~~~~~~~~~~~~~~~~~~~~~~~~~~~~~~~~~~~~~~~~~~~~~~~~~~~~~~~~~~~~~~~~~~~~~~~~~~~~~~~~~~~~~~~~~~~~~~~\n",
      "Original: m4 do1 ze6\n",
      "Prediction: m e\n",
      "~~~~~~~~~~~~~~~~~~~~~~~~~~~~~~~~~~~~~~~~~~~~~~~~~~~~~~~~~~~~~~~~~~~~~~~~~~~~~~~~~~~~~~~~~~~~~~~~~~~~\n",
      "64/64 [==============================] - 340s 5s/step - loss: 26.7783 - val_loss: 23.9252 - lr: 1.2246e-05\n",
      "Epoch 52/80\n",
      "64/64 [==============================] - ETA: 0s - loss: 26.7349INFO:tensorflow:Assets written to: saved_models/checkpoint/assets\n"
     ]
    },
    {
     "name": "stderr",
     "output_type": "stream",
     "text": [
      "INFO:tensorflow:Assets written to: saved_models/checkpoint/assets\n"
     ]
    },
    {
     "name": "stdout",
     "output_type": "stream",
     "text": [
      "1/1 [==============================] - 1s 1s/step\n",
      "Original: hou2 gam2 ze6\n",
      "Prediction: hou2 e\n",
      "~~~~~~~~~~~~~~~~~~~~~~~~~~~~~~~~~~~~~~~~~~~~~~~~~~~~~~~~~~~~~~~~~~~~~~~~~~~~~~~~~~~~~~~~~~~~~~~~~~~~\n",
      "Original: gong2 m4 ceot1\n",
      "Prediction: og \n",
      "~~~~~~~~~~~~~~~~~~~~~~~~~~~~~~~~~~~~~~~~~~~~~~~~~~~~~~~~~~~~~~~~~~~~~~~~~~~~~~~~~~~~~~~~~~~~~~~~~~~~\n",
      "64/64 [==============================] - 340s 5s/step - loss: 26.7349 - val_loss: 23.2810 - lr: 1.1080e-05\n",
      "Epoch 53/80\n",
      "64/64 [==============================] - ETA: 0s - loss: 26.4596INFO:tensorflow:Assets written to: saved_models/checkpoint/assets\n"
     ]
    },
    {
     "name": "stderr",
     "output_type": "stream",
     "text": [
      "INFO:tensorflow:Assets written to: saved_models/checkpoint/assets\n"
     ]
    },
    {
     "name": "stdout",
     "output_type": "stream",
     "text": [
      "1/1 [==============================] - 1s 1s/step\n",
      "Original: hoi1 sam1 lei4\n",
      "Prediction: hoi1 ae\n",
      "~~~~~~~~~~~~~~~~~~~~~~~~~~~~~~~~~~~~~~~~~~~~~~~~~~~~~~~~~~~~~~~~~~~~~~~~~~~~~~~~~~~~~~~~~~~~~~~~~~~~\n",
      "Original: jau5 sik6 gwo3\n",
      "Prediction: ja \n",
      "~~~~~~~~~~~~~~~~~~~~~~~~~~~~~~~~~~~~~~~~~~~~~~~~~~~~~~~~~~~~~~~~~~~~~~~~~~~~~~~~~~~~~~~~~~~~~~~~~~~~\n",
      "64/64 [==============================] - 342s 5s/step - loss: 26.4596 - val_loss: 24.1567 - lr: 1.0026e-05\n",
      "Epoch 54/80\n",
      "64/64 [==============================] - ETA: 0s - loss: 26.6573INFO:tensorflow:Assets written to: saved_models/checkpoint/assets\n"
     ]
    },
    {
     "name": "stderr",
     "output_type": "stream",
     "text": [
      "INFO:tensorflow:Assets written to: saved_models/checkpoint/assets\n"
     ]
    },
    {
     "name": "stdout",
     "output_type": "stream",
     "text": [
      "1/1 [==============================] - 1s 1000ms/step\n",
      "Original: on1 hei2 lok6\n",
      "Prediction: ho h o\n",
      "~~~~~~~~~~~~~~~~~~~~~~~~~~~~~~~~~~~~~~~~~~~~~~~~~~~~~~~~~~~~~~~~~~~~~~~~~~~~~~~~~~~~~~~~~~~~~~~~~~~~\n",
      "Original: bong1 m4 dou3\n",
      "Prediction: mon m o\n",
      "~~~~~~~~~~~~~~~~~~~~~~~~~~~~~~~~~~~~~~~~~~~~~~~~~~~~~~~~~~~~~~~~~~~~~~~~~~~~~~~~~~~~~~~~~~~~~~~~~~~~\n",
      "64/64 [==============================] - 339s 5s/step - loss: 26.6573 - val_loss: 24.3025 - lr: 9.0718e-06\n",
      "Epoch 55/80\n",
      "64/64 [==============================] - ETA: 0s - loss: 26.1790INFO:tensorflow:Assets written to: saved_models/checkpoint/assets\n"
     ]
    },
    {
     "name": "stderr",
     "output_type": "stream",
     "text": [
      "INFO:tensorflow:Assets written to: saved_models/checkpoint/assets\n"
     ]
    },
    {
     "name": "stdout",
     "output_type": "stream",
     "text": [
      "1/1 [==============================] - 1s 1s/step\n",
      "Original: ting1 ming4 baak3\n",
      "Prediction: zin g a\n",
      "~~~~~~~~~~~~~~~~~~~~~~~~~~~~~~~~~~~~~~~~~~~~~~~~~~~~~~~~~~~~~~~~~~~~~~~~~~~~~~~~~~~~~~~~~~~~~~~~~~~~\n",
      "Original: ceoi4 bin1 laa1\n",
      "Prediction: hoi i a\n",
      "~~~~~~~~~~~~~~~~~~~~~~~~~~~~~~~~~~~~~~~~~~~~~~~~~~~~~~~~~~~~~~~~~~~~~~~~~~~~~~~~~~~~~~~~~~~~~~~~~~~~\n",
      "64/64 [==============================] - 338s 5s/step - loss: 26.1790 - val_loss: 23.2880 - lr: 8.2085e-06\n",
      "Epoch 56/80\n",
      "64/64 [==============================] - ETA: 0s - loss: 26.2850INFO:tensorflow:Assets written to: saved_models/checkpoint/assets\n"
     ]
    },
    {
     "name": "stderr",
     "output_type": "stream",
     "text": [
      "INFO:tensorflow:Assets written to: saved_models/checkpoint/assets\n"
     ]
    },
    {
     "name": "stdout",
     "output_type": "stream",
     "text": [
      "1/1 [==============================] - 1s 1s/step\n",
      "Original: hoi1 sam1 ge3\n",
      "Prediction: hoi sa1\n",
      "~~~~~~~~~~~~~~~~~~~~~~~~~~~~~~~~~~~~~~~~~~~~~~~~~~~~~~~~~~~~~~~~~~~~~~~~~~~~~~~~~~~~~~~~~~~~~~~~~~~~\n",
      "Original: zan1 hai6 ge3\n",
      "Prediction: a i\n",
      "~~~~~~~~~~~~~~~~~~~~~~~~~~~~~~~~~~~~~~~~~~~~~~~~~~~~~~~~~~~~~~~~~~~~~~~~~~~~~~~~~~~~~~~~~~~~~~~~~~~~\n",
      "64/64 [==============================] - 341s 5s/step - loss: 26.2850 - val_loss: 23.9027 - lr: 7.4274e-06\n",
      "Epoch 57/80\n",
      "64/64 [==============================] - ETA: 0s - loss: 25.9992INFO:tensorflow:Assets written to: saved_models/checkpoint/assets\n"
     ]
    },
    {
     "name": "stderr",
     "output_type": "stream",
     "text": [
      "INFO:tensorflow:Assets written to: saved_models/checkpoint/assets\n"
     ]
    },
    {
     "name": "stdout",
     "output_type": "stream",
     "text": [
      "1/1 [==============================] - 1s 1s/step\n",
      "Original: gong2 zan1 ze1\n",
      "Prediction: gng 1\n",
      "~~~~~~~~~~~~~~~~~~~~~~~~~~~~~~~~~~~~~~~~~~~~~~~~~~~~~~~~~~~~~~~~~~~~~~~~~~~~~~~~~~~~~~~~~~~~~~~~~~~~\n",
      "Original: jau5 mou5 man6\n",
      "Prediction: ma ou a\n",
      "~~~~~~~~~~~~~~~~~~~~~~~~~~~~~~~~~~~~~~~~~~~~~~~~~~~~~~~~~~~~~~~~~~~~~~~~~~~~~~~~~~~~~~~~~~~~~~~~~~~~\n",
      "64/64 [==============================] - 343s 5s/step - loss: 25.9992 - val_loss: 24.3012 - lr: 6.7206e-06\n",
      "Epoch 58/80\n",
      "64/64 [==============================] - ETA: 0s - loss: 26.0121INFO:tensorflow:Assets written to: saved_models/checkpoint/assets\n"
     ]
    },
    {
     "name": "stderr",
     "output_type": "stream",
     "text": [
      "INFO:tensorflow:Assets written to: saved_models/checkpoint/assets\n"
     ]
    },
    {
     "name": "stdout",
     "output_type": "stream",
     "text": [
      "1/1 [==============================] - 1s 1s/step\n",
      "Original: hai6 ge3 ze1\n",
      "Prediction: hai e\n",
      "~~~~~~~~~~~~~~~~~~~~~~~~~~~~~~~~~~~~~~~~~~~~~~~~~~~~~~~~~~~~~~~~~~~~~~~~~~~~~~~~~~~~~~~~~~~~~~~~~~~~\n",
      "Original: hou2 hok6 zaap6\n",
      "Prediction: hou2 ha\n",
      "~~~~~~~~~~~~~~~~~~~~~~~~~~~~~~~~~~~~~~~~~~~~~~~~~~~~~~~~~~~~~~~~~~~~~~~~~~~~~~~~~~~~~~~~~~~~~~~~~~~~\n",
      "64/64 [==============================] - 344s 5s/step - loss: 26.0121 - val_loss: 23.5609 - lr: 6.0810e-06\n",
      "Epoch 59/80\n",
      "64/64 [==============================] - ETA: 0s - loss: 25.8597INFO:tensorflow:Assets written to: saved_models/checkpoint/assets\n"
     ]
    },
    {
     "name": "stderr",
     "output_type": "stream",
     "text": [
      "INFO:tensorflow:Assets written to: saved_models/checkpoint/assets\n"
     ]
    },
    {
     "name": "stdout",
     "output_type": "stream",
     "text": [
      "1/1 [==============================] - 1s 1s/step\n",
      "Original: do1 ze6 nei5\n",
      "Prediction: o e\n",
      "~~~~~~~~~~~~~~~~~~~~~~~~~~~~~~~~~~~~~~~~~~~~~~~~~~~~~~~~~~~~~~~~~~~~~~~~~~~~~~~~~~~~~~~~~~~~~~~~~~~~\n",
      "Original: hou2 jau1 sik1\n",
      "Prediction: hou2 i\n",
      "~~~~~~~~~~~~~~~~~~~~~~~~~~~~~~~~~~~~~~~~~~~~~~~~~~~~~~~~~~~~~~~~~~~~~~~~~~~~~~~~~~~~~~~~~~~~~~~~~~~~\n",
      "64/64 [==============================] - 349s 5s/step - loss: 25.8597 - val_loss: 23.4134 - lr: 5.5023e-06\n",
      "Epoch 60/80\n",
      "64/64 [==============================] - ETA: 0s - loss: 25.6918INFO:tensorflow:Assets written to: saved_models/checkpoint/assets\n"
     ]
    },
    {
     "name": "stderr",
     "output_type": "stream",
     "text": [
      "INFO:tensorflow:Assets written to: saved_models/checkpoint/assets\n"
     ]
    },
    {
     "name": "stdout",
     "output_type": "stream",
     "text": [
      "1/1 [==============================] - 1s 1s/step\n",
      "Original: jat1 cai4 hang4\n",
      "Prediction: ja a n\n",
      "~~~~~~~~~~~~~~~~~~~~~~~~~~~~~~~~~~~~~~~~~~~~~~~~~~~~~~~~~~~~~~~~~~~~~~~~~~~~~~~~~~~~~~~~~~~~~~~~~~~~\n",
      "Original: hou2 hoi1 sam1\n",
      "Prediction: hou oi a\n",
      "~~~~~~~~~~~~~~~~~~~~~~~~~~~~~~~~~~~~~~~~~~~~~~~~~~~~~~~~~~~~~~~~~~~~~~~~~~~~~~~~~~~~~~~~~~~~~~~~~~~~\n",
      "64/64 [==============================] - 341s 5s/step - loss: 25.6918 - val_loss: 22.9091 - lr: 4.9787e-06\n",
      "Epoch 61/80\n",
      "64/64 [==============================] - ETA: 0s - loss: 25.8243INFO:tensorflow:Assets written to: saved_models/checkpoint/assets\n"
     ]
    },
    {
     "name": "stderr",
     "output_type": "stream",
     "text": [
      "INFO:tensorflow:Assets written to: saved_models/checkpoint/assets\n"
     ]
    },
    {
     "name": "stdout",
     "output_type": "stream",
     "text": [
      "1/1 [==============================] - 1s 1s/step\n",
      "Original: gong2 zan1 ze1\n",
      "Prediction: gng 1\n",
      "~~~~~~~~~~~~~~~~~~~~~~~~~~~~~~~~~~~~~~~~~~~~~~~~~~~~~~~~~~~~~~~~~~~~~~~~~~~~~~~~~~~~~~~~~~~~~~~~~~~~\n",
      "Original: mou5 co3 laa1\n",
      "Prediction: mou a\n",
      "~~~~~~~~~~~~~~~~~~~~~~~~~~~~~~~~~~~~~~~~~~~~~~~~~~~~~~~~~~~~~~~~~~~~~~~~~~~~~~~~~~~~~~~~~~~~~~~~~~~~\n",
      "64/64 [==============================] - 341s 5s/step - loss: 25.8243 - val_loss: 23.3593 - lr: 4.5049e-06\n",
      "Epoch 62/80\n",
      "64/64 [==============================] - ETA: 0s - loss: 25.6203INFO:tensorflow:Assets written to: saved_models/checkpoint/assets\n"
     ]
    },
    {
     "name": "stderr",
     "output_type": "stream",
     "text": [
      "INFO:tensorflow:Assets written to: saved_models/checkpoint/assets\n"
     ]
    },
    {
     "name": "stdout",
     "output_type": "stream",
     "text": [
      "1/1 [==============================] - 1s 972ms/step\n",
      "Original: faai3 di1 laa1\n",
      "Prediction: a i1 a\n",
      "~~~~~~~~~~~~~~~~~~~~~~~~~~~~~~~~~~~~~~~~~~~~~~~~~~~~~~~~~~~~~~~~~~~~~~~~~~~~~~~~~~~~~~~~~~~~~~~~~~~~\n",
      "Original: hoi1 sam1 lei4\n",
      "Prediction: ho1 a\n",
      "~~~~~~~~~~~~~~~~~~~~~~~~~~~~~~~~~~~~~~~~~~~~~~~~~~~~~~~~~~~~~~~~~~~~~~~~~~~~~~~~~~~~~~~~~~~~~~~~~~~~\n",
      "64/64 [==============================] - 338s 5s/step - loss: 25.6203 - val_loss: 22.8876 - lr: 4.0762e-06\n",
      "Epoch 63/80\n",
      "64/64 [==============================] - ETA: 0s - loss: 25.7632INFO:tensorflow:Assets written to: saved_models/checkpoint/assets\n"
     ]
    },
    {
     "name": "stderr",
     "output_type": "stream",
     "text": [
      "INFO:tensorflow:Assets written to: saved_models/checkpoint/assets\n"
     ]
    },
    {
     "name": "stdout",
     "output_type": "stream",
     "text": [
      "1/1 [==============================] - 1s 1s/step\n",
      "Original: hou2 geng1 aa3\n",
      "Prediction: hou ga\n",
      "~~~~~~~~~~~~~~~~~~~~~~~~~~~~~~~~~~~~~~~~~~~~~~~~~~~~~~~~~~~~~~~~~~~~~~~~~~~~~~~~~~~~~~~~~~~~~~~~~~~~\n",
      "Original: zan1 hai6 hou2\n",
      "Prediction: a haho\n",
      "~~~~~~~~~~~~~~~~~~~~~~~~~~~~~~~~~~~~~~~~~~~~~~~~~~~~~~~~~~~~~~~~~~~~~~~~~~~~~~~~~~~~~~~~~~~~~~~~~~~~\n",
      "64/64 [==============================] - 338s 5s/step - loss: 25.7632 - val_loss: 22.2360 - lr: 3.6883e-06\n",
      "Epoch 64/80\n",
      "64/64 [==============================] - ETA: 0s - loss: 25.5624INFO:tensorflow:Assets written to: saved_models/checkpoint/assets\n"
     ]
    },
    {
     "name": "stderr",
     "output_type": "stream",
     "text": [
      "INFO:tensorflow:Assets written to: saved_models/checkpoint/assets\n"
     ]
    },
    {
     "name": "stdout",
     "output_type": "stream",
     "text": [
      "1/1 [==============================] - 1s 1s/step\n",
      "Original: oi3 nei5 dei6\n",
      "Prediction: oi e\n",
      "~~~~~~~~~~~~~~~~~~~~~~~~~~~~~~~~~~~~~~~~~~~~~~~~~~~~~~~~~~~~~~~~~~~~~~~~~~~~~~~~~~~~~~~~~~~~~~~~~~~~\n",
      "Original: bong1 m4 dou3\n",
      "Prediction: mon o o\n",
      "~~~~~~~~~~~~~~~~~~~~~~~~~~~~~~~~~~~~~~~~~~~~~~~~~~~~~~~~~~~~~~~~~~~~~~~~~~~~~~~~~~~~~~~~~~~~~~~~~~~~\n",
      "64/64 [==============================] - 340s 5s/step - loss: 25.5624 - val_loss: 22.0270 - lr: 3.3373e-06\n",
      "Epoch 65/80\n",
      "64/64 [==============================] - ETA: 0s - loss: 25.3906INFO:tensorflow:Assets written to: saved_models/checkpoint/assets\n"
     ]
    },
    {
     "name": "stderr",
     "output_type": "stream",
     "text": [
      "INFO:tensorflow:Assets written to: saved_models/checkpoint/assets\n"
     ]
    },
    {
     "name": "stdout",
     "output_type": "stream",
     "text": [
      "1/1 [==============================] - 1s 1s/step\n",
      "Original: hai6 ni1 dou6\n",
      "Prediction: hai d\n",
      "~~~~~~~~~~~~~~~~~~~~~~~~~~~~~~~~~~~~~~~~~~~~~~~~~~~~~~~~~~~~~~~~~~~~~~~~~~~~~~~~~~~~~~~~~~~~~~~~~~~~\n",
      "Original: zou2 tou2 aa3\n",
      "Prediction: hou2 o2a\n",
      "~~~~~~~~~~~~~~~~~~~~~~~~~~~~~~~~~~~~~~~~~~~~~~~~~~~~~~~~~~~~~~~~~~~~~~~~~~~~~~~~~~~~~~~~~~~~~~~~~~~~\n",
      "64/64 [==============================] - 339s 5s/step - loss: 25.3906 - val_loss: 24.0675 - lr: 3.0197e-06\n",
      "Epoch 66/80\n",
      "64/64 [==============================] - ETA: 0s - loss: 25.3891INFO:tensorflow:Assets written to: saved_models/checkpoint/assets\n"
     ]
    },
    {
     "name": "stderr",
     "output_type": "stream",
     "text": [
      "INFO:tensorflow:Assets written to: saved_models/checkpoint/assets\n"
     ]
    },
    {
     "name": "stdout",
     "output_type": "stream",
     "text": [
      "1/1 [==============================] - 1s 999ms/step\n",
      "Original: gong2 je5 laa1\n",
      "Prediction: gog2 a\n",
      "~~~~~~~~~~~~~~~~~~~~~~~~~~~~~~~~~~~~~~~~~~~~~~~~~~~~~~~~~~~~~~~~~~~~~~~~~~~~~~~~~~~~~~~~~~~~~~~~~~~~\n",
      "Original: tai2 haa5 laa1\n",
      "Prediction: a a\n",
      "~~~~~~~~~~~~~~~~~~~~~~~~~~~~~~~~~~~~~~~~~~~~~~~~~~~~~~~~~~~~~~~~~~~~~~~~~~~~~~~~~~~~~~~~~~~~~~~~~~~~\n",
      "64/64 [==============================] - 340s 5s/step - loss: 25.3891 - val_loss: 23.3347 - lr: 2.7324e-06\n",
      "Epoch 67/80\n",
      "64/64 [==============================] - ETA: 0s - loss: 25.3468INFO:tensorflow:Assets written to: saved_models/checkpoint/assets\n"
     ]
    },
    {
     "name": "stderr",
     "output_type": "stream",
     "text": [
      "INFO:tensorflow:Assets written to: saved_models/checkpoint/assets\n"
     ]
    },
    {
     "name": "stdout",
     "output_type": "stream",
     "text": [
      "1/1 [==============================] - 1s 1000ms/step\n",
      "Original: ngam1 ngam1 lei4\n",
      "Prediction: ma1 mam\n",
      "~~~~~~~~~~~~~~~~~~~~~~~~~~~~~~~~~~~~~~~~~~~~~~~~~~~~~~~~~~~~~~~~~~~~~~~~~~~~~~~~~~~~~~~~~~~~~~~~~~~~\n",
      "Original: hou2 hou2 teng1\n",
      "Prediction: hou2 ou n\n",
      "~~~~~~~~~~~~~~~~~~~~~~~~~~~~~~~~~~~~~~~~~~~~~~~~~~~~~~~~~~~~~~~~~~~~~~~~~~~~~~~~~~~~~~~~~~~~~~~~~~~~\n",
      "64/64 [==============================] - 336s 5s/step - loss: 25.3468 - val_loss: 23.4084 - lr: 2.4724e-06\n",
      "Epoch 68/80\n",
      "64/64 [==============================] - ETA: 0s - loss: 25.0803INFO:tensorflow:Assets written to: saved_models/checkpoint/assets\n"
     ]
    },
    {
     "name": "stderr",
     "output_type": "stream",
     "text": [
      "INFO:tensorflow:Assets written to: saved_models/checkpoint/assets\n"
     ]
    },
    {
     "name": "stdout",
     "output_type": "stream",
     "text": [
      "1/1 [==============================] - 1s 993ms/step\n",
      "Original: sing4 jat6 gam2\n",
      "Prediction: mn a\n",
      "~~~~~~~~~~~~~~~~~~~~~~~~~~~~~~~~~~~~~~~~~~~~~~~~~~~~~~~~~~~~~~~~~~~~~~~~~~~~~~~~~~~~~~~~~~~~~~~~~~~~\n",
      "Original: dak1 ji3 ge3\n",
      "Prediction: a \n",
      "~~~~~~~~~~~~~~~~~~~~~~~~~~~~~~~~~~~~~~~~~~~~~~~~~~~~~~~~~~~~~~~~~~~~~~~~~~~~~~~~~~~~~~~~~~~~~~~~~~~~\n",
      "64/64 [==============================] - 338s 5s/step - loss: 25.0803 - val_loss: 22.9825 - lr: 2.2371e-06\n",
      "Epoch 69/80\n",
      "64/64 [==============================] - ETA: 0s - loss: 25.3444INFO:tensorflow:Assets written to: saved_models/checkpoint/assets\n"
     ]
    },
    {
     "name": "stderr",
     "output_type": "stream",
     "text": [
      "INFO:tensorflow:Assets written to: saved_models/checkpoint/assets\n"
     ]
    },
    {
     "name": "stdout",
     "output_type": "stream",
     "text": [
      "1/1 [==============================] - 1s 1s/step\n",
      "Original: hou2 geng1 hei2\n",
      "Prediction: hou2 g \n",
      "~~~~~~~~~~~~~~~~~~~~~~~~~~~~~~~~~~~~~~~~~~~~~~~~~~~~~~~~~~~~~~~~~~~~~~~~~~~~~~~~~~~~~~~~~~~~~~~~~~~~\n",
      "Original: hou2 waan4 ge3\n",
      "Prediction: hou2 a\n",
      "~~~~~~~~~~~~~~~~~~~~~~~~~~~~~~~~~~~~~~~~~~~~~~~~~~~~~~~~~~~~~~~~~~~~~~~~~~~~~~~~~~~~~~~~~~~~~~~~~~~~\n",
      "64/64 [==============================] - 337s 5s/step - loss: 25.3444 - val_loss: 23.8460 - lr: 2.0242e-06\n",
      "Epoch 70/80\n",
      "64/64 [==============================] - ETA: 0s - loss: 25.0132INFO:tensorflow:Assets written to: saved_models/checkpoint/assets\n"
     ]
    },
    {
     "name": "stderr",
     "output_type": "stream",
     "text": [
      "INFO:tensorflow:Assets written to: saved_models/checkpoint/assets\n"
     ]
    },
    {
     "name": "stdout",
     "output_type": "stream",
     "text": [
      "1/1 [==============================] - 1s 1s/step\n",
      "Original: ngo5 oi3 nei5\n",
      "Prediction: o i\n",
      "~~~~~~~~~~~~~~~~~~~~~~~~~~~~~~~~~~~~~~~~~~~~~~~~~~~~~~~~~~~~~~~~~~~~~~~~~~~~~~~~~~~~~~~~~~~~~~~~~~~~\n",
      "Original: siu2 sam1 di1\n",
      "Prediction: hou m\n",
      "~~~~~~~~~~~~~~~~~~~~~~~~~~~~~~~~~~~~~~~~~~~~~~~~~~~~~~~~~~~~~~~~~~~~~~~~~~~~~~~~~~~~~~~~~~~~~~~~~~~~\n",
      "64/64 [==============================] - 341s 5s/step - loss: 25.0132 - val_loss: 22.2289 - lr: 1.8316e-06\n",
      "Epoch 71/80\n",
      "64/64 [==============================] - ETA: 0s - loss: 25.1548INFO:tensorflow:Assets written to: saved_models/checkpoint/assets\n"
     ]
    },
    {
     "name": "stderr",
     "output_type": "stream",
     "text": [
      "INFO:tensorflow:Assets written to: saved_models/checkpoint/assets\n"
     ]
    },
    {
     "name": "stdout",
     "output_type": "stream",
     "text": [
      "1/1 [==============================] - 1s 1s/step\n",
      "Original: gong2 zan1 waa6\n",
      "Prediction: hog a\n",
      "~~~~~~~~~~~~~~~~~~~~~~~~~~~~~~~~~~~~~~~~~~~~~~~~~~~~~~~~~~~~~~~~~~~~~~~~~~~~~~~~~~~~~~~~~~~~~~~~~~~~\n",
      "Original: hoi1 sam1 lei4\n",
      "Prediction: ho1 a\n",
      "~~~~~~~~~~~~~~~~~~~~~~~~~~~~~~~~~~~~~~~~~~~~~~~~~~~~~~~~~~~~~~~~~~~~~~~~~~~~~~~~~~~~~~~~~~~~~~~~~~~~\n",
      "64/64 [==============================] - 337s 5s/step - loss: 25.1548 - val_loss: 22.6910 - lr: 1.6573e-06\n",
      "Epoch 72/80\n",
      "64/64 [==============================] - ETA: 0s - loss: 25.0696INFO:tensorflow:Assets written to: saved_models/checkpoint/assets\n"
     ]
    },
    {
     "name": "stderr",
     "output_type": "stream",
     "text": [
      "INFO:tensorflow:Assets written to: saved_models/checkpoint/assets\n"
     ]
    },
    {
     "name": "stdout",
     "output_type": "stream",
     "text": [
      "1/1 [==============================] - 1s 991ms/step\n",
      "Original: gong2 zan1 ze1\n",
      "Prediction: gng 1\n",
      "~~~~~~~~~~~~~~~~~~~~~~~~~~~~~~~~~~~~~~~~~~~~~~~~~~~~~~~~~~~~~~~~~~~~~~~~~~~~~~~~~~~~~~~~~~~~~~~~~~~~\n",
      "Original: zoek3 faai3 lok6\n",
      "Prediction: ho a o\n",
      "~~~~~~~~~~~~~~~~~~~~~~~~~~~~~~~~~~~~~~~~~~~~~~~~~~~~~~~~~~~~~~~~~~~~~~~~~~~~~~~~~~~~~~~~~~~~~~~~~~~~\n",
      "64/64 [==============================] - 338s 5s/step - loss: 25.0696 - val_loss: 23.0327 - lr: 1.4996e-06\n",
      "Epoch 73/80\n",
      "64/64 [==============================] - ETA: 0s - loss: 25.0602INFO:tensorflow:Assets written to: saved_models/checkpoint/assets\n"
     ]
    },
    {
     "name": "stderr",
     "output_type": "stream",
     "text": [
      "INFO:tensorflow:Assets written to: saved_models/checkpoint/assets\n"
     ]
    },
    {
     "name": "stdout",
     "output_type": "stream",
     "text": [
      "1/1 [==============================] - 1s 1s/step\n",
      "Original: oi3 nei5 dei6\n",
      "Prediction: oi e\n",
      "~~~~~~~~~~~~~~~~~~~~~~~~~~~~~~~~~~~~~~~~~~~~~~~~~~~~~~~~~~~~~~~~~~~~~~~~~~~~~~~~~~~~~~~~~~~~~~~~~~~~\n",
      "Original: m4 ji3 si1\n",
      "Prediction: m s\n",
      "~~~~~~~~~~~~~~~~~~~~~~~~~~~~~~~~~~~~~~~~~~~~~~~~~~~~~~~~~~~~~~~~~~~~~~~~~~~~~~~~~~~~~~~~~~~~~~~~~~~~\n",
      "64/64 [==============================] - 340s 5s/step - loss: 25.0602 - val_loss: 21.9039 - lr: 1.3569e-06\n",
      "Epoch 74/80\n",
      "64/64 [==============================] - ETA: 0s - loss: 25.6493INFO:tensorflow:Assets written to: saved_models/checkpoint/assets\n"
     ]
    },
    {
     "name": "stderr",
     "output_type": "stream",
     "text": [
      "INFO:tensorflow:Assets written to: saved_models/checkpoint/assets\n"
     ]
    },
    {
     "name": "stdout",
     "output_type": "stream",
     "text": [
      "1/1 [==============================] - 1s 1s/step\n",
      "Original: faai3 di1 laa1\n",
      "Prediction: ai a\n",
      "~~~~~~~~~~~~~~~~~~~~~~~~~~~~~~~~~~~~~~~~~~~~~~~~~~~~~~~~~~~~~~~~~~~~~~~~~~~~~~~~~~~~~~~~~~~~~~~~~~~~\n",
      "Original: hoi1 sam1 lei4\n",
      "Prediction: ho1 a\n",
      "~~~~~~~~~~~~~~~~~~~~~~~~~~~~~~~~~~~~~~~~~~~~~~~~~~~~~~~~~~~~~~~~~~~~~~~~~~~~~~~~~~~~~~~~~~~~~~~~~~~~\n",
      "64/64 [==============================] - 340s 5s/step - loss: 25.6493 - val_loss: 22.9481 - lr: 1.2277e-06\n",
      "Epoch 75/80\n",
      "64/64 [==============================] - ETA: 0s - loss: 25.0160INFO:tensorflow:Assets written to: saved_models/checkpoint/assets\n"
     ]
    },
    {
     "name": "stderr",
     "output_type": "stream",
     "text": [
      "INFO:tensorflow:Assets written to: saved_models/checkpoint/assets\n"
     ]
    },
    {
     "name": "stdout",
     "output_type": "stream",
     "text": [
      "1/1 [==============================] - 1s 1s/step\n",
      "Original: hou2 geng1 hei2\n",
      "Prediction: hou ge\n",
      "~~~~~~~~~~~~~~~~~~~~~~~~~~~~~~~~~~~~~~~~~~~~~~~~~~~~~~~~~~~~~~~~~~~~~~~~~~~~~~~~~~~~~~~~~~~~~~~~~~~~\n",
      "Original: hou2 hoi1 sam1\n",
      "Prediction: hou o1 a\n",
      "~~~~~~~~~~~~~~~~~~~~~~~~~~~~~~~~~~~~~~~~~~~~~~~~~~~~~~~~~~~~~~~~~~~~~~~~~~~~~~~~~~~~~~~~~~~~~~~~~~~~\n",
      "64/64 [==============================] - 342s 5s/step - loss: 25.0160 - val_loss: 22.8481 - lr: 1.1109e-06\n",
      "Epoch 76/80\n",
      "64/64 [==============================] - ETA: 0s - loss: 25.0445INFO:tensorflow:Assets written to: saved_models/checkpoint/assets\n"
     ]
    },
    {
     "name": "stderr",
     "output_type": "stream",
     "text": [
      "INFO:tensorflow:Assets written to: saved_models/checkpoint/assets\n"
     ]
    },
    {
     "name": "stdout",
     "output_type": "stream",
     "text": [
      "1/1 [==============================] - 1s 1s/step\n",
      "Original: m4 hai6 aa3\n",
      "Prediction: ma ha\n",
      "~~~~~~~~~~~~~~~~~~~~~~~~~~~~~~~~~~~~~~~~~~~~~~~~~~~~~~~~~~~~~~~~~~~~~~~~~~~~~~~~~~~~~~~~~~~~~~~~~~~~\n",
      "Original: ngam1 ngam1 lei4\n",
      "Prediction: ma1 mam\n",
      "~~~~~~~~~~~~~~~~~~~~~~~~~~~~~~~~~~~~~~~~~~~~~~~~~~~~~~~~~~~~~~~~~~~~~~~~~~~~~~~~~~~~~~~~~~~~~~~~~~~~\n",
      "64/64 [==============================] - 341s 5s/step - loss: 25.0445 - val_loss: 21.7759 - lr: 1.0052e-06\n",
      "Epoch 77/80\n",
      "64/64 [==============================] - ETA: 0s - loss: 24.7211INFO:tensorflow:Assets written to: saved_models/checkpoint/assets\n"
     ]
    },
    {
     "name": "stderr",
     "output_type": "stream",
     "text": [
      "INFO:tensorflow:Assets written to: saved_models/checkpoint/assets\n"
     ]
    },
    {
     "name": "stdout",
     "output_type": "stream",
     "text": [
      "1/1 [==============================] - 1s 1s/step\n",
      "Original: nei5 hou2 maa1\n",
      "Prediction: hoi hou a\n",
      "~~~~~~~~~~~~~~~~~~~~~~~~~~~~~~~~~~~~~~~~~~~~~~~~~~~~~~~~~~~~~~~~~~~~~~~~~~~~~~~~~~~~~~~~~~~~~~~~~~~~\n",
      "Original: gong2 dak1 hou2\n",
      "Prediction: hog ao\n",
      "~~~~~~~~~~~~~~~~~~~~~~~~~~~~~~~~~~~~~~~~~~~~~~~~~~~~~~~~~~~~~~~~~~~~~~~~~~~~~~~~~~~~~~~~~~~~~~~~~~~~\n",
      "64/64 [==============================] - 337s 5s/step - loss: 24.7211 - val_loss: 22.4300 - lr: 9.0953e-07\n",
      "Epoch 78/80\n",
      "64/64 [==============================] - ETA: 0s - loss: 24.6873INFO:tensorflow:Assets written to: saved_models/checkpoint/assets\n"
     ]
    },
    {
     "name": "stderr",
     "output_type": "stream",
     "text": [
      "INFO:tensorflow:Assets written to: saved_models/checkpoint/assets\n"
     ]
    },
    {
     "name": "stdout",
     "output_type": "stream",
     "text": [
      "1/1 [==============================] - 1s 1s/step\n",
      "Original: zoek3 hou2 wan6\n",
      "Prediction: ho hou \n",
      "~~~~~~~~~~~~~~~~~~~~~~~~~~~~~~~~~~~~~~~~~~~~~~~~~~~~~~~~~~~~~~~~~~~~~~~~~~~~~~~~~~~~~~~~~~~~~~~~~~~~\n",
      "Original: oi3 do1 di1\n",
      "Prediction: o 1\n",
      "~~~~~~~~~~~~~~~~~~~~~~~~~~~~~~~~~~~~~~~~~~~~~~~~~~~~~~~~~~~~~~~~~~~~~~~~~~~~~~~~~~~~~~~~~~~~~~~~~~~~\n",
      "64/64 [==============================] - 356s 6s/step - loss: 24.6873 - val_loss: 23.0439 - lr: 8.2298e-07\n",
      "Epoch 79/80\n",
      "64/64 [==============================] - ETA: 0s - loss: 25.0033INFO:tensorflow:Assets written to: saved_models/checkpoint/assets\n"
     ]
    },
    {
     "name": "stderr",
     "output_type": "stream",
     "text": [
      "INFO:tensorflow:Assets written to: saved_models/checkpoint/assets\n"
     ]
    },
    {
     "name": "stdout",
     "output_type": "stream",
     "text": [
      "1/1 [==============================] - 1s 1s/step\n",
      "Original: zou2 san4 aa3\n",
      "Prediction: hou2 a\n",
      "~~~~~~~~~~~~~~~~~~~~~~~~~~~~~~~~~~~~~~~~~~~~~~~~~~~~~~~~~~~~~~~~~~~~~~~~~~~~~~~~~~~~~~~~~~~~~~~~~~~~\n",
      "Original: zoi3 gin3 laa1\n",
      "Prediction: zo a\n",
      "~~~~~~~~~~~~~~~~~~~~~~~~~~~~~~~~~~~~~~~~~~~~~~~~~~~~~~~~~~~~~~~~~~~~~~~~~~~~~~~~~~~~~~~~~~~~~~~~~~~~\n",
      "64/64 [==============================] - 342s 5s/step - loss: 25.0033 - val_loss: 22.4627 - lr: 7.4466e-07\n",
      "Epoch 80/80\n",
      "64/64 [==============================] - ETA: 0s - loss: 25.2594INFO:tensorflow:Assets written to: saved_models/checkpoint/assets\n"
     ]
    },
    {
     "name": "stderr",
     "output_type": "stream",
     "text": [
      "INFO:tensorflow:Assets written to: saved_models/checkpoint/assets\n"
     ]
    },
    {
     "name": "stdout",
     "output_type": "stream",
     "text": [
      "1/1 [==============================] - 1s 1s/step\n",
      "Original: zan1 waa6 laa1\n",
      "Prediction: an a\n",
      "~~~~~~~~~~~~~~~~~~~~~~~~~~~~~~~~~~~~~~~~~~~~~~~~~~~~~~~~~~~~~~~~~~~~~~~~~~~~~~~~~~~~~~~~~~~~~~~~~~~~\n",
      "Original: faai3 lok6 siu3\n",
      "Prediction: a ok\n",
      "~~~~~~~~~~~~~~~~~~~~~~~~~~~~~~~~~~~~~~~~~~~~~~~~~~~~~~~~~~~~~~~~~~~~~~~~~~~~~~~~~~~~~~~~~~~~~~~~~~~~\n",
      "64/64 [==============================] - 338s 5s/step - loss: 25.2594 - val_loss: 23.5732 - lr: 6.7380e-07\n"
     ]
    },
    {
     "data": {
      "text/plain": [
       "<keras.src.callbacks.History at 0x7fabb6bafd60>"
      ]
     },
     "execution_count": 269,
     "metadata": {},
     "output_type": "execute_result"
    }
   ],
   "source": [
    "model.fit(train_data, validation_data=test_data, epochs=80, callbacks=[checkpoint_callback, schedule_callback, example_callback])"
   ]
  },
  {
   "cell_type": "code",
   "execution_count": 270,
   "id": "e8a852f5-e2d1-4067-b39e-64a764265b50",
   "metadata": {},
   "outputs": [
    {
     "name": "stderr",
     "output_type": "stream",
     "text": [
      "2024-01-18 06:40:00.910788: W tensorflow/core/util/tensor_slice_reader.cc:98] Could not open saved_models/checkpoint: FAILED_PRECONDITION: saved_models/checkpoint; Is a directory: perhaps your file is in a different file format and you need to use a different restore operator?\n"
     ]
    },
    {
     "data": {
      "text/plain": [
       "<tensorflow.python.checkpoint.checkpoint.CheckpointLoadStatus at 0x7fabb1673d60>"
      ]
     },
     "execution_count": 270,
     "metadata": {},
     "output_type": "execute_result"
    }
   ],
   "source": [
    "model.load_weights('saved_models/checkpoint')"
   ]
  },
  {
   "cell_type": "code",
   "execution_count": 271,
   "id": "393363a3-abe5-4c5f-9774-5b4c94854559",
   "metadata": {},
   "outputs": [],
   "source": [
    "test = test_data.as_numpy_iterator()"
   ]
  },
  {
   "cell_type": "code",
   "execution_count": 272,
   "id": "fcd306ff-ea5f-4b12-862f-06611592384c",
   "metadata": {},
   "outputs": [],
   "source": [
    "sample = test.next()"
   ]
  },
  {
   "cell_type": "code",
   "execution_count": 273,
   "id": "a5d3a7aa-2a6e-40e9-8c80-c3e4982b7fe9",
   "metadata": {},
   "outputs": [
    {
     "name": "stdout",
     "output_type": "stream",
     "text": [
      "1/1 [==============================] - 1s 1s/step\n"
     ]
    }
   ],
   "source": [
    "yhat = model.predict(sample[0])"
   ]
  },
  {
   "cell_type": "code",
   "execution_count": 274,
   "id": "478e5c62-7f69-4d62-95d5-a034ca4e731c",
   "metadata": {},
   "outputs": [
    {
     "name": "stdout",
     "output_type": "stream",
     "text": [
      "~~~~~~~~~~~~~~~~~~~~~~~~~~~~~~~~~~~~~~~~~~~~~~~~~~~~~~~~~~~~~~~~~~~~~~~~~~~~~~~~~~~~~~~~~~~~~~~~~~~~ REAL TEXT\n"
     ]
    },
    {
     "data": {
      "text/plain": [
       "[<tf.Tensor: shape=(), dtype=string, numpy=b'hai6 ni1 dou6'>,\n",
       " <tf.Tensor: shape=(), dtype=string, numpy=b'hou2 hou2 teng1'>]"
      ]
     },
     "execution_count": 274,
     "metadata": {},
     "output_type": "execute_result"
    }
   ],
   "source": [
    "print('~'*100, 'REAL TEXT')\n",
    "[tf.strings.reduce_join([num_to_char(word) for word in sentence]) for sentence in sample[1]]"
   ]
  },
  {
   "cell_type": "code",
   "execution_count": 275,
   "id": "d41f481d-8e58-4281-8eba-1794947b3e96",
   "metadata": {},
   "outputs": [],
   "source": [
    "decoded = tf.keras.backend.ctc_decode(yhat, input_length=[75,75], greedy=True)[0][0].numpy()"
   ]
  },
  {
   "cell_type": "code",
   "execution_count": 276,
   "id": "3c46872c-24bb-4c2c-a464-f5e0a2779921",
   "metadata": {},
   "outputs": [
    {
     "name": "stdout",
     "output_type": "stream",
     "text": [
      "~~~~~~~~~~~~~~~~~~~~~~~~~~~~~~~~~~~~~~~~~~~~~~~~~~~~~~~~~~~~~~~~~~~~~~~~~~~~~~~~~~~~~~~~~~~~~~~~~~~~ PREDICTION\n"
     ]
    },
    {
     "data": {
      "text/plain": [
       "[<tf.Tensor: shape=(), dtype=string, numpy=b'hai'>,\n",
       " <tf.Tensor: shape=(), dtype=string, numpy=b'houo'>]"
      ]
     },
     "execution_count": 276,
     "metadata": {},
     "output_type": "execute_result"
    }
   ],
   "source": [
    "print('~'*100, 'PREDICTION')\n",
    "[tf.strings.reduce_join([num_to_char(word) for word in sentence]) for sentence in decoded]"
   ]
  },
  {
   "cell_type": "code",
   "execution_count": 277,
   "id": "2817ecf7-9f33-414e-bd92-f59fcb10bf72",
   "metadata": {},
   "outputs": [],
   "source": [
    "# model.save(os.path.join('models', 'final_model'))"
   ]
  },
  {
   "cell_type": "code",
   "execution_count": null,
   "id": "3fb079cc-2eac-48cb-b29b-089ab6ff017c",
   "metadata": {},
   "outputs": [],
   "source": []
  }
 ],
 "metadata": {
  "kernelspec": {
   "display_name": "Python 3 (ipykernel)",
   "language": "python",
   "name": "python3"
  },
  "language_info": {
   "codemirror_mode": {
    "name": "ipython",
    "version": 3
   },
   "file_extension": ".py",
   "mimetype": "text/x-python",
   "name": "python",
   "nbconvert_exporter": "python",
   "pygments_lexer": "ipython3",
   "version": "3.10.12"
  }
 },
 "nbformat": 4,
 "nbformat_minor": 5
}
