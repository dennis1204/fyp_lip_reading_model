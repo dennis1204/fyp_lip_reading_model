{
 "cells": [
  {
   "cell_type": "markdown",
   "id": "57a1169a-17d5-4420-af66-8ff57f6ed2a9",
   "metadata": {},
   "source": [
    "0. Install and Import Dependencies"
   ]
  },
  {
   "cell_type": "code",
   "execution_count": 716,
   "id": "89ee03b8-5655-4e45-b854-65417c5597e0",
   "metadata": {},
   "outputs": [],
   "source": [
    "import os\n",
    "import cv2\n",
    "import tensorflow as tf\n",
    "import numpy as np\n",
    "from typing import List\n",
    "from matplotlib import pyplot as plt\n",
    "import imageio\n"
   ]
  },
  {
   "cell_type": "code",
   "execution_count": 717,
   "id": "5f892784-967e-4935-b146-6b0a9346870e",
   "metadata": {},
   "outputs": [
    {
     "data": {
      "text/plain": [
       "[]"
      ]
     },
     "execution_count": 717,
     "metadata": {},
     "output_type": "execute_result"
    }
   ],
   "source": [
    "tf.config.list_physical_devices('GPU')"
   ]
  },
  {
   "cell_type": "code",
   "execution_count": 718,
   "id": "30a454b7-69ec-44a8-b80c-f7d248d106a7",
   "metadata": {},
   "outputs": [],
   "source": [
    "physical_devices = tf.config.list_physical_devices('GPU')\n",
    "try:\n",
    "    tf.config.experimental.set_memory_growth(physical_devices[0], True)\n",
    "except:\n",
    "    pass"
   ]
  },
  {
   "cell_type": "markdown",
   "id": "f38b57db-c984-4998-a366-ab2adcddc39a",
   "metadata": {},
   "source": [
    "1. Build Data Loading Functions"
   ]
  },
  {
   "cell_type": "code",
   "execution_count": 719,
   "id": "cbb55c3b-4860-435b-853e-db590b3e6ff9",
   "metadata": {},
   "outputs": [],
   "source": [
    "def load_video(path:str) -> List[float]: \n",
    "\n",
    "    cap = cv2.VideoCapture(path)\n",
    "    frames = []\n",
    "    for _ in range(int(cap.get(cv2.CAP_PROP_FRAME_COUNT))): \n",
    "        ret, frame = cap.read()\n",
    "        frame = tf.image.rgb_to_grayscale(frame)\n",
    "        frames.append(frame[ 310:370,300:435,:])\n",
    "    cap.release()\n",
    "    \n",
    "    mean = tf.math.reduce_mean(frames)\n",
    "    std = tf.math.reduce_std(tf.cast(frames, tf.float32))\n",
    "    return tf.cast((frames - mean), tf.float32) / std"
   ]
  },
  {
   "cell_type": "code",
   "execution_count": 720,
   "id": "be196ef0-0a35-4161-a22c-33a0df4f63fd",
   "metadata": {},
   "outputs": [],
   "source": [
    "vocab = [x for x in \"abcdefghijklmnopqrstuvwxyz'?!123456789 \"]"
   ]
  },
  {
   "cell_type": "code",
   "execution_count": 721,
   "id": "bf9c0ab7-338c-433c-8a68-66f7ce3150e5",
   "metadata": {},
   "outputs": [
    {
     "name": "stdout",
     "output_type": "stream",
     "text": [
      "The vocabulary is: ['', 'a', 'b', 'c', 'd', 'e', 'f', 'g', 'h', 'i', 'j', 'k', 'l', 'm', 'n', 'o', 'p', 'q', 'r', 's', 't', 'u', 'v', 'w', 'x', 'y', 'z', \"'\", '?', '!', '1', '2', '3', '4', '5', '6', '7', '8', '9', ' '] (size =40)\n"
     ]
    }
   ],
   "source": [
    "char_to_num = tf.keras.layers.StringLookup(vocabulary=vocab, oov_token=\"\")\n",
    "num_to_char = tf.keras.layers.StringLookup(\n",
    "    vocabulary=char_to_num.get_vocabulary(), oov_token=\"\", invert=True\n",
    ")\n",
    "\n",
    "print(\n",
    "    f\"The vocabulary is: {char_to_num.get_vocabulary()} \"\n",
    "    f\"(size ={char_to_num.vocabulary_size()})\"\n",
    ")"
   ]
  },
  {
   "cell_type": "code",
   "execution_count": 722,
   "id": "7767f084-2a9b-45ab-a28c-567ede937359",
   "metadata": {},
   "outputs": [
    {
     "data": {
      "text/plain": [
       "['',\n",
       " 'a',\n",
       " 'b',\n",
       " 'c',\n",
       " 'd',\n",
       " 'e',\n",
       " 'f',\n",
       " 'g',\n",
       " 'h',\n",
       " 'i',\n",
       " 'j',\n",
       " 'k',\n",
       " 'l',\n",
       " 'm',\n",
       " 'n',\n",
       " 'o',\n",
       " 'p',\n",
       " 'q',\n",
       " 'r',\n",
       " 's',\n",
       " 't',\n",
       " 'u',\n",
       " 'v',\n",
       " 'w',\n",
       " 'x',\n",
       " 'y',\n",
       " 'z',\n",
       " \"'\",\n",
       " '?',\n",
       " '!',\n",
       " '1',\n",
       " '2',\n",
       " '3',\n",
       " '4',\n",
       " '5',\n",
       " '6',\n",
       " '7',\n",
       " '8',\n",
       " '9',\n",
       " ' ']"
      ]
     },
     "execution_count": 722,
     "metadata": {},
     "output_type": "execute_result"
    }
   ],
   "source": [
    "char_to_num.get_vocabulary()"
   ]
  },
  {
   "cell_type": "code",
   "execution_count": 723,
   "id": "6bd1e88c-4c03-454f-a1af-975ea6885378",
   "metadata": {},
   "outputs": [
    {
     "data": {
      "text/plain": [
       "<tf.Tensor: shape=(4,), dtype=int64, numpy=array([14,  5,  9, 30])>"
      ]
     },
     "execution_count": 723,
     "metadata": {},
     "output_type": "execute_result"
    }
   ],
   "source": [
    "char_to_num(['n','e','i','1'])"
   ]
  },
  {
   "cell_type": "code",
   "execution_count": 724,
   "id": "5a08675a-db96-4790-9c02-4ec1a84869ec",
   "metadata": {},
   "outputs": [
    {
     "data": {
      "text/plain": [
       "<tf.Tensor: shape=(4,), dtype=string, numpy=array([b'n', b'e', b'i', b'1'], dtype=object)>"
      ]
     },
     "execution_count": 724,
     "metadata": {},
     "output_type": "execute_result"
    }
   ],
   "source": [
    "num_to_char([14,  5,  9, 30])"
   ]
  },
  {
   "cell_type": "code",
   "execution_count": 725,
   "id": "29cc46e8-5826-4e9c-bce8-ebb80272bc3e",
   "metadata": {},
   "outputs": [],
   "source": [
    "# from zipfile import ZipFile\n",
    "# file_name = \"./data_cantonese.zip\"\n",
    "\n",
    "# with ZipFile(file_name, 'r') as zip:\n",
    "#   zip.extractall()\n",
    "#   print('Done')"
   ]
  },
  {
   "cell_type": "code",
   "execution_count": 726,
   "id": "719de193-3912-4e16-9820-7537bb8cbee9",
   "metadata": {},
   "outputs": [],
   "source": [
    "def load_alignments(path:str) -> List[str]: \n",
    "    with open(path, 'r') as f: \n",
    "        lines = f.readlines() \n",
    "    tokens = []\n",
    "    for line in lines:\n",
    "        line = line.split()\n",
    "        if line[2] != 'sil': \n",
    "            tokens = [*tokens,' ',line[2]]\n",
    "    return char_to_num(tf.reshape(tf.strings.unicode_split(tokens, input_encoding='UTF-8'), (-1)))[1:]"
   ]
  },
  {
   "cell_type": "code",
   "execution_count": 727,
   "id": "cab01f63-12ba-4ef2-9261-2c62f6960856",
   "metadata": {},
   "outputs": [],
   "source": [
    "def load_data(path: str): \n",
    "    path = bytes.decode(path.numpy())\n",
    "    file_name = path.split('/')[-1].split('.')[0]\n",
    "    # File name splitting for windows\n",
    "    # file_name = path.split('\\\\')[-1].split('.')[0]\n",
    "    video_path = os.path.join('data_cantonese','s1',f'{file_name}.mp4')\n",
    "    alignment_path = os.path.join('data_cantonese','alignment','s1',f'{file_name}.align')\n",
    "    frames = load_video(video_path) \n",
    "    alignments = load_alignments(alignment_path)\n",
    "    \n",
    "    return frames, alignments"
   ]
  },
  {
   "cell_type": "code",
   "execution_count": 728,
   "id": "edea7068-3483-4feb-b525-33e20849f3ca",
   "metadata": {},
   "outputs": [],
   "source": [
    "test_path = './data_cantonese/s1/IMG_2834.mp4'"
   ]
  },
  {
   "cell_type": "code",
   "execution_count": 729,
   "id": "45bf1295-84ac-4ec3-a6bf-ce4d486f4206",
   "metadata": {},
   "outputs": [
    {
     "data": {
      "text/plain": [
       "'IMG_2834'"
      ]
     },
     "execution_count": 729,
     "metadata": {},
     "output_type": "execute_result"
    }
   ],
   "source": [
    "tf.convert_to_tensor(test_path).numpy().decode('utf-8').split('/')[-1].split('.')[0]"
   ]
  },
  {
   "cell_type": "code",
   "execution_count": 730,
   "id": "d87e8753-df1d-458f-bd16-bf5cc4fdf11d",
   "metadata": {},
   "outputs": [
    {
     "data": {
      "text/plain": [
       "<tf.Tensor: shape=(), dtype=string, numpy=b'./data_cantonese/s1/IMG_2834.mp4'>"
      ]
     },
     "execution_count": 730,
     "metadata": {},
     "output_type": "execute_result"
    }
   ],
   "source": [
    "tf.convert_to_tensor(test_path)"
   ]
  },
  {
   "cell_type": "code",
   "execution_count": 731,
   "id": "d3a70f07-9b6d-4d63-9413-08f187c5e8f9",
   "metadata": {},
   "outputs": [],
   "source": [
    "frames, alignments = load_data(tf.convert_to_tensor(test_path))"
   ]
  },
  {
   "cell_type": "code",
   "execution_count": 732,
   "id": "571e2a42-f6b8-4666-9a19-29311a924721",
   "metadata": {},
   "outputs": [
    {
     "data": {
      "text/plain": [
       "(<tf.Tensor: shape=(74, 60, 135, 1), dtype=float32, numpy=\n",
       " array([[[[ 0.59610504],\n",
       "          [ 0.59610504],\n",
       "          [ 0.54642963],\n",
       "          ...,\n",
       "          [ 0.7451313 ],\n",
       "          [ 0.7451313 ],\n",
       "          [ 0.6954559 ]],\n",
       " \n",
       "         [[ 0.64578044],\n",
       "          [ 0.64578044],\n",
       "          [ 0.59610504],\n",
       "          ...,\n",
       "          [ 0.7451313 ],\n",
       "          [ 0.7451313 ],\n",
       "          [ 0.6954559 ]],\n",
       " \n",
       "         [[ 0.6954559 ],\n",
       "          [ 0.6954559 ],\n",
       "          [ 0.6954559 ],\n",
       "          ...,\n",
       "          [ 0.6954559 ],\n",
       "          [ 0.6954559 ],\n",
       "          [ 0.6954559 ]],\n",
       " \n",
       "         ...,\n",
       " \n",
       "         [[ 1.1922101 ],\n",
       "          [ 1.1922101 ],\n",
       "          [ 1.1922101 ],\n",
       "          ...,\n",
       "          [12.617557  ],\n",
       "          [12.6672325 ],\n",
       "          [ 0.        ]],\n",
       " \n",
       "         [[ 1.0431838 ],\n",
       "          [ 1.0431838 ],\n",
       "          [ 1.0928593 ],\n",
       "          ...,\n",
       "          [12.6672325 ],\n",
       "          [12.6672325 ],\n",
       "          [ 0.        ]],\n",
       " \n",
       "         [[ 1.3909118 ],\n",
       "          [ 1.2915609 ],\n",
       "          [ 1.1922101 ],\n",
       "          ...,\n",
       "          [12.6672325 ],\n",
       "          [12.6672325 ],\n",
       "          [ 0.04967542]]],\n",
       " \n",
       " \n",
       "        [[[ 0.59610504],\n",
       "          [ 0.59610504],\n",
       "          [ 0.54642963],\n",
       "          ...,\n",
       "          [ 0.7451313 ],\n",
       "          [ 0.7451313 ],\n",
       "          [ 0.7451313 ]],\n",
       " \n",
       "         [[ 0.64578044],\n",
       "          [ 0.64578044],\n",
       "          [ 0.64578044],\n",
       "          ...,\n",
       "          [ 0.7451313 ],\n",
       "          [ 0.7451313 ],\n",
       "          [ 0.7451313 ]],\n",
       " \n",
       "         [[ 0.6954559 ],\n",
       "          [ 0.6954559 ],\n",
       "          [ 0.6954559 ],\n",
       "          ...,\n",
       "          [ 0.7451313 ],\n",
       "          [ 0.7451313 ],\n",
       "          [ 0.7451313 ]],\n",
       " \n",
       "         ...,\n",
       " \n",
       "         [[ 1.1922101 ],\n",
       "          [ 1.1922101 ],\n",
       "          [ 1.2418855 ],\n",
       "          ...,\n",
       "          [12.617557  ],\n",
       "          [12.6672325 ],\n",
       "          [ 0.        ]],\n",
       " \n",
       "         [[ 1.0928593 ],\n",
       "          [ 1.0928593 ],\n",
       "          [ 1.0928593 ],\n",
       "          ...,\n",
       "          [12.6672325 ],\n",
       "          [12.6672325 ],\n",
       "          [ 0.        ]],\n",
       " \n",
       "         [[ 1.3909118 ],\n",
       "          [ 1.3412364 ],\n",
       "          [ 1.2418855 ],\n",
       "          ...,\n",
       "          [12.6672325 ],\n",
       "          [12.6672325 ],\n",
       "          [ 0.04967542]]],\n",
       " \n",
       " \n",
       "        [[[ 0.59610504],\n",
       "          [ 0.59610504],\n",
       "          [ 0.4967542 ],\n",
       "          ...,\n",
       "          [ 0.7451313 ],\n",
       "          [ 0.7451313 ],\n",
       "          [ 0.7451313 ]],\n",
       " \n",
       "         [[ 0.64578044],\n",
       "          [ 0.64578044],\n",
       "          [ 0.64578044],\n",
       "          ...,\n",
       "          [ 0.7451313 ],\n",
       "          [ 0.7451313 ],\n",
       "          [ 0.7451313 ]],\n",
       " \n",
       "         [[ 0.6954559 ],\n",
       "          [ 0.6954559 ],\n",
       "          [ 0.6954559 ],\n",
       "          ...,\n",
       "          [ 0.6954559 ],\n",
       "          [ 0.6954559 ],\n",
       "          [ 0.6954559 ]],\n",
       " \n",
       "         ...,\n",
       " \n",
       "         [[ 1.1922101 ],\n",
       "          [ 1.1922101 ],\n",
       "          [ 1.1425347 ],\n",
       "          ...,\n",
       "          [12.617557  ],\n",
       "          [12.6672325 ],\n",
       "          [ 0.        ]],\n",
       " \n",
       "         [[ 1.1922101 ],\n",
       "          [ 1.0928593 ],\n",
       "          [ 1.0928593 ],\n",
       "          ...,\n",
       "          [12.617557  ],\n",
       "          [12.6672325 ],\n",
       "          [ 0.        ]],\n",
       " \n",
       "         [[ 1.3909118 ],\n",
       "          [ 1.3412364 ],\n",
       "          [ 1.2418855 ],\n",
       "          ...,\n",
       "          [12.617557  ],\n",
       "          [12.6672325 ],\n",
       "          [ 0.        ]]],\n",
       " \n",
       " \n",
       "        ...,\n",
       " \n",
       " \n",
       "        [[[ 0.943833  ],\n",
       "          [ 0.7948067 ],\n",
       "          [ 0.9935084 ],\n",
       "          ...,\n",
       "          [ 0.8941576 ],\n",
       "          [ 0.7948067 ],\n",
       "          [ 0.7948067 ]],\n",
       " \n",
       "         [[ 1.0431838 ],\n",
       "          [ 1.0431838 ],\n",
       "          [ 1.0431838 ],\n",
       "          ...,\n",
       "          [ 0.8941576 ],\n",
       "          [ 0.8941576 ],\n",
       "          [ 0.7948067 ]],\n",
       " \n",
       "         [[ 1.1425347 ],\n",
       "          [ 1.0928593 ],\n",
       "          [ 1.0431838 ],\n",
       "          ...,\n",
       "          [ 0.943833  ],\n",
       "          [ 0.8941576 ],\n",
       "          [ 0.8941576 ]],\n",
       " \n",
       "         ...,\n",
       " \n",
       "         [[ 1.1922101 ],\n",
       "          [ 1.0928593 ],\n",
       "          [ 1.2418855 ],\n",
       "          ...,\n",
       "          [ 0.04967542],\n",
       "          [ 0.04967542],\n",
       "          [ 0.04967542]],\n",
       " \n",
       "         [[ 1.3412364 ],\n",
       "          [ 1.3412364 ],\n",
       "          [ 1.2418855 ],\n",
       "          ...,\n",
       "          [ 0.04967542],\n",
       "          [ 0.04967542],\n",
       "          [ 0.04967542]],\n",
       " \n",
       "         [[ 0.943833  ],\n",
       "          [ 1.0928593 ],\n",
       "          [ 1.2418855 ],\n",
       "          ...,\n",
       "          [ 0.        ],\n",
       "          [ 0.        ],\n",
       "          [ 0.04967542]]],\n",
       " \n",
       " \n",
       "        [[[ 0.8444821 ],\n",
       "          [ 0.8444821 ],\n",
       "          [ 1.0431838 ],\n",
       "          ...,\n",
       "          [ 0.8941576 ],\n",
       "          [ 0.7948067 ],\n",
       "          [ 0.7948067 ]],\n",
       " \n",
       "         [[ 1.0928593 ],\n",
       "          [ 1.0928593 ],\n",
       "          [ 0.9935084 ],\n",
       "          ...,\n",
       "          [ 0.8941576 ],\n",
       "          [ 0.8941576 ],\n",
       "          [ 0.7948067 ]],\n",
       " \n",
       "         [[ 1.0928593 ],\n",
       "          [ 1.0431838 ],\n",
       "          [ 0.9935084 ],\n",
       "          ...,\n",
       "          [ 0.943833  ],\n",
       "          [ 0.8941576 ],\n",
       "          [ 0.8941576 ]],\n",
       " \n",
       "         ...,\n",
       " \n",
       "         [[ 1.0928593 ],\n",
       "          [ 1.0928593 ],\n",
       "          [ 1.0928593 ],\n",
       "          ...,\n",
       "          [ 0.        ],\n",
       "          [ 0.04967542],\n",
       "          [ 0.04967542]],\n",
       " \n",
       "         [[ 1.3909118 ],\n",
       "          [ 1.2915609 ],\n",
       "          [ 1.1922101 ],\n",
       "          ...,\n",
       "          [ 0.04967542],\n",
       "          [ 0.04967542],\n",
       "          [ 0.04967542]],\n",
       " \n",
       "         [[ 1.0928593 ],\n",
       "          [ 1.2915609 ],\n",
       "          [ 1.3412364 ],\n",
       "          ...,\n",
       "          [12.6672325 ],\n",
       "          [ 0.04967542],\n",
       "          [ 0.        ]]],\n",
       " \n",
       " \n",
       "        [[[ 0.8444821 ],\n",
       "          [ 0.8444821 ],\n",
       "          [ 1.0431838 ],\n",
       "          ...,\n",
       "          [ 0.8941576 ],\n",
       "          [ 0.7948067 ],\n",
       "          [ 0.7948067 ]],\n",
       " \n",
       "         [[ 1.0928593 ],\n",
       "          [ 1.0928593 ],\n",
       "          [ 0.9935084 ],\n",
       "          ...,\n",
       "          [ 0.8941576 ],\n",
       "          [ 0.7948067 ],\n",
       "          [ 0.7948067 ]],\n",
       " \n",
       "         [[ 1.0928593 ],\n",
       "          [ 1.0431838 ],\n",
       "          [ 0.9935084 ],\n",
       "          ...,\n",
       "          [ 0.8941576 ],\n",
       "          [ 0.8941576 ],\n",
       "          [ 0.8941576 ]],\n",
       " \n",
       "         ...,\n",
       " \n",
       "         [[ 1.0928593 ],\n",
       "          [ 1.0928593 ],\n",
       "          [ 1.0928593 ],\n",
       "          ...,\n",
       "          [ 0.04967542],\n",
       "          [ 0.04967542],\n",
       "          [ 0.04967542]],\n",
       " \n",
       "         [[ 1.3909118 ],\n",
       "          [ 1.2915609 ],\n",
       "          [ 1.1922101 ],\n",
       "          ...,\n",
       "          [ 0.04967542],\n",
       "          [ 0.04967542],\n",
       "          [ 0.04967542]],\n",
       " \n",
       "         [[ 1.0928593 ],\n",
       "          [ 1.2915609 ],\n",
       "          [ 1.3412364 ],\n",
       "          ...,\n",
       "          [12.6672325 ],\n",
       "          [ 0.04967542],\n",
       "          [ 0.        ]]]], dtype=float32)>,\n",
       " <tf.Tensor: shape=(13,), dtype=int64, numpy=array([14,  7, 15, 34, 39, 15,  9, 32, 39, 14,  5,  9, 34])>)"
      ]
     },
     "execution_count": 732,
     "metadata": {},
     "output_type": "execute_result"
    }
   ],
   "source": [
    "load_data(tf.convert_to_tensor(test_path))"
   ]
  },
  {
   "cell_type": "code",
   "execution_count": 733,
   "id": "151fcf47-06e1-4adf-ad07-66efca1599e1",
   "metadata": {},
   "outputs": [
    {
     "data": {
      "text/plain": [
       "<matplotlib.image.AxesImage at 0x7f2fc7747130>"
      ]
     },
     "execution_count": 733,
     "metadata": {},
     "output_type": "execute_result"
    },
    {
     "data": {
      "image/png": "[encoded data removed]",
      "text/plain": [
       "<Figure size 640x480 with 1 Axes>"
      ]
     },
     "metadata": {},
     "output_type": "display_data"
    }
   ],
   "source": [
    "plt.imshow(frames[70])"
   ]
  },
  {
   "cell_type": "code",
   "execution_count": 734,
   "id": "d16edc31-a47a-443d-9062-cc3b0d92214a",
   "metadata": {},
   "outputs": [
    {
     "data": {
      "text/plain": [
       "<tf.Tensor: shape=(13,), dtype=int64, numpy=array([14,  7, 15, 34, 39, 15,  9, 32, 39, 14,  5,  9, 34])>"
      ]
     },
     "execution_count": 734,
     "metadata": {},
     "output_type": "execute_result"
    }
   ],
   "source": [
    "alignments"
   ]
  },
  {
   "cell_type": "code",
   "execution_count": 735,
   "id": "e47bcab4-a3eb-46e4-9860-9953c2a53d99",
   "metadata": {},
   "outputs": [
    {
     "data": {
      "text/plain": [
       "<tf.Tensor: shape=(), dtype=string, numpy=b'ngo5 oi3 nei5'>"
      ]
     },
     "execution_count": 735,
     "metadata": {},
     "output_type": "execute_result"
    }
   ],
   "source": [
    "tf.strings.reduce_join([bytes.decode(x) for x in num_to_char(alignments.numpy()).numpy()])"
   ]
  },
  {
   "cell_type": "code",
   "execution_count": 736,
   "id": "0670b796-d051-472a-985a-950bdc2a08ce",
   "metadata": {},
   "outputs": [],
   "source": [
    "def mappable_function(path:str) ->List[str]:\n",
    "    result = tf.py_function(load_data, [path], (tf.float32, tf.int64))\n",
    "    return result"
   ]
  },
  {
   "cell_type": "markdown",
   "id": "17398567-6f43-4b34-8dd2-65cce965a531",
   "metadata": {},
   "source": [
    "2. Create Data Pipeline"
   ]
  },
  {
   "cell_type": "code",
   "execution_count": 737,
   "id": "4e5985e2-bb88-4061-a2bc-d275ec87a38f",
   "metadata": {},
   "outputs": [],
   "source": [
    "from matplotlib import pyplot as plt"
   ]
  },
  {
   "cell_type": "code",
   "execution_count": 738,
   "id": "22a8219e-094d-4bf1-8b76-c3ccb869c2aa",
   "metadata": {},
   "outputs": [],
   "source": [
    "data = tf.data.Dataset.list_files('./data_cantonese/s1/*.mp4')\n",
    "data = data.shuffle(160, reshuffle_each_iteration=False)\n",
    "data = data.map(mappable_function)\n",
    "data = data.padded_batch(2, padded_shapes=([75,None,None,None],[20]))\n",
    "data = data.prefetch(tf.data.AUTOTUNE)\n",
    "# Added for split \n",
    "# Determine the sizes for training and testing sets\n",
    "total_samples = 80\n",
    "train_size = int(0.8 * total_samples)\n",
    "\n",
    "# Split the data\n",
    "train_data = data.take(train_size)\n",
    "test_data = data.skip(train_size)"
   ]
  },
  {
   "cell_type": "code",
   "execution_count": 739,
   "id": "f4e12ba2-b43b-472f-90e2-738aef6dffbe",
   "metadata": {},
   "outputs": [],
   "source": [
    "# for frames, target_sequence in data:\n",
    "#     print(\"Target Sequence Length:\", tf.shape(target_sequence)[1])\n"
   ]
  },
  {
   "cell_type": "code",
   "execution_count": 740,
   "id": "5edd3800-4497-4318-a4bf-8dae748f1ebc",
   "metadata": {},
   "outputs": [],
   "source": [
    "# for sample in data:  # Adjust the number of samples to print\n",
    "#     video_frames, label = sample\n",
    "#     # print(video_frames.shape)\n",
    "#     if(video_frames.shape[1] > 75):\n",
    "#         # print(\"No. of frames:\", video_frames.shape[1])\n",
    "#         print(\"Video Frames Shape:\", video_frames.shape)\n",
    "#         print(\"Label:\", label.numpy())\n",
    "#         print(\"~\" * 50)"
   ]
  },
  {
   "cell_type": "code",
   "execution_count": 741,
   "id": "7d7666b4-129d-4e6e-82e8-c526269f1f6b",
   "metadata": {},
   "outputs": [],
   "source": [
    "# # Assuming `data` is your dataset\n",
    "# print(\"Element Spec:\")\n",
    "# print(data.element_spec)\n",
    "\n",
    "# # Access the padded_shapes attribute for each element\n",
    "# for element_spec in data.element_spec:\n",
    "#     if isinstance(element_spec, tuple) and len(element_spec) == 2:\n",
    "#         print(\"Padded Shape:\", element_spec[1])\n"
   ]
  },
  {
   "cell_type": "code",
   "execution_count": 742,
   "id": "1ef5438d-e9f8-4dce-af48-54dfc8b72a72",
   "metadata": {},
   "outputs": [],
   "source": [
    "frames, alignments = data.as_numpy_iterator().next()"
   ]
  },
  {
   "cell_type": "code",
   "execution_count": 743,
   "id": "f16e4d5c-3dbd-46b1-8944-51ffe4e6f9c8",
   "metadata": {},
   "outputs": [
    {
     "data": {
      "text/plain": [
       "(array([[[[[0.9218285 ],\n",
       "           [0.8863735 ],\n",
       "           [0.8509186 ],\n",
       "           ...,\n",
       "           [1.4181976 ],\n",
       "           [1.5245625 ],\n",
       "           [1.5245625 ]],\n",
       " \n",
       "          [[0.8863735 ],\n",
       "           [0.8863735 ],\n",
       "           [0.81546366],\n",
       "           ...,\n",
       "           [1.4181976 ],\n",
       "           [1.5245625 ],\n",
       "           [1.5245625 ]],\n",
       " \n",
       "          [[0.8509186 ],\n",
       "           [0.81546366],\n",
       "           [0.81546366],\n",
       "           ...,\n",
       "           [1.3472878 ],\n",
       "           [1.4536526 ],\n",
       "           [1.4536526 ]],\n",
       " \n",
       "          ...,\n",
       " \n",
       "          [[0.81546366],\n",
       "           [0.78000873],\n",
       "           [0.7090988 ],\n",
       "           ...,\n",
       "           [1.0281934 ],\n",
       "           [1.0281934 ],\n",
       "           [1.0281934 ]],\n",
       " \n",
       "          [[0.8509186 ],\n",
       "           [0.81546366],\n",
       "           [0.81546366],\n",
       "           ...,\n",
       "           [1.0636482 ],\n",
       "           [1.0991032 ],\n",
       "           [1.0636482 ]],\n",
       " \n",
       "          [[0.8863735 ],\n",
       "           [0.8509186 ],\n",
       "           [0.8509186 ],\n",
       "           ...,\n",
       "           [1.0636482 ],\n",
       "           [1.0991032 ],\n",
       "           [1.0636482 ]]],\n",
       " \n",
       " \n",
       "         [[[0.99273837],\n",
       "           [0.99273837],\n",
       "           [0.8863735 ],\n",
       "           ...,\n",
       "           [1.3827428 ],\n",
       "           [1.4891076 ],\n",
       "           [1.5245625 ]],\n",
       " \n",
       "          [[0.9218285 ],\n",
       "           [0.9218285 ],\n",
       "           [0.8509186 ],\n",
       "           ...,\n",
       "           [1.3827428 ],\n",
       "           [1.4891076 ],\n",
       "           [1.5245625 ]],\n",
       " \n",
       "          [[0.8863735 ],\n",
       "           [0.8509186 ],\n",
       "           [0.81546366],\n",
       "           ...,\n",
       "           [1.3118328 ],\n",
       "           [1.4181976 ],\n",
       "           [1.5245625 ]],\n",
       " \n",
       "          ...,\n",
       " \n",
       "          [[0.81546366],\n",
       "           [0.81546366],\n",
       "           [0.78000873],\n",
       "           ...,\n",
       "           [1.0636482 ],\n",
       "           [1.0991032 ],\n",
       "           [1.0636482 ]],\n",
       " \n",
       "          [[0.8509186 ],\n",
       "           [0.8509186 ],\n",
       "           [0.81546366],\n",
       "           ...,\n",
       "           [1.0636482 ],\n",
       "           [1.0991032 ],\n",
       "           [1.0636482 ]],\n",
       " \n",
       "          [[0.9218285 ],\n",
       "           [0.8509186 ],\n",
       "           [0.8509186 ],\n",
       "           ...,\n",
       "           [1.0636482 ],\n",
       "           [1.0991032 ],\n",
       "           [1.0991032 ]]],\n",
       " \n",
       " \n",
       "         [[[0.99273837],\n",
       "           [1.0281934 ],\n",
       "           [0.95728344],\n",
       "           ...,\n",
       "           [1.3472878 ],\n",
       "           [1.4891076 ],\n",
       "           [1.5245625 ]],\n",
       " \n",
       "          [[0.99273837],\n",
       "           [0.9218285 ],\n",
       "           [0.8863735 ],\n",
       "           ...,\n",
       "           [1.3472878 ],\n",
       "           [1.4181976 ],\n",
       "           [1.5245625 ]],\n",
       " \n",
       "          [[0.8863735 ],\n",
       "           [0.8509186 ],\n",
       "           [0.81546366],\n",
       "           ...,\n",
       "           [1.3118328 ],\n",
       "           [1.4181976 ],\n",
       "           [1.5245625 ]],\n",
       " \n",
       "          ...,\n",
       " \n",
       "          [[0.81546366],\n",
       "           [0.81546366],\n",
       "           [0.78000873],\n",
       "           ...,\n",
       "           [1.0636482 ],\n",
       "           [1.0991032 ],\n",
       "           [1.0636482 ]],\n",
       " \n",
       "          [[0.8509186 ],\n",
       "           [0.81546366],\n",
       "           [0.81546366],\n",
       "           ...,\n",
       "           [1.0281934 ],\n",
       "           [1.0636482 ],\n",
       "           [1.0636482 ]],\n",
       " \n",
       "          [[0.8863735 ],\n",
       "           [0.8509186 ],\n",
       "           [0.8509186 ],\n",
       "           ...,\n",
       "           [1.0636482 ],\n",
       "           [1.0991032 ],\n",
       "           [1.0991032 ]]],\n",
       " \n",
       " \n",
       "         ...,\n",
       " \n",
       " \n",
       "         [[[1.0636482 ],\n",
       "           [1.0636482 ],\n",
       "           [1.0281934 ],\n",
       "           ...,\n",
       "           [0.602734  ],\n",
       "           [0.63818896],\n",
       "           [0.78000873]],\n",
       " \n",
       "          [[1.0636482 ],\n",
       "           [1.0636482 ],\n",
       "           [1.0281934 ],\n",
       "           ...,\n",
       "           [0.56727904],\n",
       "           [0.602734  ],\n",
       "           [0.78000873]],\n",
       " \n",
       "          [[1.1345581 ],\n",
       "           [1.0991032 ],\n",
       "           [1.0281934 ],\n",
       "           ...,\n",
       "           [0.5318241 ],\n",
       "           [0.56727904],\n",
       "           [0.7445538 ]],\n",
       " \n",
       "          ...,\n",
       " \n",
       "          [[0.78000873],\n",
       "           [0.78000873],\n",
       "           [0.78000873],\n",
       "           ...,\n",
       "           [1.0281934 ],\n",
       "           [1.0281934 ],\n",
       "           [1.0281934 ]],\n",
       " \n",
       "          [[0.8509186 ],\n",
       "           [0.81546366],\n",
       "           [0.78000873],\n",
       "           ...,\n",
       "           [1.0281934 ],\n",
       "           [1.0281934 ],\n",
       "           [1.0281934 ]],\n",
       " \n",
       "          [[0.9218285 ],\n",
       "           [0.8863735 ],\n",
       "           [0.8509186 ],\n",
       "           ...,\n",
       "           [1.0281934 ],\n",
       "           [1.0281934 ],\n",
       "           [1.0281934 ]]],\n",
       " \n",
       " \n",
       "         [[[1.0636482 ],\n",
       "           [1.0636482 ],\n",
       "           [1.0281934 ],\n",
       "           ...,\n",
       "           [0.602734  ],\n",
       "           [0.63818896],\n",
       "           [0.78000873]],\n",
       " \n",
       "          [[1.0636482 ],\n",
       "           [1.0636482 ],\n",
       "           [1.0281934 ],\n",
       "           ...,\n",
       "           [0.56727904],\n",
       "           [0.602734  ],\n",
       "           [0.78000873]],\n",
       " \n",
       "          [[1.1345581 ],\n",
       "           [1.0991032 ],\n",
       "           [1.0281934 ],\n",
       "           ...,\n",
       "           [0.5318241 ],\n",
       "           [0.56727904],\n",
       "           [0.7445538 ]],\n",
       " \n",
       "          ...,\n",
       " \n",
       "          [[0.78000873],\n",
       "           [0.78000873],\n",
       "           [0.78000873],\n",
       "           ...,\n",
       "           [1.0281934 ],\n",
       "           [1.0281934 ],\n",
       "           [1.0281934 ]],\n",
       " \n",
       "          [[0.8509186 ],\n",
       "           [0.81546366],\n",
       "           [0.78000873],\n",
       "           ...,\n",
       "           [0.99273837],\n",
       "           [0.99273837],\n",
       "           [0.99273837]],\n",
       " \n",
       "          [[0.9218285 ],\n",
       "           [0.8863735 ],\n",
       "           [0.8509186 ],\n",
       "           ...,\n",
       "           [1.0281934 ],\n",
       "           [1.0281934 ],\n",
       "           [1.0281934 ]]],\n",
       " \n",
       " \n",
       "         [[[0.        ],\n",
       "           [0.        ],\n",
       "           [0.        ],\n",
       "           ...,\n",
       "           [0.        ],\n",
       "           [0.        ],\n",
       "           [0.        ]],\n",
       " \n",
       "          [[0.        ],\n",
       "           [0.        ],\n",
       "           [0.        ],\n",
       "           ...,\n",
       "           [0.        ],\n",
       "           [0.        ],\n",
       "           [0.        ]],\n",
       " \n",
       "          [[0.        ],\n",
       "           [0.        ],\n",
       "           [0.        ],\n",
       "           ...,\n",
       "           [0.        ],\n",
       "           [0.        ],\n",
       "           [0.        ]],\n",
       " \n",
       "          ...,\n",
       " \n",
       "          [[0.        ],\n",
       "           [0.        ],\n",
       "           [0.        ],\n",
       "           ...,\n",
       "           [0.        ],\n",
       "           [0.        ],\n",
       "           [0.        ]],\n",
       " \n",
       "          [[0.        ],\n",
       "           [0.        ],\n",
       "           [0.        ],\n",
       "           ...,\n",
       "           [0.        ],\n",
       "           [0.        ],\n",
       "           [0.        ]],\n",
       " \n",
       "          [[0.        ],\n",
       "           [0.        ],\n",
       "           [0.        ],\n",
       "           ...,\n",
       "           [0.        ],\n",
       "           [0.        ],\n",
       "           [0.        ]]]],\n",
       " \n",
       " \n",
       " \n",
       "        [[[[0.5794522 ],\n",
       "           [0.5794522 ],\n",
       "           [0.5794522 ],\n",
       "           ...,\n",
       "           [0.2897261 ],\n",
       "           [0.3863015 ],\n",
       "           [0.43458918]],\n",
       " \n",
       "          [[0.6277399 ],\n",
       "           [0.6277399 ],\n",
       "           [0.6277399 ],\n",
       "           ...,\n",
       "           [0.19315074],\n",
       "           [0.2897261 ],\n",
       "           [0.3380138 ]],\n",
       " \n",
       "          [[0.6277399 ],\n",
       "           [0.6277399 ],\n",
       "           [0.6277399 ],\n",
       "           ...,\n",
       "           [0.19315074],\n",
       "           [0.19315074],\n",
       "           [0.2897261 ]],\n",
       " \n",
       "          ...,\n",
       " \n",
       "          [[1.1589044 ],\n",
       "           [1.1106168 ],\n",
       "           [1.1106168 ],\n",
       "           ...,\n",
       "           [0.48287687],\n",
       "           [0.48287687],\n",
       "           [0.48287687]],\n",
       " \n",
       "          [[1.2071922 ],\n",
       "           [1.2071922 ],\n",
       "           [1.1589044 ],\n",
       "           ...,\n",
       "           [0.6277399 ],\n",
       "           [0.6277399 ],\n",
       "           [0.6277399 ]],\n",
       " \n",
       "          [[1.3037676 ],\n",
       "           [1.2071922 ],\n",
       "           [1.2071922 ],\n",
       "           ...,\n",
       "           [0.6277399 ],\n",
       "           [0.6277399 ],\n",
       "           [0.6277399 ]]],\n",
       " \n",
       " \n",
       "         [[[0.6277399 ],\n",
       "           [0.6277399 ],\n",
       "           [0.6277399 ],\n",
       "           ...,\n",
       "           [0.19315074],\n",
       "           [0.3380138 ],\n",
       "           [0.43458918]],\n",
       " \n",
       "          [[0.6277399 ],\n",
       "           [0.6277399 ],\n",
       "           [0.6277399 ],\n",
       "           ...,\n",
       "           [0.19315074],\n",
       "           [0.19315074],\n",
       "           [0.2897261 ]],\n",
       " \n",
       "          [[0.6760276 ],\n",
       "           [0.6760276 ],\n",
       "           [0.6277399 ],\n",
       "           ...,\n",
       "           [0.19315074],\n",
       "           [0.19315074],\n",
       "           [0.19315074]],\n",
       " \n",
       "          ...,\n",
       " \n",
       "          [[1.1589044 ],\n",
       "           [1.1589044 ],\n",
       "           [1.1106168 ],\n",
       "           ...,\n",
       "           [0.48287687],\n",
       "           [0.48287687],\n",
       "           [0.48287687]],\n",
       " \n",
       "          [[1.2071922 ],\n",
       "           [1.1589044 ],\n",
       "           [1.1589044 ],\n",
       "           ...,\n",
       "           [0.6277399 ],\n",
       "           [0.6277399 ],\n",
       "           [0.6277399 ]],\n",
       " \n",
       "          [[1.3037676 ],\n",
       "           [1.2071922 ],\n",
       "           [1.2071922 ],\n",
       "           ...,\n",
       "           [0.6277399 ],\n",
       "           [0.6277399 ],\n",
       "           [0.6277399 ]]],\n",
       " \n",
       " \n",
       "         [[[0.5794522 ],\n",
       "           [0.5794522 ],\n",
       "           [0.5794522 ],\n",
       "           ...,\n",
       "           [0.2897261 ],\n",
       "           [0.3863015 ],\n",
       "           [0.48287687]],\n",
       " \n",
       "          [[0.5794522 ],\n",
       "           [0.5794522 ],\n",
       "           [0.5794522 ],\n",
       "           ...,\n",
       "           [0.19315074],\n",
       "           [0.2897261 ],\n",
       "           [0.3380138 ]],\n",
       " \n",
       "          [[0.6760276 ],\n",
       "           [0.6760276 ],\n",
       "           [0.6277399 ],\n",
       "           ...,\n",
       "           [0.19315074],\n",
       "           [0.19315074],\n",
       "           [0.19315074]],\n",
       " \n",
       "          ...,\n",
       " \n",
       "          [[1.1589044 ],\n",
       "           [1.1106168 ],\n",
       "           [1.1106168 ],\n",
       "           ...,\n",
       "           [0.48287687],\n",
       "           [0.48287687],\n",
       "           [0.48287687]],\n",
       " \n",
       "          [[1.2071922 ],\n",
       "           [1.2071922 ],\n",
       "           [1.1589044 ],\n",
       "           ...,\n",
       "           [0.6277399 ],\n",
       "           [0.6277399 ],\n",
       "           [0.6277399 ]],\n",
       " \n",
       "          [[1.3037676 ],\n",
       "           [1.2071922 ],\n",
       "           [1.2071922 ],\n",
       "           ...,\n",
       "           [0.6277399 ],\n",
       "           [0.6277399 ],\n",
       "           [0.6277399 ]]],\n",
       " \n",
       " \n",
       "         ...,\n",
       " \n",
       " \n",
       "         [[[0.5794522 ],\n",
       "           [0.5794522 ],\n",
       "           [0.5794522 ],\n",
       "           ...,\n",
       "           [0.09657537],\n",
       "           [0.09657537],\n",
       "           [0.14486305]],\n",
       " \n",
       "          [[0.6277399 ],\n",
       "           [0.7243153 ],\n",
       "           [0.6760276 ],\n",
       "           ...,\n",
       "           [0.        ],\n",
       "           [0.09657537],\n",
       "           [0.19315074]],\n",
       " \n",
       "          [[0.6760276 ],\n",
       "           [0.7243153 ],\n",
       "           [0.6760276 ],\n",
       "           ...,\n",
       "           [0.        ],\n",
       "           [0.09657537],\n",
       "           [0.14486305]],\n",
       " \n",
       "          ...,\n",
       " \n",
       "          [[1.1106168 ],\n",
       "           [1.062329  ],\n",
       "           [1.062329  ],\n",
       "           ...,\n",
       "           [0.43458918],\n",
       "           [0.48287687],\n",
       "           [0.48287687]],\n",
       " \n",
       "          [[1.2071922 ],\n",
       "           [1.1589044 ],\n",
       "           [1.1589044 ],\n",
       "           ...,\n",
       "           [0.43458918],\n",
       "           [0.43458918],\n",
       "           [0.43458918]],\n",
       " \n",
       "          [[1.2071922 ],\n",
       "           [1.2071922 ],\n",
       "           [1.2071922 ],\n",
       "           ...,\n",
       "           [0.43458918],\n",
       "           [0.43458918],\n",
       "           [0.48287687]]],\n",
       " \n",
       " \n",
       "         [[[0.6277399 ],\n",
       "           [0.6277399 ],\n",
       "           [0.6277399 ],\n",
       "           ...,\n",
       "           [0.09657537],\n",
       "           [0.14486305],\n",
       "           [0.19315074]],\n",
       " \n",
       "          [[0.7243153 ],\n",
       "           [0.772603  ],\n",
       "           [0.6760276 ],\n",
       "           ...,\n",
       "           [0.09657537],\n",
       "           [0.14486305],\n",
       "           [0.2897261 ]],\n",
       " \n",
       "          [[0.7243153 ],\n",
       "           [0.7243153 ],\n",
       "           [0.6760276 ],\n",
       "           ...,\n",
       "           [0.09657537],\n",
       "           [0.19315074],\n",
       "           [0.3380138 ]],\n",
       " \n",
       "          ...,\n",
       " \n",
       "          [[1.1106168 ],\n",
       "           [1.062329  ],\n",
       "           [1.0140414 ],\n",
       "           ...,\n",
       "           [0.48287687],\n",
       "           [0.48287687],\n",
       "           [0.48287687]],\n",
       " \n",
       "          [[1.1589044 ],\n",
       "           [1.1589044 ],\n",
       "           [1.1106168 ],\n",
       "           ...,\n",
       "           [0.43458918],\n",
       "           [0.48287687],\n",
       "           [0.48287687]],\n",
       " \n",
       "          [[1.2071922 ],\n",
       "           [1.2071922 ],\n",
       "           [1.1589044 ],\n",
       "           ...,\n",
       "           [0.43458918],\n",
       "           [0.48287687],\n",
       "           [0.48287687]]],\n",
       " \n",
       " \n",
       "         [[[0.        ],\n",
       "           [0.        ],\n",
       "           [0.        ],\n",
       "           ...,\n",
       "           [0.        ],\n",
       "           [0.        ],\n",
       "           [0.        ]],\n",
       " \n",
       "          [[0.        ],\n",
       "           [0.        ],\n",
       "           [0.        ],\n",
       "           ...,\n",
       "           [0.        ],\n",
       "           [0.        ],\n",
       "           [0.        ]],\n",
       " \n",
       "          [[0.        ],\n",
       "           [0.        ],\n",
       "           [0.        ],\n",
       "           ...,\n",
       "           [0.        ],\n",
       "           [0.        ],\n",
       "           [0.        ]],\n",
       " \n",
       "          ...,\n",
       " \n",
       "          [[0.        ],\n",
       "           [0.        ],\n",
       "           [0.        ],\n",
       "           ...,\n",
       "           [0.        ],\n",
       "           [0.        ],\n",
       "           [0.        ]],\n",
       " \n",
       "          [[0.        ],\n",
       "           [0.        ],\n",
       "           [0.        ],\n",
       "           ...,\n",
       "           [0.        ],\n",
       "           [0.        ],\n",
       "           [0.        ]],\n",
       " \n",
       "          [[0.        ],\n",
       "           [0.        ],\n",
       "           [0.        ],\n",
       "           ...,\n",
       "           [0.        ],\n",
       "           [0.        ],\n",
       "           [0.        ]]]]], dtype=float32),\n",
       " array([[ 8, 15, 21, 31, 39, 10,  1, 21, 30, 39, 19,  9, 11, 30,  0,  0,\n",
       "          0,  0,  0,  0],\n",
       "        [10,  1, 21, 34, 39, 19,  9, 33, 39,  7,  1,  1, 14, 32,  0,  0,\n",
       "          0,  0,  0,  0]]))"
      ]
     },
     "execution_count": 743,
     "metadata": {},
     "output_type": "execute_result"
    }
   ],
   "source": [
    "data.as_numpy_iterator().next()"
   ]
  },
  {
   "cell_type": "code",
   "execution_count": 744,
   "id": "8012575e-a54b-4bf4-a697-c93a9c874a51",
   "metadata": {},
   "outputs": [
    {
     "data": {
      "text/plain": [
       "2"
      ]
     },
     "execution_count": 744,
     "metadata": {},
     "output_type": "execute_result"
    }
   ],
   "source": [
    "len(frames)"
   ]
  },
  {
   "cell_type": "code",
   "execution_count": 745,
   "id": "c6e43ce9-2f06-45ed-9db8-97f392ea9ea8",
   "metadata": {},
   "outputs": [],
   "source": [
    "sample = data.as_numpy_iterator()"
   ]
  },
  {
   "cell_type": "code",
   "execution_count": 746,
   "id": "2e42892e-9c9d-41b9-ab97-73188d263b25",
   "metadata": {},
   "outputs": [
    {
     "data": {
      "text/plain": [
       "array([[[[[ 0.66040444],\n",
       "          [ 0.6132327 ],\n",
       "          [ 0.6132327 ],\n",
       "          ...,\n",
       "          [11.8872795 ],\n",
       "          [12.028795  ],\n",
       "          [ 0.14151524]],\n",
       "\n",
       "         [[ 0.66040444],\n",
       "          [ 0.6132327 ],\n",
       "          [ 0.6132327 ],\n",
       "          ...,\n",
       "          [12.028795  ],\n",
       "          [ 0.04717175],\n",
       "          [ 0.        ]],\n",
       "\n",
       "         [[ 0.56606096],\n",
       "          [ 0.56606096],\n",
       "          [ 0.6132327 ],\n",
       "          ...,\n",
       "          [11.8872795 ],\n",
       "          [11.934451  ],\n",
       "          [ 0.        ]],\n",
       "\n",
       "         ...,\n",
       "\n",
       "         [[ 0.99060667],\n",
       "          [ 0.99060667],\n",
       "          [ 0.9434349 ],\n",
       "          ...,\n",
       "          [ 0.04717175],\n",
       "          [ 0.04717175],\n",
       "          [ 0.04717175]],\n",
       "\n",
       "         [[ 0.99060667],\n",
       "          [ 0.99060667],\n",
       "          [ 0.99060667],\n",
       "          ...,\n",
       "          [ 0.09434349],\n",
       "          [ 0.09434349],\n",
       "          [ 0.09434349]],\n",
       "\n",
       "         [[ 0.99060667],\n",
       "          [ 0.99060667],\n",
       "          [ 0.99060667],\n",
       "          ...,\n",
       "          [ 0.09434349],\n",
       "          [ 0.09434349],\n",
       "          [ 0.09434349]]],\n",
       "\n",
       "\n",
       "        [[[ 0.66040444],\n",
       "          [ 0.66040444],\n",
       "          [ 0.6132327 ],\n",
       "          ...,\n",
       "          [11.840108  ],\n",
       "          [11.934451  ],\n",
       "          [11.981624  ]],\n",
       "\n",
       "         [[ 0.66040444],\n",
       "          [ 0.66040444],\n",
       "          [ 0.66040444],\n",
       "          ...,\n",
       "          [11.745765  ],\n",
       "          [11.8872795 ],\n",
       "          [11.934451  ]],\n",
       "\n",
       "         [[ 0.6132327 ],\n",
       "          [ 0.56606096],\n",
       "          [ 0.66040444],\n",
       "          ...,\n",
       "          [11.698593  ],\n",
       "          [11.840108  ],\n",
       "          [11.934451  ]],\n",
       "\n",
       "         ...,\n",
       "\n",
       "         [[ 0.99060667],\n",
       "          [ 1.0377784 ],\n",
       "          [ 0.99060667],\n",
       "          ...,\n",
       "          [ 0.        ],\n",
       "          [ 0.        ],\n",
       "          [ 0.        ]],\n",
       "\n",
       "         [[ 0.99060667],\n",
       "          [ 0.99060667],\n",
       "          [ 0.99060667],\n",
       "          ...,\n",
       "          [ 0.09434349],\n",
       "          [ 0.09434349],\n",
       "          [ 0.09434349]],\n",
       "\n",
       "         [[ 0.9434349 ],\n",
       "          [ 0.9434349 ],\n",
       "          [ 0.99060667],\n",
       "          ...,\n",
       "          [ 0.        ],\n",
       "          [ 0.09434349],\n",
       "          [ 0.09434349]]],\n",
       "\n",
       "\n",
       "        [[[ 0.6132327 ],\n",
       "          [ 0.6132327 ],\n",
       "          [ 0.6132327 ],\n",
       "          ...,\n",
       "          [11.745765  ],\n",
       "          [11.934451  ],\n",
       "          [ 0.09434349]],\n",
       "\n",
       "         [[ 0.6132327 ],\n",
       "          [ 0.6132327 ],\n",
       "          [ 0.66040444],\n",
       "          ...,\n",
       "          [11.698593  ],\n",
       "          [11.8872795 ],\n",
       "          [ 0.        ]],\n",
       "\n",
       "         [[ 0.56606096],\n",
       "          [ 0.5188892 ],\n",
       "          [ 0.56606096],\n",
       "          ...,\n",
       "          [11.698593  ],\n",
       "          [11.840108  ],\n",
       "          [11.981624  ]],\n",
       "\n",
       "         ...,\n",
       "\n",
       "         [[ 1.0377784 ],\n",
       "          [ 1.0377784 ],\n",
       "          [ 0.99060667],\n",
       "          ...,\n",
       "          [ 0.        ],\n",
       "          [ 0.09434349],\n",
       "          [ 0.14151524]],\n",
       "\n",
       "         [[ 0.99060667],\n",
       "          [ 0.99060667],\n",
       "          [ 0.99060667],\n",
       "          ...,\n",
       "          [ 0.09434349],\n",
       "          [ 0.09434349],\n",
       "          [ 0.09434349]],\n",
       "\n",
       "         [[ 0.99060667],\n",
       "          [ 0.99060667],\n",
       "          [ 0.99060667],\n",
       "          ...,\n",
       "          [ 0.        ],\n",
       "          [ 0.09434349],\n",
       "          [ 0.09434349]]],\n",
       "\n",
       "\n",
       "        ...,\n",
       "\n",
       "\n",
       "        [[[ 0.5188892 ],\n",
       "          [ 0.5188892 ],\n",
       "          [ 0.5188892 ],\n",
       "          ...,\n",
       "          [ 0.23585872],\n",
       "          [ 0.28303048],\n",
       "          [ 0.4245457 ]],\n",
       "\n",
       "         [[ 0.5188892 ],\n",
       "          [ 0.56606096],\n",
       "          [ 0.56606096],\n",
       "          ...,\n",
       "          [ 0.23585872],\n",
       "          [ 0.33020222],\n",
       "          [ 0.33020222]],\n",
       "\n",
       "         [[ 0.56606096],\n",
       "          [ 0.5188892 ],\n",
       "          [ 0.5188892 ],\n",
       "          ...,\n",
       "          [ 0.28303048],\n",
       "          [ 0.28303048],\n",
       "          [ 0.28303048]],\n",
       "\n",
       "         ...,\n",
       "\n",
       "         [[ 0.99060667],\n",
       "          [ 0.99060667],\n",
       "          [ 0.99060667],\n",
       "          ...,\n",
       "          [ 0.18868698],\n",
       "          [ 0.23585872],\n",
       "          [ 0.23585872]],\n",
       "\n",
       "         [[ 0.99060667],\n",
       "          [ 0.99060667],\n",
       "          [ 0.99060667],\n",
       "          ...,\n",
       "          [ 0.18868698],\n",
       "          [ 0.18868698],\n",
       "          [ 0.23585872]],\n",
       "\n",
       "         [[ 0.99060667],\n",
       "          [ 1.0377784 ],\n",
       "          [ 1.0377784 ],\n",
       "          ...,\n",
       "          [ 0.14151524],\n",
       "          [ 0.18868698],\n",
       "          [ 0.23585872]]],\n",
       "\n",
       "\n",
       "        [[[ 0.5188892 ],\n",
       "          [ 0.5188892 ],\n",
       "          [ 0.5188892 ],\n",
       "          ...,\n",
       "          [ 0.33020222],\n",
       "          [ 0.47171745],\n",
       "          [ 0.47171745]],\n",
       "\n",
       "         [[ 0.56606096],\n",
       "          [ 0.56606096],\n",
       "          [ 0.56606096],\n",
       "          ...,\n",
       "          [ 0.33020222],\n",
       "          [ 0.4245457 ],\n",
       "          [ 0.47171745]],\n",
       "\n",
       "         [[ 0.5188892 ],\n",
       "          [ 0.5188892 ],\n",
       "          [ 0.5188892 ],\n",
       "          ...,\n",
       "          [ 0.28303048],\n",
       "          [ 0.33020222],\n",
       "          [ 0.47171745]],\n",
       "\n",
       "         ...,\n",
       "\n",
       "         [[ 0.99060667],\n",
       "          [ 0.99060667],\n",
       "          [ 0.99060667],\n",
       "          ...,\n",
       "          [ 0.14151524],\n",
       "          [ 0.18868698],\n",
       "          [ 0.23585872]],\n",
       "\n",
       "         [[ 1.0377784 ],\n",
       "          [ 0.99060667],\n",
       "          [ 1.0377784 ],\n",
       "          ...,\n",
       "          [ 0.18868698],\n",
       "          [ 0.18868698],\n",
       "          [ 0.23585872]],\n",
       "\n",
       "         [[ 1.0377784 ],\n",
       "          [ 1.0377784 ],\n",
       "          [ 1.1321219 ],\n",
       "          ...,\n",
       "          [ 0.18868698],\n",
       "          [ 0.18868698],\n",
       "          [ 0.23585872]]],\n",
       "\n",
       "\n",
       "        [[[ 0.        ],\n",
       "          [ 0.        ],\n",
       "          [ 0.        ],\n",
       "          ...,\n",
       "          [ 0.        ],\n",
       "          [ 0.        ],\n",
       "          [ 0.        ]],\n",
       "\n",
       "         [[ 0.        ],\n",
       "          [ 0.        ],\n",
       "          [ 0.        ],\n",
       "          ...,\n",
       "          [ 0.        ],\n",
       "          [ 0.        ],\n",
       "          [ 0.        ]],\n",
       "\n",
       "         [[ 0.        ],\n",
       "          [ 0.        ],\n",
       "          [ 0.        ],\n",
       "          ...,\n",
       "          [ 0.        ],\n",
       "          [ 0.        ],\n",
       "          [ 0.        ]],\n",
       "\n",
       "         ...,\n",
       "\n",
       "         [[ 0.        ],\n",
       "          [ 0.        ],\n",
       "          [ 0.        ],\n",
       "          ...,\n",
       "          [ 0.        ],\n",
       "          [ 0.        ],\n",
       "          [ 0.        ]],\n",
       "\n",
       "         [[ 0.        ],\n",
       "          [ 0.        ],\n",
       "          [ 0.        ],\n",
       "          ...,\n",
       "          [ 0.        ],\n",
       "          [ 0.        ],\n",
       "          [ 0.        ]],\n",
       "\n",
       "         [[ 0.        ],\n",
       "          [ 0.        ],\n",
       "          [ 0.        ],\n",
       "          ...,\n",
       "          [ 0.        ],\n",
       "          [ 0.        ],\n",
       "          [ 0.        ]]]],\n",
       "\n",
       "\n",
       "\n",
       "       [[[[ 1.0864552 ],\n",
       "          [ 1.0864552 ],\n",
       "          [ 1.0864552 ],\n",
       "          ...,\n",
       "          [ 0.09876866],\n",
       "          [ 0.09876866],\n",
       "          [ 0.04938433]],\n",
       "\n",
       "         [[ 1.1358396 ],\n",
       "          [ 1.1358396 ],\n",
       "          [ 1.1358396 ],\n",
       "          ...,\n",
       "          [ 0.3456903 ],\n",
       "          [ 0.3456903 ],\n",
       "          [ 0.3456903 ]],\n",
       "\n",
       "         [[ 1.1358396 ],\n",
       "          [ 1.1358396 ],\n",
       "          [ 1.1358396 ],\n",
       "          ...,\n",
       "          [ 0.3456903 ],\n",
       "          [ 0.39507464],\n",
       "          [ 0.4938433 ]],\n",
       "\n",
       "         ...,\n",
       "\n",
       "         [[ 0.8395336 ],\n",
       "          [ 0.8395336 ],\n",
       "          [ 0.7901493 ],\n",
       "          ...,\n",
       "          [ 0.14815299],\n",
       "          [ 0.14815299],\n",
       "          [ 0.24692164]],\n",
       "\n",
       "         [[ 0.7901493 ],\n",
       "          [ 0.7901493 ],\n",
       "          [ 0.740765  ],\n",
       "          ...,\n",
       "          [ 0.14815299],\n",
       "          [ 0.14815299],\n",
       "          [ 0.3456903 ]],\n",
       "\n",
       "         [[ 0.7901493 ],\n",
       "          [ 0.7901493 ],\n",
       "          [ 0.740765  ],\n",
       "          ...,\n",
       "          [ 0.14815299],\n",
       "          [ 0.14815299],\n",
       "          [ 0.39507464]]],\n",
       "\n",
       "\n",
       "        [[[ 1.0864552 ],\n",
       "          [ 1.0864552 ],\n",
       "          [ 1.0864552 ],\n",
       "          ...,\n",
       "          [ 0.09876866],\n",
       "          [ 0.09876866],\n",
       "          [ 0.09876866]],\n",
       "\n",
       "         [[ 1.1358396 ],\n",
       "          [ 1.1358396 ],\n",
       "          [ 1.1358396 ],\n",
       "          ...,\n",
       "          [ 0.29630598],\n",
       "          [ 0.39507464],\n",
       "          [ 0.3456903 ]],\n",
       "\n",
       "         [[ 1.1358396 ],\n",
       "          [ 1.1358396 ],\n",
       "          [ 1.1358396 ],\n",
       "          ...,\n",
       "          [ 0.3456903 ],\n",
       "          [ 0.39507464],\n",
       "          [ 0.4938433 ]],\n",
       "\n",
       "         ...,\n",
       "\n",
       "         [[ 0.8395336 ],\n",
       "          [ 0.8395336 ],\n",
       "          [ 0.7901493 ],\n",
       "          ...,\n",
       "          [ 0.14815299],\n",
       "          [ 0.14815299],\n",
       "          [ 0.24692164]],\n",
       "\n",
       "         [[ 0.7901493 ],\n",
       "          [ 0.7901493 ],\n",
       "          [ 0.740765  ],\n",
       "          ...,\n",
       "          [ 0.09876866],\n",
       "          [ 0.09876866],\n",
       "          [ 0.29630598]],\n",
       "\n",
       "         [[ 0.7901493 ],\n",
       "          [ 0.7901493 ],\n",
       "          [ 0.740765  ],\n",
       "          ...,\n",
       "          [ 0.09876866],\n",
       "          [ 0.09876866],\n",
       "          [ 0.3456903 ]]],\n",
       "\n",
       "\n",
       "        [[[ 1.0864552 ],\n",
       "          [ 1.0864552 ],\n",
       "          [ 1.0864552 ],\n",
       "          ...,\n",
       "          [ 0.09876866],\n",
       "          [ 0.09876866],\n",
       "          [ 0.09876866]],\n",
       "\n",
       "         [[ 1.1358396 ],\n",
       "          [ 1.1358396 ],\n",
       "          [ 1.1358396 ],\n",
       "          ...,\n",
       "          [ 0.24692164],\n",
       "          [ 0.39507464],\n",
       "          [ 0.3456903 ]],\n",
       "\n",
       "         [[ 1.1358396 ],\n",
       "          [ 1.1358396 ],\n",
       "          [ 1.1358396 ],\n",
       "          ...,\n",
       "          [ 0.3456903 ],\n",
       "          [ 0.39507464],\n",
       "          [ 0.4938433 ]],\n",
       "\n",
       "         ...,\n",
       "\n",
       "         [[ 0.8395336 ],\n",
       "          [ 0.8395336 ],\n",
       "          [ 0.8395336 ],\n",
       "          ...,\n",
       "          [ 0.09876866],\n",
       "          [ 0.09876866],\n",
       "          [ 0.19753732]],\n",
       "\n",
       "         [[ 0.7901493 ],\n",
       "          [ 0.7901493 ],\n",
       "          [ 0.740765  ],\n",
       "          ...,\n",
       "          [ 0.09876866],\n",
       "          [ 0.09876866],\n",
       "          [ 0.24692164]],\n",
       "\n",
       "         [[ 0.7901493 ],\n",
       "          [ 0.7901493 ],\n",
       "          [ 0.740765  ],\n",
       "          ...,\n",
       "          [ 0.09876866],\n",
       "          [ 0.09876866],\n",
       "          [ 0.29630598]]],\n",
       "\n",
       "\n",
       "        ...,\n",
       "\n",
       "\n",
       "        [[[ 0.        ],\n",
       "          [ 0.        ],\n",
       "          [ 0.        ],\n",
       "          ...,\n",
       "          [ 0.        ],\n",
       "          [ 0.        ],\n",
       "          [ 0.        ]],\n",
       "\n",
       "         [[ 0.        ],\n",
       "          [ 0.        ],\n",
       "          [ 0.        ],\n",
       "          ...,\n",
       "          [ 0.        ],\n",
       "          [ 0.        ],\n",
       "          [ 0.        ]],\n",
       "\n",
       "         [[ 0.        ],\n",
       "          [ 0.        ],\n",
       "          [ 0.        ],\n",
       "          ...,\n",
       "          [ 0.        ],\n",
       "          [ 0.        ],\n",
       "          [ 0.        ]],\n",
       "\n",
       "         ...,\n",
       "\n",
       "         [[ 0.        ],\n",
       "          [ 0.        ],\n",
       "          [ 0.        ],\n",
       "          ...,\n",
       "          [ 0.        ],\n",
       "          [ 0.        ],\n",
       "          [ 0.        ]],\n",
       "\n",
       "         [[ 0.        ],\n",
       "          [ 0.        ],\n",
       "          [ 0.        ],\n",
       "          ...,\n",
       "          [ 0.        ],\n",
       "          [ 0.        ],\n",
       "          [ 0.        ]],\n",
       "\n",
       "         [[ 0.        ],\n",
       "          [ 0.        ],\n",
       "          [ 0.        ],\n",
       "          ...,\n",
       "          [ 0.        ],\n",
       "          [ 0.        ],\n",
       "          [ 0.        ]]],\n",
       "\n",
       "\n",
       "        [[[ 0.        ],\n",
       "          [ 0.        ],\n",
       "          [ 0.        ],\n",
       "          ...,\n",
       "          [ 0.        ],\n",
       "          [ 0.        ],\n",
       "          [ 0.        ]],\n",
       "\n",
       "         [[ 0.        ],\n",
       "          [ 0.        ],\n",
       "          [ 0.        ],\n",
       "          ...,\n",
       "          [ 0.        ],\n",
       "          [ 0.        ],\n",
       "          [ 0.        ]],\n",
       "\n",
       "         [[ 0.        ],\n",
       "          [ 0.        ],\n",
       "          [ 0.        ],\n",
       "          ...,\n",
       "          [ 0.        ],\n",
       "          [ 0.        ],\n",
       "          [ 0.        ]],\n",
       "\n",
       "         ...,\n",
       "\n",
       "         [[ 0.        ],\n",
       "          [ 0.        ],\n",
       "          [ 0.        ],\n",
       "          ...,\n",
       "          [ 0.        ],\n",
       "          [ 0.        ],\n",
       "          [ 0.        ]],\n",
       "\n",
       "         [[ 0.        ],\n",
       "          [ 0.        ],\n",
       "          [ 0.        ],\n",
       "          ...,\n",
       "          [ 0.        ],\n",
       "          [ 0.        ],\n",
       "          [ 0.        ]],\n",
       "\n",
       "         [[ 0.        ],\n",
       "          [ 0.        ],\n",
       "          [ 0.        ],\n",
       "          ...,\n",
       "          [ 0.        ],\n",
       "          [ 0.        ],\n",
       "          [ 0.        ]]],\n",
       "\n",
       "\n",
       "        [[[ 0.        ],\n",
       "          [ 0.        ],\n",
       "          [ 0.        ],\n",
       "          ...,\n",
       "          [ 0.        ],\n",
       "          [ 0.        ],\n",
       "          [ 0.        ]],\n",
       "\n",
       "         [[ 0.        ],\n",
       "          [ 0.        ],\n",
       "          [ 0.        ],\n",
       "          ...,\n",
       "          [ 0.        ],\n",
       "          [ 0.        ],\n",
       "          [ 0.        ]],\n",
       "\n",
       "         [[ 0.        ],\n",
       "          [ 0.        ],\n",
       "          [ 0.        ],\n",
       "          ...,\n",
       "          [ 0.        ],\n",
       "          [ 0.        ],\n",
       "          [ 0.        ]],\n",
       "\n",
       "         ...,\n",
       "\n",
       "         [[ 0.        ],\n",
       "          [ 0.        ],\n",
       "          [ 0.        ],\n",
       "          ...,\n",
       "          [ 0.        ],\n",
       "          [ 0.        ],\n",
       "          [ 0.        ]],\n",
       "\n",
       "         [[ 0.        ],\n",
       "          [ 0.        ],\n",
       "          [ 0.        ],\n",
       "          ...,\n",
       "          [ 0.        ],\n",
       "          [ 0.        ],\n",
       "          [ 0.        ]],\n",
       "\n",
       "         [[ 0.        ],\n",
       "          [ 0.        ],\n",
       "          [ 0.        ],\n",
       "          ...,\n",
       "          [ 0.        ],\n",
       "          [ 0.        ],\n",
       "          [ 0.        ]]]]], dtype=float32)"
      ]
     },
     "execution_count": 746,
     "metadata": {},
     "output_type": "execute_result"
    }
   ],
   "source": [
    "val = sample.next(); val[0]"
   ]
  },
  {
   "cell_type": "code",
   "execution_count": 747,
   "id": "0c68cf96-34f4-4410-8cef-0818712a6148",
   "metadata": {},
   "outputs": [
    {
     "data": {
      "text/plain": [
       "2"
      ]
     },
     "execution_count": 747,
     "metadata": {},
     "output_type": "execute_result"
    }
   ],
   "source": [
    "len(val[0])"
   ]
  },
  {
   "cell_type": "code",
   "execution_count": 748,
   "id": "0ad2e6c8-fbcc-4cbe-b032-e7adf8ec4290",
   "metadata": {},
   "outputs": [
    {
     "data": {
      "text/plain": [
       "<matplotlib.image.AxesImage at 0x7f31ac185870>"
      ]
     },
     "execution_count": 748,
     "metadata": {},
     "output_type": "execute_result"
    },
    {
     "data": {
      "image/png": "[encoded data removed]",
      "text/plain": [
       "<Figure size 640x480 with 1 Axes>"
      ]
     },
     "metadata": {},
     "output_type": "display_data"
    }
   ],
   "source": [
    "# 0:videos, 0: 1st video out of the batch,  0: return the first frame in the video \n",
    "plt.imshow(val[0][0][20])"
   ]
  },
  {
   "cell_type": "code",
   "execution_count": 749,
   "id": "5e6fb343-63bb-48ef-ab4c-067c95cf6993",
   "metadata": {},
   "outputs": [
    {
     "data": {
      "text/plain": [
       "<tf.Tensor: shape=(), dtype=string, numpy=b'waan4 dak1 hoi1'>"
      ]
     },
     "execution_count": 749,
     "metadata": {},
     "output_type": "execute_result"
    }
   ],
   "source": [
    "tf.strings.reduce_join([num_to_char(word) for word in val[1][0]])"
   ]
  },
  {
   "cell_type": "markdown",
   "id": "f11daede-91ea-41f5-8f92-ec6ad644ec61",
   "metadata": {},
   "source": [
    "3.Design the Deep Neural Network"
   ]
  },
  {
   "cell_type": "code",
   "execution_count": 750,
   "id": "5c028deb-05f7-414c-9d90-c7c8afcfc7fb",
   "metadata": {},
   "outputs": [],
   "source": [
    "import tensorflow as tf\n",
    "from tensorflow.keras.models import Sequential \n",
    "from tensorflow.keras.layers import Conv3D, LSTM, Dense, Dropout, Bidirectional, MaxPool3D, Activation, Reshape, SpatialDropout3D, BatchNormalization, TimeDistributed, Flatten, Masking\n",
    "from tensorflow.keras.optimizers import Adam\n",
    "from tensorflow.keras.optimizers import legacy\n",
    "from tensorflow.keras.callbacks import ModelCheckpoint, LearningRateScheduler, EarlyStopping"
   ]
  },
  {
   "cell_type": "code",
   "execution_count": 751,
   "id": "78ada281-69e9-4547-8c97-b88d1d174b6c",
   "metadata": {},
   "outputs": [
    {
     "data": {
      "text/plain": [
       "(75, 60, 135, 1)"
      ]
     },
     "execution_count": 751,
     "metadata": {},
     "output_type": "execute_result"
    }
   ],
   "source": [
    "data.as_numpy_iterator().next()[0][0].shape"
   ]
  },
  {
   "cell_type": "code",
   "execution_count": 752,
   "id": "bb007c79-7c0e-45f7-b309-293cb8f15f71",
   "metadata": {},
   "outputs": [],
   "source": [
    "def create_lip_reading_model(input_shape, num_classes):\n",
    "    model = Sequential()\n",
    "    \n",
    "    # model.add(Masking(mask_value=0.0, input_shape=input_shape))\n",
    "    model.add(Conv3D(128, 3, input_shape=input_shape, padding='same'))\n",
    "    model.add(Activation('relu'))\n",
    "    model.add(MaxPool3D((1, 2, 2)))\n",
    "\n",
    "    model.add(Conv3D(256, 3, padding='same'))\n",
    "    model.add(Activation('relu'))\n",
    "    model.add(MaxPool3D((1, 2, 2)))\n",
    "\n",
    "    model.add(Conv3D(75, 3, padding='same'))\n",
    "    model.add(Activation('relu'))\n",
    "    model.add(MaxPool3D((1, 2, 2)))\n",
    "\n",
    "    model.add(TimeDistributed(Flatten()))\n",
    "\n",
    "    model.add(Bidirectional(LSTM(128, kernel_initializer='Orthogonal', return_sequences=True)))\n",
    "    model.add(Dropout(0.5))\n",
    "\n",
    "    model.add(Bidirectional(LSTM(128, kernel_initializer='Orthogonal', return_sequences=True)))\n",
    "    model.add(Dropout(0.5))\n",
    "\n",
    "    model.add(Dense(num_classes, kernel_initializer='he_normal', activation='softmax'))\n",
    "\n",
    "    return model\n"
   ]
  },
  {
   "cell_type": "code",
   "execution_count": 753,
   "id": "20cb1bcd-0942-483b-867a-bfb9f24ccdb3",
   "metadata": {},
   "outputs": [],
   "source": [
    "input_shape = (75,60,135,1)  # Modify based on actual input shape\n",
    "num_classes =  char_to_num.vocabulary_size()+1 # Replace with the actual number of classes"
   ]
  },
  {
   "cell_type": "code",
   "execution_count": 754,
   "id": "70aa2e96-2fc9-420d-9863-f3c15c7eeb75",
   "metadata": {},
   "outputs": [],
   "source": [
    "def scheduler(epoch, lr):\n",
    "    if epoch < 30:\n",
    "        return lr\n",
    "    else:\n",
    "        return lr * tf.math.exp(-0.1)"
   ]
  },
  {
   "cell_type": "code",
   "execution_count": 755,
   "id": "98a3955e-8f4e-4a88-a527-5f538e087da1",
   "metadata": {},
   "outputs": [],
   "source": [
    "def CTCLoss(y_true, y_pred):\n",
    "    batch_len = tf.cast(tf.shape(y_true)[0], dtype=\"int64\")\n",
    "    input_length = tf.cast(tf.shape(y_pred)[1], dtype=\"int64\")\n",
    "    label_length = tf.cast(tf.shape(y_true)[1], dtype=\"int64\")\n",
    "    input_length = input_length * tf.ones(shape=(batch_len, 1), dtype=\"int64\")\n",
    "    label_length = label_length * tf.ones(shape=(batch_len, 1), dtype=\"int64\")\n",
    "\n",
    "    loss = tf.keras.backend.ctc_batch_cost(y_true, y_pred, input_length, label_length)\n",
    "    return loss"
   ]
  },
  {
   "cell_type": "code",
   "execution_count": 756,
   "id": "9fdccf3b-9646-4f41-b82c-79b4e6fc8b48",
   "metadata": {},
   "outputs": [],
   "source": [
    "class ProduceExample(tf.keras.callbacks.Callback):\n",
    "    def __init__(self, dataset) -> None:\n",
    "        self.dataset = dataset\n",
    "        self.dataset_iterator = None\n",
    "    \n",
    "    def on_epoch_begin(self, epoch, logs=None) -> None:\n",
    "        # Create a new iterator at the beginning of each epoch\n",
    "        self.dataset_iterator = self.dataset.as_numpy_iterator()\n",
    "    \n",
    "    def on_epoch_end(self, epoch, logs=None) -> None:\n",
    "        # Get the next batch of data from the iterator\n",
    "        data = self.dataset_iterator.next()\n",
    "\n",
    "        # Make predictions using the trained model\n",
    "        yhat = self.model.predict(data[0])\n",
    "\n",
    "        # Decode the predicted sequences using CTC decoding\n",
    "        decoded = tf.keras.backend.ctc_decode(yhat, [75, 75], greedy=False)[0][0].numpy()\n",
    "\n",
    "        total_samples = len(decoded)\n",
    "        correct_predictions = 0\n",
    "\n",
    "        for x in range(total_samples):\n",
    "            original_str = tf.strings.reduce_join(num_to_char(data[1][x])).numpy().decode('utf-8')\n",
    "            prediction_str = tf.strings.reduce_join(num_to_char(decoded[x])).numpy().decode('utf-8')\n",
    "\n",
    "            # Check if the prediction is correct\n",
    "            if original_str == prediction_str:\n",
    "                correct_predictions += 1\n",
    "\n",
    "            print('Original:', original_str)\n",
    "            print('Prediction:', prediction_str)\n",
    "            print('~' * 100)\n",
    "\n",
    "        accuracy = correct_predictions / total_samples\n",
    "        print(f'Epoch {epoch + 1} Accuracy: {accuracy * 100:.2f}%')\n"
   ]
  },
  {
   "cell_type": "code",
   "execution_count": 757,
   "id": "0346b10e-6990-45ef-af5a-068a3f1bed64",
   "metadata": {},
   "outputs": [
    {
     "name": "stdout",
     "output_type": "stream",
     "text": [
      "No checkpoint found. Creating a new model.\n"
     ]
    }
   ],
   "source": [
    "from tensorflow.keras.models import load_model\n",
    "custom_objects = {'CTCLoss': CTCLoss}\n",
    "checkpoint_directory = './models/tested_model4'\n",
    "# Ensure the checkpoint directory exists; if not, create it\n",
    "os.makedirs(checkpoint_directory, exist_ok=True)\n",
    "# Specify the checkpoint file path\n",
    "checkpoint_path = os.path.join(checkpoint_directory, 'checkpoint')\n",
    "# Check if there is a checkpoint file\n",
    "if os.path.exists(checkpoint_path):\n",
    "    print(\"Checkpoint exists in models.\")\n",
    "    # model = create_lip_reading_model(input_shape, num_classes)\n",
    "    model = load_model(checkpoint_path,  custom_objects=custom_objects)\n",
    "     # Retrieve the last epoch from the training history\n",
    "    last_epoch = max(model.history.epoch) + 1 if hasattr(model.history, 'epoch') else 1\n",
    "    # model.load_weights(checkpoint_path)\n",
    "    model.compile(optimizer=tf.keras.optimizers.Adam(learning_rate=0.0001),\n",
    "                    loss=CTCLoss)\n",
    "else:\n",
    "    # If there is no checkpoint, create a new model\n",
    "    # input_shape = (100, 100, 720, 1)  # Modify based on your actual input shape\n",
    "    # num_classes =  char_to_num.vocabulary_size()+1 # Replace with the actual number of classes\n",
    "    model = create_lip_reading_model(input_shape, num_classes)\n",
    "    print(\"No checkpoint found. Creating a new model.\")\n"
   ]
  },
  {
   "cell_type": "code",
   "execution_count": 758,
   "id": "dbf7a7bd-193f-4520-90d8-fea06f7f702b",
   "metadata": {},
   "outputs": [
    {
     "name": "stdout",
     "output_type": "stream",
     "text": [
      "Model: \"sequential_12\"\n",
      "_________________________________________________________________\n",
      " Layer (type)                Output Shape              Param #   \n",
      "=================================================================\n",
      " conv3d_36 (Conv3D)          (None, 75, 60, 135, 128   3584      \n",
      "                             )                                   \n",
      "                                                                 \n",
      " activation_36 (Activation)  (None, 75, 60, 135, 128   0         \n",
      "                             )                                   \n",
      "                                                                 \n",
      " max_pooling3d_36 (MaxPooli  (None, 75, 30, 67, 128)   0         \n",
      " ng3D)                                                           \n",
      "                                                                 \n",
      " conv3d_37 (Conv3D)          (None, 75, 30, 67, 256)   884992    \n",
      "                                                                 \n",
      " activation_37 (Activation)  (None, 75, 30, 67, 256)   0         \n",
      "                                                                 \n",
      " max_pooling3d_37 (MaxPooli  (None, 75, 15, 33, 256)   0         \n",
      " ng3D)                                                           \n",
      "                                                                 \n",
      " conv3d_38 (Conv3D)          (None, 75, 15, 33, 75)    518475    \n",
      "                                                                 \n",
      " activation_38 (Activation)  (None, 75, 15, 33, 75)    0         \n",
      "                                                                 \n",
      " max_pooling3d_38 (MaxPooli  (None, 75, 7, 16, 75)     0         \n",
      " ng3D)                                                           \n",
      "                                                                 \n",
      " time_distributed_12 (TimeD  (None, 75, 8400)          0         \n",
      " istributed)                                                     \n",
      "                                                                 \n",
      " bidirectional_24 (Bidirect  (None, 75, 256)           8733696   \n",
      " ional)                                                          \n",
      "                                                                 \n",
      " dropout_24 (Dropout)        (None, 75, 256)           0         \n",
      "                                                                 \n",
      " bidirectional_25 (Bidirect  (None, 75, 256)           394240    \n",
      " ional)                                                          \n",
      "                                                                 \n",
      " dropout_25 (Dropout)        (None, 75, 256)           0         \n",
      "                                                                 \n",
      " dense_12 (Dense)            (None, 75, 41)            10537     \n",
      "                                                                 \n",
      "=================================================================\n",
      "Total params: 10545524 (40.23 MB)\n",
      "Trainable params: 10545524 (40.23 MB)\n",
      "Non-trainable params: 0 (0.00 Byte)\n",
      "_________________________________________________________________\n"
     ]
    }
   ],
   "source": [
    "model.summary()"
   ]
  },
  {
   "cell_type": "code",
   "execution_count": 759,
   "id": "0e64b60a-51bd-48af-b809-bb5bf1b6fa89",
   "metadata": {},
   "outputs": [],
   "source": [
    "# for batch in train_data:\n",
    "#     x, y_true = batch\n",
    "#     y_pred = model.predict(x)\n",
    "#     print(\"Label shape:\", y_true.shape)\n",
    "#     print(\"Prediction shape:\", y_pred.shape)\n"
   ]
  },
  {
   "cell_type": "code",
   "execution_count": 760,
   "id": "6b4938fe-484b-4d90-b113-b83c505ed64b",
   "metadata": {},
   "outputs": [
    {
     "name": "stdout",
     "output_type": "stream",
     "text": [
      "1/1 [==============================] - 2s 2s/step\n"
     ]
    }
   ],
   "source": [
    "yhat = model.predict(val[0])"
   ]
  },
  {
   "cell_type": "code",
   "execution_count": 761,
   "id": "5c253c4b-49e8-4dff-918c-f48215413bed",
   "metadata": {},
   "outputs": [
    {
     "data": {
      "text/plain": [
       "<tf.Tensor: shape=(), dtype=string, numpy=b'kssssssssssssssssssssssssssssssssssssssssssssssssssssssssssssssssssssssssss'>"
      ]
     },
     "execution_count": 761,
     "metadata": {},
     "output_type": "execute_result"
    }
   ],
   "source": [
    "tf.strings.reduce_join([num_to_char(x) for x in tf.argmax(yhat[0],axis=1)])"
   ]
  },
  {
   "cell_type": "code",
   "execution_count": 762,
   "id": "caae3f40-2841-4ac8-9be4-8cca5db0abef",
   "metadata": {},
   "outputs": [
    {
     "data": {
      "text/plain": [
       "<tf.Tensor: shape=(), dtype=string, numpy=b'kssssssssssssssssssssssssssssssssssssssssssssssssssssssssssssssssssssssssss'>"
      ]
     },
     "execution_count": 762,
     "metadata": {},
     "output_type": "execute_result"
    }
   ],
   "source": [
    "tf.strings.reduce_join([num_to_char(tf.argmax(x)) for x in yhat[0]])"
   ]
  },
  {
   "cell_type": "code",
   "execution_count": 763,
   "id": "ead14265-6a80-4fff-a66d-8f44e966a215",
   "metadata": {},
   "outputs": [
    {
     "data": {
      "text/plain": [
       "(None, 75, 60, 135, 1)"
      ]
     },
     "execution_count": 763,
     "metadata": {},
     "output_type": "execute_result"
    }
   ],
   "source": [
    "model.input_shape"
   ]
  },
  {
   "cell_type": "code",
   "execution_count": 764,
   "id": "7bd828c6-3c7a-4885-8755-9198fd735dd9",
   "metadata": {},
   "outputs": [
    {
     "data": {
      "text/plain": [
       "(None, 75, 41)"
      ]
     },
     "execution_count": 764,
     "metadata": {},
     "output_type": "execute_result"
    }
   ],
   "source": [
    "model.output_shape"
   ]
  },
  {
   "cell_type": "code",
   "execution_count": 765,
   "id": "62c365b8-fac4-4e6e-a364-ee681e65da04",
   "metadata": {},
   "outputs": [],
   "source": [
    "# from tensorflow.keras.utils import plot_model\n",
    "\n",
    "# # Assuming 'model' is your neural network\n",
    "# plot_model(model, to_file='model_network.png', show_shapes=True, show_layer_names=True)\n"
   ]
  },
  {
   "cell_type": "markdown",
   "id": "42a586a0-3433-4c5c-8825-63328360cef8",
   "metadata": {},
   "source": [
    "4. Setup Training Options and Train"
   ]
  },
  {
   "cell_type": "code",
   "execution_count": 766,
   "id": "ee6bfd61-b69a-4b78-9e01-b5a02be7cb26",
   "metadata": {},
   "outputs": [],
   "source": [
    "model.compile(optimizer = tf.keras.optimizers.Adam(learning_rate=0.0001), loss=CTCLoss )"
   ]
  },
  {
   "cell_type": "code",
   "execution_count": 767,
   "id": "9b812ee5-b040-4270-a021-18399888d2af",
   "metadata": {},
   "outputs": [],
   "source": [
    "# print(\"Number of sequences in the batch:\", batch_len.numpy())"
   ]
  },
  {
   "cell_type": "code",
   "execution_count": 768,
   "id": "751c249e-bb00-4e24-8b35-d1f5084c21ed",
   "metadata": {},
   "outputs": [],
   "source": [
    "checkpoint_callback = ModelCheckpoint(\n",
    "    os.path.join('model','tested_model4'),\n",
    "    monitor='loss', \n",
    "    save_weights_only=False, \n",
    "    mode='min',\n",
    "    save_best_only=True,) "
   ]
  },
  {
   "cell_type": "code",
   "execution_count": 769,
   "id": "259ec1a9-023f-496d-a064-6cf3b12e4d6b",
   "metadata": {},
   "outputs": [],
   "source": [
    "schedule_callback = LearningRateScheduler(scheduler)"
   ]
  },
  {
   "cell_type": "code",
   "execution_count": 770,
   "id": "2d2cdca8-1938-4899-a98c-d9b254c21d9c",
   "metadata": {},
   "outputs": [],
   "source": [
    "example_callback = ProduceExample(test_data)"
   ]
  },
  {
   "cell_type": "code",
   "execution_count": 771,
   "id": "8832b671-41d5-42d0-a697-2dc3caa76085",
   "metadata": {},
   "outputs": [],
   "source": [
    "callbacks = [checkpoint_callback, schedule_callback, example_callback]"
   ]
  },
  {
   "cell_type": "code",
   "execution_count": 772,
   "id": "1b6c5c18-538e-4172-ba49-c3931c2dbfc5",
   "metadata": {},
   "outputs": [],
   "source": [
    "tf.keras.utils.get_custom_objects()['CTCLoss'] = CTCLoss\n"
   ]
  },
  {
   "cell_type": "code",
   "execution_count": 773,
   "id": "6cd5644b-b4cc-4674-b59e-0cf13a57f56e",
   "metadata": {},
   "outputs": [
    {
     "name": "stdout",
     "output_type": "stream",
     "text": [
      "Epoch 1/100\n",
      "64/64 [==============================] - ETA: 0s - loss: 67.3667INFO:tensorflow:Assets written to: model/tested_model4/assets\n"
     ]
    },
    {
     "name": "stderr",
     "output_type": "stream",
     "text": [
      "INFO:tensorflow:Assets written to: model/tested_model4/assets\n"
     ]
    },
    {
     "name": "stdout",
     "output_type": "stream",
     "text": [
      "1/1 [==============================] - 2s 2s/step\n",
      "Original: jau5 mou5 tai2 co3\n",
      "Prediction: \n",
      "~~~~~~~~~~~~~~~~~~~~~~~~~~~~~~~~~~~~~~~~~~~~~~~~~~~~~~~~~~~~~~~~~~~~~~~~~~~~~~~~~~~~~~~~~~~~~~~~~~~~\n",
      "Original: jau5 man6 tai4\n",
      "Prediction: \n",
      "~~~~~~~~~~~~~~~~~~~~~~~~~~~~~~~~~~~~~~~~~~~~~~~~~~~~~~~~~~~~~~~~~~~~~~~~~~~~~~~~~~~~~~~~~~~~~~~~~~~~\n",
      "Epoch 1 Accuracy: 0.00%\n",
      "64/64 [==============================] - 386s 6s/step - loss: 67.3667 - val_loss: 60.8670 - lr: 1.0000e-04\n",
      "Epoch 2/100\n",
      "64/64 [==============================] - ETA: 0s - loss: 56.0891INFO:tensorflow:Assets written to: model/tested_model4/assets\n"
     ]
    },
    {
     "name": "stderr",
     "output_type": "stream",
     "text": [
      "INFO:tensorflow:Assets written to: model/tested_model4/assets\n"
     ]
    },
    {
     "name": "stdout",
     "output_type": "stream",
     "text": [
      "1/1 [==============================] - 1s 1s/step\n",
      "Original: do1 ze6 saai3\n",
      "Prediction:  \n",
      "~~~~~~~~~~~~~~~~~~~~~~~~~~~~~~~~~~~~~~~~~~~~~~~~~~~~~~~~~~~~~~~~~~~~~~~~~~~~~~~~~~~~~~~~~~~~~~~~~~~~\n",
      "Original: fei1 soeng4 hou2\n",
      "Prediction:  \n",
      "~~~~~~~~~~~~~~~~~~~~~~~~~~~~~~~~~~~~~~~~~~~~~~~~~~~~~~~~~~~~~~~~~~~~~~~~~~~~~~~~~~~~~~~~~~~~~~~~~~~~\n",
      "Epoch 2 Accuracy: 0.00%\n",
      "64/64 [==============================] - 386s 6s/step - loss: 56.0891 - val_loss: 53.9522 - lr: 1.0000e-04\n",
      "Epoch 3/100\n",
      "64/64 [==============================] - ETA: 0s - loss: 50.6294INFO:tensorflow:Assets written to: model/tested_model4/assets\n"
     ]
    },
    {
     "name": "stderr",
     "output_type": "stream",
     "text": [
      "INFO:tensorflow:Assets written to: model/tested_model4/assets\n"
     ]
    },
    {
     "name": "stdout",
     "output_type": "stream",
     "text": [
      "1/1 [==============================] - 1s 1s/step\n",
      "Original: jat1 cai4 hang4\n",
      "Prediction: \n",
      "~~~~~~~~~~~~~~~~~~~~~~~~~~~~~~~~~~~~~~~~~~~~~~~~~~~~~~~~~~~~~~~~~~~~~~~~~~~~~~~~~~~~~~~~~~~~~~~~~~~~\n",
      "Original: hou2 waan4 ge3\n",
      "Prediction: \n",
      "~~~~~~~~~~~~~~~~~~~~~~~~~~~~~~~~~~~~~~~~~~~~~~~~~~~~~~~~~~~~~~~~~~~~~~~~~~~~~~~~~~~~~~~~~~~~~~~~~~~~\n",
      "Epoch 3 Accuracy: 0.00%\n",
      "64/64 [==============================] - 390s 6s/step - loss: 50.6294 - val_loss: 52.4014 - lr: 1.0000e-04\n",
      "Epoch 4/100\n",
      "64/64 [==============================] - ETA: 0s - loss: 47.7382INFO:tensorflow:Assets written to: model/tested_model4/assets\n"
     ]
    },
    {
     "name": "stderr",
     "output_type": "stream",
     "text": [
      "INFO:tensorflow:Assets written to: model/tested_model4/assets\n"
     ]
    },
    {
     "name": "stdout",
     "output_type": "stream",
     "text": [
      "1/1 [==============================] - 1s 1s/step\n",
      "Original: jau5 sik6 gwo3\n",
      "Prediction:  \n",
      "~~~~~~~~~~~~~~~~~~~~~~~~~~~~~~~~~~~~~~~~~~~~~~~~~~~~~~~~~~~~~~~~~~~~~~~~~~~~~~~~~~~~~~~~~~~~~~~~~~~~\n",
      "Original: ping4 faai3 lok6\n",
      "Prediction:  \n",
      "~~~~~~~~~~~~~~~~~~~~~~~~~~~~~~~~~~~~~~~~~~~~~~~~~~~~~~~~~~~~~~~~~~~~~~~~~~~~~~~~~~~~~~~~~~~~~~~~~~~~\n",
      "Epoch 4 Accuracy: 0.00%\n",
      "64/64 [==============================] - 386s 6s/step - loss: 47.7382 - val_loss: 48.5029 - lr: 1.0000e-04\n",
      "Epoch 5/100\n",
      "64/64 [==============================] - ETA: 0s - loss: 46.6815INFO:tensorflow:Assets written to: model/tested_model4/assets\n"
     ]
    },
    {
     "name": "stderr",
     "output_type": "stream",
     "text": [
      "INFO:tensorflow:Assets written to: model/tested_model4/assets\n"
     ]
    },
    {
     "name": "stdout",
     "output_type": "stream",
     "text": [
      "1/1 [==============================] - 1s 1s/step\n",
      "Original: dak1 ji3 ge3\n",
      "Prediction:  \n",
      "~~~~~~~~~~~~~~~~~~~~~~~~~~~~~~~~~~~~~~~~~~~~~~~~~~~~~~~~~~~~~~~~~~~~~~~~~~~~~~~~~~~~~~~~~~~~~~~~~~~~\n",
      "Original: hou2 jau1 sik1\n",
      "Prediction:  \n",
      "~~~~~~~~~~~~~~~~~~~~~~~~~~~~~~~~~~~~~~~~~~~~~~~~~~~~~~~~~~~~~~~~~~~~~~~~~~~~~~~~~~~~~~~~~~~~~~~~~~~~\n",
      "Epoch 5 Accuracy: 0.00%\n",
      "64/64 [==============================] - 387s 6s/step - loss: 46.6815 - val_loss: 45.1756 - lr: 1.0000e-04\n",
      "Epoch 6/100\n",
      "64/64 [==============================] - ETA: 0s - loss: 46.0511INFO:tensorflow:Assets written to: model/tested_model4/assets\n"
     ]
    },
    {
     "name": "stderr",
     "output_type": "stream",
     "text": [
      "INFO:tensorflow:Assets written to: model/tested_model4/assets\n"
     ]
    },
    {
     "name": "stdout",
     "output_type": "stream",
     "text": [
      "1/1 [==============================] - 1s 1s/step\n",
      "Original: zoek3 faai3 lok6\n",
      "Prediction:  \n",
      "~~~~~~~~~~~~~~~~~~~~~~~~~~~~~~~~~~~~~~~~~~~~~~~~~~~~~~~~~~~~~~~~~~~~~~~~~~~~~~~~~~~~~~~~~~~~~~~~~~~~\n",
      "Original: gong2 dak1 hou2\n",
      "Prediction:  \n",
      "~~~~~~~~~~~~~~~~~~~~~~~~~~~~~~~~~~~~~~~~~~~~~~~~~~~~~~~~~~~~~~~~~~~~~~~~~~~~~~~~~~~~~~~~~~~~~~~~~~~~\n",
      "Epoch 6 Accuracy: 0.00%\n",
      "64/64 [==============================] - 386s 6s/step - loss: 46.0511 - val_loss: 45.5070 - lr: 1.0000e-04\n",
      "Epoch 7/100\n",
      "64/64 [==============================] - ETA: 0s - loss: 45.4728INFO:tensorflow:Assets written to: model/tested_model4/assets\n"
     ]
    },
    {
     "name": "stderr",
     "output_type": "stream",
     "text": [
      "INFO:tensorflow:Assets written to: model/tested_model4/assets\n"
     ]
    },
    {
     "name": "stdout",
     "output_type": "stream",
     "text": [
      "1/1 [==============================] - 1s 1s/step\n",
      "Original: zoek3 faai3 lok6\n",
      "Prediction: o \n",
      "~~~~~~~~~~~~~~~~~~~~~~~~~~~~~~~~~~~~~~~~~~~~~~~~~~~~~~~~~~~~~~~~~~~~~~~~~~~~~~~~~~~~~~~~~~~~~~~~~~~~\n",
      "Original: hou2 noi6 mou5\n",
      "Prediction: o \n",
      "~~~~~~~~~~~~~~~~~~~~~~~~~~~~~~~~~~~~~~~~~~~~~~~~~~~~~~~~~~~~~~~~~~~~~~~~~~~~~~~~~~~~~~~~~~~~~~~~~~~~\n",
      "Epoch 7 Accuracy: 0.00%\n",
      "64/64 [==============================] - 384s 6s/step - loss: 45.4728 - val_loss: 45.3087 - lr: 1.0000e-04\n",
      "Epoch 8/100\n",
      "64/64 [==============================] - ETA: 0s - loss: 44.9638INFO:tensorflow:Assets written to: model/tested_model4/assets\n"
     ]
    },
    {
     "name": "stderr",
     "output_type": "stream",
     "text": [
      "INFO:tensorflow:Assets written to: model/tested_model4/assets\n"
     ]
    },
    {
     "name": "stdout",
     "output_type": "stream",
     "text": [
      "1/1 [==============================] - 1s 1s/step\n",
      "Original: nei5 hou2 wan6\n",
      "Prediction: o \n",
      "~~~~~~~~~~~~~~~~~~~~~~~~~~~~~~~~~~~~~~~~~~~~~~~~~~~~~~~~~~~~~~~~~~~~~~~~~~~~~~~~~~~~~~~~~~~~~~~~~~~~\n",
      "Original: oi3 cing4 tim4\n",
      "Prediction: o \n",
      "~~~~~~~~~~~~~~~~~~~~~~~~~~~~~~~~~~~~~~~~~~~~~~~~~~~~~~~~~~~~~~~~~~~~~~~~~~~~~~~~~~~~~~~~~~~~~~~~~~~~\n",
      "Epoch 8 Accuracy: 0.00%\n",
      "64/64 [==============================] - 386s 6s/step - loss: 44.9638 - val_loss: 46.6582 - lr: 1.0000e-04\n",
      "Epoch 9/100\n",
      "1/1 [==============================] - 1s 1s/step- loss: 45.07\n",
      "Original: ping4 on1 hei2\n",
      "Prediction: o \n",
      "~~~~~~~~~~~~~~~~~~~~~~~~~~~~~~~~~~~~~~~~~~~~~~~~~~~~~~~~~~~~~~~~~~~~~~~~~~~~~~~~~~~~~~~~~~~~~~~~~~~~\n",
      "Original: siu2 sam1 di1\n",
      "Prediction: o \n",
      "~~~~~~~~~~~~~~~~~~~~~~~~~~~~~~~~~~~~~~~~~~~~~~~~~~~~~~~~~~~~~~~~~~~~~~~~~~~~~~~~~~~~~~~~~~~~~~~~~~~~\n",
      "Epoch 9 Accuracy: 0.00%\n",
      "64/64 [==============================] - 374s 6s/step - loss: 45.0725 - val_loss: 43.9483 - lr: 1.0000e-04\n",
      "Epoch 10/100\n",
      "1/1 [==============================] - 1s 1s/step- loss: 45.03\n",
      "Original: hoi1 sam1 aa3\n",
      "Prediction: o \n",
      "~~~~~~~~~~~~~~~~~~~~~~~~~~~~~~~~~~~~~~~~~~~~~~~~~~~~~~~~~~~~~~~~~~~~~~~~~~~~~~~~~~~~~~~~~~~~~~~~~~~~\n",
      "Original: ting1 ming4 baak3\n",
      "Prediction: o \n",
      "~~~~~~~~~~~~~~~~~~~~~~~~~~~~~~~~~~~~~~~~~~~~~~~~~~~~~~~~~~~~~~~~~~~~~~~~~~~~~~~~~~~~~~~~~~~~~~~~~~~~\n",
      "Epoch 10 Accuracy: 0.00%\n",
      "64/64 [==============================] - 378s 6s/step - loss: 45.0347 - val_loss: 46.4959 - lr: 1.0000e-04\n",
      "Epoch 11/100\n",
      "64/64 [==============================] - ETA: 0s - loss: 44.2861INFO:tensorflow:Assets written to: model/tested_model4/assets\n"
     ]
    },
    {
     "name": "stderr",
     "output_type": "stream",
     "text": [
      "INFO:tensorflow:Assets written to: model/tested_model4/assets\n"
     ]
    },
    {
     "name": "stdout",
     "output_type": "stream",
     "text": [
      "1/1 [==============================] - 1s 1s/step\n",
      "Original: jat1 cai4 hang4\n",
      "Prediction: o \n",
      "~~~~~~~~~~~~~~~~~~~~~~~~~~~~~~~~~~~~~~~~~~~~~~~~~~~~~~~~~~~~~~~~~~~~~~~~~~~~~~~~~~~~~~~~~~~~~~~~~~~~\n",
      "Original: zan1 hai6 hou2\n",
      "Prediction: o \n",
      "~~~~~~~~~~~~~~~~~~~~~~~~~~~~~~~~~~~~~~~~~~~~~~~~~~~~~~~~~~~~~~~~~~~~~~~~~~~~~~~~~~~~~~~~~~~~~~~~~~~~\n",
      "Epoch 11 Accuracy: 0.00%\n",
      "64/64 [==============================] - 385s 6s/step - loss: 44.2861 - val_loss: 47.3009 - lr: 1.0000e-04\n",
      "Epoch 12/100\n",
      "1/1 [==============================] - 1s 1s/step- loss: 44.45\n",
      "Original: gam2 joeng2 waa3\n",
      "Prediction: o \n",
      "~~~~~~~~~~~~~~~~~~~~~~~~~~~~~~~~~~~~~~~~~~~~~~~~~~~~~~~~~~~~~~~~~~~~~~~~~~~~~~~~~~~~~~~~~~~~~~~~~~~~\n",
      "Original: zoek3 hou2 wan6\n",
      "Prediction: o \n",
      "~~~~~~~~~~~~~~~~~~~~~~~~~~~~~~~~~~~~~~~~~~~~~~~~~~~~~~~~~~~~~~~~~~~~~~~~~~~~~~~~~~~~~~~~~~~~~~~~~~~~\n",
      "Epoch 12 Accuracy: 0.00%\n",
      "64/64 [==============================] - 376s 6s/step - loss: 44.4537 - val_loss: 44.1470 - lr: 1.0000e-04\n",
      "Epoch 13/100\n",
      "64/64 [==============================] - ETA: 0s - loss: 43.7652INFO:tensorflow:Assets written to: model/tested_model4/assets\n"
     ]
    },
    {
     "name": "stderr",
     "output_type": "stream",
     "text": [
      "INFO:tensorflow:Assets written to: model/tested_model4/assets\n"
     ]
    },
    {
     "name": "stdout",
     "output_type": "stream",
     "text": [
      "1/1 [==============================] - 1s 1s/step\n",
      "Original: gam2 joeng2 waa3\n",
      "Prediction: o \n",
      "~~~~~~~~~~~~~~~~~~~~~~~~~~~~~~~~~~~~~~~~~~~~~~~~~~~~~~~~~~~~~~~~~~~~~~~~~~~~~~~~~~~~~~~~~~~~~~~~~~~~\n",
      "Original: fei1 soeng4 hou2\n",
      "Prediction: o \n",
      "~~~~~~~~~~~~~~~~~~~~~~~~~~~~~~~~~~~~~~~~~~~~~~~~~~~~~~~~~~~~~~~~~~~~~~~~~~~~~~~~~~~~~~~~~~~~~~~~~~~~\n",
      "Epoch 13 Accuracy: 0.00%\n",
      "64/64 [==============================] - 382s 6s/step - loss: 43.7652 - val_loss: 43.0725 - lr: 1.0000e-04\n",
      "Epoch 14/100\n",
      "1/1 [==============================] - 1s 1s/step- loss: 43.90\n",
      "Original: maan6 maan6 zau2\n",
      "Prediction: o \n",
      "~~~~~~~~~~~~~~~~~~~~~~~~~~~~~~~~~~~~~~~~~~~~~~~~~~~~~~~~~~~~~~~~~~~~~~~~~~~~~~~~~~~~~~~~~~~~~~~~~~~~\n",
      "Original: hing1 fan5 aa3\n",
      "Prediction: o \n",
      "~~~~~~~~~~~~~~~~~~~~~~~~~~~~~~~~~~~~~~~~~~~~~~~~~~~~~~~~~~~~~~~~~~~~~~~~~~~~~~~~~~~~~~~~~~~~~~~~~~~~\n",
      "Epoch 14 Accuracy: 0.00%\n",
      "64/64 [==============================] - 374s 6s/step - loss: 43.9079 - val_loss: 42.9061 - lr: 1.0000e-04\n",
      "Epoch 15/100\n",
      "64/64 [==============================] - ETA: 0s - loss: 43.2659INFO:tensorflow:Assets written to: model/tested_model4/assets\n"
     ]
    },
    {
     "name": "stderr",
     "output_type": "stream",
     "text": [
      "INFO:tensorflow:Assets written to: model/tested_model4/assets\n"
     ]
    },
    {
     "name": "stdout",
     "output_type": "stream",
     "text": [
      "1/1 [==============================] - 1s 1s/step\n",
      "Original: hou2 hoi1 sam1\n",
      "Prediction: h \n",
      "~~~~~~~~~~~~~~~~~~~~~~~~~~~~~~~~~~~~~~~~~~~~~~~~~~~~~~~~~~~~~~~~~~~~~~~~~~~~~~~~~~~~~~~~~~~~~~~~~~~~\n",
      "Original: hou2 jau1 sik1\n",
      "Prediction: o \n",
      "~~~~~~~~~~~~~~~~~~~~~~~~~~~~~~~~~~~~~~~~~~~~~~~~~~~~~~~~~~~~~~~~~~~~~~~~~~~~~~~~~~~~~~~~~~~~~~~~~~~~\n",
      "Epoch 15 Accuracy: 0.00%\n",
      "64/64 [==============================] - 387s 6s/step - loss: 43.2659 - val_loss: 45.6071 - lr: 1.0000e-04\n",
      "Epoch 16/100\n",
      "64/64 [==============================] - ETA: 0s - loss: 43.1431INFO:tensorflow:Assets written to: model/tested_model4/assets\n"
     ]
    },
    {
     "name": "stderr",
     "output_type": "stream",
     "text": [
      "INFO:tensorflow:Assets written to: model/tested_model4/assets\n"
     ]
    },
    {
     "name": "stdout",
     "output_type": "stream",
     "text": [
      "1/1 [==============================] - 1s 1s/step\n",
      "Original: hoi1 sam1 di1\n",
      "Prediction: o \n",
      "~~~~~~~~~~~~~~~~~~~~~~~~~~~~~~~~~~~~~~~~~~~~~~~~~~~~~~~~~~~~~~~~~~~~~~~~~~~~~~~~~~~~~~~~~~~~~~~~~~~~\n",
      "Original: oi3 nei5 dei6\n",
      "Prediction: o \n",
      "~~~~~~~~~~~~~~~~~~~~~~~~~~~~~~~~~~~~~~~~~~~~~~~~~~~~~~~~~~~~~~~~~~~~~~~~~~~~~~~~~~~~~~~~~~~~~~~~~~~~\n",
      "Epoch 16 Accuracy: 0.00%\n",
      "64/64 [==============================] - 387s 6s/step - loss: 43.1431 - val_loss: 42.9082 - lr: 1.0000e-04\n",
      "Epoch 17/100\n",
      "64/64 [==============================] - ETA: 0s - loss: 42.8511INFO:tensorflow:Assets written to: model/tested_model4/assets\n"
     ]
    },
    {
     "name": "stderr",
     "output_type": "stream",
     "text": [
      "INFO:tensorflow:Assets written to: model/tested_model4/assets\n"
     ]
    },
    {
     "name": "stdout",
     "output_type": "stream",
     "text": [
      "1/1 [==============================] - 1s 1s/step\n",
      "Original: seon6 lei6 di1\n",
      "Prediction: o \n",
      "~~~~~~~~~~~~~~~~~~~~~~~~~~~~~~~~~~~~~~~~~~~~~~~~~~~~~~~~~~~~~~~~~~~~~~~~~~~~~~~~~~~~~~~~~~~~~~~~~~~~\n",
      "Original: jau5 si4 gaan3\n",
      "Prediction: o \n",
      "~~~~~~~~~~~~~~~~~~~~~~~~~~~~~~~~~~~~~~~~~~~~~~~~~~~~~~~~~~~~~~~~~~~~~~~~~~~~~~~~~~~~~~~~~~~~~~~~~~~~\n",
      "Epoch 17 Accuracy: 0.00%\n",
      "64/64 [==============================] - 383s 6s/step - loss: 42.8511 - val_loss: 43.9689 - lr: 1.0000e-04\n",
      "Epoch 18/100\n",
      "64/64 [==============================] - ETA: 0s - loss: 42.3647INFO:tensorflow:Assets written to: model/tested_model4/assets\n"
     ]
    },
    {
     "name": "stderr",
     "output_type": "stream",
     "text": [
      "INFO:tensorflow:Assets written to: model/tested_model4/assets\n"
     ]
    },
    {
     "name": "stdout",
     "output_type": "stream",
     "text": [
      "1/1 [==============================] - 1s 1s/step\n",
      "Original: hou2 hoi1 sam1\n",
      "Prediction: o \n",
      "~~~~~~~~~~~~~~~~~~~~~~~~~~~~~~~~~~~~~~~~~~~~~~~~~~~~~~~~~~~~~~~~~~~~~~~~~~~~~~~~~~~~~~~~~~~~~~~~~~~~\n",
      "Original: jau5 man6 tai4\n",
      "Prediction: o \n",
      "~~~~~~~~~~~~~~~~~~~~~~~~~~~~~~~~~~~~~~~~~~~~~~~~~~~~~~~~~~~~~~~~~~~~~~~~~~~~~~~~~~~~~~~~~~~~~~~~~~~~\n",
      "Epoch 18 Accuracy: 0.00%\n",
      "64/64 [==============================] - 387s 6s/step - loss: 42.3647 - val_loss: 40.7692 - lr: 1.0000e-04\n",
      "Epoch 19/100\n",
      "64/64 [==============================] - ETA: 0s - loss: 42.3266INFO:tensorflow:Assets written to: model/tested_model4/assets\n"
     ]
    },
    {
     "name": "stderr",
     "output_type": "stream",
     "text": [
      "INFO:tensorflow:Assets written to: model/tested_model4/assets\n"
     ]
    },
    {
     "name": "stdout",
     "output_type": "stream",
     "text": [
      "1/1 [==============================] - 1s 1s/step\n",
      "Original: faai3 di1 laa1\n",
      "Prediction: a\n",
      "~~~~~~~~~~~~~~~~~~~~~~~~~~~~~~~~~~~~~~~~~~~~~~~~~~~~~~~~~~~~~~~~~~~~~~~~~~~~~~~~~~~~~~~~~~~~~~~~~~~~\n",
      "Original: hou2 gam2 ze6\n",
      "Prediction: ho \n",
      "~~~~~~~~~~~~~~~~~~~~~~~~~~~~~~~~~~~~~~~~~~~~~~~~~~~~~~~~~~~~~~~~~~~~~~~~~~~~~~~~~~~~~~~~~~~~~~~~~~~~\n",
      "Epoch 19 Accuracy: 0.00%\n",
      "64/64 [==============================] - 387s 6s/step - loss: 42.3266 - val_loss: 41.5675 - lr: 1.0000e-04\n",
      "Epoch 20/100\n",
      "64/64 [==============================] - ETA: 0s - loss: 41.3196INFO:tensorflow:Assets written to: model/tested_model4/assets\n"
     ]
    },
    {
     "name": "stderr",
     "output_type": "stream",
     "text": [
      "INFO:tensorflow:Assets written to: model/tested_model4/assets\n"
     ]
    },
    {
     "name": "stdout",
     "output_type": "stream",
     "text": [
      "1/1 [==============================] - 1s 1s/step\n",
      "Original: hou2 hoi1 sam1\n",
      "Prediction: o \n",
      "~~~~~~~~~~~~~~~~~~~~~~~~~~~~~~~~~~~~~~~~~~~~~~~~~~~~~~~~~~~~~~~~~~~~~~~~~~~~~~~~~~~~~~~~~~~~~~~~~~~~\n",
      "Original: jau5 si4 gaan3\n",
      "Prediction: ha \n",
      "~~~~~~~~~~~~~~~~~~~~~~~~~~~~~~~~~~~~~~~~~~~~~~~~~~~~~~~~~~~~~~~~~~~~~~~~~~~~~~~~~~~~~~~~~~~~~~~~~~~~\n",
      "Epoch 20 Accuracy: 0.00%\n",
      "64/64 [==============================] - 386s 6s/step - loss: 41.3196 - val_loss: 42.7750 - lr: 1.0000e-04\n",
      "Epoch 21/100\n",
      "64/64 [==============================] - ETA: 0s - loss: 41.0070INFO:tensorflow:Assets written to: model/tested_model4/assets\n"
     ]
    },
    {
     "name": "stderr",
     "output_type": "stream",
     "text": [
      "INFO:tensorflow:Assets written to: model/tested_model4/assets\n"
     ]
    },
    {
     "name": "stdout",
     "output_type": "stream",
     "text": [
      "1/1 [==============================] - 1s 1s/step\n",
      "Original: dang2 jat1 dang2\n",
      "Prediction: ha a\n",
      "~~~~~~~~~~~~~~~~~~~~~~~~~~~~~~~~~~~~~~~~~~~~~~~~~~~~~~~~~~~~~~~~~~~~~~~~~~~~~~~~~~~~~~~~~~~~~~~~~~~~\n",
      "Original: ze6 ze6 nei5\n",
      "Prediction: ha\n",
      "~~~~~~~~~~~~~~~~~~~~~~~~~~~~~~~~~~~~~~~~~~~~~~~~~~~~~~~~~~~~~~~~~~~~~~~~~~~~~~~~~~~~~~~~~~~~~~~~~~~~\n",
      "Epoch 21 Accuracy: 0.00%\n",
      "64/64 [==============================] - 384s 6s/step - loss: 41.0070 - val_loss: 39.5664 - lr: 1.0000e-04\n",
      "Epoch 22/100\n",
      "64/64 [==============================] - ETA: 0s - loss: 40.7136INFO:tensorflow:Assets written to: model/tested_model4/assets\n"
     ]
    },
    {
     "name": "stderr",
     "output_type": "stream",
     "text": [
      "INFO:tensorflow:Assets written to: model/tested_model4/assets\n"
     ]
    },
    {
     "name": "stdout",
     "output_type": "stream",
     "text": [
      "1/1 [==============================] - 1s 1s/step\n",
      "Original: zan1 waa6 laa1\n",
      "Prediction: a a\n",
      "~~~~~~~~~~~~~~~~~~~~~~~~~~~~~~~~~~~~~~~~~~~~~~~~~~~~~~~~~~~~~~~~~~~~~~~~~~~~~~~~~~~~~~~~~~~~~~~~~~~~\n",
      "Original: hoi1 sam1 aa3\n",
      "Prediction: ho a\n",
      "~~~~~~~~~~~~~~~~~~~~~~~~~~~~~~~~~~~~~~~~~~~~~~~~~~~~~~~~~~~~~~~~~~~~~~~~~~~~~~~~~~~~~~~~~~~~~~~~~~~~\n",
      "Epoch 22 Accuracy: 0.00%\n",
      "64/64 [==============================] - 384s 6s/step - loss: 40.7136 - val_loss: 40.1849 - lr: 1.0000e-04\n",
      "Epoch 23/100\n",
      "64/64 [==============================] - ETA: 0s - loss: 40.2435INFO:tensorflow:Assets written to: model/tested_model4/assets\n"
     ]
    },
    {
     "name": "stderr",
     "output_type": "stream",
     "text": [
      "INFO:tensorflow:Assets written to: model/tested_model4/assets\n"
     ]
    },
    {
     "name": "stdout",
     "output_type": "stream",
     "text": [
      "1/1 [==============================] - 1s 1s/step\n",
      "Original: m4 dang2 ngo5\n",
      "Prediction: ho \n",
      "~~~~~~~~~~~~~~~~~~~~~~~~~~~~~~~~~~~~~~~~~~~~~~~~~~~~~~~~~~~~~~~~~~~~~~~~~~~~~~~~~~~~~~~~~~~~~~~~~~~~\n",
      "Original: jat1 cai4 hang4\n",
      "Prediction: a a\n",
      "~~~~~~~~~~~~~~~~~~~~~~~~~~~~~~~~~~~~~~~~~~~~~~~~~~~~~~~~~~~~~~~~~~~~~~~~~~~~~~~~~~~~~~~~~~~~~~~~~~~~\n",
      "Epoch 23 Accuracy: 0.00%\n",
      "64/64 [==============================] - 384s 6s/step - loss: 40.2435 - val_loss: 40.8427 - lr: 1.0000e-04\n",
      "Epoch 24/100\n",
      "64/64 [==============================] - ETA: 0s - loss: 40.0013INFO:tensorflow:Assets written to: model/tested_model4/assets\n"
     ]
    },
    {
     "name": "stderr",
     "output_type": "stream",
     "text": [
      "INFO:tensorflow:Assets written to: model/tested_model4/assets\n"
     ]
    },
    {
     "name": "stdout",
     "output_type": "stream",
     "text": [
      "1/1 [==============================] - 1s 1s/step\n",
      "Original: jat1 cai4 hang4\n",
      "Prediction: a a\n",
      "~~~~~~~~~~~~~~~~~~~~~~~~~~~~~~~~~~~~~~~~~~~~~~~~~~~~~~~~~~~~~~~~~~~~~~~~~~~~~~~~~~~~~~~~~~~~~~~~~~~~\n",
      "Original: hing1 fan5 aa3\n",
      "Prediction: a \n",
      "~~~~~~~~~~~~~~~~~~~~~~~~~~~~~~~~~~~~~~~~~~~~~~~~~~~~~~~~~~~~~~~~~~~~~~~~~~~~~~~~~~~~~~~~~~~~~~~~~~~~\n",
      "Epoch 24 Accuracy: 0.00%\n",
      "64/64 [==============================] - 384s 6s/step - loss: 40.0013 - val_loss: 38.2222 - lr: 1.0000e-04\n",
      "Epoch 25/100\n",
      "64/64 [==============================] - ETA: 0s - loss: 39.2978INFO:tensorflow:Assets written to: model/tested_model4/assets\n"
     ]
    },
    {
     "name": "stderr",
     "output_type": "stream",
     "text": [
      "INFO:tensorflow:Assets written to: model/tested_model4/assets\n"
     ]
    },
    {
     "name": "stdout",
     "output_type": "stream",
     "text": [
      "1/1 [==============================] - 1s 1s/step\n",
      "Original: waan2 dak1 hoi1\n",
      "Prediction: a \n",
      "~~~~~~~~~~~~~~~~~~~~~~~~~~~~~~~~~~~~~~~~~~~~~~~~~~~~~~~~~~~~~~~~~~~~~~~~~~~~~~~~~~~~~~~~~~~~~~~~~~~~\n",
      "Original: faai3 lok6 siu3\n",
      "Prediction: a \n",
      "~~~~~~~~~~~~~~~~~~~~~~~~~~~~~~~~~~~~~~~~~~~~~~~~~~~~~~~~~~~~~~~~~~~~~~~~~~~~~~~~~~~~~~~~~~~~~~~~~~~~\n",
      "Epoch 25 Accuracy: 0.00%\n",
      "64/64 [==============================] - 384s 6s/step - loss: 39.2978 - val_loss: 38.4213 - lr: 1.0000e-04\n",
      "Epoch 26/100\n",
      "64/64 [==============================] - ETA: 0s - loss: 38.4616INFO:tensorflow:Assets written to: model/tested_model4/assets\n"
     ]
    },
    {
     "name": "stderr",
     "output_type": "stream",
     "text": [
      "INFO:tensorflow:Assets written to: model/tested_model4/assets\n"
     ]
    },
    {
     "name": "stdout",
     "output_type": "stream",
     "text": [
      "1/1 [==============================] - 1s 1s/step\n",
      "Original: ze6 ze6 nei5\n",
      "Prediction: he\n",
      "~~~~~~~~~~~~~~~~~~~~~~~~~~~~~~~~~~~~~~~~~~~~~~~~~~~~~~~~~~~~~~~~~~~~~~~~~~~~~~~~~~~~~~~~~~~~~~~~~~~~\n",
      "Original: waan4 dak1 hoi1\n",
      "Prediction: ho \n",
      "~~~~~~~~~~~~~~~~~~~~~~~~~~~~~~~~~~~~~~~~~~~~~~~~~~~~~~~~~~~~~~~~~~~~~~~~~~~~~~~~~~~~~~~~~~~~~~~~~~~~\n",
      "Epoch 26 Accuracy: 0.00%\n",
      "64/64 [==============================] - 382s 6s/step - loss: 38.4616 - val_loss: 36.4474 - lr: 1.0000e-04\n",
      "Epoch 27/100\n",
      "64/64 [==============================] - ETA: 0s - loss: 37.9516INFO:tensorflow:Assets written to: model/tested_model4/assets\n"
     ]
    },
    {
     "name": "stderr",
     "output_type": "stream",
     "text": [
      "INFO:tensorflow:Assets written to: model/tested_model4/assets\n"
     ]
    },
    {
     "name": "stdout",
     "output_type": "stream",
     "text": [
      "1/1 [==============================] - 1s 1s/step\n",
      "Original: hou2 geng1 aa3\n",
      "Prediction: ho \n",
      "~~~~~~~~~~~~~~~~~~~~~~~~~~~~~~~~~~~~~~~~~~~~~~~~~~~~~~~~~~~~~~~~~~~~~~~~~~~~~~~~~~~~~~~~~~~~~~~~~~~~\n",
      "Original: hou2 hoi1 sam1\n",
      "Prediction: ho \n",
      "~~~~~~~~~~~~~~~~~~~~~~~~~~~~~~~~~~~~~~~~~~~~~~~~~~~~~~~~~~~~~~~~~~~~~~~~~~~~~~~~~~~~~~~~~~~~~~~~~~~~\n",
      "Epoch 27 Accuracy: 0.00%\n",
      "64/64 [==============================] - 385s 6s/step - loss: 37.9516 - val_loss: 36.3677 - lr: 1.0000e-04\n",
      "Epoch 28/100\n",
      "64/64 [==============================] - ETA: 0s - loss: 36.7175INFO:tensorflow:Assets written to: model/tested_model4/assets\n"
     ]
    },
    {
     "name": "stderr",
     "output_type": "stream",
     "text": [
      "INFO:tensorflow:Assets written to: model/tested_model4/assets\n"
     ]
    },
    {
     "name": "stdout",
     "output_type": "stream",
     "text": [
      "1/1 [==============================] - 1s 1s/step\n",
      "Original: jau5 keoi3 di1\n",
      "Prediction: a i\n",
      "~~~~~~~~~~~~~~~~~~~~~~~~~~~~~~~~~~~~~~~~~~~~~~~~~~~~~~~~~~~~~~~~~~~~~~~~~~~~~~~~~~~~~~~~~~~~~~~~~~~~\n",
      "Original: seon6 lei6 di1\n",
      "Prediction: o \n",
      "~~~~~~~~~~~~~~~~~~~~~~~~~~~~~~~~~~~~~~~~~~~~~~~~~~~~~~~~~~~~~~~~~~~~~~~~~~~~~~~~~~~~~~~~~~~~~~~~~~~~\n",
      "Epoch 28 Accuracy: 0.00%\n",
      "64/64 [==============================] - 382s 6s/step - loss: 36.7175 - val_loss: 35.6125 - lr: 1.0000e-04\n",
      "Epoch 29/100\n",
      "64/64 [==============================] - ETA: 0s - loss: 36.3443INFO:tensorflow:Assets written to: model/tested_model4/assets\n"
     ]
    },
    {
     "name": "stderr",
     "output_type": "stream",
     "text": [
      "INFO:tensorflow:Assets written to: model/tested_model4/assets\n"
     ]
    },
    {
     "name": "stdout",
     "output_type": "stream",
     "text": [
      "1/1 [==============================] - 1s 1s/step\n",
      "Original: hoi1 sam1 siu3\n",
      "Prediction: ho \n",
      "~~~~~~~~~~~~~~~~~~~~~~~~~~~~~~~~~~~~~~~~~~~~~~~~~~~~~~~~~~~~~~~~~~~~~~~~~~~~~~~~~~~~~~~~~~~~~~~~~~~~\n",
      "Original: hou2 waan4 ge3\n",
      "Prediction: ho \n",
      "~~~~~~~~~~~~~~~~~~~~~~~~~~~~~~~~~~~~~~~~~~~~~~~~~~~~~~~~~~~~~~~~~~~~~~~~~~~~~~~~~~~~~~~~~~~~~~~~~~~~\n",
      "Epoch 29 Accuracy: 0.00%\n",
      "64/64 [==============================] - 387s 6s/step - loss: 36.3443 - val_loss: 34.7277 - lr: 1.0000e-04\n",
      "Epoch 30/100\n",
      "64/64 [==============================] - ETA: 0s - loss: 35.6824INFO:tensorflow:Assets written to: model/tested_model4/assets\n"
     ]
    },
    {
     "name": "stderr",
     "output_type": "stream",
     "text": [
      "INFO:tensorflow:Assets written to: model/tested_model4/assets\n"
     ]
    },
    {
     "name": "stdout",
     "output_type": "stream",
     "text": [
      "1/1 [==============================] - 1s 1s/step\n",
      "Original: cing2 man6 laa1\n",
      "Prediction: ho2 a\n",
      "~~~~~~~~~~~~~~~~~~~~~~~~~~~~~~~~~~~~~~~~~~~~~~~~~~~~~~~~~~~~~~~~~~~~~~~~~~~~~~~~~~~~~~~~~~~~~~~~~~~~\n",
      "Original: jau5 dak1 tai2\n",
      "Prediction: ma \n",
      "~~~~~~~~~~~~~~~~~~~~~~~~~~~~~~~~~~~~~~~~~~~~~~~~~~~~~~~~~~~~~~~~~~~~~~~~~~~~~~~~~~~~~~~~~~~~~~~~~~~~\n",
      "Epoch 30 Accuracy: 0.00%\n",
      "64/64 [==============================] - 383s 6s/step - loss: 35.6824 - val_loss: 32.9954 - lr: 1.0000e-04\n",
      "Epoch 31/100\n",
      "64/64 [==============================] - ETA: 0s - loss: 34.5182INFO:tensorflow:Assets written to: model/tested_model4/assets\n"
     ]
    },
    {
     "name": "stderr",
     "output_type": "stream",
     "text": [
      "INFO:tensorflow:Assets written to: model/tested_model4/assets\n"
     ]
    },
    {
     "name": "stdout",
     "output_type": "stream",
     "text": [
      "1/1 [==============================] - 1s 1s/step\n",
      "Original: cai4 nou5 lik6\n",
      "Prediction: a \n",
      "~~~~~~~~~~~~~~~~~~~~~~~~~~~~~~~~~~~~~~~~~~~~~~~~~~~~~~~~~~~~~~~~~~~~~~~~~~~~~~~~~~~~~~~~~~~~~~~~~~~~\n",
      "Original: gong2 dak1 hou2\n",
      "Prediction: ho \n",
      "~~~~~~~~~~~~~~~~~~~~~~~~~~~~~~~~~~~~~~~~~~~~~~~~~~~~~~~~~~~~~~~~~~~~~~~~~~~~~~~~~~~~~~~~~~~~~~~~~~~~\n",
      "Epoch 31 Accuracy: 0.00%\n",
      "64/64 [==============================] - 385s 6s/step - loss: 34.5182 - val_loss: 32.3348 - lr: 9.0484e-05\n",
      "Epoch 32/100\n",
      "64/64 [==============================] - ETA: 0s - loss: 33.7394INFO:tensorflow:Assets written to: model/tested_model4/assets\n"
     ]
    },
    {
     "name": "stderr",
     "output_type": "stream",
     "text": [
      "INFO:tensorflow:Assets written to: model/tested_model4/assets\n"
     ]
    },
    {
     "name": "stdout",
     "output_type": "stream",
     "text": [
      "1/1 [==============================] - 1s 1s/step\n",
      "Original: m4 goi1 bong1 sau2\n",
      "Prediction: ho \n",
      "~~~~~~~~~~~~~~~~~~~~~~~~~~~~~~~~~~~~~~~~~~~~~~~~~~~~~~~~~~~~~~~~~~~~~~~~~~~~~~~~~~~~~~~~~~~~~~~~~~~~\n",
      "Original: hoi1 sam1 di1\n",
      "Prediction: ho 1\n",
      "~~~~~~~~~~~~~~~~~~~~~~~~~~~~~~~~~~~~~~~~~~~~~~~~~~~~~~~~~~~~~~~~~~~~~~~~~~~~~~~~~~~~~~~~~~~~~~~~~~~~\n",
      "Epoch 32 Accuracy: 0.00%\n",
      "64/64 [==============================] - 386s 6s/step - loss: 33.7394 - val_loss: 30.7307 - lr: 8.1873e-05\n",
      "Epoch 33/100\n",
      "64/64 [==============================] - ETA: 0s - loss: 32.9119INFO:tensorflow:Assets written to: model/tested_model4/assets\n"
     ]
    },
    {
     "name": "stderr",
     "output_type": "stream",
     "text": [
      "INFO:tensorflow:Assets written to: model/tested_model4/assets\n"
     ]
    },
    {
     "name": "stdout",
     "output_type": "stream",
     "text": [
      "1/1 [==============================] - 1s 1s/step\n",
      "Original: hou2 hou2 teng1\n",
      "Prediction: hou \n",
      "~~~~~~~~~~~~~~~~~~~~~~~~~~~~~~~~~~~~~~~~~~~~~~~~~~~~~~~~~~~~~~~~~~~~~~~~~~~~~~~~~~~~~~~~~~~~~~~~~~~~\n",
      "Original: jau5 man6 tai4\n",
      "Prediction: ja ai\n",
      "~~~~~~~~~~~~~~~~~~~~~~~~~~~~~~~~~~~~~~~~~~~~~~~~~~~~~~~~~~~~~~~~~~~~~~~~~~~~~~~~~~~~~~~~~~~~~~~~~~~~\n",
      "Epoch 33 Accuracy: 0.00%\n",
      "64/64 [==============================] - 387s 6s/step - loss: 32.9119 - val_loss: 31.0941 - lr: 7.4082e-05\n",
      "Epoch 34/100\n",
      "64/64 [==============================] - ETA: 0s - loss: 31.6408INFO:tensorflow:Assets written to: model/tested_model4/assets\n"
     ]
    },
    {
     "name": "stderr",
     "output_type": "stream",
     "text": [
      "INFO:tensorflow:Assets written to: model/tested_model4/assets\n"
     ]
    },
    {
     "name": "stdout",
     "output_type": "stream",
     "text": [
      "1/1 [==============================] - 1s 1s/step\n",
      "Original: faai3 di1 laa1\n",
      "Prediction: a a\n",
      "~~~~~~~~~~~~~~~~~~~~~~~~~~~~~~~~~~~~~~~~~~~~~~~~~~~~~~~~~~~~~~~~~~~~~~~~~~~~~~~~~~~~~~~~~~~~~~~~~~~~\n",
      "Original: zan1 hai6 hou2\n",
      "Prediction: ha o\n",
      "~~~~~~~~~~~~~~~~~~~~~~~~~~~~~~~~~~~~~~~~~~~~~~~~~~~~~~~~~~~~~~~~~~~~~~~~~~~~~~~~~~~~~~~~~~~~~~~~~~~~\n",
      "Epoch 34 Accuracy: 0.00%\n",
      "64/64 [==============================] - 386s 6s/step - loss: 31.6408 - val_loss: 29.1983 - lr: 6.7032e-05\n",
      "Epoch 35/100\n",
      "64/64 [==============================] - ETA: 0s - loss: 31.0427INFO:tensorflow:Assets written to: model/tested_model4/assets\n"
     ]
    },
    {
     "name": "stderr",
     "output_type": "stream",
     "text": [
      "INFO:tensorflow:Assets written to: model/tested_model4/assets\n"
     ]
    },
    {
     "name": "stdout",
     "output_type": "stream",
     "text": [
      "1/1 [==============================] - 1s 1s/step\n",
      "Original: maan6 maan6 zau2\n",
      "Prediction: a\n",
      "~~~~~~~~~~~~~~~~~~~~~~~~~~~~~~~~~~~~~~~~~~~~~~~~~~~~~~~~~~~~~~~~~~~~~~~~~~~~~~~~~~~~~~~~~~~~~~~~~~~~\n",
      "Original: zoek3 hou2 wan6\n",
      "Prediction: ho \n",
      "~~~~~~~~~~~~~~~~~~~~~~~~~~~~~~~~~~~~~~~~~~~~~~~~~~~~~~~~~~~~~~~~~~~~~~~~~~~~~~~~~~~~~~~~~~~~~~~~~~~~\n",
      "Epoch 35 Accuracy: 0.00%\n",
      "64/64 [==============================] - 385s 6s/step - loss: 31.0427 - val_loss: 29.5684 - lr: 6.0653e-05\n",
      "Epoch 36/100\n",
      "64/64 [==============================] - ETA: 0s - loss: 29.7881INFO:tensorflow:Assets written to: model/tested_model4/assets\n"
     ]
    },
    {
     "name": "stderr",
     "output_type": "stream",
     "text": [
      "INFO:tensorflow:Assets written to: model/tested_model4/assets\n"
     ]
    },
    {
     "name": "stdout",
     "output_type": "stream",
     "text": [
      "1/1 [==============================] - 1s 1s/step\n",
      "Original: jat1 cai4 gaa1\n",
      "Prediction: ja a\n",
      "~~~~~~~~~~~~~~~~~~~~~~~~~~~~~~~~~~~~~~~~~~~~~~~~~~~~~~~~~~~~~~~~~~~~~~~~~~~~~~~~~~~~~~~~~~~~~~~~~~~~\n",
      "Original: soeng4 gam2 ze6\n",
      "Prediction: hog g \n",
      "~~~~~~~~~~~~~~~~~~~~~~~~~~~~~~~~~~~~~~~~~~~~~~~~~~~~~~~~~~~~~~~~~~~~~~~~~~~~~~~~~~~~~~~~~~~~~~~~~~~~\n",
      "Epoch 36 Accuracy: 0.00%\n",
      "64/64 [==============================] - 385s 6s/step - loss: 29.7881 - val_loss: 27.1717 - lr: 5.4881e-05\n",
      "Epoch 37/100\n",
      "64/64 [==============================] - ETA: 0s - loss: 29.5068INFO:tensorflow:Assets written to: model/tested_model4/assets\n"
     ]
    },
    {
     "name": "stderr",
     "output_type": "stream",
     "text": [
      "INFO:tensorflow:Assets written to: model/tested_model4/assets\n"
     ]
    },
    {
     "name": "stdout",
     "output_type": "stream",
     "text": [
      "1/1 [==============================] - 1s 1s/step\n",
      "Original: ceoi4 bin1 laa1\n",
      "Prediction: hi a\n",
      "~~~~~~~~~~~~~~~~~~~~~~~~~~~~~~~~~~~~~~~~~~~~~~~~~~~~~~~~~~~~~~~~~~~~~~~~~~~~~~~~~~~~~~~~~~~~~~~~~~~~\n",
      "Original: hou2 hoi1 sam1\n",
      "Prediction: hou h a\n",
      "~~~~~~~~~~~~~~~~~~~~~~~~~~~~~~~~~~~~~~~~~~~~~~~~~~~~~~~~~~~~~~~~~~~~~~~~~~~~~~~~~~~~~~~~~~~~~~~~~~~~\n",
      "Epoch 37 Accuracy: 0.00%\n",
      "64/64 [==============================] - 388s 6s/step - loss: 29.5068 - val_loss: 27.5606 - lr: 4.9659e-05\n",
      "Epoch 38/100\n",
      "64/64 [==============================] - ETA: 0s - loss: 28.6043INFO:tensorflow:Assets written to: model/tested_model4/assets\n"
     ]
    },
    {
     "name": "stderr",
     "output_type": "stream",
     "text": [
      "INFO:tensorflow:Assets written to: model/tested_model4/assets\n"
     ]
    },
    {
     "name": "stdout",
     "output_type": "stream",
     "text": [
      "1/1 [==============================] - 1s 1s/step\n",
      "Original: m4 goi1 man6\n",
      "Prediction: m4 a\n",
      "~~~~~~~~~~~~~~~~~~~~~~~~~~~~~~~~~~~~~~~~~~~~~~~~~~~~~~~~~~~~~~~~~~~~~~~~~~~~~~~~~~~~~~~~~~~~~~~~~~~~\n",
      "Original: ze6 bong1 mong6\n",
      "Prediction: zo on\n",
      "~~~~~~~~~~~~~~~~~~~~~~~~~~~~~~~~~~~~~~~~~~~~~~~~~~~~~~~~~~~~~~~~~~~~~~~~~~~~~~~~~~~~~~~~~~~~~~~~~~~~\n",
      "Epoch 38 Accuracy: 0.00%\n",
      "64/64 [==============================] - 394s 6s/step - loss: 28.6043 - val_loss: 26.0806 - lr: 4.4933e-05\n",
      "Epoch 39/100\n",
      "64/64 [==============================] - ETA: 0s - loss: 28.5697INFO:tensorflow:Assets written to: model/tested_model4/assets\n"
     ]
    },
    {
     "name": "stderr",
     "output_type": "stream",
     "text": [
      "INFO:tensorflow:Assets written to: model/tested_model4/assets\n"
     ]
    },
    {
     "name": "stdout",
     "output_type": "stream",
     "text": [
      "1/1 [==============================] - 1s 1s/step\n",
      "Original: daai6 gaa1 hou2\n",
      "Prediction: aho\n",
      "~~~~~~~~~~~~~~~~~~~~~~~~~~~~~~~~~~~~~~~~~~~~~~~~~~~~~~~~~~~~~~~~~~~~~~~~~~~~~~~~~~~~~~~~~~~~~~~~~~~~\n",
      "Original: hou2 dak1 ji3\n",
      "Prediction: hou2 a\n",
      "~~~~~~~~~~~~~~~~~~~~~~~~~~~~~~~~~~~~~~~~~~~~~~~~~~~~~~~~~~~~~~~~~~~~~~~~~~~~~~~~~~~~~~~~~~~~~~~~~~~~\n",
      "Epoch 39 Accuracy: 0.00%\n",
      "64/64 [==============================] - 397s 6s/step - loss: 28.5697 - val_loss: 26.4478 - lr: 4.0657e-05\n",
      "Epoch 40/100\n",
      "64/64 [==============================] - ETA: 0s - loss: 27.6905INFO:tensorflow:Assets written to: model/tested_model4/assets\n"
     ]
    },
    {
     "name": "stderr",
     "output_type": "stream",
     "text": [
      "INFO:tensorflow:Assets written to: model/tested_model4/assets\n"
     ]
    },
    {
     "name": "stdout",
     "output_type": "stream",
     "text": [
      "1/1 [==============================] - 1s 1s/step\n",
      "Original: fei1 soeng4 hou2\n",
      "Prediction: zi o\n",
      "~~~~~~~~~~~~~~~~~~~~~~~~~~~~~~~~~~~~~~~~~~~~~~~~~~~~~~~~~~~~~~~~~~~~~~~~~~~~~~~~~~~~~~~~~~~~~~~~~~~~\n",
      "Original: gong2 zan1 waa6\n",
      "Prediction: oga1 a\n",
      "~~~~~~~~~~~~~~~~~~~~~~~~~~~~~~~~~~~~~~~~~~~~~~~~~~~~~~~~~~~~~~~~~~~~~~~~~~~~~~~~~~~~~~~~~~~~~~~~~~~~\n",
      "Epoch 40 Accuracy: 0.00%\n",
      "64/64 [==============================] - 390s 6s/step - loss: 27.6905 - val_loss: 25.0211 - lr: 3.6788e-05\n",
      "Epoch 41/100\n",
      "64/64 [==============================] - ETA: 0s - loss: 27.2391INFO:tensorflow:Assets written to: model/tested_model4/assets\n"
     ]
    },
    {
     "name": "stderr",
     "output_type": "stream",
     "text": [
      "INFO:tensorflow:Assets written to: model/tested_model4/assets\n"
     ]
    },
    {
     "name": "stdout",
     "output_type": "stream",
     "text": [
      "1/1 [==============================] - 1s 1s/step\n",
      "Original: hing1 fan5 aa3\n",
      "Prediction: ha a\n",
      "~~~~~~~~~~~~~~~~~~~~~~~~~~~~~~~~~~~~~~~~~~~~~~~~~~~~~~~~~~~~~~~~~~~~~~~~~~~~~~~~~~~~~~~~~~~~~~~~~~~~\n",
      "Original: hou2 hoi1 sam1\n",
      "Prediction: hou ho1\n",
      "~~~~~~~~~~~~~~~~~~~~~~~~~~~~~~~~~~~~~~~~~~~~~~~~~~~~~~~~~~~~~~~~~~~~~~~~~~~~~~~~~~~~~~~~~~~~~~~~~~~~\n",
      "Epoch 41 Accuracy: 0.00%\n",
      "64/64 [==============================] - 388s 6s/step - loss: 27.2391 - val_loss: 25.4778 - lr: 3.3287e-05\n",
      "Epoch 42/100\n",
      "64/64 [==============================] - ETA: 0s - loss: 26.2954INFO:tensorflow:Assets written to: model/tested_model4/assets\n"
     ]
    },
    {
     "name": "stderr",
     "output_type": "stream",
     "text": [
      "INFO:tensorflow:Assets written to: model/tested_model4/assets\n"
     ]
    },
    {
     "name": "stdout",
     "output_type": "stream",
     "text": [
      "1/1 [==============================] - 1s 1s/step\n",
      "Original: hing1 fan5 aa3\n",
      "Prediction: hon a\n",
      "~~~~~~~~~~~~~~~~~~~~~~~~~~~~~~~~~~~~~~~~~~~~~~~~~~~~~~~~~~~~~~~~~~~~~~~~~~~~~~~~~~~~~~~~~~~~~~~~~~~~\n",
      "Original: ze6 ze6 nei5\n",
      "Prediction: ze\n",
      "~~~~~~~~~~~~~~~~~~~~~~~~~~~~~~~~~~~~~~~~~~~~~~~~~~~~~~~~~~~~~~~~~~~~~~~~~~~~~~~~~~~~~~~~~~~~~~~~~~~~\n",
      "Epoch 42 Accuracy: 0.00%\n",
      "64/64 [==============================] - 389s 6s/step - loss: 26.2954 - val_loss: 24.5029 - lr: 3.0119e-05\n",
      "Epoch 43/100\n",
      "64/64 [==============================] - ETA: 0s - loss: 26.1590INFO:tensorflow:Assets written to: model/tested_model4/assets\n"
     ]
    },
    {
     "name": "stderr",
     "output_type": "stream",
     "text": [
      "INFO:tensorflow:Assets written to: model/tested_model4/assets\n"
     ]
    },
    {
     "name": "stdout",
     "output_type": "stream",
     "text": [
      "1/1 [==============================] - 1s 1s/step\n",
      "Original: dak1 ji3 ge3\n",
      "Prediction: ma 3\n",
      "~~~~~~~~~~~~~~~~~~~~~~~~~~~~~~~~~~~~~~~~~~~~~~~~~~~~~~~~~~~~~~~~~~~~~~~~~~~~~~~~~~~~~~~~~~~~~~~~~~~~\n",
      "Original: mat1 je5 lei4\n",
      "Prediction: ma1 \n",
      "~~~~~~~~~~~~~~~~~~~~~~~~~~~~~~~~~~~~~~~~~~~~~~~~~~~~~~~~~~~~~~~~~~~~~~~~~~~~~~~~~~~~~~~~~~~~~~~~~~~~\n",
      "Epoch 43 Accuracy: 0.00%\n",
      "64/64 [==============================] - 389s 6s/step - loss: 26.1590 - val_loss: 23.9323 - lr: 2.7253e-05\n",
      "Epoch 44/100\n",
      "64/64 [==============================] - ETA: 0s - loss: 25.9479INFO:tensorflow:Assets written to: model/tested_model4/assets\n"
     ]
    },
    {
     "name": "stderr",
     "output_type": "stream",
     "text": [
      "INFO:tensorflow:Assets written to: model/tested_model4/assets\n"
     ]
    },
    {
     "name": "stdout",
     "output_type": "stream",
     "text": [
      "1/1 [==============================] - 1s 1s/step\n",
      "Original: jat1 hei2 hang4\n",
      "Prediction: a hi hg\n",
      "~~~~~~~~~~~~~~~~~~~~~~~~~~~~~~~~~~~~~~~~~~~~~~~~~~~~~~~~~~~~~~~~~~~~~~~~~~~~~~~~~~~~~~~~~~~~~~~~~~~~\n",
      "Original: nei5 hou2 maa3\n",
      "Prediction: hi a\n",
      "~~~~~~~~~~~~~~~~~~~~~~~~~~~~~~~~~~~~~~~~~~~~~~~~~~~~~~~~~~~~~~~~~~~~~~~~~~~~~~~~~~~~~~~~~~~~~~~~~~~~\n",
      "Epoch 44 Accuracy: 0.00%\n",
      "64/64 [==============================] - 388s 6s/step - loss: 25.9479 - val_loss: 23.8984 - lr: 2.4660e-05\n",
      "Epoch 45/100\n",
      "64/64 [==============================] - ETA: 0s - loss: 25.3797INFO:tensorflow:Assets written to: model/tested_model4/assets\n"
     ]
    },
    {
     "name": "stderr",
     "output_type": "stream",
     "text": [
      "INFO:tensorflow:Assets written to: model/tested_model4/assets\n"
     ]
    },
    {
     "name": "stdout",
     "output_type": "stream",
     "text": [
      "1/1 [==============================] - 1s 1s/step\n",
      "Original: hou2 leng3 zai2\n",
      "Prediction: hou \n",
      "~~~~~~~~~~~~~~~~~~~~~~~~~~~~~~~~~~~~~~~~~~~~~~~~~~~~~~~~~~~~~~~~~~~~~~~~~~~~~~~~~~~~~~~~~~~~~~~~~~~~\n",
      "Original: jau5 dak1 tai2\n",
      "Prediction: jau a1 a\n",
      "~~~~~~~~~~~~~~~~~~~~~~~~~~~~~~~~~~~~~~~~~~~~~~~~~~~~~~~~~~~~~~~~~~~~~~~~~~~~~~~~~~~~~~~~~~~~~~~~~~~~\n",
      "Epoch 45 Accuracy: 0.00%\n",
      "64/64 [==============================] - 387s 6s/step - loss: 25.3797 - val_loss: 24.3565 - lr: 2.2313e-05\n",
      "Epoch 46/100\n",
      "64/64 [==============================] - ETA: 0s - loss: 25.2948INFO:tensorflow:Assets written to: model/tested_model4/assets\n"
     ]
    },
    {
     "name": "stderr",
     "output_type": "stream",
     "text": [
      "INFO:tensorflow:Assets written to: model/tested_model4/assets\n"
     ]
    },
    {
     "name": "stdout",
     "output_type": "stream",
     "text": [
      "1/1 [==============================] - 1s 1s/step\n",
      "Original: zoek3 faai3 lok6\n",
      "Prediction: ho \n",
      "~~~~~~~~~~~~~~~~~~~~~~~~~~~~~~~~~~~~~~~~~~~~~~~~~~~~~~~~~~~~~~~~~~~~~~~~~~~~~~~~~~~~~~~~~~~~~~~~~~~~\n",
      "Original: bong1 ngo5 gong2\n",
      "Prediction: og g\n",
      "~~~~~~~~~~~~~~~~~~~~~~~~~~~~~~~~~~~~~~~~~~~~~~~~~~~~~~~~~~~~~~~~~~~~~~~~~~~~~~~~~~~~~~~~~~~~~~~~~~~~\n",
      "Epoch 46 Accuracy: 0.00%\n",
      "64/64 [==============================] - 387s 6s/step - loss: 25.2948 - val_loss: 22.0052 - lr: 2.0190e-05\n",
      "Epoch 47/100\n",
      "64/64 [==============================] - ETA: 0s - loss: 25.1422INFO:tensorflow:Assets written to: model/tested_model4/assets\n"
     ]
    },
    {
     "name": "stderr",
     "output_type": "stream",
     "text": [
      "INFO:tensorflow:Assets written to: model/tested_model4/assets\n"
     ]
    },
    {
     "name": "stdout",
     "output_type": "stream",
     "text": [
      "1/1 [==============================] - 1s 1s/step\n",
      "Original: jau5 mou5 tai2 co3\n",
      "Prediction: ja5 ai \n",
      "~~~~~~~~~~~~~~~~~~~~~~~~~~~~~~~~~~~~~~~~~~~~~~~~~~~~~~~~~~~~~~~~~~~~~~~~~~~~~~~~~~~~~~~~~~~~~~~~~~~~\n",
      "Original: nei5 hou2 maa3\n",
      "Prediction: he a\n",
      "~~~~~~~~~~~~~~~~~~~~~~~~~~~~~~~~~~~~~~~~~~~~~~~~~~~~~~~~~~~~~~~~~~~~~~~~~~~~~~~~~~~~~~~~~~~~~~~~~~~~\n",
      "Epoch 47 Accuracy: 0.00%\n",
      "64/64 [==============================] - 388s 6s/step - loss: 25.1422 - val_loss: 23.2386 - lr: 1.8268e-05\n",
      "Epoch 48/100\n",
      "64/64 [==============================] - ETA: 0s - loss: 24.9202INFO:tensorflow:Assets written to: model/tested_model4/assets\n"
     ]
    },
    {
     "name": "stderr",
     "output_type": "stream",
     "text": [
      "INFO:tensorflow:Assets written to: model/tested_model4/assets\n"
     ]
    },
    {
     "name": "stdout",
     "output_type": "stream",
     "text": [
      "1/1 [==============================] - 1s 1s/step\n",
      "Original: cai4 nou5 lik6\n",
      "Prediction: ja \n",
      "~~~~~~~~~~~~~~~~~~~~~~~~~~~~~~~~~~~~~~~~~~~~~~~~~~~~~~~~~~~~~~~~~~~~~~~~~~~~~~~~~~~~~~~~~~~~~~~~~~~~\n",
      "Original: hoi1 sam1 aa3\n",
      "Prediction: hoi a\n",
      "~~~~~~~~~~~~~~~~~~~~~~~~~~~~~~~~~~~~~~~~~~~~~~~~~~~~~~~~~~~~~~~~~~~~~~~~~~~~~~~~~~~~~~~~~~~~~~~~~~~~\n",
      "Epoch 48 Accuracy: 0.00%\n",
      "64/64 [==============================] - 391s 6s/step - loss: 24.9202 - val_loss: 23.0362 - lr: 1.6530e-05\n",
      "Epoch 49/100\n",
      "64/64 [==============================] - ETA: 0s - loss: 24.6606INFO:tensorflow:Assets written to: model/tested_model4/assets\n"
     ]
    },
    {
     "name": "stderr",
     "output_type": "stream",
     "text": [
      "INFO:tensorflow:Assets written to: model/tested_model4/assets\n"
     ]
    },
    {
     "name": "stdout",
     "output_type": "stream",
     "text": [
      "1/1 [==============================] - 1s 1s/step\n",
      "Original: hou2 leng3 zai2\n",
      "Prediction: hou a\n",
      "~~~~~~~~~~~~~~~~~~~~~~~~~~~~~~~~~~~~~~~~~~~~~~~~~~~~~~~~~~~~~~~~~~~~~~~~~~~~~~~~~~~~~~~~~~~~~~~~~~~~\n",
      "Original: gam2 joeng2 waa3\n",
      "Prediction: ma ong a\n",
      "~~~~~~~~~~~~~~~~~~~~~~~~~~~~~~~~~~~~~~~~~~~~~~~~~~~~~~~~~~~~~~~~~~~~~~~~~~~~~~~~~~~~~~~~~~~~~~~~~~~~\n",
      "Epoch 49 Accuracy: 0.00%\n",
      "64/64 [==============================] - 387s 6s/step - loss: 24.6606 - val_loss: 22.6516 - lr: 1.4957e-05\n",
      "Epoch 50/100\n",
      "64/64 [==============================] - ETA: 0s - loss: 24.1107INFO:tensorflow:Assets written to: model/tested_model4/assets\n"
     ]
    },
    {
     "name": "stderr",
     "output_type": "stream",
     "text": [
      "INFO:tensorflow:Assets written to: model/tested_model4/assets\n"
     ]
    },
    {
     "name": "stdout",
     "output_type": "stream",
     "text": [
      "1/1 [==============================] - 1s 1s/step\n",
      "Original: hou2 waan4 ge3\n",
      "Prediction: ho2a\n",
      "~~~~~~~~~~~~~~~~~~~~~~~~~~~~~~~~~~~~~~~~~~~~~~~~~~~~~~~~~~~~~~~~~~~~~~~~~~~~~~~~~~~~~~~~~~~~~~~~~~~~\n",
      "Original: jau5 si4 gaan3\n",
      "Prediction: jau a\n",
      "~~~~~~~~~~~~~~~~~~~~~~~~~~~~~~~~~~~~~~~~~~~~~~~~~~~~~~~~~~~~~~~~~~~~~~~~~~~~~~~~~~~~~~~~~~~~~~~~~~~~\n",
      "Epoch 50 Accuracy: 0.00%\n",
      "64/64 [==============================] - 386s 6s/step - loss: 24.1107 - val_loss: 22.9743 - lr: 1.3534e-05\n",
      "Epoch 51/100\n",
      "64/64 [==============================] - ETA: 0s - loss: 23.9648INFO:tensorflow:Assets written to: model/tested_model4/assets\n"
     ]
    },
    {
     "name": "stderr",
     "output_type": "stream",
     "text": [
      "INFO:tensorflow:Assets written to: model/tested_model4/assets\n"
     ]
    },
    {
     "name": "stdout",
     "output_type": "stream",
     "text": [
      "1/1 [==============================] - 1s 1s/step\n",
      "Original: mat1 je5 si6\n",
      "Prediction: ma \n",
      "~~~~~~~~~~~~~~~~~~~~~~~~~~~~~~~~~~~~~~~~~~~~~~~~~~~~~~~~~~~~~~~~~~~~~~~~~~~~~~~~~~~~~~~~~~~~~~~~~~~~\n",
      "Original: zan1 waa6 laa1\n",
      "Prediction: an a\n",
      "~~~~~~~~~~~~~~~~~~~~~~~~~~~~~~~~~~~~~~~~~~~~~~~~~~~~~~~~~~~~~~~~~~~~~~~~~~~~~~~~~~~~~~~~~~~~~~~~~~~~\n",
      "Epoch 51 Accuracy: 0.00%\n",
      "64/64 [==============================] - 389s 6s/step - loss: 23.9648 - val_loss: 21.6456 - lr: 1.2246e-05\n",
      "Epoch 52/100\n",
      "64/64 [==============================] - ETA: 0s - loss: 23.7828INFO:tensorflow:Assets written to: model/tested_model4/assets\n"
     ]
    },
    {
     "name": "stderr",
     "output_type": "stream",
     "text": [
      "INFO:tensorflow:Assets written to: model/tested_model4/assets\n"
     ]
    },
    {
     "name": "stdout",
     "output_type": "stream",
     "text": [
      "1/1 [==============================] - 1s 1s/step\n",
      "Original: hou2 hoi1 sam1\n",
      "Prediction: hou hoi a\n",
      "~~~~~~~~~~~~~~~~~~~~~~~~~~~~~~~~~~~~~~~~~~~~~~~~~~~~~~~~~~~~~~~~~~~~~~~~~~~~~~~~~~~~~~~~~~~~~~~~~~~~\n",
      "Original: hou2 hoi1 sam1\n",
      "Prediction: hou2 ho1\n",
      "~~~~~~~~~~~~~~~~~~~~~~~~~~~~~~~~~~~~~~~~~~~~~~~~~~~~~~~~~~~~~~~~~~~~~~~~~~~~~~~~~~~~~~~~~~~~~~~~~~~~\n",
      "Epoch 52 Accuracy: 0.00%\n",
      "64/64 [==============================] - 386s 6s/step - loss: 23.7828 - val_loss: 21.1803 - lr: 1.1080e-05\n",
      "Epoch 53/100\n",
      "1/1 [==============================] - 1s 1s/step- loss: 24.00\n",
      "Original: bong1 m4 dou3\n",
      "Prediction: mo \n",
      "~~~~~~~~~~~~~~~~~~~~~~~~~~~~~~~~~~~~~~~~~~~~~~~~~~~~~~~~~~~~~~~~~~~~~~~~~~~~~~~~~~~~~~~~~~~~~~~~~~~~\n",
      "Original: waan4 dak1 hoi1\n",
      "Prediction: a ho\n",
      "~~~~~~~~~~~~~~~~~~~~~~~~~~~~~~~~~~~~~~~~~~~~~~~~~~~~~~~~~~~~~~~~~~~~~~~~~~~~~~~~~~~~~~~~~~~~~~~~~~~~\n",
      "Epoch 53 Accuracy: 0.00%\n",
      "64/64 [==============================] - 380s 6s/step - loss: 24.0072 - val_loss: 22.3794 - lr: 1.0026e-05\n",
      "Epoch 54/100\n",
      "64/64 [==============================] - ETA: 0s - loss: 23.3115INFO:tensorflow:Assets written to: model/tested_model4/assets\n"
     ]
    },
    {
     "name": "stderr",
     "output_type": "stream",
     "text": [
      "INFO:tensorflow:Assets written to: model/tested_model4/assets\n"
     ]
    },
    {
     "name": "stdout",
     "output_type": "stream",
     "text": [
      "1/1 [==============================] - 1s 1s/step\n",
      "Original: hou2 hou2 teng1\n",
      "Prediction: hou2 hou \n",
      "~~~~~~~~~~~~~~~~~~~~~~~~~~~~~~~~~~~~~~~~~~~~~~~~~~~~~~~~~~~~~~~~~~~~~~~~~~~~~~~~~~~~~~~~~~~~~~~~~~~~\n",
      "Original: m4 dang2 ngo5\n",
      "Prediction: m ang\n",
      "~~~~~~~~~~~~~~~~~~~~~~~~~~~~~~~~~~~~~~~~~~~~~~~~~~~~~~~~~~~~~~~~~~~~~~~~~~~~~~~~~~~~~~~~~~~~~~~~~~~~\n",
      "Epoch 54 Accuracy: 0.00%\n",
      "64/64 [==============================] - 388s 6s/step - loss: 23.3115 - val_loss: 21.6225 - lr: 9.0718e-06\n",
      "Epoch 55/100\n",
      "1/1 [==============================] - 1s 1s/step- loss: 23.66\n",
      "Original: ni1 dou6 hai6\n",
      "Prediction: oi o a\n",
      "~~~~~~~~~~~~~~~~~~~~~~~~~~~~~~~~~~~~~~~~~~~~~~~~~~~~~~~~~~~~~~~~~~~~~~~~~~~~~~~~~~~~~~~~~~~~~~~~~~~~\n",
      "Original: zou2 tou2 aa3\n",
      "Prediction: hou ou a\n",
      "~~~~~~~~~~~~~~~~~~~~~~~~~~~~~~~~~~~~~~~~~~~~~~~~~~~~~~~~~~~~~~~~~~~~~~~~~~~~~~~~~~~~~~~~~~~~~~~~~~~~\n",
      "Epoch 55 Accuracy: 0.00%\n",
      "64/64 [==============================] - 376s 6s/step - loss: 23.6677 - val_loss: 20.6340 - lr: 8.2085e-06\n",
      "Epoch 56/100\n",
      "1/1 [==============================] - 1s 1s/step- loss: 23.73\n",
      "Original: jat1 cai4 lei4\n",
      "Prediction: a ai \n",
      "~~~~~~~~~~~~~~~~~~~~~~~~~~~~~~~~~~~~~~~~~~~~~~~~~~~~~~~~~~~~~~~~~~~~~~~~~~~~~~~~~~~~~~~~~~~~~~~~~~~~\n",
      "Original: ting1 ming4 baak3\n",
      "Prediction: mi a\n",
      "~~~~~~~~~~~~~~~~~~~~~~~~~~~~~~~~~~~~~~~~~~~~~~~~~~~~~~~~~~~~~~~~~~~~~~~~~~~~~~~~~~~~~~~~~~~~~~~~~~~~\n",
      "Epoch 56 Accuracy: 0.00%\n",
      "64/64 [==============================] - 376s 6s/step - loss: 23.7370 - val_loss: 22.9659 - lr: 7.4274e-06\n",
      "Epoch 57/100\n",
      "1/1 [==============================] - 1s 1s/step- loss: 23.45\n",
      "Original: ceoi4 bin1 laa1\n",
      "Prediction: hoi a\n",
      "~~~~~~~~~~~~~~~~~~~~~~~~~~~~~~~~~~~~~~~~~~~~~~~~~~~~~~~~~~~~~~~~~~~~~~~~~~~~~~~~~~~~~~~~~~~~~~~~~~~~\n",
      "Original: zan1 hai6 hou2\n",
      "Prediction: za ho\n",
      "~~~~~~~~~~~~~~~~~~~~~~~~~~~~~~~~~~~~~~~~~~~~~~~~~~~~~~~~~~~~~~~~~~~~~~~~~~~~~~~~~~~~~~~~~~~~~~~~~~~~\n",
      "Epoch 57 Accuracy: 0.00%\n",
      "64/64 [==============================] - 375s 6s/step - loss: 23.4579 - val_loss: 20.7669 - lr: 6.7206e-06\n",
      "Epoch 58/100\n",
      "1/1 [==============================] - 1s 1s/step- loss: 23.34\n",
      "Original: waan4 dak1 hoi1\n",
      "Prediction: a a o\n",
      "~~~~~~~~~~~~~~~~~~~~~~~~~~~~~~~~~~~~~~~~~~~~~~~~~~~~~~~~~~~~~~~~~~~~~~~~~~~~~~~~~~~~~~~~~~~~~~~~~~~~\n",
      "Original: daai6 gaa1 hou2\n",
      "Prediction: a o\n",
      "~~~~~~~~~~~~~~~~~~~~~~~~~~~~~~~~~~~~~~~~~~~~~~~~~~~~~~~~~~~~~~~~~~~~~~~~~~~~~~~~~~~~~~~~~~~~~~~~~~~~\n",
      "Epoch 58 Accuracy: 0.00%\n",
      "64/64 [==============================] - 375s 6s/step - loss: 23.3475 - val_loss: 20.8738 - lr: 6.0810e-06\n",
      "Epoch 59/100\n",
      "64/64 [==============================] - ETA: 0s - loss: 23.1986INFO:tensorflow:Assets written to: model/tested_model4/assets\n"
     ]
    },
    {
     "name": "stderr",
     "output_type": "stream",
     "text": [
      "INFO:tensorflow:Assets written to: model/tested_model4/assets\n"
     ]
    },
    {
     "name": "stdout",
     "output_type": "stream",
     "text": [
      "1/1 [==============================] - 1s 1s/step\n",
      "Original: nei5 hou2 wan6\n",
      "Prediction: hi hou a\n",
      "~~~~~~~~~~~~~~~~~~~~~~~~~~~~~~~~~~~~~~~~~~~~~~~~~~~~~~~~~~~~~~~~~~~~~~~~~~~~~~~~~~~~~~~~~~~~~~~~~~~~\n",
      "Original: seon6 lei6 di1\n",
      "Prediction: on \n",
      "~~~~~~~~~~~~~~~~~~~~~~~~~~~~~~~~~~~~~~~~~~~~~~~~~~~~~~~~~~~~~~~~~~~~~~~~~~~~~~~~~~~~~~~~~~~~~~~~~~~~\n",
      "Epoch 59 Accuracy: 0.00%\n",
      "64/64 [==============================] - 387s 6s/step - loss: 23.1986 - val_loss: 20.4964 - lr: 5.5023e-06\n",
      "Epoch 60/100\n",
      "64/64 [==============================] - ETA: 0s - loss: 22.9410INFO:tensorflow:Assets written to: model/tested_model4/assets\n"
     ]
    },
    {
     "name": "stderr",
     "output_type": "stream",
     "text": [
      "INFO:tensorflow:Assets written to: model/tested_model4/assets\n"
     ]
    },
    {
     "name": "stdout",
     "output_type": "stream",
     "text": [
      "1/1 [==============================] - 1s 1s/step\n",
      "Original: hou2 hou2 teng1\n",
      "Prediction: hou2 hou \n",
      "~~~~~~~~~~~~~~~~~~~~~~~~~~~~~~~~~~~~~~~~~~~~~~~~~~~~~~~~~~~~~~~~~~~~~~~~~~~~~~~~~~~~~~~~~~~~~~~~~~~~\n",
      "Original: soeng4 gam2 ze6\n",
      "Prediction: hong ga \n",
      "~~~~~~~~~~~~~~~~~~~~~~~~~~~~~~~~~~~~~~~~~~~~~~~~~~~~~~~~~~~~~~~~~~~~~~~~~~~~~~~~~~~~~~~~~~~~~~~~~~~~\n",
      "Epoch 60 Accuracy: 0.00%\n",
      "64/64 [==============================] - 388s 6s/step - loss: 22.9410 - val_loss: 20.9952 - lr: 4.9787e-06\n",
      "Epoch 61/100\n",
      "1/1 [==============================] - 1s 1s/step- loss: 23.11\n",
      "Original: hoi1 sam1 ge3\n",
      "Prediction: hoi \n",
      "~~~~~~~~~~~~~~~~~~~~~~~~~~~~~~~~~~~~~~~~~~~~~~~~~~~~~~~~~~~~~~~~~~~~~~~~~~~~~~~~~~~~~~~~~~~~~~~~~~~~\n",
      "Original: hou2 hou2 teng1\n",
      "Prediction: hou2 hou \n",
      "~~~~~~~~~~~~~~~~~~~~~~~~~~~~~~~~~~~~~~~~~~~~~~~~~~~~~~~~~~~~~~~~~~~~~~~~~~~~~~~~~~~~~~~~~~~~~~~~~~~~\n",
      "Epoch 61 Accuracy: 0.00%\n",
      "64/64 [==============================] - 376s 6s/step - loss: 23.1127 - val_loss: 20.9181 - lr: 4.5049e-06\n",
      "Epoch 62/100\n",
      "1/1 [==============================] - 1s 1s/step- loss: 23.00\n",
      "Original: ping4 faai3 lok6\n",
      "Prediction: hig a l\n",
      "~~~~~~~~~~~~~~~~~~~~~~~~~~~~~~~~~~~~~~~~~~~~~~~~~~~~~~~~~~~~~~~~~~~~~~~~~~~~~~~~~~~~~~~~~~~~~~~~~~~~\n",
      "Original: jau5 mou5 man6 tai4\n",
      "Prediction: jau a\n",
      "~~~~~~~~~~~~~~~~~~~~~~~~~~~~~~~~~~~~~~~~~~~~~~~~~~~~~~~~~~~~~~~~~~~~~~~~~~~~~~~~~~~~~~~~~~~~~~~~~~~~\n",
      "Epoch 62 Accuracy: 0.00%\n",
      "64/64 [==============================] - 376s 6s/step - loss: 23.0047 - val_loss: 20.0605 - lr: 4.0762e-06\n",
      "Epoch 63/100\n",
      "1/1 [==============================] - 1s 1s/step- loss: 23.15\n",
      "Original: bong1 hou2 jan4\n",
      "Prediction: o houa\n",
      "~~~~~~~~~~~~~~~~~~~~~~~~~~~~~~~~~~~~~~~~~~~~~~~~~~~~~~~~~~~~~~~~~~~~~~~~~~~~~~~~~~~~~~~~~~~~~~~~~~~~\n",
      "Original: siu2 sam1 di1\n",
      "Prediction: mu a1\n",
      "~~~~~~~~~~~~~~~~~~~~~~~~~~~~~~~~~~~~~~~~~~~~~~~~~~~~~~~~~~~~~~~~~~~~~~~~~~~~~~~~~~~~~~~~~~~~~~~~~~~~\n",
      "Epoch 63 Accuracy: 0.00%\n",
      "64/64 [==============================] - 378s 6s/step - loss: 23.1570 - val_loss: 19.4520 - lr: 3.6883e-06\n",
      "Epoch 64/100\n",
      "64/64 [==============================] - ETA: 0s - loss: 22.8027INFO:tensorflow:Assets written to: model/tested_model4/assets\n"
     ]
    },
    {
     "name": "stderr",
     "output_type": "stream",
     "text": [
      "INFO:tensorflow:Assets written to: model/tested_model4/assets\n"
     ]
    },
    {
     "name": "stdout",
     "output_type": "stream",
     "text": [
      "1/1 [==============================] - 1s 1s/step\n",
      "Original: dak1 ji3 ge3\n",
      "Prediction: a 3\n",
      "~~~~~~~~~~~~~~~~~~~~~~~~~~~~~~~~~~~~~~~~~~~~~~~~~~~~~~~~~~~~~~~~~~~~~~~~~~~~~~~~~~~~~~~~~~~~~~~~~~~~\n",
      "Original: hoi1 sam1 siu3\n",
      "Prediction: hoi1 a1 \n",
      "~~~~~~~~~~~~~~~~~~~~~~~~~~~~~~~~~~~~~~~~~~~~~~~~~~~~~~~~~~~~~~~~~~~~~~~~~~~~~~~~~~~~~~~~~~~~~~~~~~~~\n",
      "Epoch 64 Accuracy: 0.00%\n",
      "64/64 [==============================] - 386s 6s/step - loss: 22.8027 - val_loss: 20.2082 - lr: 3.3373e-06\n",
      "Epoch 65/100\n",
      "64/64 [==============================] - ETA: 0s - loss: 22.7913INFO:tensorflow:Assets written to: model/tested_model4/assets\n"
     ]
    },
    {
     "name": "stderr",
     "output_type": "stream",
     "text": [
      "INFO:tensorflow:Assets written to: model/tested_model4/assets\n"
     ]
    },
    {
     "name": "stdout",
     "output_type": "stream",
     "text": [
      "1/1 [==============================] - 1s 1s/step\n",
      "Original: m4 haak3 hei3\n",
      "Prediction: m ha h\n",
      "~~~~~~~~~~~~~~~~~~~~~~~~~~~~~~~~~~~~~~~~~~~~~~~~~~~~~~~~~~~~~~~~~~~~~~~~~~~~~~~~~~~~~~~~~~~~~~~~~~~~\n",
      "Original: jau5 sik6 gwo3\n",
      "Prediction: jau o\n",
      "~~~~~~~~~~~~~~~~~~~~~~~~~~~~~~~~~~~~~~~~~~~~~~~~~~~~~~~~~~~~~~~~~~~~~~~~~~~~~~~~~~~~~~~~~~~~~~~~~~~~\n",
      "Epoch 65 Accuracy: 0.00%\n",
      "64/64 [==============================] - 385s 6s/step - loss: 22.7913 - val_loss: 20.7394 - lr: 3.0197e-06\n",
      "Epoch 66/100\n",
      "1/1 [==============================] - 1s 1s/step- loss: 22.83\n",
      "Original: ping4 on1 lok6\n",
      "Prediction: nin o\n",
      "~~~~~~~~~~~~~~~~~~~~~~~~~~~~~~~~~~~~~~~~~~~~~~~~~~~~~~~~~~~~~~~~~~~~~~~~~~~~~~~~~~~~~~~~~~~~~~~~~~~~\n",
      "Original: hou2 waan4 ge3\n",
      "Prediction: hou2a \n",
      "~~~~~~~~~~~~~~~~~~~~~~~~~~~~~~~~~~~~~~~~~~~~~~~~~~~~~~~~~~~~~~~~~~~~~~~~~~~~~~~~~~~~~~~~~~~~~~~~~~~~\n",
      "Epoch 66 Accuracy: 0.00%\n",
      "64/64 [==============================] - 378s 6s/step - loss: 22.8378 - val_loss: 20.6722 - lr: 2.7324e-06\n",
      "Epoch 67/100\n",
      "1/1 [==============================] - 1s 1s/step- loss: 22.81\n",
      "Original: hou2 hou2 teng1\n",
      "Prediction: hou2 hou \n",
      "~~~~~~~~~~~~~~~~~~~~~~~~~~~~~~~~~~~~~~~~~~~~~~~~~~~~~~~~~~~~~~~~~~~~~~~~~~~~~~~~~~~~~~~~~~~~~~~~~~~~\n",
      "Original: hou2 hoi1 sam1\n",
      "Prediction: hou2 hoisa\n",
      "~~~~~~~~~~~~~~~~~~~~~~~~~~~~~~~~~~~~~~~~~~~~~~~~~~~~~~~~~~~~~~~~~~~~~~~~~~~~~~~~~~~~~~~~~~~~~~~~~~~~\n",
      "Epoch 67 Accuracy: 0.00%\n",
      "64/64 [==============================] - 381s 6s/step - loss: 22.8103 - val_loss: 20.7444 - lr: 2.4724e-06\n",
      "Epoch 68/100\n",
      "64/64 [==============================] - ETA: 0s - loss: 22.7103INFO:tensorflow:Assets written to: model/tested_model4/assets\n"
     ]
    },
    {
     "name": "stderr",
     "output_type": "stream",
     "text": [
      "INFO:tensorflow:Assets written to: model/tested_model4/assets\n"
     ]
    },
    {
     "name": "stdout",
     "output_type": "stream",
     "text": [
      "1/1 [==============================] - 1s 1s/step\n",
      "Original: gong2 m4 ceot1\n",
      "Prediction: hog o\n",
      "~~~~~~~~~~~~~~~~~~~~~~~~~~~~~~~~~~~~~~~~~~~~~~~~~~~~~~~~~~~~~~~~~~~~~~~~~~~~~~~~~~~~~~~~~~~~~~~~~~~~\n",
      "Original: oi3 nei5 do1\n",
      "Prediction: hoi o\n",
      "~~~~~~~~~~~~~~~~~~~~~~~~~~~~~~~~~~~~~~~~~~~~~~~~~~~~~~~~~~~~~~~~~~~~~~~~~~~~~~~~~~~~~~~~~~~~~~~~~~~~\n",
      "Epoch 68 Accuracy: 0.00%\n",
      "64/64 [==============================] - 386s 6s/step - loss: 22.7103 - val_loss: 21.3129 - lr: 2.2371e-06\n",
      "Epoch 69/100\n",
      "64/64 [==============================] - ETA: 0s - loss: 22.5582INFO:tensorflow:Assets written to: model/tested_model4/assets\n"
     ]
    },
    {
     "name": "stderr",
     "output_type": "stream",
     "text": [
      "INFO:tensorflow:Assets written to: model/tested_model4/assets\n"
     ]
    },
    {
     "name": "stdout",
     "output_type": "stream",
     "text": [
      "1/1 [==============================] - 1s 1s/step\n",
      "Original: zaan6 hou2 do1\n",
      "Prediction: ha ou \n",
      "~~~~~~~~~~~~~~~~~~~~~~~~~~~~~~~~~~~~~~~~~~~~~~~~~~~~~~~~~~~~~~~~~~~~~~~~~~~~~~~~~~~~~~~~~~~~~~~~~~~~\n",
      "Original: hou2 jau1 sik1\n",
      "Prediction: hou2 a1 \n",
      "~~~~~~~~~~~~~~~~~~~~~~~~~~~~~~~~~~~~~~~~~~~~~~~~~~~~~~~~~~~~~~~~~~~~~~~~~~~~~~~~~~~~~~~~~~~~~~~~~~~~\n",
      "Epoch 69 Accuracy: 0.00%\n",
      "64/64 [==============================] - 387s 6s/step - loss: 22.5582 - val_loss: 20.1993 - lr: 2.0242e-06\n",
      "Epoch 70/100\n",
      "1/1 [==============================] - 1s 1s/step- loss: 22.85\n",
      "Original: sing4 jat6 gam2\n",
      "Prediction: jn a\n",
      "~~~~~~~~~~~~~~~~~~~~~~~~~~~~~~~~~~~~~~~~~~~~~~~~~~~~~~~~~~~~~~~~~~~~~~~~~~~~~~~~~~~~~~~~~~~~~~~~~~~~\n",
      "Original: hoi1 sam1 di1\n",
      "Prediction: ho a \n",
      "~~~~~~~~~~~~~~~~~~~~~~~~~~~~~~~~~~~~~~~~~~~~~~~~~~~~~~~~~~~~~~~~~~~~~~~~~~~~~~~~~~~~~~~~~~~~~~~~~~~~\n",
      "Epoch 70 Accuracy: 0.00%\n",
      "64/64 [==============================] - 376s 6s/step - loss: 22.8556 - val_loss: 18.8045 - lr: 1.8316e-06\n",
      "Epoch 71/100\n",
      "1/1 [==============================] - 1s 1s/step- loss: 22.76\n",
      "Original: ze6 bong1 mong6\n",
      "Prediction: ze onon\n",
      "~~~~~~~~~~~~~~~~~~~~~~~~~~~~~~~~~~~~~~~~~~~~~~~~~~~~~~~~~~~~~~~~~~~~~~~~~~~~~~~~~~~~~~~~~~~~~~~~~~~~\n",
      "Original: m4 haak3 hei3\n",
      "Prediction: m4 a3\n",
      "~~~~~~~~~~~~~~~~~~~~~~~~~~~~~~~~~~~~~~~~~~~~~~~~~~~~~~~~~~~~~~~~~~~~~~~~~~~~~~~~~~~~~~~~~~~~~~~~~~~~\n",
      "Epoch 71 Accuracy: 0.00%\n",
      "64/64 [==============================] - 377s 6s/step - loss: 22.7650 - val_loss: 20.9573 - lr: 1.6573e-06\n",
      "Epoch 72/100\n",
      "1/1 [==============================] - 1s 1s/step- loss: 22.83\n",
      "Original: mou5 co3 laa1\n",
      "Prediction: mou a\n",
      "~~~~~~~~~~~~~~~~~~~~~~~~~~~~~~~~~~~~~~~~~~~~~~~~~~~~~~~~~~~~~~~~~~~~~~~~~~~~~~~~~~~~~~~~~~~~~~~~~~~~\n",
      "Original: faai3 di1 laa1\n",
      "Prediction: fai a\n",
      "~~~~~~~~~~~~~~~~~~~~~~~~~~~~~~~~~~~~~~~~~~~~~~~~~~~~~~~~~~~~~~~~~~~~~~~~~~~~~~~~~~~~~~~~~~~~~~~~~~~~\n",
      "Epoch 72 Accuracy: 0.00%\n",
      "64/64 [==============================] - 378s 6s/step - loss: 22.8328 - val_loss: 19.9971 - lr: 1.4996e-06\n",
      "Epoch 73/100\n",
      "1/1 [==============================] - 1s 1s/step- loss: 23.20\n",
      "Original: hou2 hoi1 sam1\n",
      "Prediction: hou2 ho1 1\n",
      "~~~~~~~~~~~~~~~~~~~~~~~~~~~~~~~~~~~~~~~~~~~~~~~~~~~~~~~~~~~~~~~~~~~~~~~~~~~~~~~~~~~~~~~~~~~~~~~~~~~~\n",
      "Original: jau5 dak1 tai2\n",
      "Prediction: jauda1 ai\n",
      "~~~~~~~~~~~~~~~~~~~~~~~~~~~~~~~~~~~~~~~~~~~~~~~~~~~~~~~~~~~~~~~~~~~~~~~~~~~~~~~~~~~~~~~~~~~~~~~~~~~~\n",
      "Epoch 73 Accuracy: 0.00%\n",
      "64/64 [==============================] - 376s 6s/step - loss: 23.2043 - val_loss: 21.0345 - lr: 1.3569e-06\n",
      "Epoch 74/100\n",
      "64/64 [==============================] - ETA: 0s - loss: 22.3552INFO:tensorflow:Assets written to: model/tested_model4/assets\n"
     ]
    },
    {
     "name": "stderr",
     "output_type": "stream",
     "text": [
      "INFO:tensorflow:Assets written to: model/tested_model4/assets\n"
     ]
    },
    {
     "name": "stdout",
     "output_type": "stream",
     "text": [
      "1/1 [==============================] - 1s 1s/step\n",
      "Original: gam2 joeng2 waa3\n",
      "Prediction: ma ong a\n",
      "~~~~~~~~~~~~~~~~~~~~~~~~~~~~~~~~~~~~~~~~~~~~~~~~~~~~~~~~~~~~~~~~~~~~~~~~~~~~~~~~~~~~~~~~~~~~~~~~~~~~\n",
      "Original: bong1 m4 dou3\n",
      "Prediction: og u\n",
      "~~~~~~~~~~~~~~~~~~~~~~~~~~~~~~~~~~~~~~~~~~~~~~~~~~~~~~~~~~~~~~~~~~~~~~~~~~~~~~~~~~~~~~~~~~~~~~~~~~~~\n",
      "Epoch 74 Accuracy: 0.00%\n",
      "64/64 [==============================] - 389s 6s/step - loss: 22.3552 - val_loss: 19.9460 - lr: 1.2277e-06\n",
      "Epoch 75/100\n",
      "1/1 [==============================] - 1s 1s/step- loss: 22.40\n",
      "Original: oi3 cing4 tim4\n",
      "Prediction: oi \n",
      "~~~~~~~~~~~~~~~~~~~~~~~~~~~~~~~~~~~~~~~~~~~~~~~~~~~~~~~~~~~~~~~~~~~~~~~~~~~~~~~~~~~~~~~~~~~~~~~~~~~~\n",
      "Original: zan1 waa6 laa1\n",
      "Prediction: an a\n",
      "~~~~~~~~~~~~~~~~~~~~~~~~~~~~~~~~~~~~~~~~~~~~~~~~~~~~~~~~~~~~~~~~~~~~~~~~~~~~~~~~~~~~~~~~~~~~~~~~~~~~\n",
      "Epoch 75 Accuracy: 0.00%\n",
      "64/64 [==============================] - 377s 6s/step - loss: 22.4064 - val_loss: 20.2466 - lr: 1.1109e-06\n",
      "Epoch 76/100\n",
      "1/1 [==============================] - 1s 1s/step- loss: 22.89\n",
      "Original: jau5 keoi3 di1\n",
      "Prediction: ja i \n",
      "~~~~~~~~~~~~~~~~~~~~~~~~~~~~~~~~~~~~~~~~~~~~~~~~~~~~~~~~~~~~~~~~~~~~~~~~~~~~~~~~~~~~~~~~~~~~~~~~~~~~\n",
      "Original: hou2 dak1 ji3\n",
      "Prediction: hou2 da \n",
      "~~~~~~~~~~~~~~~~~~~~~~~~~~~~~~~~~~~~~~~~~~~~~~~~~~~~~~~~~~~~~~~~~~~~~~~~~~~~~~~~~~~~~~~~~~~~~~~~~~~~\n",
      "Epoch 76 Accuracy: 0.00%\n",
      "64/64 [==============================] - 379s 6s/step - loss: 22.8978 - val_loss: 21.0158 - lr: 1.0052e-06\n",
      "Epoch 77/100\n",
      "1/1 [==============================] - 1s 1s/step- loss: 22.49\n",
      "Original: hoi1 sam1 di1\n",
      "Prediction: hoi a \n",
      "~~~~~~~~~~~~~~~~~~~~~~~~~~~~~~~~~~~~~~~~~~~~~~~~~~~~~~~~~~~~~~~~~~~~~~~~~~~~~~~~~~~~~~~~~~~~~~~~~~~~\n",
      "Original: hou2 hou2 waan4\n",
      "Prediction: hou2 a\n",
      "~~~~~~~~~~~~~~~~~~~~~~~~~~~~~~~~~~~~~~~~~~~~~~~~~~~~~~~~~~~~~~~~~~~~~~~~~~~~~~~~~~~~~~~~~~~~~~~~~~~~\n",
      "Epoch 77 Accuracy: 0.00%\n",
      "64/64 [==============================] - 382s 6s/step - loss: 22.4959 - val_loss: 19.3880 - lr: 9.0953e-07\n",
      "Epoch 78/100\n",
      "64/64 [==============================] - ETA: 0s - loss: 22.3485INFO:tensorflow:Assets written to: model/tested_model4/assets\n"
     ]
    },
    {
     "name": "stderr",
     "output_type": "stream",
     "text": [
      "INFO:tensorflow:Assets written to: model/tested_model4/assets\n"
     ]
    },
    {
     "name": "stdout",
     "output_type": "stream",
     "text": [
      "1/1 [==============================] - 1s 1s/step\n",
      "Original: zoi3 gin3 laa1\n",
      "Prediction: hoi g a\n",
      "~~~~~~~~~~~~~~~~~~~~~~~~~~~~~~~~~~~~~~~~~~~~~~~~~~~~~~~~~~~~~~~~~~~~~~~~~~~~~~~~~~~~~~~~~~~~~~~~~~~~\n",
      "Original: hou2 hou2 teng1\n",
      "Prediction: hou ou n\n",
      "~~~~~~~~~~~~~~~~~~~~~~~~~~~~~~~~~~~~~~~~~~~~~~~~~~~~~~~~~~~~~~~~~~~~~~~~~~~~~~~~~~~~~~~~~~~~~~~~~~~~\n",
      "Epoch 78 Accuracy: 0.00%\n",
      "64/64 [==============================] - 387s 6s/step - loss: 22.3485 - val_loss: 20.9185 - lr: 8.2298e-07\n",
      "Epoch 79/100\n",
      "1/1 [==============================] - 1s 1s/step- loss: 22.68\n",
      "Original: hing1 fan5 aa3\n",
      "Prediction: hi a\n",
      "~~~~~~~~~~~~~~~~~~~~~~~~~~~~~~~~~~~~~~~~~~~~~~~~~~~~~~~~~~~~~~~~~~~~~~~~~~~~~~~~~~~~~~~~~~~~~~~~~~~~\n",
      "Original: tai2 haa5 laa1\n",
      "Prediction: ai a\n",
      "~~~~~~~~~~~~~~~~~~~~~~~~~~~~~~~~~~~~~~~~~~~~~~~~~~~~~~~~~~~~~~~~~~~~~~~~~~~~~~~~~~~~~~~~~~~~~~~~~~~~\n",
      "Epoch 79 Accuracy: 0.00%\n",
      "64/64 [==============================] - 382s 6s/step - loss: 22.6820 - val_loss: 19.7492 - lr: 7.4466e-07\n",
      "Epoch 80/100\n",
      "1/1 [==============================] - 1s 1s/step- loss: 22.62\n",
      "Original: ngam1 ngam1 lei4\n",
      "Prediction: ma na\n",
      "~~~~~~~~~~~~~~~~~~~~~~~~~~~~~~~~~~~~~~~~~~~~~~~~~~~~~~~~~~~~~~~~~~~~~~~~~~~~~~~~~~~~~~~~~~~~~~~~~~~~\n",
      "Original: hou2 jau1 sik1\n",
      "Prediction: hou2 \n",
      "~~~~~~~~~~~~~~~~~~~~~~~~~~~~~~~~~~~~~~~~~~~~~~~~~~~~~~~~~~~~~~~~~~~~~~~~~~~~~~~~~~~~~~~~~~~~~~~~~~~~\n",
      "Epoch 80 Accuracy: 0.00%\n",
      "64/64 [==============================] - 380s 6s/step - loss: 22.6296 - val_loss: 20.2133 - lr: 6.7380e-07\n",
      "Epoch 81/100\n",
      "1/1 [==============================] - 1s 1s/step- loss: 22.61\n",
      "Original: m4 hai6 aa3\n",
      "Prediction: m hai a\n",
      "~~~~~~~~~~~~~~~~~~~~~~~~~~~~~~~~~~~~~~~~~~~~~~~~~~~~~~~~~~~~~~~~~~~~~~~~~~~~~~~~~~~~~~~~~~~~~~~~~~~~\n",
      "Original: waan2 dak1 hoi1\n",
      "Prediction: a2da1 h\n",
      "~~~~~~~~~~~~~~~~~~~~~~~~~~~~~~~~~~~~~~~~~~~~~~~~~~~~~~~~~~~~~~~~~~~~~~~~~~~~~~~~~~~~~~~~~~~~~~~~~~~~\n",
      "Epoch 81 Accuracy: 0.00%\n",
      "64/64 [==============================] - 383s 6s/step - loss: 22.6118 - val_loss: 19.8587 - lr: 6.0968e-07\n",
      "Epoch 82/100\n",
      "1/1 [==============================] - 1s 1s/step- loss: 22.59\n",
      "Original: m4 haak3 hei3\n",
      "Prediction: m a h\n",
      "~~~~~~~~~~~~~~~~~~~~~~~~~~~~~~~~~~~~~~~~~~~~~~~~~~~~~~~~~~~~~~~~~~~~~~~~~~~~~~~~~~~~~~~~~~~~~~~~~~~~\n",
      "Original: ze6 ze6 nei5\n",
      "Prediction: ze\n",
      "~~~~~~~~~~~~~~~~~~~~~~~~~~~~~~~~~~~~~~~~~~~~~~~~~~~~~~~~~~~~~~~~~~~~~~~~~~~~~~~~~~~~~~~~~~~~~~~~~~~~\n",
      "Epoch 82 Accuracy: 0.00%\n",
      "64/64 [==============================] - 380s 6s/step - loss: 22.5929 - val_loss: 20.6854 - lr: 5.5166e-07\n",
      "Epoch 83/100\n",
      "1/1 [==============================] - 1s 1s/step- loss: 22.66\n",
      "Original: hou2 hing1 fan5\n",
      "Prediction: hou2 hn a\n",
      "~~~~~~~~~~~~~~~~~~~~~~~~~~~~~~~~~~~~~~~~~~~~~~~~~~~~~~~~~~~~~~~~~~~~~~~~~~~~~~~~~~~~~~~~~~~~~~~~~~~~\n",
      "Original: zan1 hai6 ge3\n",
      "Prediction: za ai\n",
      "~~~~~~~~~~~~~~~~~~~~~~~~~~~~~~~~~~~~~~~~~~~~~~~~~~~~~~~~~~~~~~~~~~~~~~~~~~~~~~~~~~~~~~~~~~~~~~~~~~~~\n",
      "Epoch 83 Accuracy: 0.00%\n",
      "64/64 [==============================] - 379s 6s/step - loss: 22.6649 - val_loss: 20.2967 - lr: 4.9916e-07\n",
      "Epoch 84/100\n",
      "1/1 [==============================] - 1s 1s/step- loss: 22.61\n",
      "Original: hou2 gam2 dung6\n",
      "Prediction: hou a \n",
      "~~~~~~~~~~~~~~~~~~~~~~~~~~~~~~~~~~~~~~~~~~~~~~~~~~~~~~~~~~~~~~~~~~~~~~~~~~~~~~~~~~~~~~~~~~~~~~~~~~~~\n",
      "Original: jau5 mou5 man6 tai4\n",
      "Prediction: jau a\n",
      "~~~~~~~~~~~~~~~~~~~~~~~~~~~~~~~~~~~~~~~~~~~~~~~~~~~~~~~~~~~~~~~~~~~~~~~~~~~~~~~~~~~~~~~~~~~~~~~~~~~~\n",
      "Epoch 84 Accuracy: 0.00%\n",
      "64/64 [==============================] - 381s 6s/step - loss: 22.6178 - val_loss: 19.2531 - lr: 4.5166e-07\n",
      "Epoch 85/100\n",
      "1/1 [==============================] - 1s 1s/step- loss: 22.69\n",
      "Original: hou2 noi6 mou5\n",
      "Prediction: hou2 ou\n",
      "~~~~~~~~~~~~~~~~~~~~~~~~~~~~~~~~~~~~~~~~~~~~~~~~~~~~~~~~~~~~~~~~~~~~~~~~~~~~~~~~~~~~~~~~~~~~~~~~~~~~\n",
      "Original: hou2 leng3 zai2\n",
      "Prediction: hou a\n",
      "~~~~~~~~~~~~~~~~~~~~~~~~~~~~~~~~~~~~~~~~~~~~~~~~~~~~~~~~~~~~~~~~~~~~~~~~~~~~~~~~~~~~~~~~~~~~~~~~~~~~\n",
      "Epoch 85 Accuracy: 0.00%\n",
      "64/64 [==============================] - 385s 6s/step - loss: 22.6967 - val_loss: 20.5405 - lr: 4.0868e-07\n",
      "Epoch 86/100\n",
      "1/1 [==============================] - 1s 1s/step- loss: 22.81\n",
      "Original: m4 goi1 man6\n",
      "Prediction: m o a\n",
      "~~~~~~~~~~~~~~~~~~~~~~~~~~~~~~~~~~~~~~~~~~~~~~~~~~~~~~~~~~~~~~~~~~~~~~~~~~~~~~~~~~~~~~~~~~~~~~~~~~~~\n",
      "Original: faai3 lok6 siu3\n",
      "Prediction: a \n",
      "~~~~~~~~~~~~~~~~~~~~~~~~~~~~~~~~~~~~~~~~~~~~~~~~~~~~~~~~~~~~~~~~~~~~~~~~~~~~~~~~~~~~~~~~~~~~~~~~~~~~\n",
      "Epoch 86 Accuracy: 0.00%\n",
      "64/64 [==============================] - 382s 6s/step - loss: 22.8152 - val_loss: 21.3099 - lr: 3.6979e-07\n",
      "Epoch 87/100\n",
      "64/64 [==============================] - ETA: 0s - loss: 22.3337INFO:tensorflow:Assets written to: model/tested_model4/assets\n"
     ]
    },
    {
     "name": "stderr",
     "output_type": "stream",
     "text": [
      "INFO:tensorflow:Assets written to: model/tested_model4/assets\n"
     ]
    },
    {
     "name": "stdout",
     "output_type": "stream",
     "text": [
      "1/1 [==============================] - 1s 1s/step\n",
      "Original: oi3 nei5 dei6\n",
      "Prediction: oi \n",
      "~~~~~~~~~~~~~~~~~~~~~~~~~~~~~~~~~~~~~~~~~~~~~~~~~~~~~~~~~~~~~~~~~~~~~~~~~~~~~~~~~~~~~~~~~~~~~~~~~~~~\n",
      "Original: sing4 jat6 gam2\n",
      "Prediction: jn a\n",
      "~~~~~~~~~~~~~~~~~~~~~~~~~~~~~~~~~~~~~~~~~~~~~~~~~~~~~~~~~~~~~~~~~~~~~~~~~~~~~~~~~~~~~~~~~~~~~~~~~~~~\n",
      "Epoch 87 Accuracy: 0.00%\n",
      "64/64 [==============================] - 387s 6s/step - loss: 22.3337 - val_loss: 20.1575 - lr: 3.3460e-07\n",
      "Epoch 88/100\n",
      "1/1 [==============================] - 1s 1s/step- loss: 22.50\n",
      "Original: hou2 noi6 mou5\n",
      "Prediction: hou2 ou\n",
      "~~~~~~~~~~~~~~~~~~~~~~~~~~~~~~~~~~~~~~~~~~~~~~~~~~~~~~~~~~~~~~~~~~~~~~~~~~~~~~~~~~~~~~~~~~~~~~~~~~~~\n",
      "Original: nei5 hou2 maa3\n",
      "Prediction: ei a\n",
      "~~~~~~~~~~~~~~~~~~~~~~~~~~~~~~~~~~~~~~~~~~~~~~~~~~~~~~~~~~~~~~~~~~~~~~~~~~~~~~~~~~~~~~~~~~~~~~~~~~~~\n",
      "Epoch 88 Accuracy: 0.00%\n",
      "64/64 [==============================] - 373s 6s/step - loss: 22.5073 - val_loss: 19.4407 - lr: 3.0276e-07\n",
      "Epoch 89/100\n",
      "1/1 [==============================] - 1s 1s/step- loss: 22.61\n",
      "Original: m4 goi1 man6\n",
      "Prediction: mo a\n",
      "~~~~~~~~~~~~~~~~~~~~~~~~~~~~~~~~~~~~~~~~~~~~~~~~~~~~~~~~~~~~~~~~~~~~~~~~~~~~~~~~~~~~~~~~~~~~~~~~~~~~\n",
      "Original: hou2 dak1 ji3\n",
      "Prediction: hou2 da1\n",
      "~~~~~~~~~~~~~~~~~~~~~~~~~~~~~~~~~~~~~~~~~~~~~~~~~~~~~~~~~~~~~~~~~~~~~~~~~~~~~~~~~~~~~~~~~~~~~~~~~~~~\n",
      "Epoch 89 Accuracy: 0.00%\n",
      "64/64 [==============================] - 376s 6s/step - loss: 22.6138 - val_loss: 20.6130 - lr: 2.7394e-07\n",
      "Epoch 90/100\n",
      "64/64 [==============================] - ETA: 0s - loss: 22.2979INFO:tensorflow:Assets written to: model/tested_model4/assets\n"
     ]
    },
    {
     "name": "stderr",
     "output_type": "stream",
     "text": [
      "INFO:tensorflow:Assets written to: model/tested_model4/assets\n"
     ]
    },
    {
     "name": "stdout",
     "output_type": "stream",
     "text": [
      "1/1 [==============================] - 1s 1s/step\n",
      "Original: hou2 jau1 sik1\n",
      "Prediction: hou2 a1 \n",
      "~~~~~~~~~~~~~~~~~~~~~~~~~~~~~~~~~~~~~~~~~~~~~~~~~~~~~~~~~~~~~~~~~~~~~~~~~~~~~~~~~~~~~~~~~~~~~~~~~~~~\n",
      "Original: nei5 hou2 maa3\n",
      "Prediction: ei a\n",
      "~~~~~~~~~~~~~~~~~~~~~~~~~~~~~~~~~~~~~~~~~~~~~~~~~~~~~~~~~~~~~~~~~~~~~~~~~~~~~~~~~~~~~~~~~~~~~~~~~~~~\n",
      "Epoch 90 Accuracy: 0.00%\n",
      "64/64 [==============================] - 381s 6s/step - loss: 22.2979 - val_loss: 20.5979 - lr: 2.4788e-07\n",
      "Epoch 91/100\n",
      "1/1 [==============================] - 1s 1s/step- loss: 22.52\n",
      "Original: gam2 joeng2 waa3\n",
      "Prediction: ma ong a\n",
      "~~~~~~~~~~~~~~~~~~~~~~~~~~~~~~~~~~~~~~~~~~~~~~~~~~~~~~~~~~~~~~~~~~~~~~~~~~~~~~~~~~~~~~~~~~~~~~~~~~~~\n",
      "Original: oi3 nei5 do1\n",
      "Prediction: hoi o\n",
      "~~~~~~~~~~~~~~~~~~~~~~~~~~~~~~~~~~~~~~~~~~~~~~~~~~~~~~~~~~~~~~~~~~~~~~~~~~~~~~~~~~~~~~~~~~~~~~~~~~~~\n",
      "Epoch 91 Accuracy: 0.00%\n",
      "64/64 [==============================] - 371s 6s/step - loss: 22.5260 - val_loss: 19.9363 - lr: 2.2429e-07\n",
      "Epoch 92/100\n",
      "64/64 [==============================] - ETA: 0s - loss: 22.0860INFO:tensorflow:Assets written to: model/tested_model4/assets\n"
     ]
    },
    {
     "name": "stderr",
     "output_type": "stream",
     "text": [
      "INFO:tensorflow:Assets written to: model/tested_model4/assets\n"
     ]
    },
    {
     "name": "stdout",
     "output_type": "stream",
     "text": [
      "1/1 [==============================] - 1s 1s/step\n",
      "Original: m4 dang2 ngo5\n",
      "Prediction: m ang\n",
      "~~~~~~~~~~~~~~~~~~~~~~~~~~~~~~~~~~~~~~~~~~~~~~~~~~~~~~~~~~~~~~~~~~~~~~~~~~~~~~~~~~~~~~~~~~~~~~~~~~~~\n",
      "Original: jat1 nou5 lik6\n",
      "Prediction: ja o \n",
      "~~~~~~~~~~~~~~~~~~~~~~~~~~~~~~~~~~~~~~~~~~~~~~~~~~~~~~~~~~~~~~~~~~~~~~~~~~~~~~~~~~~~~~~~~~~~~~~~~~~~\n",
      "Epoch 92 Accuracy: 0.00%\n",
      "64/64 [==============================] - 377s 6s/step - loss: 22.0860 - val_loss: 19.6679 - lr: 2.0294e-07\n",
      "Epoch 93/100\n",
      "1/1 [==============================] - 1s 1s/step- loss: 22.58\n",
      "Original: hou2 dak1 ji3\n",
      "Prediction: hou2 da \n",
      "~~~~~~~~~~~~~~~~~~~~~~~~~~~~~~~~~~~~~~~~~~~~~~~~~~~~~~~~~~~~~~~~~~~~~~~~~~~~~~~~~~~~~~~~~~~~~~~~~~~~\n",
      "Original: m4 dou3 sau2\n",
      "Prediction: m u\n",
      "~~~~~~~~~~~~~~~~~~~~~~~~~~~~~~~~~~~~~~~~~~~~~~~~~~~~~~~~~~~~~~~~~~~~~~~~~~~~~~~~~~~~~~~~~~~~~~~~~~~~\n",
      "Epoch 93 Accuracy: 0.00%\n",
      "64/64 [==============================] - 372s 6s/step - loss: 22.5885 - val_loss: 20.6668 - lr: 1.8363e-07\n",
      "Epoch 94/100\n",
      "1/1 [==============================] - 1s 1s/step- loss: 22.71\n",
      "Original: hai6 ni1 dou6\n",
      "Prediction: hai o\n",
      "~~~~~~~~~~~~~~~~~~~~~~~~~~~~~~~~~~~~~~~~~~~~~~~~~~~~~~~~~~~~~~~~~~~~~~~~~~~~~~~~~~~~~~~~~~~~~~~~~~~~\n",
      "Original: hoi1 sam1 di1\n",
      "Prediction: hoi a1\n",
      "~~~~~~~~~~~~~~~~~~~~~~~~~~~~~~~~~~~~~~~~~~~~~~~~~~~~~~~~~~~~~~~~~~~~~~~~~~~~~~~~~~~~~~~~~~~~~~~~~~~~\n",
      "Epoch 94 Accuracy: 0.00%\n",
      "64/64 [==============================] - 369s 6s/step - loss: 22.7184 - val_loss: 19.0156 - lr: 1.6616e-07\n",
      "Epoch 95/100\n",
      "1/1 [==============================] - 1s 1s/step- loss: 22.37\n",
      "Original: bong1 m4 dou3\n",
      "Prediction: mo \n",
      "~~~~~~~~~~~~~~~~~~~~~~~~~~~~~~~~~~~~~~~~~~~~~~~~~~~~~~~~~~~~~~~~~~~~~~~~~~~~~~~~~~~~~~~~~~~~~~~~~~~~\n",
      "Original: oi3 cing4 tim4\n",
      "Prediction: hoi i\n",
      "~~~~~~~~~~~~~~~~~~~~~~~~~~~~~~~~~~~~~~~~~~~~~~~~~~~~~~~~~~~~~~~~~~~~~~~~~~~~~~~~~~~~~~~~~~~~~~~~~~~~\n",
      "Epoch 95 Accuracy: 0.00%\n",
      "64/64 [==============================] - 372s 6s/step - loss: 22.3793 - val_loss: 20.3819 - lr: 1.5034e-07\n",
      "Epoch 96/100\n",
      "1/1 [==============================] - 1s 1s/step- loss: 22.31\n",
      "Original: bong1 ngo5 gong2\n",
      "Prediction: og g\n",
      "~~~~~~~~~~~~~~~~~~~~~~~~~~~~~~~~~~~~~~~~~~~~~~~~~~~~~~~~~~~~~~~~~~~~~~~~~~~~~~~~~~~~~~~~~~~~~~~~~~~~\n",
      "Original: hoi1 sam1 siu3\n",
      "Prediction: hoi1 a1 \n",
      "~~~~~~~~~~~~~~~~~~~~~~~~~~~~~~~~~~~~~~~~~~~~~~~~~~~~~~~~~~~~~~~~~~~~~~~~~~~~~~~~~~~~~~~~~~~~~~~~~~~~\n",
      "Epoch 96 Accuracy: 0.00%\n",
      "64/64 [==============================] - 373s 6s/step - loss: 22.3187 - val_loss: 19.4686 - lr: 1.3604e-07\n",
      "Epoch 97/100\n",
      "1/1 [==============================] - 1s 1s/step- loss: 22.36\n",
      "Original: waan2 dak1 hoi1\n",
      "Prediction: a a h\n",
      "~~~~~~~~~~~~~~~~~~~~~~~~~~~~~~~~~~~~~~~~~~~~~~~~~~~~~~~~~~~~~~~~~~~~~~~~~~~~~~~~~~~~~~~~~~~~~~~~~~~~\n",
      "Original: bong1 ngo5 gong2\n",
      "Prediction: og g\n",
      "~~~~~~~~~~~~~~~~~~~~~~~~~~~~~~~~~~~~~~~~~~~~~~~~~~~~~~~~~~~~~~~~~~~~~~~~~~~~~~~~~~~~~~~~~~~~~~~~~~~~\n",
      "Epoch 97 Accuracy: 0.00%\n",
      "64/64 [==============================] - 367s 6s/step - loss: 22.3653 - val_loss: 20.2534 - lr: 1.2309e-07\n",
      "Epoch 98/100\n",
      "1/1 [==============================] - 1s 1s/step- loss: 22.61\n",
      "Original: gong2 dak1 hou2\n",
      "Prediction: hog a1 ho\n",
      "~~~~~~~~~~~~~~~~~~~~~~~~~~~~~~~~~~~~~~~~~~~~~~~~~~~~~~~~~~~~~~~~~~~~~~~~~~~~~~~~~~~~~~~~~~~~~~~~~~~~\n",
      "Original: nei5 hou2 maa1\n",
      "Prediction: hi hou a\n",
      "~~~~~~~~~~~~~~~~~~~~~~~~~~~~~~~~~~~~~~~~~~~~~~~~~~~~~~~~~~~~~~~~~~~~~~~~~~~~~~~~~~~~~~~~~~~~~~~~~~~~\n",
      "Epoch 98 Accuracy: 0.00%\n",
      "64/64 [==============================] - 371s 6s/step - loss: 22.6191 - val_loss: 20.1751 - lr: 1.1138e-07\n",
      "Epoch 99/100\n",
      "1/1 [==============================] - 1s 1s/step- loss: 22.35\n",
      "Original: hai6 ni1 dou6\n",
      "Prediction: hai o\n",
      "~~~~~~~~~~~~~~~~~~~~~~~~~~~~~~~~~~~~~~~~~~~~~~~~~~~~~~~~~~~~~~~~~~~~~~~~~~~~~~~~~~~~~~~~~~~~~~~~~~~~\n",
      "Original: hing1 fan5 aa3\n",
      "Prediction: hi a\n",
      "~~~~~~~~~~~~~~~~~~~~~~~~~~~~~~~~~~~~~~~~~~~~~~~~~~~~~~~~~~~~~~~~~~~~~~~~~~~~~~~~~~~~~~~~~~~~~~~~~~~~\n",
      "Epoch 99 Accuracy: 0.00%\n",
      "64/64 [==============================] - 392s 6s/step - loss: 22.3585 - val_loss: 20.1795 - lr: 1.0078e-07\n",
      "Epoch 100/100\n",
      "1/1 [==============================] - 1s 1s/step- loss: 22.71\n",
      "Original: hoi1 sam1 aa3\n",
      "Prediction: hoi a a\n",
      "~~~~~~~~~~~~~~~~~~~~~~~~~~~~~~~~~~~~~~~~~~~~~~~~~~~~~~~~~~~~~~~~~~~~~~~~~~~~~~~~~~~~~~~~~~~~~~~~~~~~\n",
      "Original: zoi3 gin3 laa1\n",
      "Prediction: hoi3 a\n",
      "~~~~~~~~~~~~~~~~~~~~~~~~~~~~~~~~~~~~~~~~~~~~~~~~~~~~~~~~~~~~~~~~~~~~~~~~~~~~~~~~~~~~~~~~~~~~~~~~~~~~\n",
      "Epoch 100 Accuracy: 0.00%\n",
      "64/64 [==============================] - 407s 6s/step - loss: 22.7147 - val_loss: 20.4913 - lr: 9.1188e-08\n"
     ]
    },
    {
     "data": {
      "text/plain": [
       "<keras.src.callbacks.History at 0x7f327b53f850>"
      ]
     },
     "execution_count": 773,
     "metadata": {},
     "output_type": "execute_result"
    }
   ],
   "source": [
    "model.fit(train_data, validation_data=test_data, epochs=100, callbacks= callbacks)"
   ]
  },
  {
   "cell_type": "code",
   "execution_count": 774,
   "id": "e8a852f5-e2d1-4067-b39e-64a764265b50",
   "metadata": {},
   "outputs": [],
   "source": [
    "loaded_model = tf.keras.models.load_model('model/tested_model4')"
   ]
  },
  {
   "cell_type": "code",
   "execution_count": 785,
   "id": "393363a3-abe5-4c5f-9774-5b4c94854559",
   "metadata": {},
   "outputs": [],
   "source": [
    "test = test_data.as_numpy_iterator()"
   ]
  },
  {
   "cell_type": "code",
   "execution_count": 786,
   "id": "fcd306ff-ea5f-4b12-862f-06611592384c",
   "metadata": {},
   "outputs": [],
   "source": [
    "sample = test.next()"
   ]
  },
  {
   "cell_type": "code",
   "execution_count": 787,
   "id": "a5d3a7aa-2a6e-40e9-8c80-c3e4982b7fe9",
   "metadata": {},
   "outputs": [
    {
     "name": "stdout",
     "output_type": "stream",
     "text": [
      "1/1 [==============================] - 1s 1s/step\n"
     ]
    }
   ],
   "source": [
    "yhat = loaded_model.predict(sample[0])"
   ]
  },
  {
   "cell_type": "code",
   "execution_count": 788,
   "id": "478e5c62-7f69-4d62-95d5-a034ca4e731c",
   "metadata": {},
   "outputs": [
    {
     "name": "stdout",
     "output_type": "stream",
     "text": [
      "~~~~~~~~~~~~~~~~~~~~~~~~~~~~~~~~~~~~~~~~~~~~~~~~~~~~~~~~~~~~~~~~~~~~~~~~~~~~~~~~~~~~~~~~~~~~~~~~~~~~ REAL TEXT\n"
     ]
    },
    {
     "data": {
      "text/plain": [
       "[<tf.Tensor: shape=(), dtype=string, numpy=b'jau5 dak1 tai2'>,\n",
       " <tf.Tensor: shape=(), dtype=string, numpy=b'mou5 co3 laa1'>]"
      ]
     },
     "execution_count": 788,
     "metadata": {},
     "output_type": "execute_result"
    }
   ],
   "source": [
    "print('~'*100, 'REAL TEXT')\n",
    "[tf.strings.reduce_join([num_to_char(word) for word in sentence]) for sentence in sample[1]]"
   ]
  },
  {
   "cell_type": "code",
   "execution_count": 789,
   "id": "d41f481d-8e58-4281-8eba-1794947b3e96",
   "metadata": {},
   "outputs": [],
   "source": [
    "decoded = tf.keras.backend.ctc_decode(yhat, input_length=[75,75], greedy=True)[0][0].numpy()"
   ]
  },
  {
   "cell_type": "code",
   "execution_count": 790,
   "id": "3c46872c-24bb-4c2c-a464-f5e0a2779921",
   "metadata": {},
   "outputs": [
    {
     "name": "stdout",
     "output_type": "stream",
     "text": [
      "~~~~~~~~~~~~~~~~~~~~~~~~~~~~~~~~~~~~~~~~~~~~~~~~~~~~~~~~~~~~~~~~~~~~~~~~~~~~~~~~~~~~~~~~~~~~~~~~~~~~ PREDICTION\n"
     ]
    },
    {
     "data": {
      "text/plain": [
       "[<tf.Tensor: shape=(), dtype=string, numpy=b'jaa '>,\n",
       " <tf.Tensor: shape=(), dtype=string, numpy=b'mo'>]"
      ]
     },
     "execution_count": 790,
     "metadata": {},
     "output_type": "execute_result"
    }
   ],
   "source": [
    "print('~'*100, 'PREDICTION')\n",
    "[tf.strings.reduce_join([num_to_char(word) for word in sentence]) for sentence in decoded]"
   ]
  },
  {
   "cell_type": "code",
   "execution_count": 791,
   "id": "be91c7bb-f7e9-4133-b1a4-f692d31bd6ab",
   "metadata": {},
   "outputs": [
    {
     "name": "stderr",
     "output_type": "stream",
     "text": [
      "/home/dennislaw/.local/lib/python3.10/site-packages/keras/src/engine/training.py:3103: UserWarning: You are saving your model as an HDF5 file via `model.save()`. This file format is considered legacy. We recommend using instead the native Keras format, e.g. `model.save('my_model.keras')`.\n",
      "  saving_api.save_model(\n"
     ]
    }
   ],
   "source": [
    "model.save(\"model_4.h5\")"
   ]
  },
  {
   "cell_type": "code",
   "execution_count": 792,
   "id": "706ff8f8-87cd-43bb-b9aa-d848619b0c06",
   "metadata": {},
   "outputs": [
    {
     "name": "stdout",
     "output_type": "stream",
     "text": [
      "Model: \"sequential_12\"\n",
      "_________________________________________________________________\n",
      " Layer (type)                Output Shape              Param #   \n",
      "=================================================================\n",
      " conv3d_36 (Conv3D)          (None, 75, 60, 135, 128   3584      \n",
      "                             )                                   \n",
      "                                                                 \n",
      " activation_36 (Activation)  (None, 75, 60, 135, 128   0         \n",
      "                             )                                   \n",
      "                                                                 \n",
      " max_pooling3d_36 (MaxPooli  (None, 75, 30, 67, 128)   0         \n",
      " ng3D)                                                           \n",
      "                                                                 \n",
      " conv3d_37 (Conv3D)          (None, 75, 30, 67, 256)   884992    \n",
      "                                                                 \n",
      " activation_37 (Activation)  (None, 75, 30, 67, 256)   0         \n",
      "                                                                 \n",
      " max_pooling3d_37 (MaxPooli  (None, 75, 15, 33, 256)   0         \n",
      " ng3D)                                                           \n",
      "                                                                 \n",
      " conv3d_38 (Conv3D)          (None, 75, 15, 33, 75)    518475    \n",
      "                                                                 \n",
      " activation_38 (Activation)  (None, 75, 15, 33, 75)    0         \n",
      "                                                                 \n",
      " max_pooling3d_38 (MaxPooli  (None, 75, 7, 16, 75)     0         \n",
      " ng3D)                                                           \n",
      "                                                                 \n",
      " time_distributed_12 (TimeD  (None, 75, 8400)          0         \n",
      " istributed)                                                     \n",
      "                                                                 \n",
      " bidirectional_24 (Bidirect  (None, 75, 256)           8733696   \n",
      " ional)                                                          \n",
      "                                                                 \n",
      " dropout_24 (Dropout)        (None, 75, 256)           0         \n",
      "                                                                 \n",
      " bidirectional_25 (Bidirect  (None, 75, 256)           394240    \n",
      " ional)                                                          \n",
      "                                                                 \n",
      " dropout_25 (Dropout)        (None, 75, 256)           0         \n",
      "                                                                 \n",
      " dense_12 (Dense)            (None, 75, 41)            10537     \n",
      "                                                                 \n",
      "=================================================================\n",
      "Total params: 10545524 (40.23 MB)\n",
      "Trainable params: 10545524 (40.23 MB)\n",
      "Non-trainable params: 0 (0.00 Byte)\n",
      "_________________________________________________________________\n"
     ]
    }
   ],
   "source": [
    "load_saved_model = tf.keras.models.load_model(\"model_4.h5\")\n",
    "load_saved_model.summary()"
   ]
  },
  {
   "cell_type": "code",
   "execution_count": 783,
   "id": "2817ecf7-9f33-414e-bd92-f59fcb10bf72",
   "metadata": {},
   "outputs": [],
   "source": [
    "import pandas as pd\n",
    "metrics_df = pd.DataFrame(load_saved_model.history)"
   ]
  },
  {
   "cell_type": "code",
   "execution_count": 784,
   "id": "3fb079cc-2eac-48cb-b29b-089ab6ff017c",
   "metadata": {},
   "outputs": [
    {
     "data": {
      "text/html": [
       "<div>\n",
       "<style scoped>\n",
       "    .dataframe tbody tr th:only-of-type {\n",
       "        vertical-align: middle;\n",
       "    }\n",
       "\n",
       "    .dataframe tbody tr th {\n",
       "        vertical-align: top;\n",
       "    }\n",
       "\n",
       "    .dataframe thead th {\n",
       "        text-align: right;\n",
       "    }\n",
       "</style>\n",
       "<table border=\"1\" class=\"dataframe\">\n",
       "  <thead>\n",
       "    <tr style=\"text-align: right;\">\n",
       "      <th></th>\n",
       "    </tr>\n",
       "  </thead>\n",
       "  <tbody>\n",
       "  </tbody>\n",
       "</table>\n",
       "</div>"
      ],
      "text/plain": [
       "Empty DataFrame\n",
       "Columns: []\n",
       "Index: []"
      ]
     },
     "execution_count": 784,
     "metadata": {},
     "output_type": "execute_result"
    }
   ],
   "source": [
    "metrics_df"
   ]
  },
  {
   "cell_type": "code",
   "execution_count": null,
   "id": "b885ff68-7243-46ba-b6f3-4811a1b33789",
   "metadata": {},
   "outputs": [],
   "source": []
  }
 ],
 "metadata": {
  "kernelspec": {
   "display_name": "Python 3 (ipykernel)",
   "language": "python",
   "name": "python3"
  },
  "language_info": {
   "codemirror_mode": {
    "name": "ipython",
    "version": 3
   },
   "file_extension": ".py",
   "mimetype": "text/x-python",
   "name": "python",
   "nbconvert_exporter": "python",
   "pygments_lexer": "ipython3",
   "version": "3.10.12"
  }
 },
 "nbformat": 4,
 "nbformat_minor": 5
}
